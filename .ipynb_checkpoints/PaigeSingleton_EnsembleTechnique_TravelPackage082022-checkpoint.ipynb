{
 "cells": [
  {
   "cell_type": "markdown",
   "metadata": {},
   "source": [
    "# Ensemble Technique: Bagging and Boosting Project 4 - Travel Package Purhase\n",
    "## Paige Singleton\n",
    "## August 2022\n",
    "\n",
    "## Problem Statement\n",
    "### A company \"Visit with us\" wants to \"enable and establish a viable business model to expand the customer base.\n",
    "\n",
    "- Given customer data, \"analyze the customers' data and information to provide recommendations to the Policy Maker and build a model to predict the potential customer who is going to purchase the newly introduced travel package. The model will be built to make predictions before a customer is contacted.\"\n",
    "\n",
    "## Data Dictionary\n",
    "\n",
    "### Customer details:\n",
    "- CustomerID: Unique customer ID\n",
    "- ProdTaken: Whether the customer has purchased a package or not (0: No, 1: Yes)\n",
    "- Age: Age of customer\n",
    "- TypeofContact: How customer was contacted (Company Invited or Self Inquiry)\n",
    "- CityTier: City tier depends on the development of a city, population, facilities, and living standards. The categories are ordered i.e. Tier 1 > Tier 2 > Tier 3. It's the city the customer lives in.\n",
    "- Occupation: Occupation of customer\n",
    "- Gender: Gender of customer\n",
    "- NumberOfPersonVisiting: Total number of persons planning to take the trip with the customer\n",
    "- PreferredPropertyStar: Preferred hotel property rating by customer\n",
    "- MaritalStatus: Marital status of customer\n",
    "- NumberOfTrips: Average number of trips in a year by customer\n",
    "- Passport: The customer has a passport or not (0: No, 1: Yes)\n",
    "- OwnCar: Whether the customers own a car or not (0: No, 1: Yes)\n",
    "- NumberOfChildrenVisiting: Total number of children with age less than 5 planning to take the trip with the customer\n",
    "- Designation: Designation of the customer in the current organization\n",
    "- MonthlyIncome: Gross monthly income of the customer\n",
    "\n",
    "### Customer interaction data: \n",
    "- PitchSatisfactionScore: Sales pitch satisfaction score\n",
    "- ProductPitched: Product pitched by the salesperson\n",
    "- NumberOfFollowups: Total number of follow-ups has been done by the salesperson after the sales pitch\n",
    "- DurationOfPitch: Duration of the pitch by a salesperson to the customer\n",
    "\n",
    "\n",
    "## Section 1: Perform an Exploratory Data Analysis on the data\n",
    "- Univariate Analysis\n",
    "- Bivariate Analysis\n",
    "- Customer Profile (with at least 3 points to distinguish features for each package)\n",
    "    - Basic\n",
    "    - Standard\n",
    "    - Deluxe\n",
    "    - Super Deluxe\n",
    "    - King\n",
    "- Exploratory Deep Dive"
   ]
  },
  {
   "cell_type": "code",
   "execution_count": 1,
   "metadata": {},
   "outputs": [],
   "source": [
    "import numpy as np\n",
    "import pandas as pd\n",
    "import matplotlib.pyplot as plt\n",
    "import seaborn as sns\n",
    "from sklearn.tree import DecisionTreeClassifier\n",
    "from sklearn.model_selection import train_test_split\n",
    "from sklearn.metrics import confusion_matrix, classification_report\n",
    "from sklearn.metrics import accuracy_score,precision_score,recall_score,f1_score\n",
    "import scipy.stats as stats\n",
    "from sklearn import metrics\n",
    "from sklearn import tree\n",
    "from sklearn.model_selection import GridSearchCV\n",
    "from sklearn.ensemble import BaggingClassifier\n",
    "from sklearn.ensemble import RandomForestClassifier\n",
    "from sklearn.metrics import roc_auc_score\n",
    "import warnings\n",
    "warnings.filterwarnings('ignore')\n",
    "\n",
    "%matplotlib inline"
   ]
  },
  {
   "cell_type": "code",
   "execution_count": 2,
   "metadata": {},
   "outputs": [
    {
     "data": {
      "text/html": [
       "<div>\n",
       "<style scoped>\n",
       "    .dataframe tbody tr th:only-of-type {\n",
       "        vertical-align: middle;\n",
       "    }\n",
       "\n",
       "    .dataframe tbody tr th {\n",
       "        vertical-align: top;\n",
       "    }\n",
       "\n",
       "    .dataframe thead th {\n",
       "        text-align: right;\n",
       "    }\n",
       "</style>\n",
       "<table border=\"1\" class=\"dataframe\">\n",
       "  <thead>\n",
       "    <tr style=\"text-align: right;\">\n",
       "      <th></th>\n",
       "      <th>CustomerID</th>\n",
       "      <th>ProdTaken</th>\n",
       "      <th>Age</th>\n",
       "      <th>TypeofContact</th>\n",
       "      <th>CityTier</th>\n",
       "      <th>DurationOfPitch</th>\n",
       "      <th>Occupation</th>\n",
       "      <th>Gender</th>\n",
       "      <th>NumberOfPersonVisiting</th>\n",
       "      <th>NumberOfFollowups</th>\n",
       "      <th>ProductPitched</th>\n",
       "      <th>PreferredPropertyStar</th>\n",
       "      <th>MaritalStatus</th>\n",
       "      <th>NumberOfTrips</th>\n",
       "      <th>Passport</th>\n",
       "      <th>PitchSatisfactionScore</th>\n",
       "      <th>OwnCar</th>\n",
       "      <th>NumberOfChildrenVisiting</th>\n",
       "      <th>Designation</th>\n",
       "      <th>MonthlyIncome</th>\n",
       "    </tr>\n",
       "  </thead>\n",
       "  <tbody>\n",
       "    <tr>\n",
       "      <th>0</th>\n",
       "      <td>200000</td>\n",
       "      <td>1</td>\n",
       "      <td>41.0</td>\n",
       "      <td>Self Enquiry</td>\n",
       "      <td>3</td>\n",
       "      <td>6.0</td>\n",
       "      <td>Salaried</td>\n",
       "      <td>Female</td>\n",
       "      <td>3</td>\n",
       "      <td>3.0</td>\n",
       "      <td>Deluxe</td>\n",
       "      <td>3.0</td>\n",
       "      <td>Single</td>\n",
       "      <td>1.0</td>\n",
       "      <td>1</td>\n",
       "      <td>2</td>\n",
       "      <td>1</td>\n",
       "      <td>0.0</td>\n",
       "      <td>Manager</td>\n",
       "      <td>20993.0</td>\n",
       "    </tr>\n",
       "    <tr>\n",
       "      <th>1</th>\n",
       "      <td>200001</td>\n",
       "      <td>0</td>\n",
       "      <td>49.0</td>\n",
       "      <td>Company Invited</td>\n",
       "      <td>1</td>\n",
       "      <td>14.0</td>\n",
       "      <td>Salaried</td>\n",
       "      <td>Male</td>\n",
       "      <td>3</td>\n",
       "      <td>4.0</td>\n",
       "      <td>Deluxe</td>\n",
       "      <td>4.0</td>\n",
       "      <td>Divorced</td>\n",
       "      <td>2.0</td>\n",
       "      <td>0</td>\n",
       "      <td>3</td>\n",
       "      <td>1</td>\n",
       "      <td>2.0</td>\n",
       "      <td>Manager</td>\n",
       "      <td>20130.0</td>\n",
       "    </tr>\n",
       "    <tr>\n",
       "      <th>2</th>\n",
       "      <td>200002</td>\n",
       "      <td>1</td>\n",
       "      <td>37.0</td>\n",
       "      <td>Self Enquiry</td>\n",
       "      <td>1</td>\n",
       "      <td>8.0</td>\n",
       "      <td>Free Lancer</td>\n",
       "      <td>Male</td>\n",
       "      <td>3</td>\n",
       "      <td>4.0</td>\n",
       "      <td>Basic</td>\n",
       "      <td>3.0</td>\n",
       "      <td>Single</td>\n",
       "      <td>7.0</td>\n",
       "      <td>1</td>\n",
       "      <td>3</td>\n",
       "      <td>0</td>\n",
       "      <td>0.0</td>\n",
       "      <td>Executive</td>\n",
       "      <td>17090.0</td>\n",
       "    </tr>\n",
       "    <tr>\n",
       "      <th>3</th>\n",
       "      <td>200003</td>\n",
       "      <td>0</td>\n",
       "      <td>33.0</td>\n",
       "      <td>Company Invited</td>\n",
       "      <td>1</td>\n",
       "      <td>9.0</td>\n",
       "      <td>Salaried</td>\n",
       "      <td>Female</td>\n",
       "      <td>2</td>\n",
       "      <td>3.0</td>\n",
       "      <td>Basic</td>\n",
       "      <td>3.0</td>\n",
       "      <td>Divorced</td>\n",
       "      <td>2.0</td>\n",
       "      <td>1</td>\n",
       "      <td>5</td>\n",
       "      <td>1</td>\n",
       "      <td>1.0</td>\n",
       "      <td>Executive</td>\n",
       "      <td>17909.0</td>\n",
       "    </tr>\n",
       "    <tr>\n",
       "      <th>4</th>\n",
       "      <td>200004</td>\n",
       "      <td>0</td>\n",
       "      <td>NaN</td>\n",
       "      <td>Self Enquiry</td>\n",
       "      <td>1</td>\n",
       "      <td>8.0</td>\n",
       "      <td>Small Business</td>\n",
       "      <td>Male</td>\n",
       "      <td>2</td>\n",
       "      <td>3.0</td>\n",
       "      <td>Basic</td>\n",
       "      <td>4.0</td>\n",
       "      <td>Divorced</td>\n",
       "      <td>1.0</td>\n",
       "      <td>0</td>\n",
       "      <td>5</td>\n",
       "      <td>1</td>\n",
       "      <td>0.0</td>\n",
       "      <td>Executive</td>\n",
       "      <td>18468.0</td>\n",
       "    </tr>\n",
       "  </tbody>\n",
       "</table>\n",
       "</div>"
      ],
      "text/plain": [
       "   CustomerID  ProdTaken   Age    TypeofContact  CityTier  DurationOfPitch  \\\n",
       "0      200000          1  41.0     Self Enquiry         3              6.0   \n",
       "1      200001          0  49.0  Company Invited         1             14.0   \n",
       "2      200002          1  37.0     Self Enquiry         1              8.0   \n",
       "3      200003          0  33.0  Company Invited         1              9.0   \n",
       "4      200004          0   NaN     Self Enquiry         1              8.0   \n",
       "\n",
       "       Occupation  Gender  NumberOfPersonVisiting  NumberOfFollowups  \\\n",
       "0        Salaried  Female                       3                3.0   \n",
       "1        Salaried    Male                       3                4.0   \n",
       "2     Free Lancer    Male                       3                4.0   \n",
       "3        Salaried  Female                       2                3.0   \n",
       "4  Small Business    Male                       2                3.0   \n",
       "\n",
       "  ProductPitched  PreferredPropertyStar MaritalStatus  NumberOfTrips  \\\n",
       "0         Deluxe                    3.0        Single            1.0   \n",
       "1         Deluxe                    4.0      Divorced            2.0   \n",
       "2          Basic                    3.0        Single            7.0   \n",
       "3          Basic                    3.0      Divorced            2.0   \n",
       "4          Basic                    4.0      Divorced            1.0   \n",
       "\n",
       "   Passport  PitchSatisfactionScore  OwnCar  NumberOfChildrenVisiting  \\\n",
       "0         1                       2       1                       0.0   \n",
       "1         0                       3       1                       2.0   \n",
       "2         1                       3       0                       0.0   \n",
       "3         1                       5       1                       1.0   \n",
       "4         0                       5       1                       0.0   \n",
       "\n",
       "  Designation  MonthlyIncome  \n",
       "0     Manager        20993.0  \n",
       "1     Manager        20130.0  \n",
       "2   Executive        17090.0  \n",
       "3   Executive        17909.0  \n",
       "4   Executive        18468.0  "
      ]
     },
     "execution_count": 2,
     "metadata": {},
     "output_type": "execute_result"
    }
   ],
   "source": [
    "#Read CSV\n",
    "data = pd.read_csv(\"Tourism.csv\")\n",
    "data.head()"
   ]
  },
  {
   "cell_type": "code",
   "execution_count": 3,
   "metadata": {},
   "outputs": [],
   "source": [
    "data_copy=data.copy()"
   ]
  },
  {
   "cell_type": "code",
   "execution_count": 4,
   "metadata": {},
   "outputs": [
    {
     "data": {
      "text/html": [
       "<div>\n",
       "<style scoped>\n",
       "    .dataframe tbody tr th:only-of-type {\n",
       "        vertical-align: middle;\n",
       "    }\n",
       "\n",
       "    .dataframe tbody tr th {\n",
       "        vertical-align: top;\n",
       "    }\n",
       "\n",
       "    .dataframe thead th {\n",
       "        text-align: right;\n",
       "    }\n",
       "</style>\n",
       "<table border=\"1\" class=\"dataframe\">\n",
       "  <thead>\n",
       "    <tr style=\"text-align: right;\">\n",
       "      <th></th>\n",
       "      <th>CustomerID</th>\n",
       "      <th>ProdTaken</th>\n",
       "      <th>Age</th>\n",
       "      <th>TypeofContact</th>\n",
       "      <th>CityTier</th>\n",
       "      <th>DurationOfPitch</th>\n",
       "      <th>Occupation</th>\n",
       "      <th>Gender</th>\n",
       "      <th>NumberOfPersonVisiting</th>\n",
       "      <th>NumberOfFollowups</th>\n",
       "      <th>ProductPitched</th>\n",
       "      <th>PreferredPropertyStar</th>\n",
       "      <th>MaritalStatus</th>\n",
       "      <th>NumberOfTrips</th>\n",
       "      <th>Passport</th>\n",
       "      <th>PitchSatisfactionScore</th>\n",
       "      <th>OwnCar</th>\n",
       "      <th>NumberOfChildrenVisiting</th>\n",
       "      <th>Designation</th>\n",
       "      <th>MonthlyIncome</th>\n",
       "    </tr>\n",
       "  </thead>\n",
       "  <tbody>\n",
       "    <tr>\n",
       "      <th>3015</th>\n",
       "      <td>203015</td>\n",
       "      <td>0</td>\n",
       "      <td>27.0</td>\n",
       "      <td>Company Invited</td>\n",
       "      <td>1</td>\n",
       "      <td>7.0</td>\n",
       "      <td>Salaried</td>\n",
       "      <td>Female</td>\n",
       "      <td>4</td>\n",
       "      <td>6.0</td>\n",
       "      <td>Basic</td>\n",
       "      <td>3.0</td>\n",
       "      <td>Married</td>\n",
       "      <td>5.0</td>\n",
       "      <td>0</td>\n",
       "      <td>4</td>\n",
       "      <td>1</td>\n",
       "      <td>3.0</td>\n",
       "      <td>Executive</td>\n",
       "      <td>23042.0</td>\n",
       "    </tr>\n",
       "    <tr>\n",
       "      <th>1242</th>\n",
       "      <td>201242</td>\n",
       "      <td>0</td>\n",
       "      <td>40.0</td>\n",
       "      <td>Self Enquiry</td>\n",
       "      <td>3</td>\n",
       "      <td>13.0</td>\n",
       "      <td>Small Business</td>\n",
       "      <td>Male</td>\n",
       "      <td>2</td>\n",
       "      <td>3.0</td>\n",
       "      <td>King</td>\n",
       "      <td>4.0</td>\n",
       "      <td>Single</td>\n",
       "      <td>2.0</td>\n",
       "      <td>0</td>\n",
       "      <td>4</td>\n",
       "      <td>1</td>\n",
       "      <td>NaN</td>\n",
       "      <td>VP</td>\n",
       "      <td>34833.0</td>\n",
       "    </tr>\n",
       "    <tr>\n",
       "      <th>3073</th>\n",
       "      <td>203073</td>\n",
       "      <td>0</td>\n",
       "      <td>29.0</td>\n",
       "      <td>Self Enquiry</td>\n",
       "      <td>2</td>\n",
       "      <td>15.0</td>\n",
       "      <td>Small Business</td>\n",
       "      <td>Male</td>\n",
       "      <td>4</td>\n",
       "      <td>5.0</td>\n",
       "      <td>Basic</td>\n",
       "      <td>3.0</td>\n",
       "      <td>Married</td>\n",
       "      <td>3.0</td>\n",
       "      <td>0</td>\n",
       "      <td>2</td>\n",
       "      <td>0</td>\n",
       "      <td>2.0</td>\n",
       "      <td>Executive</td>\n",
       "      <td>23614.0</td>\n",
       "    </tr>\n",
       "    <tr>\n",
       "      <th>804</th>\n",
       "      <td>200804</td>\n",
       "      <td>0</td>\n",
       "      <td>48.0</td>\n",
       "      <td>Company Invited</td>\n",
       "      <td>1</td>\n",
       "      <td>6.0</td>\n",
       "      <td>Small Business</td>\n",
       "      <td>Male</td>\n",
       "      <td>2</td>\n",
       "      <td>1.0</td>\n",
       "      <td>Super Deluxe</td>\n",
       "      <td>3.0</td>\n",
       "      <td>Single</td>\n",
       "      <td>3.0</td>\n",
       "      <td>0</td>\n",
       "      <td>2</td>\n",
       "      <td>0</td>\n",
       "      <td>0.0</td>\n",
       "      <td>AVP</td>\n",
       "      <td>31885.0</td>\n",
       "    </tr>\n",
       "    <tr>\n",
       "      <th>3339</th>\n",
       "      <td>203339</td>\n",
       "      <td>0</td>\n",
       "      <td>32.0</td>\n",
       "      <td>Self Enquiry</td>\n",
       "      <td>1</td>\n",
       "      <td>18.0</td>\n",
       "      <td>Small Business</td>\n",
       "      <td>Male</td>\n",
       "      <td>4</td>\n",
       "      <td>4.0</td>\n",
       "      <td>Deluxe</td>\n",
       "      <td>5.0</td>\n",
       "      <td>Divorced</td>\n",
       "      <td>3.0</td>\n",
       "      <td>1</td>\n",
       "      <td>2</td>\n",
       "      <td>0</td>\n",
       "      <td>3.0</td>\n",
       "      <td>Manager</td>\n",
       "      <td>25511.0</td>\n",
       "    </tr>\n",
       "    <tr>\n",
       "      <th>3080</th>\n",
       "      <td>203080</td>\n",
       "      <td>1</td>\n",
       "      <td>36.0</td>\n",
       "      <td>Company Invited</td>\n",
       "      <td>1</td>\n",
       "      <td>32.0</td>\n",
       "      <td>Salaried</td>\n",
       "      <td>Female</td>\n",
       "      <td>4</td>\n",
       "      <td>4.0</td>\n",
       "      <td>Basic</td>\n",
       "      <td>4.0</td>\n",
       "      <td>Married</td>\n",
       "      <td>3.0</td>\n",
       "      <td>1</td>\n",
       "      <td>3</td>\n",
       "      <td>0</td>\n",
       "      <td>1.0</td>\n",
       "      <td>Executive</td>\n",
       "      <td>20700.0</td>\n",
       "    </tr>\n",
       "    <tr>\n",
       "      <th>2851</th>\n",
       "      <td>202851</td>\n",
       "      <td>0</td>\n",
       "      <td>46.0</td>\n",
       "      <td>Self Enquiry</td>\n",
       "      <td>1</td>\n",
       "      <td>17.0</td>\n",
       "      <td>Salaried</td>\n",
       "      <td>Male</td>\n",
       "      <td>4</td>\n",
       "      <td>4.0</td>\n",
       "      <td>Basic</td>\n",
       "      <td>3.0</td>\n",
       "      <td>Divorced</td>\n",
       "      <td>5.0</td>\n",
       "      <td>0</td>\n",
       "      <td>5</td>\n",
       "      <td>1</td>\n",
       "      <td>1.0</td>\n",
       "      <td>Executive</td>\n",
       "      <td>21332.0</td>\n",
       "    </tr>\n",
       "    <tr>\n",
       "      <th>2883</th>\n",
       "      <td>202883</td>\n",
       "      <td>1</td>\n",
       "      <td>32.0</td>\n",
       "      <td>Company Invited</td>\n",
       "      <td>1</td>\n",
       "      <td>27.0</td>\n",
       "      <td>Salaried</td>\n",
       "      <td>Male</td>\n",
       "      <td>4</td>\n",
       "      <td>4.0</td>\n",
       "      <td>Standard</td>\n",
       "      <td>3.0</td>\n",
       "      <td>Divorced</td>\n",
       "      <td>5.0</td>\n",
       "      <td>0</td>\n",
       "      <td>3</td>\n",
       "      <td>1</td>\n",
       "      <td>1.0</td>\n",
       "      <td>Senior Manager</td>\n",
       "      <td>28502.0</td>\n",
       "    </tr>\n",
       "    <tr>\n",
       "      <th>1676</th>\n",
       "      <td>201676</td>\n",
       "      <td>0</td>\n",
       "      <td>22.0</td>\n",
       "      <td>Self Enquiry</td>\n",
       "      <td>1</td>\n",
       "      <td>11.0</td>\n",
       "      <td>Salaried</td>\n",
       "      <td>Male</td>\n",
       "      <td>2</td>\n",
       "      <td>1.0</td>\n",
       "      <td>Basic</td>\n",
       "      <td>4.0</td>\n",
       "      <td>Married</td>\n",
       "      <td>2.0</td>\n",
       "      <td>1</td>\n",
       "      <td>4</td>\n",
       "      <td>1</td>\n",
       "      <td>0.0</td>\n",
       "      <td>Executive</td>\n",
       "      <td>17328.0</td>\n",
       "    </tr>\n",
       "    <tr>\n",
       "      <th>1140</th>\n",
       "      <td>201140</td>\n",
       "      <td>0</td>\n",
       "      <td>44.0</td>\n",
       "      <td>Self Enquiry</td>\n",
       "      <td>1</td>\n",
       "      <td>13.0</td>\n",
       "      <td>Small Business</td>\n",
       "      <td>Female</td>\n",
       "      <td>2</td>\n",
       "      <td>3.0</td>\n",
       "      <td>King</td>\n",
       "      <td>3.0</td>\n",
       "      <td>Married</td>\n",
       "      <td>1.0</td>\n",
       "      <td>1</td>\n",
       "      <td>4</td>\n",
       "      <td>1</td>\n",
       "      <td>1.0</td>\n",
       "      <td>VP</td>\n",
       "      <td>34049.0</td>\n",
       "    </tr>\n",
       "  </tbody>\n",
       "</table>\n",
       "</div>"
      ],
      "text/plain": [
       "      CustomerID  ProdTaken   Age    TypeofContact  CityTier  DurationOfPitch  \\\n",
       "3015      203015          0  27.0  Company Invited         1              7.0   \n",
       "1242      201242          0  40.0     Self Enquiry         3             13.0   \n",
       "3073      203073          0  29.0     Self Enquiry         2             15.0   \n",
       "804       200804          0  48.0  Company Invited         1              6.0   \n",
       "3339      203339          0  32.0     Self Enquiry         1             18.0   \n",
       "3080      203080          1  36.0  Company Invited         1             32.0   \n",
       "2851      202851          0  46.0     Self Enquiry         1             17.0   \n",
       "2883      202883          1  32.0  Company Invited         1             27.0   \n",
       "1676      201676          0  22.0     Self Enquiry         1             11.0   \n",
       "1140      201140          0  44.0     Self Enquiry         1             13.0   \n",
       "\n",
       "          Occupation  Gender  NumberOfPersonVisiting  NumberOfFollowups  \\\n",
       "3015        Salaried  Female                       4                6.0   \n",
       "1242  Small Business    Male                       2                3.0   \n",
       "3073  Small Business    Male                       4                5.0   \n",
       "804   Small Business    Male                       2                1.0   \n",
       "3339  Small Business    Male                       4                4.0   \n",
       "3080        Salaried  Female                       4                4.0   \n",
       "2851        Salaried    Male                       4                4.0   \n",
       "2883        Salaried    Male                       4                4.0   \n",
       "1676        Salaried    Male                       2                1.0   \n",
       "1140  Small Business  Female                       2                3.0   \n",
       "\n",
       "     ProductPitched  PreferredPropertyStar MaritalStatus  NumberOfTrips  \\\n",
       "3015          Basic                    3.0       Married            5.0   \n",
       "1242           King                    4.0        Single            2.0   \n",
       "3073          Basic                    3.0       Married            3.0   \n",
       "804    Super Deluxe                    3.0        Single            3.0   \n",
       "3339         Deluxe                    5.0      Divorced            3.0   \n",
       "3080          Basic                    4.0       Married            3.0   \n",
       "2851          Basic                    3.0      Divorced            5.0   \n",
       "2883       Standard                    3.0      Divorced            5.0   \n",
       "1676          Basic                    4.0       Married            2.0   \n",
       "1140           King                    3.0       Married            1.0   \n",
       "\n",
       "      Passport  PitchSatisfactionScore  OwnCar  NumberOfChildrenVisiting  \\\n",
       "3015         0                       4       1                       3.0   \n",
       "1242         0                       4       1                       NaN   \n",
       "3073         0                       2       0                       2.0   \n",
       "804          0                       2       0                       0.0   \n",
       "3339         1                       2       0                       3.0   \n",
       "3080         1                       3       0                       1.0   \n",
       "2851         0                       5       1                       1.0   \n",
       "2883         0                       3       1                       1.0   \n",
       "1676         1                       4       1                       0.0   \n",
       "1140         1                       4       1                       1.0   \n",
       "\n",
       "         Designation  MonthlyIncome  \n",
       "3015       Executive        23042.0  \n",
       "1242              VP        34833.0  \n",
       "3073       Executive        23614.0  \n",
       "804              AVP        31885.0  \n",
       "3339         Manager        25511.0  \n",
       "3080       Executive        20700.0  \n",
       "2851       Executive        21332.0  \n",
       "2883  Senior Manager        28502.0  \n",
       "1676       Executive        17328.0  \n",
       "1140              VP        34049.0  "
      ]
     },
     "execution_count": 4,
     "metadata": {},
     "output_type": "execute_result"
    }
   ],
   "source": [
    "# Display 10 random rows\n",
    "np.random.seed(1)\n",
    "data.sample(n=10)"
   ]
  },
  {
   "cell_type": "code",
   "execution_count": 5,
   "metadata": {},
   "outputs": [
    {
     "name": "stdout",
     "output_type": "stream",
     "text": [
      "<class 'pandas.core.frame.DataFrame'>\n",
      "RangeIndex: 4888 entries, 0 to 4887\n",
      "Data columns (total 20 columns):\n",
      " #   Column                    Non-Null Count  Dtype  \n",
      "---  ------                    --------------  -----  \n",
      " 0   CustomerID                4888 non-null   int64  \n",
      " 1   ProdTaken                 4888 non-null   int64  \n",
      " 2   Age                       4662 non-null   float64\n",
      " 3   TypeofContact             4863 non-null   object \n",
      " 4   CityTier                  4888 non-null   int64  \n",
      " 5   DurationOfPitch           4637 non-null   float64\n",
      " 6   Occupation                4888 non-null   object \n",
      " 7   Gender                    4888 non-null   object \n",
      " 8   NumberOfPersonVisiting    4888 non-null   int64  \n",
      " 9   NumberOfFollowups         4843 non-null   float64\n",
      " 10  ProductPitched            4888 non-null   object \n",
      " 11  PreferredPropertyStar     4862 non-null   float64\n",
      " 12  MaritalStatus             4888 non-null   object \n",
      " 13  NumberOfTrips             4748 non-null   float64\n",
      " 14  Passport                  4888 non-null   int64  \n",
      " 15  PitchSatisfactionScore    4888 non-null   int64  \n",
      " 16  OwnCar                    4888 non-null   int64  \n",
      " 17  NumberOfChildrenVisiting  4822 non-null   float64\n",
      " 18  Designation               4888 non-null   object \n",
      " 19  MonthlyIncome             4655 non-null   float64\n",
      "dtypes: float64(7), int64(7), object(6)\n",
      "memory usage: 763.9+ KB\n"
     ]
    }
   ],
   "source": [
    "#Understand tha overall dataset structure and data types\n",
    "data.info()"
   ]
  },
  {
   "cell_type": "code",
   "execution_count": 6,
   "metadata": {},
   "outputs": [],
   "source": [
    "#Designate initial categorical columns and numerical columns,\n",
    "cat_cols = ['TypeofContact','Occupation','Gender','ProductPitched','MaritalStatus','Designation']\n",
    "num_cols = ['CustomerID','ProdTaken','Age','CityTier','DurationOfPitch','NumberOfPersonVisiting','NumberOfFollowups','PreferredPropertyStar','NumberOfTrips','Passport','PitchSatisfactionScore','OwnCar','NumberOfChildrenVisiting','MonthlyIncome']"
   ]
  },
  {
   "cell_type": "code",
   "execution_count": 7,
   "metadata": {},
   "outputs": [
    {
     "name": "stdout",
     "output_type": "stream",
     "text": [
      "There are 4888 rows and 20 columns.\n"
     ]
    }
   ],
   "source": [
    "# of rows and columns\n",
    "print(f'There are {data.shape[0]} rows and {data.shape[1]} columns.') "
   ]
  },
  {
   "cell_type": "code",
   "execution_count": 8,
   "metadata": {},
   "outputs": [
    {
     "data": {
      "text/plain": [
       "CustomerID                    0\n",
       "ProdTaken                     0\n",
       "Age                         226\n",
       "TypeofContact                25\n",
       "CityTier                      0\n",
       "DurationOfPitch             251\n",
       "Occupation                    0\n",
       "Gender                        0\n",
       "NumberOfPersonVisiting        0\n",
       "NumberOfFollowups            45\n",
       "ProductPitched                0\n",
       "PreferredPropertyStar        26\n",
       "MaritalStatus                 0\n",
       "NumberOfTrips               140\n",
       "Passport                      0\n",
       "PitchSatisfactionScore        0\n",
       "OwnCar                        0\n",
       "NumberOfChildrenVisiting     66\n",
       "Designation                   0\n",
       "MonthlyIncome               233\n",
       "dtype: int64"
      ]
     },
     "execution_count": 8,
     "metadata": {},
     "output_type": "execute_result"
    }
   ],
   "source": [
    "# Check for null values in dataset\n",
    "data.isnull().sum()\n"
   ]
  },
  {
   "cell_type": "code",
   "execution_count": 9,
   "metadata": {},
   "outputs": [
    {
     "data": {
      "text/html": [
       "<div>\n",
       "<style scoped>\n",
       "    .dataframe tbody tr th:only-of-type {\n",
       "        vertical-align: middle;\n",
       "    }\n",
       "\n",
       "    .dataframe tbody tr th {\n",
       "        vertical-align: top;\n",
       "    }\n",
       "\n",
       "    .dataframe thead th {\n",
       "        text-align: right;\n",
       "    }\n",
       "</style>\n",
       "<table border=\"1\" class=\"dataframe\">\n",
       "  <thead>\n",
       "    <tr style=\"text-align: right;\">\n",
       "      <th></th>\n",
       "      <th>count</th>\n",
       "      <th>mean</th>\n",
       "      <th>std</th>\n",
       "      <th>min</th>\n",
       "      <th>25%</th>\n",
       "      <th>50%</th>\n",
       "      <th>75%</th>\n",
       "      <th>max</th>\n",
       "    </tr>\n",
       "  </thead>\n",
       "  <tbody>\n",
       "    <tr>\n",
       "      <th>CustomerID</th>\n",
       "      <td>4888.0</td>\n",
       "      <td>202443.500000</td>\n",
       "      <td>1411.188388</td>\n",
       "      <td>200000.0</td>\n",
       "      <td>201221.75</td>\n",
       "      <td>202443.5</td>\n",
       "      <td>203665.25</td>\n",
       "      <td>204887.0</td>\n",
       "    </tr>\n",
       "    <tr>\n",
       "      <th>ProdTaken</th>\n",
       "      <td>4888.0</td>\n",
       "      <td>0.188216</td>\n",
       "      <td>0.390925</td>\n",
       "      <td>0.0</td>\n",
       "      <td>0.00</td>\n",
       "      <td>0.0</td>\n",
       "      <td>0.00</td>\n",
       "      <td>1.0</td>\n",
       "    </tr>\n",
       "    <tr>\n",
       "      <th>Age</th>\n",
       "      <td>4662.0</td>\n",
       "      <td>37.622265</td>\n",
       "      <td>9.316387</td>\n",
       "      <td>18.0</td>\n",
       "      <td>31.00</td>\n",
       "      <td>36.0</td>\n",
       "      <td>44.00</td>\n",
       "      <td>61.0</td>\n",
       "    </tr>\n",
       "    <tr>\n",
       "      <th>CityTier</th>\n",
       "      <td>4888.0</td>\n",
       "      <td>1.654255</td>\n",
       "      <td>0.916583</td>\n",
       "      <td>1.0</td>\n",
       "      <td>1.00</td>\n",
       "      <td>1.0</td>\n",
       "      <td>3.00</td>\n",
       "      <td>3.0</td>\n",
       "    </tr>\n",
       "    <tr>\n",
       "      <th>DurationOfPitch</th>\n",
       "      <td>4637.0</td>\n",
       "      <td>15.490835</td>\n",
       "      <td>8.519643</td>\n",
       "      <td>5.0</td>\n",
       "      <td>9.00</td>\n",
       "      <td>13.0</td>\n",
       "      <td>20.00</td>\n",
       "      <td>127.0</td>\n",
       "    </tr>\n",
       "    <tr>\n",
       "      <th>NumberOfPersonVisiting</th>\n",
       "      <td>4888.0</td>\n",
       "      <td>2.905074</td>\n",
       "      <td>0.724891</td>\n",
       "      <td>1.0</td>\n",
       "      <td>2.00</td>\n",
       "      <td>3.0</td>\n",
       "      <td>3.00</td>\n",
       "      <td>5.0</td>\n",
       "    </tr>\n",
       "    <tr>\n",
       "      <th>NumberOfFollowups</th>\n",
       "      <td>4843.0</td>\n",
       "      <td>3.708445</td>\n",
       "      <td>1.002509</td>\n",
       "      <td>1.0</td>\n",
       "      <td>3.00</td>\n",
       "      <td>4.0</td>\n",
       "      <td>4.00</td>\n",
       "      <td>6.0</td>\n",
       "    </tr>\n",
       "    <tr>\n",
       "      <th>PreferredPropertyStar</th>\n",
       "      <td>4862.0</td>\n",
       "      <td>3.581037</td>\n",
       "      <td>0.798009</td>\n",
       "      <td>3.0</td>\n",
       "      <td>3.00</td>\n",
       "      <td>3.0</td>\n",
       "      <td>4.00</td>\n",
       "      <td>5.0</td>\n",
       "    </tr>\n",
       "    <tr>\n",
       "      <th>NumberOfTrips</th>\n",
       "      <td>4748.0</td>\n",
       "      <td>3.236521</td>\n",
       "      <td>1.849019</td>\n",
       "      <td>1.0</td>\n",
       "      <td>2.00</td>\n",
       "      <td>3.0</td>\n",
       "      <td>4.00</td>\n",
       "      <td>22.0</td>\n",
       "    </tr>\n",
       "    <tr>\n",
       "      <th>Passport</th>\n",
       "      <td>4888.0</td>\n",
       "      <td>0.290917</td>\n",
       "      <td>0.454232</td>\n",
       "      <td>0.0</td>\n",
       "      <td>0.00</td>\n",
       "      <td>0.0</td>\n",
       "      <td>1.00</td>\n",
       "      <td>1.0</td>\n",
       "    </tr>\n",
       "    <tr>\n",
       "      <th>PitchSatisfactionScore</th>\n",
       "      <td>4888.0</td>\n",
       "      <td>3.078151</td>\n",
       "      <td>1.365792</td>\n",
       "      <td>1.0</td>\n",
       "      <td>2.00</td>\n",
       "      <td>3.0</td>\n",
       "      <td>4.00</td>\n",
       "      <td>5.0</td>\n",
       "    </tr>\n",
       "    <tr>\n",
       "      <th>OwnCar</th>\n",
       "      <td>4888.0</td>\n",
       "      <td>0.620295</td>\n",
       "      <td>0.485363</td>\n",
       "      <td>0.0</td>\n",
       "      <td>0.00</td>\n",
       "      <td>1.0</td>\n",
       "      <td>1.00</td>\n",
       "      <td>1.0</td>\n",
       "    </tr>\n",
       "    <tr>\n",
       "      <th>NumberOfChildrenVisiting</th>\n",
       "      <td>4822.0</td>\n",
       "      <td>1.187267</td>\n",
       "      <td>0.857861</td>\n",
       "      <td>0.0</td>\n",
       "      <td>1.00</td>\n",
       "      <td>1.0</td>\n",
       "      <td>2.00</td>\n",
       "      <td>3.0</td>\n",
       "    </tr>\n",
       "    <tr>\n",
       "      <th>MonthlyIncome</th>\n",
       "      <td>4655.0</td>\n",
       "      <td>23619.853491</td>\n",
       "      <td>5380.698361</td>\n",
       "      <td>1000.0</td>\n",
       "      <td>20346.00</td>\n",
       "      <td>22347.0</td>\n",
       "      <td>25571.00</td>\n",
       "      <td>98678.0</td>\n",
       "    </tr>\n",
       "  </tbody>\n",
       "</table>\n",
       "</div>"
      ],
      "text/plain": [
       "                           count           mean          std       min  \\\n",
       "CustomerID                4888.0  202443.500000  1411.188388  200000.0   \n",
       "ProdTaken                 4888.0       0.188216     0.390925       0.0   \n",
       "Age                       4662.0      37.622265     9.316387      18.0   \n",
       "CityTier                  4888.0       1.654255     0.916583       1.0   \n",
       "DurationOfPitch           4637.0      15.490835     8.519643       5.0   \n",
       "NumberOfPersonVisiting    4888.0       2.905074     0.724891       1.0   \n",
       "NumberOfFollowups         4843.0       3.708445     1.002509       1.0   \n",
       "PreferredPropertyStar     4862.0       3.581037     0.798009       3.0   \n",
       "NumberOfTrips             4748.0       3.236521     1.849019       1.0   \n",
       "Passport                  4888.0       0.290917     0.454232       0.0   \n",
       "PitchSatisfactionScore    4888.0       3.078151     1.365792       1.0   \n",
       "OwnCar                    4888.0       0.620295     0.485363       0.0   \n",
       "NumberOfChildrenVisiting  4822.0       1.187267     0.857861       0.0   \n",
       "MonthlyIncome             4655.0   23619.853491  5380.698361    1000.0   \n",
       "\n",
       "                                25%       50%        75%       max  \n",
       "CustomerID                201221.75  202443.5  203665.25  204887.0  \n",
       "ProdTaken                      0.00       0.0       0.00       1.0  \n",
       "Age                           31.00      36.0      44.00      61.0  \n",
       "CityTier                       1.00       1.0       3.00       3.0  \n",
       "DurationOfPitch                9.00      13.0      20.00     127.0  \n",
       "NumberOfPersonVisiting         2.00       3.0       3.00       5.0  \n",
       "NumberOfFollowups              3.00       4.0       4.00       6.0  \n",
       "PreferredPropertyStar          3.00       3.0       4.00       5.0  \n",
       "NumberOfTrips                  2.00       3.0       4.00      22.0  \n",
       "Passport                       0.00       0.0       1.00       1.0  \n",
       "PitchSatisfactionScore         2.00       3.0       4.00       5.0  \n",
       "OwnCar                         0.00       1.0       1.00       1.0  \n",
       "NumberOfChildrenVisiting       1.00       1.0       2.00       3.0  \n",
       "MonthlyIncome              20346.00   22347.0   25571.00   98678.0  "
      ]
     },
     "execution_count": 9,
     "metadata": {},
     "output_type": "execute_result"
    }
   ],
   "source": [
    "#Calculate descrition statistics for numerical columns\n",
    "data.describe().T"
   ]
  },
  {
   "cell_type": "code",
   "execution_count": 10,
   "metadata": {},
   "outputs": [
    {
     "data": {
      "text/plain": [
       "CustomerID                  4888\n",
       "ProdTaken                      2\n",
       "Age                           44\n",
       "TypeofContact                  2\n",
       "CityTier                       3\n",
       "DurationOfPitch               34\n",
       "Occupation                     4\n",
       "Gender                         3\n",
       "NumberOfPersonVisiting         5\n",
       "NumberOfFollowups              6\n",
       "ProductPitched                 5\n",
       "PreferredPropertyStar          3\n",
       "MaritalStatus                  4\n",
       "NumberOfTrips                 12\n",
       "Passport                       2\n",
       "PitchSatisfactionScore         5\n",
       "OwnCar                         2\n",
       "NumberOfChildrenVisiting       4\n",
       "Designation                    5\n",
       "MonthlyIncome               2475\n",
       "dtype: int64"
      ]
     },
     "execution_count": 10,
     "metadata": {},
     "output_type": "execute_result"
    }
   ],
   "source": [
    "# Understand the number of unique values in each column\n",
    "data.nunique()"
   ]
  },
  {
   "cell_type": "code",
   "execution_count": 11,
   "metadata": {},
   "outputs": [
    {
     "data": {
      "text/plain": [
       "CustomerID                  0\n",
       "ProdTaken                   0\n",
       "Age                         0\n",
       "TypeofContact               0\n",
       "CityTier                    0\n",
       "DurationOfPitch             0\n",
       "Occupation                  0\n",
       "Gender                      0\n",
       "NumberOfPersonVisiting      0\n",
       "NumberOfFollowups           0\n",
       "ProductPitched              0\n",
       "PreferredPropertyStar       0\n",
       "MaritalStatus               0\n",
       "NumberOfTrips               0\n",
       "Passport                    0\n",
       "PitchSatisfactionScore      0\n",
       "OwnCar                      0\n",
       "NumberOfChildrenVisiting    0\n",
       "Designation                 0\n",
       "MonthlyIncome               0\n",
       "dtype: int64"
      ]
     },
     "execution_count": 11,
     "metadata": {},
     "output_type": "execute_result"
    }
   ],
   "source": [
    "#Check for duplicates\n",
    "data[data.duplicated()].count()"
   ]
  },
  {
   "cell_type": "code",
   "execution_count": 12,
   "metadata": {},
   "outputs": [
    {
     "name": "stdout",
     "output_type": "stream",
     "text": [
      "Self Enquiry       3444\n",
      "Company Invited    1419\n",
      "Name: TypeofContact, dtype: int64\n",
      "_________________________________\n",
      "Salaried          2368\n",
      "Small Business    2084\n",
      "Large Business     434\n",
      "Free Lancer          2\n",
      "Name: Occupation, dtype: int64\n",
      "_________________________________\n",
      "Male       2916\n",
      "Female     1817\n",
      "Fe Male     155\n",
      "Name: Gender, dtype: int64\n",
      "_________________________________\n",
      "Basic           1842\n",
      "Deluxe          1732\n",
      "Standard         742\n",
      "Super Deluxe     342\n",
      "King             230\n",
      "Name: ProductPitched, dtype: int64\n",
      "_________________________________\n",
      "Married      2340\n",
      "Divorced      950\n",
      "Single        916\n",
      "Unmarried     682\n",
      "Name: MaritalStatus, dtype: int64\n",
      "_________________________________\n",
      "Executive         1842\n",
      "Manager           1732\n",
      "Senior Manager     742\n",
      "AVP                342\n",
      "VP                 230\n",
      "Name: Designation, dtype: int64\n",
      "_________________________________\n"
     ]
    }
   ],
   "source": [
    "#Understand the number of each value for the following columns: \n",
    "for col in cat_cols:\n",
    "    print(data[col].value_counts())\n",
    "    print(\"_________________________________\")"
   ]
  },
  {
   "cell_type": "markdown",
   "metadata": {},
   "source": [
    "### Initial Observations "
   ]
  },
  {
   "cell_type": "markdown",
   "metadata": {},
   "source": [
    "### Customer details:\n",
    "- CustomerID: Unique customer I\n",
    "    - this variable will not inform the model and should be dropped from clean dataset\n",
    "- ProdTaken: Whether the customer has purchased a package or not (0: No, 1: Yes)\n",
    "    - This variable is currently an integer dtype;\n",
    "    - 2 unique values\n",
    "    - no nulls\n",
    "- Age: Age of customer\n",
    "    - Min:18; Max:61; Mean:37;Median:36; data is likely not skewed right or left\n",
    "    - 226 null values therefore explore imputation\n",
    "    - 44 unique values\n",
    "    - dtppe is float\n",
    "- TypeofContact: How customer was contacted (Company Invited or Self Inquiry)\n",
    "    - Object dtype; change to category\n",
    "    - 2 unique counts \n",
    "    - 25 nulls therefore explore null imputation\n",
    "- CityTier: City tier depends on the development of a city, population, facilities, and living standards. The categories are ordered i.e. Tier 1 > Tier 2 > Tier 3. It's the city the customer lives in.\n",
    "    - 3 unique values;\n",
    "    - dtype is integer;\n",
    "- Occupation: Occupation of customer\n",
    "    - 4 unique values; object dtype\n",
    "    - change dtype to category and get dummy variables \n",
    "    - no nulls\n",
    "- Gender: Gender of customer\n",
    "    - Gender has 3 unique values (Male, Female and Fe Male);\n",
    "    - All 'Fe Male' values (155 values) needs to be changed to 'Female'\n",
    "    - Object dtype needs to change to category and get dummy variables\n",
    "- NumberOfPersonVisiting: Total number of persons planning to take the trip with the customer\n",
    "    - no nulls\n",
    "    - unique count = 5\n",
    "    - dtype is integer;\n",
    "- PreferredPropertyStar: Preferred hotel property rating by customer\n",
    "    - 26 nulls\n",
    "    - 3 unique values\n",
    "    - float64 dtype (could change to integer)\n",
    "    - min:3.0; max:5.0; median: 3.0; mean: 3.78; data is skewed right \n",
    "- MaritalStatus: Marital status of customer\n",
    "    - no nulls\n",
    "    - object dtype with 4 unique values(married, divorced, single, unmarried)\n",
    "    - Single and Unmarried represent same idea therefore combine these into one unique value 'single'\n",
    "- NumberOfTrips: Average number of trips in a year by customer\n",
    "    - missing 140 values\n",
    "    - number of unique values: 12\n",
    "    - min:1.0; max:22; median:3.0; mean:3.23\n",
    "    - probable outliers\n",
    "- Passport: The customer has a passport or not (0: No, 1: Yes)\n",
    "    - int64 dtype\n",
    "    - number of unique values:2\n",
    "    - no nulls \n",
    "- OwnCar: Whether the customers own a car or not (0: No, 1: Yes)\n",
    "    - int64 dtype\n",
    "    - no nulls\n",
    "    - 2 unique values\n",
    "- NumberOfChildrenVisiting: Total number of children with age less than 5 planning to take the trip with the customer\n",
    "    - float64 dtype\n",
    "    - 66 nulls\n",
    "    - 4 unique values\n",
    "- Designation: Designation of the customer in the current organization\n",
    "    - object dtype (change to category)\n",
    "    - no nulls\n",
    "    - 5 unique values\n",
    "- MonthlyIncome: Gross monthly income of the customer\n",
    "    - dtype float64\n",
    "    - min:1000; max:98678; median:22347; mean:23620\n",
    "    - 233 nulls\n",
    "\n",
    "### Customer interaction data: \n",
    "- PitchSatisfactionScore: Sales pitch satisfaction score\n",
    "    - no nulls\n",
    "    - dtype int64\n",
    "    - min:1.0; max:5.0; median:3.0; mean:3.08\n",
    "    - 5 unique values\n",
    "- ProductPitched: Product pitched by the salesperson\n",
    "    - object dtype (change to category) and get dummy variables\n",
    "    - 5 unique variables\n",
    "    - no nulls\n",
    "- NumberOfFollowups: Total number of follow-ups has been done by the salesperson after the sales pitch\n",
    "    - float64 dtype\n",
    "    - 45 nulls\n",
    "    - min:1.0; max:6.0; median:4.0; mean:3.71; \n",
    "    - 6 unique values\n",
    "- DurationOfPitch: Duration of the pitch by a salesperson to the customer\n",
    "    - float64 dtype\n",
    "    - 45 nulls\n",
    "    - min:5.0; max:127.0; median:13.0; mean; 15.49\n",
    "    - 34 unique values\n",
    "    - possible outliers"
   ]
  },
  {
   "cell_type": "markdown",
   "metadata": {},
   "source": [
    "### Univariate Analysis\n"
   ]
  },
  {
   "cell_type": "code",
   "execution_count": 13,
   "metadata": {},
   "outputs": [],
   "source": [
    "# From Anime Rating Prediction case study, function to plot a boxplot and a histogram along the same scale.\n",
    "\n",
    "\n",
    "def histogram_boxplot(data, feature, figsize=(12, 7), kde=False, bins=None):\n",
    "    \"\"\"\n",
    "    Boxplot and histogram combined\n",
    "\n",
    "    data: dataframe\n",
    "    feature: dataframe column\n",
    "    figsize: size of figure (default (12,7))\n",
    "    kde: whether to the show density curve (default False)\n",
    "    bins: number of bins for histogram (default None)\n",
    "    \"\"\"\n",
    "    f2, (ax_box2, ax_hist2) = plt.subplots(\n",
    "        nrows=2,  # Number of rows of the subplot grid= 2\n",
    "        sharex=True,  # x-axis will be shared among all subplots\n",
    "        gridspec_kw={\"height_ratios\": (0.25, 0.75)},\n",
    "        figsize=figsize,\n",
    "    )  # creating the 2 subplots\n",
    "    sns.boxplot(\n",
    "        data=data, x=feature, ax=ax_box2, showmeans=True, color=\"violet\"\n",
    "    )  # boxplot will be created and a star will indicate the mean value of the column\n",
    "    sns.histplot(\n",
    "        data=data, x=feature, kde=kde, ax=ax_hist2, bins=bins, palette=\"winter\"\n",
    "    ) if bins else sns.histplot(\n",
    "        data=data, x=feature, kde=kde, ax=ax_hist2\n",
    "    )  # For histogram\n",
    "    ax_hist2.axvline(\n",
    "        data[feature].mean(), color=\"green\", linestyle=\"--\"\n",
    "    )  # Add mean to the histogram\n",
    "    ax_hist2.axvline(\n",
    "        data[feature].median(), color=\"black\", linestyle=\"-\"\n",
    "    )  # Add median to the histogram"
   ]
  },
  {
   "cell_type": "markdown",
   "metadata": {},
   "source": [
    "#### Variable - 'ProdTaken' Analysis "
   ]
  },
  {
   "cell_type": "code",
   "execution_count": 14,
   "metadata": {},
   "outputs": [
    {
     "data": {
      "image/png": "[encoded data removed]",
      "text/plain": [
       "<Figure size 864x504 with 2 Axes>"
      ]
     },
     "metadata": {
      "needs_background": "light"
     },
     "output_type": "display_data"
    }
   ],
   "source": [
    "\n",
    "histogram_boxplot(data, \"ProdTaken\")\n"
   ]
  },
  {
   "cell_type": "code",
   "execution_count": 15,
   "metadata": {},
   "outputs": [
    {
     "data": {
      "text/plain": [
       "0    3968\n",
       "1     920\n",
       "Name: ProdTaken, dtype: int64"
      ]
     },
     "execution_count": 15,
     "metadata": {},
     "output_type": "execute_result"
    }
   ],
   "source": [
    "data['ProdTaken'].value_counts()"
   ]
  },
  {
   "cell_type": "code",
   "execution_count": 16,
   "metadata": {},
   "outputs": [
    {
     "data": {
      "text/plain": [
       "ProductPitched  ProdTaken\n",
       "Basic           0            1290\n",
       "                1             552\n",
       "Deluxe          0            1528\n",
       "                1             204\n",
       "King            0             210\n",
       "                1              20\n",
       "Standard        0             618\n",
       "                1             124\n",
       "Super Deluxe    0             322\n",
       "                1              20\n",
       "Name: ProdTaken, dtype: int64"
      ]
     },
     "execution_count": 16,
     "metadata": {},
     "output_type": "execute_result"
    }
   ],
   "source": [
    "# Compute the number of products purchased by product pitched\n",
    "data.groupby(['ProductPitched'])['ProdTaken'].value_counts()"
   ]
  },
  {
   "cell_type": "code",
   "execution_count": 17,
   "metadata": {},
   "outputs": [
    {
     "data": {
      "text/plain": [
       "ProductPitched  ProdTaken\n",
       "Basic           0            70.032573\n",
       "                1            29.967427\n",
       "Deluxe          0            88.221709\n",
       "                1            11.778291\n",
       "King            0            91.304348\n",
       "                1             8.695652\n",
       "Standard        0            83.288410\n",
       "                1            16.711590\n",
       "Super Deluxe    0            94.152047\n",
       "                1             5.847953\n",
       "Name: ProdTaken, dtype: float64"
      ]
     },
     "execution_count": 17,
     "metadata": {},
     "output_type": "execute_result"
    }
   ],
   "source": [
    "# Compute the percentage of products purchased by Product \n",
    "data.groupby(['ProductPitched'])['ProdTaken'].value_counts(normalize=True)*100"
   ]
  },
  {
   "cell_type": "code",
   "execution_count": 18,
   "metadata": {},
   "outputs": [
    {
     "data": {
      "text/html": [
       "<div>\n",
       "<style scoped>\n",
       "    .dataframe tbody tr th:only-of-type {\n",
       "        vertical-align: middle;\n",
       "    }\n",
       "\n",
       "    .dataframe tbody tr th {\n",
       "        vertical-align: top;\n",
       "    }\n",
       "\n",
       "    .dataframe thead th {\n",
       "        text-align: right;\n",
       "    }\n",
       "</style>\n",
       "<table border=\"1\" class=\"dataframe\">\n",
       "  <thead>\n",
       "    <tr style=\"text-align: right;\">\n",
       "      <th></th>\n",
       "      <th>ProductPitched</th>\n",
       "    </tr>\n",
       "  </thead>\n",
       "  <tbody>\n",
       "    <tr>\n",
       "      <th>0</th>\n",
       "      <td>Deluxe</td>\n",
       "    </tr>\n",
       "    <tr>\n",
       "      <th>1</th>\n",
       "      <td>Deluxe</td>\n",
       "    </tr>\n",
       "    <tr>\n",
       "      <th>2</th>\n",
       "      <td>Basic</td>\n",
       "    </tr>\n",
       "    <tr>\n",
       "      <th>3</th>\n",
       "      <td>Basic</td>\n",
       "    </tr>\n",
       "    <tr>\n",
       "      <th>4</th>\n",
       "      <td>Basic</td>\n",
       "    </tr>\n",
       "    <tr>\n",
       "      <th>...</th>\n",
       "      <td>...</td>\n",
       "    </tr>\n",
       "    <tr>\n",
       "      <th>4883</th>\n",
       "      <td>Deluxe</td>\n",
       "    </tr>\n",
       "    <tr>\n",
       "      <th>4884</th>\n",
       "      <td>Basic</td>\n",
       "    </tr>\n",
       "    <tr>\n",
       "      <th>4885</th>\n",
       "      <td>Standard</td>\n",
       "    </tr>\n",
       "    <tr>\n",
       "      <th>4886</th>\n",
       "      <td>Basic</td>\n",
       "    </tr>\n",
       "    <tr>\n",
       "      <th>4887</th>\n",
       "      <td>Basic</td>\n",
       "    </tr>\n",
       "  </tbody>\n",
       "</table>\n",
       "<p>4888 rows × 1 columns</p>\n",
       "</div>"
      ],
      "text/plain": [
       "     ProductPitched\n",
       "0            Deluxe\n",
       "1            Deluxe\n",
       "2             Basic\n",
       "3             Basic\n",
       "4             Basic\n",
       "...             ...\n",
       "4883         Deluxe\n",
       "4884          Basic\n",
       "4885       Standard\n",
       "4886          Basic\n",
       "4887          Basic\n",
       "\n",
       "[4888 rows x 1 columns]"
      ]
     },
     "execution_count": 18,
     "metadata": {},
     "output_type": "execute_result"
    }
   ],
   "source": [
    "data[['ProductPitched']].apply(lambda x: x.astype('category'))\n"
   ]
  },
  {
   "cell_type": "code",
   "execution_count": 19,
   "metadata": {},
   "outputs": [
    {
     "data": {
      "text/plain": [
       "<seaborn.axisgrid.FacetGrid at 0x1bd55e17670>"
      ]
     },
     "execution_count": 19,
     "metadata": {},
     "output_type": "execute_result"
    },
    {
     "data": {
      "image/png": "[encoded data removed]",
      "text/plain": [
       "<Figure size 418.5x360 with 1 Axes>"
      ]
     },
     "metadata": {
      "needs_background": "light"
     },
     "output_type": "display_data"
    }
   ],
   "source": [
    "sns.catplot(data=data, kind='count',x='ProductPitched', hue='ProdTaken')"
   ]
  },
  {
   "cell_type": "code",
   "execution_count": 20,
   "metadata": {},
   "outputs": [
    {
     "data": {
      "text/plain": [
       "Basic           1842\n",
       "Deluxe          1732\n",
       "Standard         742\n",
       "Super Deluxe     342\n",
       "King             230\n",
       "Name: ProductPitched, dtype: int64"
      ]
     },
     "execution_count": 20,
     "metadata": {},
     "output_type": "execute_result"
    }
   ],
   "source": [
    "data['ProductPitched'].value_counts()"
   ]
  },
  {
   "cell_type": "markdown",
   "metadata": {},
   "source": [
    "#### Insights - ProdTaken: Whether the customer has purchased a package or not (0: No, 1: Yes)\n",
    "    - approximately a 4 to 1 ratio of 0(No - 3968) to 1(Yes - 920)\n",
    "    - This variable will be the target variable for the model\n",
    "    - no nulls therefore this variable is ready for model build\n",
    "    - When Pitched, Basic Products are purchased 30% of the time, Deluxe Products are purchased 11% of the time, King Products are purchased 9% of the time, Standard Products are purchased 17% of the time and Super Deluxed are purchased 6% of the time"
   ]
  },
  {
   "cell_type": "markdown",
   "metadata": {},
   "source": [
    "#### Variable - 'Age' Analysis "
   ]
  },
  {
   "cell_type": "code",
   "execution_count": 21,
   "metadata": {},
   "outputs": [
    {
     "data": {
      "image/png": "[encoded data removed]",
      "text/plain": [
       "<Figure size 864x504 with 2 Axes>"
      ]
     },
     "metadata": {
      "needs_background": "light"
     },
     "output_type": "display_data"
    }
   ],
   "source": [
    "histogram_boxplot(data, \"Age\")"
   ]
  },
  {
   "cell_type": "code",
   "execution_count": 22,
   "metadata": {},
   "outputs": [
    {
     "data": {
      "text/plain": [
       "ProductPitched\n",
       "Basic           32.0\n",
       "Deluxe          36.0\n",
       "King            49.0\n",
       "Standard        38.0\n",
       "Super Deluxe    49.0\n",
       "Name: Age, dtype: float64"
      ]
     },
     "execution_count": 22,
     "metadata": {},
     "output_type": "execute_result"
    }
   ],
   "source": [
    "ProdByAge = data.groupby(['ProductPitched'])['Age'].median()\n",
    "ProdByAge"
   ]
  },
  {
   "cell_type": "code",
   "execution_count": 23,
   "metadata": {},
   "outputs": [
    {
     "data": {
      "text/plain": [
       "<AxesSubplot:xlabel='Age', ylabel='ProductPitched'>"
      ]
     },
     "execution_count": 23,
     "metadata": {},
     "output_type": "execute_result"
    },
    {
     "data": {
      "image/png": "[encoded data removed]",
      "text/plain": [
       "<Figure size 432x288 with 1 Axes>"
      ]
     },
     "metadata": {
      "needs_background": "light"
     },
     "output_type": "display_data"
    }
   ],
   "source": [
    "sns.boxplot(data = data, x='Age',y='ProductPitched')"
   ]
  },
  {
   "cell_type": "code",
   "execution_count": 24,
   "metadata": {},
   "outputs": [
    {
     "data": {
      "text/plain": [
       "ProductPitched\n",
       "Basic           1698\n",
       "Deluxe          1651\n",
       "King             230\n",
       "Standard         741\n",
       "Super Deluxe     342\n",
       "Name: Age, dtype: int64"
      ]
     },
     "execution_count": 24,
     "metadata": {},
     "output_type": "execute_result"
    }
   ],
   "source": [
    "data.groupby(['ProductPitched'])['Age'].count()"
   ]
  },
  {
   "cell_type": "code",
   "execution_count": 25,
   "metadata": {},
   "outputs": [
    {
     "data": {
      "text/plain": [
       "0"
      ]
     },
     "execution_count": 25,
     "metadata": {},
     "output_type": "execute_result"
    }
   ],
   "source": [
    "#Impute 'Age' null values with median of Product Pitched group membership - (https://medium.com/analytics-vidhya/best-way-to-impute-categorical-data-using-groupby-mean-mode-2dc5f5d4e12d)\n",
    "data['Age'] = data.groupby(['ProductPitched'], sort=False)['Age'].apply(lambda x: x.fillna(x.median()))\n",
    "\n",
    "data['Age'].isnull().sum()"
   ]
  },
  {
   "cell_type": "code",
   "execution_count": 26,
   "metadata": {},
   "outputs": [
    {
     "data": {
      "image/png": "[encoded data removed]",
      "text/plain": [
       "<Figure size 864x504 with 2 Axes>"
      ]
     },
     "metadata": {
      "needs_background": "light"
     },
     "output_type": "display_data"
    }
   ],
   "source": [
    "#Review boxplot and histogram to check new distribution\n",
    "histogram_boxplot(data, \"Age\")"
   ]
  },
  {
   "cell_type": "code",
   "execution_count": 27,
   "metadata": {},
   "outputs": [
    {
     "data": {
      "text/plain": [
       "<AxesSubplot:xlabel='Age', ylabel='ProductPitched'>"
      ]
     },
     "execution_count": 27,
     "metadata": {},
     "output_type": "execute_result"
    },
    {
     "data": {
      "image/png": "[encoded data removed]",
      "text/plain": [
       "<Figure size 432x288 with 1 Axes>"
      ]
     },
     "metadata": {
      "needs_background": "light"
     },
     "output_type": "display_data"
    }
   ],
   "source": [
    "sns.boxplot(data = data, x='Age',y='ProductPitched', hue='ProdTaken')"
   ]
  },
  {
   "cell_type": "code",
   "execution_count": 28,
   "metadata": {},
   "outputs": [
    {
     "data": {
      "text/plain": [
       "ProductPitched  ProdTaken\n",
       "Basic           0            32.0\n",
       "                1            30.0\n",
       "Deluxe          0            36.0\n",
       "                1            36.0\n",
       "King            0            48.0\n",
       "                1            52.5\n",
       "Standard        0            39.0\n",
       "                1            38.0\n",
       "Super Deluxe    0            49.0\n",
       "                1            42.0\n",
       "Name: Age, dtype: float64"
      ]
     },
     "execution_count": 28,
     "metadata": {},
     "output_type": "execute_result"
    }
   ],
   "source": [
    "# Compute the number of products purchased by product pitched and median age\n",
    "data.groupby(['ProductPitched','ProdTaken'])['Age'].median()"
   ]
  },
  {
   "cell_type": "markdown",
   "metadata": {},
   "source": [
    "#### Insights - 'Age'\n",
    "    - Min:18; Max:61; Mean:37;Median:36; data is likely not skewed right or left\n",
    "    - Data Distribution is ready for model build (appears somewhat normal)\n",
    "    - 226 null values imputed with Median of product Pitched group membership\n",
    "    - As age increases, customers appear to be pitched products in this order: Basic, Deluxe, standard, King\n",
    "    - Super Deluxe, when pitched, is taken only 5% of the time with a median age of 53. Only older individuals appear to be interested in Super Deluxe"
   ]
  },
  {
   "cell_type": "markdown",
   "metadata": {},
   "source": [
    "#### Variable 'Type of Contact' Analysis"
   ]
  },
  {
   "cell_type": "code",
   "execution_count": 29,
   "metadata": {},
   "outputs": [
    {
     "data": {
      "text/plain": [
       "TypeofContact\n",
       "Company Invited    29.030278\n",
       "Self Enquiry       70.458265\n",
       "Name: CustomerID, dtype: float64"
      ]
     },
     "execution_count": 29,
     "metadata": {},
     "output_type": "execute_result"
    }
   ],
   "source": [
    "# Compute the percent of Type of contact values in each Type of contact group\n",
    "data.groupby(['TypeofContact'])['CustomerID'].count()/len(data)*100\n"
   ]
  },
  {
   "cell_type": "code",
   "execution_count": 30,
   "metadata": {},
   "outputs": [
    {
     "data": {
      "text/plain": [
       "TypeofContact\n",
       "Company Invited    1419\n",
       "Self Enquiry       3444\n",
       "Name: CustomerID, dtype: int64"
      ]
     },
     "execution_count": 30,
     "metadata": {},
     "output_type": "execute_result"
    }
   ],
   "source": [
    "# Compute the number of data points in each Type of contact group\n",
    "data.groupby(['TypeofContact'])['CustomerID'].count()"
   ]
  },
  {
   "cell_type": "code",
   "execution_count": 31,
   "metadata": {},
   "outputs": [
    {
     "data": {
      "text/plain": [
       "TypeofContact    ProductPitched\n",
       "Company Invited  Deluxe             541\n",
       "                 Basic              516\n",
       "                 Standard           218\n",
       "                 Super Deluxe        96\n",
       "                 King                48\n",
       "Self Enquiry     Basic             1316\n",
       "                 Deluxe            1176\n",
       "                 Standard           524\n",
       "                 Super Deluxe       246\n",
       "                 King               182\n",
       "Name: ProductPitched, dtype: int64"
      ]
     },
     "execution_count": 31,
     "metadata": {},
     "output_type": "execute_result"
    }
   ],
   "source": [
    "#Group Type of contact data by Product pitched\n",
    "data.groupby(['TypeofContact'])['ProductPitched'].value_counts()"
   ]
  },
  {
   "cell_type": "code",
   "execution_count": 32,
   "metadata": {},
   "outputs": [
    {
     "data": {
      "text/plain": [
       "25"
      ]
     },
     "execution_count": 32,
     "metadata": {},
     "output_type": "execute_result"
    }
   ],
   "source": [
    "\n",
    "data['TypeofContact'].isnull().sum()"
   ]
  },
  {
   "cell_type": "code",
   "execution_count": 33,
   "metadata": {},
   "outputs": [],
   "source": [
    "# Impute null values with Product pitched group modes\n",
    "data['TypeofContact']=data.groupby(['ProductPitched'], sort=False)['TypeofContact'].apply(lambda x: x.fillna(x.mode().iloc[0]))"
   ]
  },
  {
   "cell_type": "code",
   "execution_count": 34,
   "metadata": {},
   "outputs": [
    {
     "data": {
      "text/plain": [
       "0"
      ]
     },
     "execution_count": 34,
     "metadata": {},
     "output_type": "execute_result"
    }
   ],
   "source": [
    "data['TypeofContact'].isnull().sum()"
   ]
  },
  {
   "cell_type": "code",
   "execution_count": 35,
   "metadata": {},
   "outputs": [
    {
     "data": {
      "text/plain": [
       "TypeofContact    ProductPitched\n",
       "Company Invited  Deluxe             541\n",
       "                 Basic              516\n",
       "                 Standard           218\n",
       "                 Super Deluxe        96\n",
       "                 King                48\n",
       "Self Enquiry     Basic             1326\n",
       "                 Deluxe            1191\n",
       "                 Standard           524\n",
       "                 Super Deluxe       246\n",
       "                 King               182\n",
       "Name: ProductPitched, dtype: int64"
      ]
     },
     "execution_count": 35,
     "metadata": {},
     "output_type": "execute_result"
    }
   ],
   "source": [
    "data.groupby(['TypeofContact'])['ProductPitched'].value_counts()"
   ]
  },
  {
   "cell_type": "code",
   "execution_count": 36,
   "metadata": {},
   "outputs": [
    {
     "data": {
      "text/plain": [
       "TypeofContact    ProductPitched\n",
       "Company Invited  Deluxe            38.125440\n",
       "                 Basic             36.363636\n",
       "                 Standard          15.362932\n",
       "                 Super Deluxe       6.765328\n",
       "                 King               3.382664\n",
       "Self Enquiry     Basic             38.224272\n",
       "                 Deluxe            34.332661\n",
       "                 Standard          15.105218\n",
       "                 Super Deluxe       7.091381\n",
       "                 King               5.246469\n",
       "Name: ProductPitched, dtype: float64"
      ]
     },
     "execution_count": 36,
     "metadata": {},
     "output_type": "execute_result"
    }
   ],
   "source": [
    "data.groupby(['TypeofContact'])['ProductPitched'].value_counts(normalize = True)*100"
   ]
  },
  {
   "cell_type": "code",
   "execution_count": 37,
   "metadata": {},
   "outputs": [
    {
     "data": {
      "text/plain": [
       "ProductPitched  ProdTaken  TypeofContact  \n",
       "Basic           0          Self Enquiry        968\n",
       "                           Company Invited     322\n",
       "                1          Self Enquiry        358\n",
       "                           Company Invited     194\n",
       "Deluxe          0          Self Enquiry       1055\n",
       "                           Company Invited     473\n",
       "                1          Self Enquiry        136\n",
       "                           Company Invited      68\n",
       "King            0          Self Enquiry        162\n",
       "                           Company Invited      48\n",
       "                1          Self Enquiry         20\n",
       "Standard        0          Self Enquiry        432\n",
       "                           Company Invited     186\n",
       "                1          Self Enquiry         92\n",
       "                           Company Invited      32\n",
       "Super Deluxe    0          Self Enquiry        242\n",
       "                           Company Invited      80\n",
       "                1          Company Invited      16\n",
       "                           Self Enquiry          4\n",
       "Name: TypeofContact, dtype: int64"
      ]
     },
     "execution_count": 37,
     "metadata": {},
     "output_type": "execute_result"
    }
   ],
   "source": [
    "# Compute the number of products purchased by product pitched\n",
    "data.groupby(['ProductPitched','ProdTaken'])['TypeofContact'].value_counts()"
   ]
  },
  {
   "cell_type": "code",
   "execution_count": 38,
   "metadata": {},
   "outputs": [
    {
     "data": {
      "text/plain": [
       "TypeofContact    ProdTaken\n",
       "Company Invited  0            78.153629\n",
       "                 1            21.846371\n",
       "Self Enquiry     0            82.415682\n",
       "                 1            17.584318\n",
       "Name: ProdTaken, dtype: float64"
      ]
     },
     "execution_count": 38,
     "metadata": {},
     "output_type": "execute_result"
    }
   ],
   "source": [
    "data.groupby(['TypeofContact'])['ProdTaken'].value_counts(normalize = True)*100"
   ]
  },
  {
   "cell_type": "code",
   "execution_count": 39,
   "metadata": {},
   "outputs": [
    {
     "data": {
      "text/plain": [
       "ProductPitched  ProdTaken  TypeofContact  \n",
       "Basic           0          Self Enquiry        75.038760\n",
       "                           Company Invited     24.961240\n",
       "                1          Self Enquiry        64.855072\n",
       "                           Company Invited     35.144928\n",
       "Deluxe          0          Self Enquiry        69.044503\n",
       "                           Company Invited     30.955497\n",
       "                1          Self Enquiry        66.666667\n",
       "                           Company Invited     33.333333\n",
       "King            0          Self Enquiry        77.142857\n",
       "                           Company Invited     22.857143\n",
       "                1          Self Enquiry       100.000000\n",
       "Standard        0          Self Enquiry        69.902913\n",
       "                           Company Invited     30.097087\n",
       "                1          Self Enquiry        74.193548\n",
       "                           Company Invited     25.806452\n",
       "Super Deluxe    0          Self Enquiry        75.155280\n",
       "                           Company Invited     24.844720\n",
       "                1          Company Invited     80.000000\n",
       "                           Self Enquiry        20.000000\n",
       "Name: TypeofContact, dtype: float64"
      ]
     },
     "execution_count": 39,
     "metadata": {},
     "output_type": "execute_result"
    }
   ],
   "source": [
    "# Compute the number of products purchased by product pitched\n",
    "data.groupby(['ProductPitched','ProdTaken'])['TypeofContact'].value_counts(normalize=True)*100"
   ]
  },
  {
   "cell_type": "markdown",
   "metadata": {},
   "source": [
    "#### Insights - 'TypeofContact'\n",
    "- 25 null values imputed with mode given Product Pitched\n",
    "- Customers who self-inquiry (71%) outnumber customers (29%) who are invited by the company\n",
    "- Both types of customers are initially pitched Basic and Deluxe products (although self-inquiry are pitched slightly more Basic than Deluxe and vice versa for company invited)\n",
    "- Product pitch percentages are not greatly impacted by type of contact; percentages are similar with exception of Basic and Deluxe varying slightly; Self-enquiry favors Basic whereas Company invited favors Deluxe\n",
    "- Out of those who take the Basic product, 65% are self-enquiry and 35% are company invited\n",
    "- Out of those who take the Deluxe product,67% are self-enquiry and 33% are company invited\n",
    "- Out of those who take the King product, 100 are self-inquiry\n",
    "- Out of those who take the standard product, 74% are self enquiry and 26% are Company invited\n",
    "- Out of those who take the Super Deluxe product, 80% are company invited and 20% are self-enquiry\n",
    "- King, standard and Super Deluxe sales numbers for sales enquiry outpace the number of self enquiry. (These are likely up sales)"
   ]
  },
  {
   "cell_type": "markdown",
   "metadata": {},
   "source": [
    "#### Variable 'CityTier' Analysis"
   ]
  },
  {
   "cell_type": "code",
   "execution_count": 40,
   "metadata": {},
   "outputs": [
    {
     "data": {
      "text/plain": [
       "CityTier\n",
       "1    3190\n",
       "2     198\n",
       "3    1500\n",
       "Name: CustomerID, dtype: int64"
      ]
     },
     "execution_count": 40,
     "metadata": {},
     "output_type": "execute_result"
    }
   ],
   "source": [
    "# Compute the number of data points in each CityTier group\n",
    "data.groupby(['CityTier'])['CustomerID'].count()"
   ]
  },
  {
   "cell_type": "code",
   "execution_count": 41,
   "metadata": {},
   "outputs": [
    {
     "data": {
      "text/plain": [
       "CityTier\n",
       "1    65.261866\n",
       "2     4.050736\n",
       "3    30.687398\n",
       "Name: CustomerID, dtype: float64"
      ]
     },
     "execution_count": 41,
     "metadata": {},
     "output_type": "execute_result"
    }
   ],
   "source": [
    "# Compute the percent of Type of contact values in each CityTier group\n",
    "data.groupby(['CityTier'])['CustomerID'].count()/len(data)*100"
   ]
  },
  {
   "cell_type": "code",
   "execution_count": 42,
   "metadata": {},
   "outputs": [
    {
     "data": {
      "text/plain": [
       "CityTier  ProductPitched\n",
       "1         Basic             1466\n",
       "          Deluxe             908\n",
       "          Standard           436\n",
       "          Super Deluxe       212\n",
       "          King               168\n",
       "2         Basic              108\n",
       "          Deluxe              40\n",
       "          King                22\n",
       "          Standard            18\n",
       "          Super Deluxe        10\n",
       "3         Deluxe             784\n",
       "          Standard           288\n",
       "          Basic              268\n",
       "          Super Deluxe       120\n",
       "          King                40\n",
       "Name: ProductPitched, dtype: int64"
      ]
     },
     "execution_count": 42,
     "metadata": {},
     "output_type": "execute_result"
    }
   ],
   "source": [
    "#Group CityTier data by Product pitched\n",
    "data.groupby(['CityTier'])['ProductPitched'].value_counts()"
   ]
  },
  {
   "cell_type": "code",
   "execution_count": 43,
   "metadata": {},
   "outputs": [
    {
     "data": {
      "text/plain": [
       "CityTier  ProductPitched\n",
       "1         Basic             45.956113\n",
       "          Deluxe            28.463950\n",
       "          Standard          13.667712\n",
       "          Super Deluxe       6.645768\n",
       "          King               5.266458\n",
       "2         Basic             54.545455\n",
       "          Deluxe            20.202020\n",
       "          King              11.111111\n",
       "          Standard           9.090909\n",
       "          Super Deluxe       5.050505\n",
       "3         Deluxe            52.266667\n",
       "          Standard          19.200000\n",
       "          Basic             17.866667\n",
       "          Super Deluxe       8.000000\n",
       "          King               2.666667\n",
       "Name: ProductPitched, dtype: float64"
      ]
     },
     "execution_count": 43,
     "metadata": {},
     "output_type": "execute_result"
    }
   ],
   "source": [
    "data.groupby(['CityTier'])['ProductPitched'].value_counts(normalize=True)*100"
   ]
  },
  {
   "cell_type": "code",
   "execution_count": 44,
   "metadata": {},
   "outputs": [
    {
     "data": {
      "text/plain": [
       "ProductPitched  ProdTaken  CityTier\n",
       "Basic           0          1           1074\n",
       "                           3            146\n",
       "                           2             70\n",
       "                1          1            392\n",
       "                           3            122\n",
       "                           2             38\n",
       "Deluxe          0          1            848\n",
       "                           3            640\n",
       "                           2             40\n",
       "                1          3            144\n",
       "                           1             60\n",
       "King            0          1            156\n",
       "                           3             32\n",
       "                           2             22\n",
       "                1          1             12\n",
       "                           3              8\n",
       "Standard        0          1            384\n",
       "                           3            224\n",
       "                           2             10\n",
       "                1          3             64\n",
       "                           1             52\n",
       "                           2              8\n",
       "Super Deluxe    0          1            208\n",
       "                           3            104\n",
       "                           2             10\n",
       "                1          3             16\n",
       "                           1              4\n",
       "Name: CityTier, dtype: int64"
      ]
     },
     "execution_count": 44,
     "metadata": {},
     "output_type": "execute_result"
    }
   ],
   "source": [
    "# Compute the number of products purchased by product pitched\n",
    "data.groupby(['ProductPitched','ProdTaken'])['CityTier'].value_counts()"
   ]
  },
  {
   "cell_type": "code",
   "execution_count": 45,
   "metadata": {},
   "outputs": [
    {
     "data": {
      "text/plain": [
       "ProductPitched  ProdTaken  CityTier\n",
       "Basic           0          1           83.255814\n",
       "                           3           11.317829\n",
       "                           2            5.426357\n",
       "                1          1           71.014493\n",
       "                           3           22.101449\n",
       "                           2            6.884058\n",
       "Deluxe          0          1           55.497382\n",
       "                           3           41.884817\n",
       "                           2            2.617801\n",
       "                1          3           70.588235\n",
       "                           1           29.411765\n",
       "King            0          1           74.285714\n",
       "                           3           15.238095\n",
       "                           2           10.476190\n",
       "                1          1           60.000000\n",
       "                           3           40.000000\n",
       "Standard        0          1           62.135922\n",
       "                           3           36.245955\n",
       "                           2            1.618123\n",
       "                1          3           51.612903\n",
       "                           1           41.935484\n",
       "                           2            6.451613\n",
       "Super Deluxe    0          1           64.596273\n",
       "                           3           32.298137\n",
       "                           2            3.105590\n",
       "                1          3           80.000000\n",
       "                           1           20.000000\n",
       "Name: CityTier, dtype: float64"
      ]
     },
     "execution_count": 45,
     "metadata": {},
     "output_type": "execute_result"
    }
   ],
   "source": [
    "# Compute the percentages of products purchased by product pitched\n",
    "data.groupby(['ProductPitched','ProdTaken'])['CityTier'].value_counts(normalize=True)*100"
   ]
  },
  {
   "cell_type": "code",
   "execution_count": null,
   "metadata": {},
   "outputs": [],
   "source": []
  },
  {
   "cell_type": "markdown",
   "metadata": {},
   "source": [
    "#### Insights - City Tier\n",
    "- CityTier 1 - Product pitched - 46% Basic and 28% Deluxe\n",
    "- City Tier 2 is similar to City Tier 1 with 55% Basic and 20% Deluxe\n",
    "- City Tier 3 is different from City Tier 1 and City Tier 2 with 52% Deluxe and 19% Standard; Basic accounts for 18% of products pitched"
   ]
  },
  {
   "cell_type": "markdown",
   "metadata": {},
   "source": [
    "#### Variable 'Occupation' Analysis\n"
   ]
  },
  {
   "cell_type": "code",
   "execution_count": 46,
   "metadata": {},
   "outputs": [
    {
     "data": {
      "text/plain": [
       "Occupation\n",
       "Free Lancer          2\n",
       "Large Business     434\n",
       "Salaried          2368\n",
       "Small Business    2084\n",
       "Name: CustomerID, dtype: int64"
      ]
     },
     "execution_count": 46,
     "metadata": {},
     "output_type": "execute_result"
    }
   ],
   "source": [
    "# Compute the number of data points in each Occupation group\n",
    "data.groupby(['Occupation'])['CustomerID'].count()"
   ]
  },
  {
   "cell_type": "code",
   "execution_count": 47,
   "metadata": {},
   "outputs": [
    {
     "data": {
      "text/plain": [
       "Occupation\n",
       "Free Lancer        0.040917\n",
       "Large Business     8.878887\n",
       "Salaried          48.445172\n",
       "Small Business    42.635025\n",
       "Name: CustomerID, dtype: float64"
      ]
     },
     "execution_count": 47,
     "metadata": {},
     "output_type": "execute_result"
    }
   ],
   "source": [
    "# Compute the percent of Occupation values in each group\n",
    "data.groupby(['Occupation'])['CustomerID'].count()/len(data)*100"
   ]
  },
  {
   "cell_type": "code",
   "execution_count": 48,
   "metadata": {},
   "outputs": [
    {
     "data": {
      "text/plain": [
       "Occupation      ProductPitched\n",
       "Free Lancer     Basic               2\n",
       "Large Business  Basic             196\n",
       "                Deluxe            124\n",
       "                Standard           84\n",
       "                Super Deluxe       18\n",
       "                King               12\n",
       "Salaried        Basic             924\n",
       "                Deluxe            818\n",
       "                Standard          338\n",
       "                Super Deluxe      174\n",
       "                King              114\n",
       "Small Business  Deluxe            790\n",
       "                Basic             720\n",
       "                Standard          320\n",
       "                Super Deluxe      150\n",
       "                King              104\n",
       "Name: ProductPitched, dtype: int64"
      ]
     },
     "execution_count": 48,
     "metadata": {},
     "output_type": "execute_result"
    }
   ],
   "source": [
    "#Group Occupation data by Product pitched\n",
    "data.groupby(['Occupation'])['ProductPitched'].value_counts()"
   ]
  },
  {
   "cell_type": "code",
   "execution_count": 49,
   "metadata": {},
   "outputs": [
    {
     "data": {
      "text/plain": [
       "Occupation      ProductPitched\n",
       "Free Lancer     Basic             100.000000\n",
       "Large Business  Basic              45.161290\n",
       "                Deluxe             28.571429\n",
       "                Standard           19.354839\n",
       "                Super Deluxe        4.147465\n",
       "                King                2.764977\n",
       "Salaried        Basic              39.020270\n",
       "                Deluxe             34.543919\n",
       "                Standard           14.273649\n",
       "                Super Deluxe        7.347973\n",
       "                King                4.814189\n",
       "Small Business  Deluxe             37.907869\n",
       "                Basic              34.548944\n",
       "                Standard           15.355086\n",
       "                Super Deluxe        7.197697\n",
       "                King                4.990403\n",
       "Name: ProductPitched, dtype: float64"
      ]
     },
     "execution_count": 49,
     "metadata": {},
     "output_type": "execute_result"
    }
   ],
   "source": [
    "data.groupby(['Occupation'])['ProductPitched'].value_counts(normalize=True)*100"
   ]
  },
  {
   "cell_type": "code",
   "execution_count": 50,
   "metadata": {},
   "outputs": [
    {
     "data": {
      "text/plain": [
       "Occupation      ProdTaken\n",
       "Free Lancer     1            100.000000\n",
       "Large Business  0             72.350230\n",
       "                1             27.649770\n",
       "Salaried        0             82.516892\n",
       "                1             17.483108\n",
       "Small Business  0             81.573896\n",
       "                1             18.426104\n",
       "Name: ProdTaken, dtype: float64"
      ]
     },
     "execution_count": 50,
     "metadata": {},
     "output_type": "execute_result"
    }
   ],
   "source": [
    "data.groupby(['Occupation'])['ProdTaken'].value_counts(normalize=True)*100"
   ]
  },
  {
   "cell_type": "markdown",
   "metadata": {},
   "source": [
    "#### Insights - Occupation\n",
    "- Free Lancer has only 2 values and therefore will add little information to the model\n",
    "- Large Business are primarily pitched Basic (45%) and Deluxe (29%) products\n",
    "- Salaried are primarily pitched Basic (39%) and Deluxe (35%) which is similar to Large Business\n",
    "- Small Business are primarily pitched Deluxe (38%) and Basic (24%)\n",
    "- Standard product is pitched to three Occupation groups (Large Business, Salaried and Small Business) 19%, 14% and 15%, respectively.\n",
    "- Large Business owners have a higher rate of purchase than other occupations, excluding Free Lancer, which is an outlier"
   ]
  },
  {
   "cell_type": "markdown",
   "metadata": {},
   "source": [
    "#### Variable 'Gender' Analysis"
   ]
  },
  {
   "cell_type": "code",
   "execution_count": 51,
   "metadata": {},
   "outputs": [
    {
     "data": {
      "text/plain": [
       "Gender\n",
       "Fe Male     155\n",
       "Female     1817\n",
       "Male       2916\n",
       "Name: CustomerID, dtype: int64"
      ]
     },
     "execution_count": 51,
     "metadata": {},
     "output_type": "execute_result"
    }
   ],
   "source": [
    "# Compute the number of data points in each Gender group\n",
    "data.groupby(['Gender'])['CustomerID'].count()"
   ]
  },
  {
   "cell_type": "code",
   "execution_count": 52,
   "metadata": {},
   "outputs": [],
   "source": [
    "#Replace Fe Male with 'Female'\n",
    "data['Gender'].replace('Fe Male','Female', regex = True, inplace =True)\n"
   ]
  },
  {
   "cell_type": "code",
   "execution_count": 53,
   "metadata": {},
   "outputs": [
    {
     "data": {
      "text/plain": [
       "Gender\n",
       "Female    1972\n",
       "Male      2916\n",
       "Name: CustomerID, dtype: int64"
      ]
     },
     "execution_count": 53,
     "metadata": {},
     "output_type": "execute_result"
    }
   ],
   "source": [
    "#Check results of replacement\n",
    "data.groupby(['Gender'])['CustomerID'].count()\n"
   ]
  },
  {
   "cell_type": "code",
   "execution_count": 54,
   "metadata": {},
   "outputs": [
    {
     "data": {
      "text/plain": [
       "Male      59.656301\n",
       "Female    40.343699\n",
       "Name: Gender, dtype: float64"
      ]
     },
     "execution_count": 54,
     "metadata": {},
     "output_type": "execute_result"
    }
   ],
   "source": [
    "data['Gender'].value_counts(normalize=True)*100"
   ]
  },
  {
   "cell_type": "code",
   "execution_count": 55,
   "metadata": {},
   "outputs": [
    {
     "data": {
      "text/plain": [
       "Gender  ProductPitched\n",
       "Female  Deluxe             724\n",
       "        Basic              680\n",
       "        Standard           326\n",
       "        Super Deluxe       160\n",
       "        King                82\n",
       "Male    Basic             1162\n",
       "        Deluxe            1008\n",
       "        Standard           416\n",
       "        Super Deluxe       182\n",
       "        King               148\n",
       "Name: ProductPitched, dtype: int64"
      ]
     },
     "execution_count": 55,
     "metadata": {},
     "output_type": "execute_result"
    }
   ],
   "source": [
    "#Group CityTier data by Product pitched\n",
    "data.groupby(['Gender'])['ProductPitched'].value_counts()"
   ]
  },
  {
   "cell_type": "code",
   "execution_count": 56,
   "metadata": {},
   "outputs": [
    {
     "data": {
      "text/plain": [
       "Gender  ProductPitched\n",
       "Female  Deluxe            36.713996\n",
       "        Basic             34.482759\n",
       "        Standard          16.531440\n",
       "        Super Deluxe       8.113590\n",
       "        King               4.158215\n",
       "Male    Basic             39.849108\n",
       "        Deluxe            34.567901\n",
       "        Standard          14.266118\n",
       "        Super Deluxe       6.241427\n",
       "        King               5.075446\n",
       "Name: ProductPitched, dtype: float64"
      ]
     },
     "execution_count": 56,
     "metadata": {},
     "output_type": "execute_result"
    }
   ],
   "source": [
    "#Group CityTier data by Product pitched\n",
    "data.groupby(['Gender'])['ProductPitched'].value_counts(normalize = True)*100"
   ]
  },
  {
   "cell_type": "code",
   "execution_count": 57,
   "metadata": {},
   "outputs": [
    {
     "data": {
      "text/plain": [
       "<seaborn.axisgrid.FacetGrid at 0x1bd55c11eb0>"
      ]
     },
     "execution_count": 57,
     "metadata": {},
     "output_type": "execute_result"
    },
    {
     "data": {
      "image/png": "[encoded data removed]",
      "text/plain": [
       "<Figure size 463.125x360 with 1 Axes>"
      ]
     },
     "metadata": {
      "needs_background": "light"
     },
     "output_type": "display_data"
    }
   ],
   "source": [
    "#Use a stack bar graph to explore relationahip between gender and prodct pitched\n",
    "sns.catplot(x='Gender', data = data, kind = 'count', hue = 'ProductPitched')"
   ]
  },
  {
   "cell_type": "code",
   "execution_count": 58,
   "metadata": {},
   "outputs": [
    {
     "data": {
      "text/plain": [
       "ProductPitched  ProdTaken  Gender\n",
       "Basic           0          Male      818\n",
       "                           Female    472\n",
       "                1          Male      344\n",
       "                           Female    208\n",
       "Deluxe          0          Male      874\n",
       "                           Female    654\n",
       "                1          Male      134\n",
       "                           Female     70\n",
       "King            0          Male      140\n",
       "                           Female     70\n",
       "                1          Female     12\n",
       "                           Male        8\n",
       "Standard        0          Male      340\n",
       "                           Female    278\n",
       "                1          Male       76\n",
       "                           Female     48\n",
       "Super Deluxe    0          Male      166\n",
       "                           Female    156\n",
       "                1          Male       16\n",
       "                           Female      4\n",
       "Name: Gender, dtype: int64"
      ]
     },
     "execution_count": 58,
     "metadata": {},
     "output_type": "execute_result"
    }
   ],
   "source": [
    "# Compute the number of products purchased by product pitched\n",
    "data.groupby(['ProductPitched','ProdTaken'])['Gender'].value_counts()"
   ]
  },
  {
   "cell_type": "code",
   "execution_count": 59,
   "metadata": {},
   "outputs": [
    {
     "data": {
      "text/plain": [
       "ProductPitched  ProdTaken  Gender\n",
       "Basic           0          Male      63.410853\n",
       "                           Female    36.589147\n",
       "                1          Male      62.318841\n",
       "                           Female    37.681159\n",
       "Deluxe          0          Male      57.198953\n",
       "                           Female    42.801047\n",
       "                1          Male      65.686275\n",
       "                           Female    34.313725\n",
       "King            0          Male      66.666667\n",
       "                           Female    33.333333\n",
       "                1          Female    60.000000\n",
       "                           Male      40.000000\n",
       "Standard        0          Male      55.016181\n",
       "                           Female    44.983819\n",
       "                1          Male      61.290323\n",
       "                           Female    38.709677\n",
       "Super Deluxe    0          Male      51.552795\n",
       "                           Female    48.447205\n",
       "                1          Male      80.000000\n",
       "                           Female    20.000000\n",
       "Name: Gender, dtype: float64"
      ]
     },
     "execution_count": 59,
     "metadata": {},
     "output_type": "execute_result"
    }
   ],
   "source": [
    "# Compute the percentages of products purchased by product pitched\n",
    "data.groupby(['ProductPitched','ProdTaken'])['Gender'].value_counts(normalize=True)*100"
   ]
  },
  {
   "cell_type": "code",
   "execution_count": 60,
   "metadata": {},
   "outputs": [
    {
     "data": {
      "text/plain": [
       "ProductPitched  ProdTaken  Gender\n",
       "Basic           0          Male      63.410853\n",
       "                           Female    36.589147\n",
       "                1          Male      62.318841\n",
       "                           Female    37.681159\n",
       "Deluxe          0          Male      57.198953\n",
       "                           Female    42.801047\n",
       "                1          Male      65.686275\n",
       "                           Female    34.313725\n",
       "King            0          Male      66.666667\n",
       "                           Female    33.333333\n",
       "                1          Female    60.000000\n",
       "                           Male      40.000000\n",
       "Standard        0          Male      55.016181\n",
       "                           Female    44.983819\n",
       "                1          Male      61.290323\n",
       "                           Female    38.709677\n",
       "Super Deluxe    0          Male      51.552795\n",
       "                           Female    48.447205\n",
       "                1          Male      80.000000\n",
       "                           Female    20.000000\n",
       "Name: Gender, dtype: float64"
      ]
     },
     "execution_count": 60,
     "metadata": {},
     "output_type": "execute_result"
    }
   ],
   "source": [
    "data.groupby(['ProductPitched','ProdTaken'])['Gender'].value_counts(normalize=True)*100"
   ]
  },
  {
   "cell_type": "code",
   "execution_count": 61,
   "metadata": {},
   "outputs": [
    {
     "data": {
      "text/plain": [
       "Gender  ProdTaken\n",
       "Female  0            82.657201\n",
       "        1            17.342799\n",
       "Male    0            80.178326\n",
       "        1            19.821674\n",
       "Name: ProdTaken, dtype: float64"
      ]
     },
     "execution_count": 61,
     "metadata": {},
     "output_type": "execute_result"
    }
   ],
   "source": [
    "data.groupby(['Gender'])['ProdTaken'].value_counts(normalize=True)*100"
   ]
  },
  {
   "cell_type": "markdown",
   "metadata": {},
   "source": [
    "#### Insights - Gender\n",
    "- 'Fe Male' values replaced with 'Female to give 2 categories of values\n",
    "- 2916 Female customers (40%) and 1972 Male customers (60%)\n",
    "- Females were primarily pitched Deluxe (37%) and Basic (34%)\n",
    "- Males were primarily pitched Basic (40%) and Deluxe (35%)\n",
    "- Given that Females are 40% of the customer base, Basic pitched: 38% of customer were Female; Deluxed Pitched: 34% Female; King pitched, 40% female; Standard Pitched: 39% Female; Super deluxed pitched: 20% female (Male percentages are 100% - Female percentages\n",
    "- Super Deluxe was taken by Females only 20% 9 while pitched to males 6% amd pitched to Females 8%\n",
    "- Men have a slightly higher rate of purchse than women\n",
    " "
   ]
  },
  {
   "cell_type": "markdown",
   "metadata": {},
   "source": [
    "#### Variable \"Number of Persons Visiting\" Analysis"
   ]
  },
  {
   "cell_type": "code",
   "execution_count": 62,
   "metadata": {},
   "outputs": [
    {
     "data": {
      "text/plain": [
       "<AxesSubplot:xlabel='NumberOfPersonVisiting'>"
      ]
     },
     "execution_count": 62,
     "metadata": {},
     "output_type": "execute_result"
    },
    {
     "data": {
      "image/png": "[encoded data removed]",
      "text/plain": [
       "<Figure size 432x288 with 1 Axes>"
      ]
     },
     "metadata": {
      "needs_background": "light"
     },
     "output_type": "display_data"
    }
   ],
   "source": [
    "sns.boxplot(data=data, x='NumberOfPersonVisiting')"
   ]
  },
  {
   "cell_type": "code",
   "execution_count": 63,
   "metadata": {},
   "outputs": [
    {
     "data": {
      "text/plain": [
       "<AxesSubplot:xlabel='NumberOfPersonVisiting', ylabel='ProductPitched'>"
      ]
     },
     "execution_count": 63,
     "metadata": {},
     "output_type": "execute_result"
    },
    {
     "data": {
      "image/png": "[encoded data removed]",
      "text/plain": [
       "<Figure size 432x288 with 1 Axes>"
      ]
     },
     "metadata": {
      "needs_background": "light"
     },
     "output_type": "display_data"
    }
   ],
   "source": [
    "sns.boxplot(data=data, x='NumberOfPersonVisiting', y='ProductPitched', hue='ProdTaken')"
   ]
  },
  {
   "cell_type": "code",
   "execution_count": 64,
   "metadata": {},
   "outputs": [
    {
     "data": {
      "text/plain": [
       "3    2402\n",
       "2    1418\n",
       "4    1026\n",
       "1      39\n",
       "5       3\n",
       "Name: NumberOfPersonVisiting, dtype: int64"
      ]
     },
     "execution_count": 64,
     "metadata": {},
     "output_type": "execute_result"
    }
   ],
   "source": [
    "data['NumberOfPersonVisiting'].value_counts()"
   ]
  },
  {
   "cell_type": "code",
   "execution_count": 65,
   "metadata": {},
   "outputs": [
    {
     "data": {
      "text/plain": [
       "3    49.140753\n",
       "2    29.009820\n",
       "4    20.990180\n",
       "1     0.797872\n",
       "5     0.061375\n",
       "Name: NumberOfPersonVisiting, dtype: float64"
      ]
     },
     "execution_count": 65,
     "metadata": {},
     "output_type": "execute_result"
    }
   ],
   "source": [
    "data['NumberOfPersonVisiting'].value_counts(normalize=True)*100"
   ]
  },
  {
   "cell_type": "code",
   "execution_count": 66,
   "metadata": {},
   "outputs": [
    {
     "data": {
      "text/plain": [
       "ProductPitched  ProdTaken  NumberOfPersonVisiting\n",
       "Basic           0          3                         635\n",
       "                           2                         353\n",
       "                           4                         292\n",
       "                           1                           9\n",
       "                           5                           1\n",
       "                1          3                         276\n",
       "                           2                         164\n",
       "                           4                         112\n",
       "Deluxe          0          3                         746\n",
       "                           2                         455\n",
       "                           4                         309\n",
       "                           1                          17\n",
       "                           5                           1\n",
       "                1          3                         102\n",
       "                           2                          56\n",
       "                           4                          46\n",
       "King            0          3                         105\n",
       "                           2                          69\n",
       "                           4                          36\n",
       "                1          3                          10\n",
       "                           2                           6\n",
       "                           4                           4\n",
       "Standard        0          3                         301\n",
       "                           2                         176\n",
       "                           4                         133\n",
       "                           1                           7\n",
       "                           5                           1\n",
       "                1          3                          62\n",
       "                           2                          33\n",
       "                           4                          29\n",
       "Super Deluxe    0          3                         155\n",
       "                           2                          98\n",
       "                           4                          63\n",
       "                           1                           6\n",
       "                1          3                          10\n",
       "                           2                           8\n",
       "                           4                           2\n",
       "Name: NumberOfPersonVisiting, dtype: int64"
      ]
     },
     "execution_count": 66,
     "metadata": {},
     "output_type": "execute_result"
    }
   ],
   "source": [
    "# Compute the number of products purchased by product pitched\n",
    "data.groupby(['ProductPitched','ProdTaken'])['NumberOfPersonVisiting'].value_counts()"
   ]
  },
  {
   "cell_type": "code",
   "execution_count": 67,
   "metadata": {},
   "outputs": [
    {
     "data": {
      "text/plain": [
       "ProductPitched  ProdTaken  NumberOfPersonVisiting\n",
       "Basic           0          3                         49.224806\n",
       "                           2                         27.364341\n",
       "                           4                         22.635659\n",
       "                           1                          0.697674\n",
       "                           5                          0.077519\n",
       "                1          3                         50.000000\n",
       "                           2                         29.710145\n",
       "                           4                         20.289855\n",
       "Deluxe          0          3                         48.821990\n",
       "                           2                         29.777487\n",
       "                           4                         20.222513\n",
       "                           1                          1.112565\n",
       "                           5                          0.065445\n",
       "                1          3                         50.000000\n",
       "                           2                         27.450980\n",
       "                           4                         22.549020\n",
       "King            0          3                         50.000000\n",
       "                           2                         32.857143\n",
       "                           4                         17.142857\n",
       "                1          3                         50.000000\n",
       "                           2                         30.000000\n",
       "                           4                         20.000000\n",
       "Standard        0          3                         48.705502\n",
       "                           2                         28.478964\n",
       "                           4                         21.521036\n",
       "                           1                          1.132686\n",
       "                           5                          0.161812\n",
       "                1          3                         50.000000\n",
       "                           2                         26.612903\n",
       "                           4                         23.387097\n",
       "Super Deluxe    0          3                         48.136646\n",
       "                           2                         30.434783\n",
       "                           4                         19.565217\n",
       "                           1                          1.863354\n",
       "                1          3                         50.000000\n",
       "                           2                         40.000000\n",
       "                           4                         10.000000\n",
       "Name: NumberOfPersonVisiting, dtype: float64"
      ]
     },
     "execution_count": 67,
     "metadata": {},
     "output_type": "execute_result"
    }
   ],
   "source": [
    "# Compute the number of products purchased by product pitched\n",
    "data.groupby(['ProductPitched','ProdTaken'])['NumberOfPersonVisiting'].value_counts(normalize=True)*100"
   ]
  },
  {
   "cell_type": "markdown",
   "metadata": {},
   "source": [
    "#### Insights - 'Number of Person Visiting'\n",
    "- Values 1 and 5 appear to be outliers\n",
    "- most impactful values for determining product taken is 2 and 3, which account for almost 80% of the values\n",
    "- For Products taken: Ratios of Number of Persons Visiting: Percentage Product taken - Basic:3:50%, 2:30%, 4:20% (similar to base ratio); Deluxe: 3:50%, 2:27%; 4:23%; King - 3:50%; 2:30%; 4:20 (similar to base ratio); Standard - 3:50%; 2:27%; 4:23% (similar to base ratio); Super Deluxe - 3:50%, 2:40%,4:10% (varies slightly from base ratio but likely not enough for major impact\n",
    "\n",
    "This variable does not appear to impact customer taking product pitched; will test feature impact during modeling"
   ]
  },
  {
   "cell_type": "markdown",
   "metadata": {},
   "source": [
    "#### Variable 'Preferred Property Star' Analysis"
   ]
  },
  {
   "cell_type": "code",
   "execution_count": 68,
   "metadata": {},
   "outputs": [
    {
     "data": {
      "text/plain": [
       "3.0    2993\n",
       "5.0     956\n",
       "4.0     913\n",
       "Name: PreferredPropertyStar, dtype: int64"
      ]
     },
     "execution_count": 68,
     "metadata": {},
     "output_type": "execute_result"
    }
   ],
   "source": [
    "data['PreferredPropertyStar'].value_counts()"
   ]
  },
  {
   "cell_type": "code",
   "execution_count": 69,
   "metadata": {},
   "outputs": [
    {
     "data": {
      "text/plain": [
       "3.0    61.559029\n",
       "5.0    19.662690\n",
       "4.0    18.778281\n",
       "Name: PreferredPropertyStar, dtype: float64"
      ]
     },
     "execution_count": 69,
     "metadata": {},
     "output_type": "execute_result"
    }
   ],
   "source": [
    "data['PreferredPropertyStar'].value_counts(normalize=True)*100"
   ]
  },
  {
   "cell_type": "code",
   "execution_count": 70,
   "metadata": {},
   "outputs": [
    {
     "data": {
      "text/plain": [
       "PreferredPropertyStar  ProductPitched\n",
       "3.0                    Basic             1118\n",
       "                       Deluxe            1090\n",
       "                       Standard           436\n",
       "                       Super Deluxe       212\n",
       "                       King               137\n",
       "4.0                    Basic              368\n",
       "                       Deluxe             312\n",
       "                       Standard           130\n",
       "                       Super Deluxe        62\n",
       "                       King                41\n",
       "5.0                    Basic              355\n",
       "                       Deluxe             329\n",
       "                       Standard           175\n",
       "                       Super Deluxe        68\n",
       "                       King                29\n",
       "Name: ProductPitched, dtype: int64"
      ]
     },
     "execution_count": 70,
     "metadata": {},
     "output_type": "execute_result"
    }
   ],
   "source": [
    "#Group Preferred Property Star data by Product pitched\n",
    "data.groupby(['PreferredPropertyStar'])['ProductPitched'].value_counts()"
   ]
  },
  {
   "cell_type": "code",
   "execution_count": 71,
   "metadata": {},
   "outputs": [
    {
     "data": {
      "text/plain": [
       "PreferredPropertyStar  ProductPitched\n",
       "3.0                    Basic             37.353826\n",
       "                       Deluxe            36.418309\n",
       "                       Standard          14.567324\n",
       "                       Super Deluxe       7.083194\n",
       "                       King               4.577347\n",
       "4.0                    Basic             40.306681\n",
       "                       Deluxe            34.173056\n",
       "                       Standard          14.238773\n",
       "                       Super Deluxe       6.790800\n",
       "                       King               4.490690\n",
       "5.0                    Basic             37.133891\n",
       "                       Deluxe            34.414226\n",
       "                       Standard          18.305439\n",
       "                       Super Deluxe       7.112971\n",
       "                       King               3.033473\n",
       "Name: ProductPitched, dtype: float64"
      ]
     },
     "execution_count": 71,
     "metadata": {},
     "output_type": "execute_result"
    }
   ],
   "source": [
    "#Group Preferred Property Star data by Product pitched\n",
    "data.groupby(['PreferredPropertyStar'])['ProductPitched'].value_counts(normalize = True)*100"
   ]
  },
  {
   "cell_type": "code",
   "execution_count": 72,
   "metadata": {},
   "outputs": [
    {
     "data": {
      "text/plain": [
       "(26, 20)"
      ]
     },
     "execution_count": 72,
     "metadata": {},
     "output_type": "execute_result"
    }
   ],
   "source": [
    "#Locate the rows where Preferred Property Star is Null\n",
    "PPSNull = data[data['PreferredPropertyStar'].isna()]\n",
    "PPSNull.shape"
   ]
  },
  {
   "cell_type": "code",
   "execution_count": 73,
   "metadata": {},
   "outputs": [
    {
     "data": {
      "text/html": [
       "<div>\n",
       "<style scoped>\n",
       "    .dataframe tbody tr th:only-of-type {\n",
       "        vertical-align: middle;\n",
       "    }\n",
       "\n",
       "    .dataframe tbody tr th {\n",
       "        vertical-align: top;\n",
       "    }\n",
       "\n",
       "    .dataframe thead th {\n",
       "        text-align: right;\n",
       "    }\n",
       "</style>\n",
       "<table border=\"1\" class=\"dataframe\">\n",
       "  <thead>\n",
       "    <tr style=\"text-align: right;\">\n",
       "      <th></th>\n",
       "      <th>CustomerID</th>\n",
       "      <th>ProdTaken</th>\n",
       "      <th>Age</th>\n",
       "      <th>TypeofContact</th>\n",
       "      <th>CityTier</th>\n",
       "      <th>DurationOfPitch</th>\n",
       "      <th>Occupation</th>\n",
       "      <th>Gender</th>\n",
       "      <th>NumberOfPersonVisiting</th>\n",
       "      <th>NumberOfFollowups</th>\n",
       "      <th>ProductPitched</th>\n",
       "      <th>PreferredPropertyStar</th>\n",
       "      <th>MaritalStatus</th>\n",
       "      <th>NumberOfTrips</th>\n",
       "      <th>Passport</th>\n",
       "      <th>PitchSatisfactionScore</th>\n",
       "      <th>OwnCar</th>\n",
       "      <th>NumberOfChildrenVisiting</th>\n",
       "      <th>Designation</th>\n",
       "      <th>MonthlyIncome</th>\n",
       "    </tr>\n",
       "  </thead>\n",
       "  <tbody>\n",
       "    <tr>\n",
       "      <th>38</th>\n",
       "      <td>200038</td>\n",
       "      <td>0</td>\n",
       "      <td>36.0</td>\n",
       "      <td>Self Enquiry</td>\n",
       "      <td>1</td>\n",
       "      <td>11.0</td>\n",
       "      <td>Salaried</td>\n",
       "      <td>Female</td>\n",
       "      <td>2</td>\n",
       "      <td>4.0</td>\n",
       "      <td>Basic</td>\n",
       "      <td>NaN</td>\n",
       "      <td>Divorced</td>\n",
       "      <td>1.0</td>\n",
       "      <td>1</td>\n",
       "      <td>2</td>\n",
       "      <td>1</td>\n",
       "      <td>0.0</td>\n",
       "      <td>Executive</td>\n",
       "      <td>95000.0</td>\n",
       "    </tr>\n",
       "    <tr>\n",
       "      <th>2609</th>\n",
       "      <td>202609</td>\n",
       "      <td>0</td>\n",
       "      <td>51.0</td>\n",
       "      <td>Self Enquiry</td>\n",
       "      <td>1</td>\n",
       "      <td>18.0</td>\n",
       "      <td>Salaried</td>\n",
       "      <td>Female</td>\n",
       "      <td>3</td>\n",
       "      <td>4.0</td>\n",
       "      <td>King</td>\n",
       "      <td>NaN</td>\n",
       "      <td>Single</td>\n",
       "      <td>5.0</td>\n",
       "      <td>0</td>\n",
       "      <td>5</td>\n",
       "      <td>1</td>\n",
       "      <td>1.0</td>\n",
       "      <td>VP</td>\n",
       "      <td>38604.0</td>\n",
       "    </tr>\n",
       "    <tr>\n",
       "      <th>2634</th>\n",
       "      <td>202634</td>\n",
       "      <td>0</td>\n",
       "      <td>53.0</td>\n",
       "      <td>Self Enquiry</td>\n",
       "      <td>1</td>\n",
       "      <td>7.0</td>\n",
       "      <td>Salaried</td>\n",
       "      <td>Male</td>\n",
       "      <td>4</td>\n",
       "      <td>5.0</td>\n",
       "      <td>King</td>\n",
       "      <td>NaN</td>\n",
       "      <td>Divorced</td>\n",
       "      <td>2.0</td>\n",
       "      <td>0</td>\n",
       "      <td>2</td>\n",
       "      <td>1</td>\n",
       "      <td>2.0</td>\n",
       "      <td>VP</td>\n",
       "      <td>38677.0</td>\n",
       "    </tr>\n",
       "    <tr>\n",
       "      <th>3012</th>\n",
       "      <td>203012</td>\n",
       "      <td>1</td>\n",
       "      <td>56.0</td>\n",
       "      <td>Self Enquiry</td>\n",
       "      <td>1</td>\n",
       "      <td>9.0</td>\n",
       "      <td>Small Business</td>\n",
       "      <td>Male</td>\n",
       "      <td>4</td>\n",
       "      <td>4.0</td>\n",
       "      <td>King</td>\n",
       "      <td>NaN</td>\n",
       "      <td>Divorced</td>\n",
       "      <td>7.0</td>\n",
       "      <td>1</td>\n",
       "      <td>2</td>\n",
       "      <td>1</td>\n",
       "      <td>3.0</td>\n",
       "      <td>VP</td>\n",
       "      <td>38537.0</td>\n",
       "    </tr>\n",
       "    <tr>\n",
       "      <th>3190</th>\n",
       "      <td>203190</td>\n",
       "      <td>0</td>\n",
       "      <td>42.0</td>\n",
       "      <td>Company Invited</td>\n",
       "      <td>1</td>\n",
       "      <td>14.0</td>\n",
       "      <td>Salaried</td>\n",
       "      <td>Female</td>\n",
       "      <td>3</td>\n",
       "      <td>6.0</td>\n",
       "      <td>King</td>\n",
       "      <td>NaN</td>\n",
       "      <td>Married</td>\n",
       "      <td>3.0</td>\n",
       "      <td>0</td>\n",
       "      <td>4</td>\n",
       "      <td>1</td>\n",
       "      <td>1.0</td>\n",
       "      <td>VP</td>\n",
       "      <td>38651.0</td>\n",
       "    </tr>\n",
       "    <tr>\n",
       "      <th>3193</th>\n",
       "      <td>203193</td>\n",
       "      <td>1</td>\n",
       "      <td>53.0</td>\n",
       "      <td>Self Enquiry</td>\n",
       "      <td>3</td>\n",
       "      <td>9.0</td>\n",
       "      <td>Small Business</td>\n",
       "      <td>Female</td>\n",
       "      <td>3</td>\n",
       "      <td>6.0</td>\n",
       "      <td>King</td>\n",
       "      <td>NaN</td>\n",
       "      <td>Divorced</td>\n",
       "      <td>3.0</td>\n",
       "      <td>0</td>\n",
       "      <td>3</td>\n",
       "      <td>1</td>\n",
       "      <td>1.0</td>\n",
       "      <td>VP</td>\n",
       "      <td>38523.0</td>\n",
       "    </tr>\n",
       "    <tr>\n",
       "      <th>3214</th>\n",
       "      <td>203214</td>\n",
       "      <td>0</td>\n",
       "      <td>47.0</td>\n",
       "      <td>Self Enquiry</td>\n",
       "      <td>1</td>\n",
       "      <td>7.0</td>\n",
       "      <td>Small Business</td>\n",
       "      <td>Male</td>\n",
       "      <td>3</td>\n",
       "      <td>4.0</td>\n",
       "      <td>King</td>\n",
       "      <td>NaN</td>\n",
       "      <td>Married</td>\n",
       "      <td>2.0</td>\n",
       "      <td>0</td>\n",
       "      <td>5</td>\n",
       "      <td>1</td>\n",
       "      <td>2.0</td>\n",
       "      <td>VP</td>\n",
       "      <td>38305.0</td>\n",
       "    </tr>\n",
       "    <tr>\n",
       "      <th>3295</th>\n",
       "      <td>203295</td>\n",
       "      <td>0</td>\n",
       "      <td>57.0</td>\n",
       "      <td>Self Enquiry</td>\n",
       "      <td>1</td>\n",
       "      <td>11.0</td>\n",
       "      <td>Large Business</td>\n",
       "      <td>Female</td>\n",
       "      <td>4</td>\n",
       "      <td>4.0</td>\n",
       "      <td>King</td>\n",
       "      <td>NaN</td>\n",
       "      <td>Married</td>\n",
       "      <td>6.0</td>\n",
       "      <td>0</td>\n",
       "      <td>4</td>\n",
       "      <td>0</td>\n",
       "      <td>3.0</td>\n",
       "      <td>VP</td>\n",
       "      <td>38621.0</td>\n",
       "    </tr>\n",
       "    <tr>\n",
       "      <th>3342</th>\n",
       "      <td>203342</td>\n",
       "      <td>0</td>\n",
       "      <td>44.0</td>\n",
       "      <td>Self Enquiry</td>\n",
       "      <td>1</td>\n",
       "      <td>10.0</td>\n",
       "      <td>Salaried</td>\n",
       "      <td>Male</td>\n",
       "      <td>4</td>\n",
       "      <td>6.0</td>\n",
       "      <td>King</td>\n",
       "      <td>NaN</td>\n",
       "      <td>Divorced</td>\n",
       "      <td>5.0</td>\n",
       "      <td>0</td>\n",
       "      <td>5</td>\n",
       "      <td>1</td>\n",
       "      <td>3.0</td>\n",
       "      <td>VP</td>\n",
       "      <td>38418.0</td>\n",
       "    </tr>\n",
       "    <tr>\n",
       "      <th>3362</th>\n",
       "      <td>203362</td>\n",
       "      <td>0</td>\n",
       "      <td>52.0</td>\n",
       "      <td>Company Invited</td>\n",
       "      <td>3</td>\n",
       "      <td>16.0</td>\n",
       "      <td>Salaried</td>\n",
       "      <td>Male</td>\n",
       "      <td>3</td>\n",
       "      <td>4.0</td>\n",
       "      <td>King</td>\n",
       "      <td>NaN</td>\n",
       "      <td>Married</td>\n",
       "      <td>6.0</td>\n",
       "      <td>1</td>\n",
       "      <td>4</td>\n",
       "      <td>1</td>\n",
       "      <td>2.0</td>\n",
       "      <td>VP</td>\n",
       "      <td>38525.0</td>\n",
       "    </tr>\n",
       "    <tr>\n",
       "      <th>3400</th>\n",
       "      <td>203400</td>\n",
       "      <td>0</td>\n",
       "      <td>57.0</td>\n",
       "      <td>Self Enquiry</td>\n",
       "      <td>2</td>\n",
       "      <td>15.0</td>\n",
       "      <td>Salaried</td>\n",
       "      <td>Male</td>\n",
       "      <td>3</td>\n",
       "      <td>4.0</td>\n",
       "      <td>King</td>\n",
       "      <td>NaN</td>\n",
       "      <td>Single</td>\n",
       "      <td>8.0</td>\n",
       "      <td>0</td>\n",
       "      <td>4</td>\n",
       "      <td>1</td>\n",
       "      <td>1.0</td>\n",
       "      <td>VP</td>\n",
       "      <td>38395.0</td>\n",
       "    </tr>\n",
       "    <tr>\n",
       "      <th>3453</th>\n",
       "      <td>203453</td>\n",
       "      <td>0</td>\n",
       "      <td>59.0</td>\n",
       "      <td>Self Enquiry</td>\n",
       "      <td>1</td>\n",
       "      <td>7.0</td>\n",
       "      <td>Small Business</td>\n",
       "      <td>Female</td>\n",
       "      <td>4</td>\n",
       "      <td>4.0</td>\n",
       "      <td>King</td>\n",
       "      <td>NaN</td>\n",
       "      <td>Divorced</td>\n",
       "      <td>5.0</td>\n",
       "      <td>1</td>\n",
       "      <td>1</td>\n",
       "      <td>1</td>\n",
       "      <td>3.0</td>\n",
       "      <td>VP</td>\n",
       "      <td>38379.0</td>\n",
       "    </tr>\n",
       "    <tr>\n",
       "      <th>3598</th>\n",
       "      <td>203598</td>\n",
       "      <td>0</td>\n",
       "      <td>48.0</td>\n",
       "      <td>Self Enquiry</td>\n",
       "      <td>2</td>\n",
       "      <td>33.0</td>\n",
       "      <td>Salaried</td>\n",
       "      <td>Female</td>\n",
       "      <td>4</td>\n",
       "      <td>4.0</td>\n",
       "      <td>King</td>\n",
       "      <td>NaN</td>\n",
       "      <td>Married</td>\n",
       "      <td>5.0</td>\n",
       "      <td>0</td>\n",
       "      <td>4</td>\n",
       "      <td>1</td>\n",
       "      <td>2.0</td>\n",
       "      <td>VP</td>\n",
       "      <td>38336.0</td>\n",
       "    </tr>\n",
       "    <tr>\n",
       "      <th>3686</th>\n",
       "      <td>203686</td>\n",
       "      <td>0</td>\n",
       "      <td>41.0</td>\n",
       "      <td>Self Enquiry</td>\n",
       "      <td>3</td>\n",
       "      <td>14.0</td>\n",
       "      <td>Small Business</td>\n",
       "      <td>Male</td>\n",
       "      <td>3</td>\n",
       "      <td>4.0</td>\n",
       "      <td>King</td>\n",
       "      <td>NaN</td>\n",
       "      <td>Single</td>\n",
       "      <td>3.0</td>\n",
       "      <td>0</td>\n",
       "      <td>4</td>\n",
       "      <td>1</td>\n",
       "      <td>2.0</td>\n",
       "      <td>VP</td>\n",
       "      <td>38511.0</td>\n",
       "    </tr>\n",
       "    <tr>\n",
       "      <th>3775</th>\n",
       "      <td>203775</td>\n",
       "      <td>0</td>\n",
       "      <td>49.0</td>\n",
       "      <td>Self Enquiry</td>\n",
       "      <td>1</td>\n",
       "      <td>17.0</td>\n",
       "      <td>Salaried</td>\n",
       "      <td>Male</td>\n",
       "      <td>4</td>\n",
       "      <td>5.0</td>\n",
       "      <td>King</td>\n",
       "      <td>NaN</td>\n",
       "      <td>Married</td>\n",
       "      <td>6.0</td>\n",
       "      <td>0</td>\n",
       "      <td>3</td>\n",
       "      <td>1</td>\n",
       "      <td>2.0</td>\n",
       "      <td>VP</td>\n",
       "      <td>38343.0</td>\n",
       "    </tr>\n",
       "    <tr>\n",
       "      <th>3845</th>\n",
       "      <td>203845</td>\n",
       "      <td>0</td>\n",
       "      <td>56.0</td>\n",
       "      <td>Self Enquiry</td>\n",
       "      <td>2</td>\n",
       "      <td>33.0</td>\n",
       "      <td>Salaried</td>\n",
       "      <td>Male</td>\n",
       "      <td>4</td>\n",
       "      <td>2.0</td>\n",
       "      <td>King</td>\n",
       "      <td>NaN</td>\n",
       "      <td>Married</td>\n",
       "      <td>6.0</td>\n",
       "      <td>1</td>\n",
       "      <td>5</td>\n",
       "      <td>1</td>\n",
       "      <td>3.0</td>\n",
       "      <td>VP</td>\n",
       "      <td>38314.0</td>\n",
       "    </tr>\n",
       "    <tr>\n",
       "      <th>4079</th>\n",
       "      <td>204079</td>\n",
       "      <td>0</td>\n",
       "      <td>51.0</td>\n",
       "      <td>Self Enquiry</td>\n",
       "      <td>1</td>\n",
       "      <td>18.0</td>\n",
       "      <td>Salaried</td>\n",
       "      <td>Female</td>\n",
       "      <td>3</td>\n",
       "      <td>4.0</td>\n",
       "      <td>King</td>\n",
       "      <td>NaN</td>\n",
       "      <td>Single</td>\n",
       "      <td>5.0</td>\n",
       "      <td>0</td>\n",
       "      <td>5</td>\n",
       "      <td>0</td>\n",
       "      <td>2.0</td>\n",
       "      <td>VP</td>\n",
       "      <td>38604.0</td>\n",
       "    </tr>\n",
       "    <tr>\n",
       "      <th>4104</th>\n",
       "      <td>204104</td>\n",
       "      <td>0</td>\n",
       "      <td>53.0</td>\n",
       "      <td>Self Enquiry</td>\n",
       "      <td>1</td>\n",
       "      <td>7.0</td>\n",
       "      <td>Salaried</td>\n",
       "      <td>Male</td>\n",
       "      <td>4</td>\n",
       "      <td>5.0</td>\n",
       "      <td>King</td>\n",
       "      <td>NaN</td>\n",
       "      <td>Married</td>\n",
       "      <td>2.0</td>\n",
       "      <td>0</td>\n",
       "      <td>1</td>\n",
       "      <td>1</td>\n",
       "      <td>3.0</td>\n",
       "      <td>VP</td>\n",
       "      <td>38677.0</td>\n",
       "    </tr>\n",
       "    <tr>\n",
       "      <th>4482</th>\n",
       "      <td>204482</td>\n",
       "      <td>1</td>\n",
       "      <td>56.0</td>\n",
       "      <td>Self Enquiry</td>\n",
       "      <td>1</td>\n",
       "      <td>9.0</td>\n",
       "      <td>Small Business</td>\n",
       "      <td>Male</td>\n",
       "      <td>4</td>\n",
       "      <td>4.0</td>\n",
       "      <td>King</td>\n",
       "      <td>NaN</td>\n",
       "      <td>Married</td>\n",
       "      <td>7.0</td>\n",
       "      <td>1</td>\n",
       "      <td>1</td>\n",
       "      <td>1</td>\n",
       "      <td>1.0</td>\n",
       "      <td>VP</td>\n",
       "      <td>38537.0</td>\n",
       "    </tr>\n",
       "    <tr>\n",
       "      <th>4660</th>\n",
       "      <td>204660</td>\n",
       "      <td>0</td>\n",
       "      <td>42.0</td>\n",
       "      <td>Company Invited</td>\n",
       "      <td>1</td>\n",
       "      <td>14.0</td>\n",
       "      <td>Salaried</td>\n",
       "      <td>Female</td>\n",
       "      <td>3</td>\n",
       "      <td>6.0</td>\n",
       "      <td>King</td>\n",
       "      <td>NaN</td>\n",
       "      <td>Married</td>\n",
       "      <td>3.0</td>\n",
       "      <td>0</td>\n",
       "      <td>4</td>\n",
       "      <td>1</td>\n",
       "      <td>2.0</td>\n",
       "      <td>VP</td>\n",
       "      <td>38651.0</td>\n",
       "    </tr>\n",
       "    <tr>\n",
       "      <th>4663</th>\n",
       "      <td>204663</td>\n",
       "      <td>1</td>\n",
       "      <td>53.0</td>\n",
       "      <td>Self Enquiry</td>\n",
       "      <td>3</td>\n",
       "      <td>9.0</td>\n",
       "      <td>Small Business</td>\n",
       "      <td>Female</td>\n",
       "      <td>3</td>\n",
       "      <td>6.0</td>\n",
       "      <td>King</td>\n",
       "      <td>NaN</td>\n",
       "      <td>Married</td>\n",
       "      <td>3.0</td>\n",
       "      <td>0</td>\n",
       "      <td>3</td>\n",
       "      <td>1</td>\n",
       "      <td>2.0</td>\n",
       "      <td>VP</td>\n",
       "      <td>38523.0</td>\n",
       "    </tr>\n",
       "    <tr>\n",
       "      <th>4684</th>\n",
       "      <td>204684</td>\n",
       "      <td>0</td>\n",
       "      <td>47.0</td>\n",
       "      <td>Self Enquiry</td>\n",
       "      <td>1</td>\n",
       "      <td>7.0</td>\n",
       "      <td>Small Business</td>\n",
       "      <td>Male</td>\n",
       "      <td>3</td>\n",
       "      <td>4.0</td>\n",
       "      <td>King</td>\n",
       "      <td>NaN</td>\n",
       "      <td>Married</td>\n",
       "      <td>2.0</td>\n",
       "      <td>0</td>\n",
       "      <td>5</td>\n",
       "      <td>1</td>\n",
       "      <td>1.0</td>\n",
       "      <td>VP</td>\n",
       "      <td>38305.0</td>\n",
       "    </tr>\n",
       "    <tr>\n",
       "      <th>4765</th>\n",
       "      <td>204765</td>\n",
       "      <td>0</td>\n",
       "      <td>57.0</td>\n",
       "      <td>Self Enquiry</td>\n",
       "      <td>1</td>\n",
       "      <td>11.0</td>\n",
       "      <td>Large Business</td>\n",
       "      <td>Female</td>\n",
       "      <td>4</td>\n",
       "      <td>4.0</td>\n",
       "      <td>King</td>\n",
       "      <td>NaN</td>\n",
       "      <td>Married</td>\n",
       "      <td>6.0</td>\n",
       "      <td>0</td>\n",
       "      <td>4</td>\n",
       "      <td>1</td>\n",
       "      <td>2.0</td>\n",
       "      <td>VP</td>\n",
       "      <td>38621.0</td>\n",
       "    </tr>\n",
       "    <tr>\n",
       "      <th>4812</th>\n",
       "      <td>204812</td>\n",
       "      <td>0</td>\n",
       "      <td>44.0</td>\n",
       "      <td>Self Enquiry</td>\n",
       "      <td>1</td>\n",
       "      <td>10.0</td>\n",
       "      <td>Salaried</td>\n",
       "      <td>Male</td>\n",
       "      <td>4</td>\n",
       "      <td>6.0</td>\n",
       "      <td>King</td>\n",
       "      <td>NaN</td>\n",
       "      <td>Married</td>\n",
       "      <td>5.0</td>\n",
       "      <td>0</td>\n",
       "      <td>5</td>\n",
       "      <td>1</td>\n",
       "      <td>1.0</td>\n",
       "      <td>VP</td>\n",
       "      <td>38418.0</td>\n",
       "    </tr>\n",
       "    <tr>\n",
       "      <th>4832</th>\n",
       "      <td>204832</td>\n",
       "      <td>1</td>\n",
       "      <td>52.0</td>\n",
       "      <td>Company Invited</td>\n",
       "      <td>1</td>\n",
       "      <td>35.0</td>\n",
       "      <td>Salaried</td>\n",
       "      <td>Male</td>\n",
       "      <td>4</td>\n",
       "      <td>5.0</td>\n",
       "      <td>Deluxe</td>\n",
       "      <td>NaN</td>\n",
       "      <td>Single</td>\n",
       "      <td>5.0</td>\n",
       "      <td>0</td>\n",
       "      <td>3</td>\n",
       "      <td>0</td>\n",
       "      <td>1.0</td>\n",
       "      <td>Manager</td>\n",
       "      <td>38525.0</td>\n",
       "    </tr>\n",
       "    <tr>\n",
       "      <th>4870</th>\n",
       "      <td>204870</td>\n",
       "      <td>1</td>\n",
       "      <td>57.0</td>\n",
       "      <td>Self Enquiry</td>\n",
       "      <td>3</td>\n",
       "      <td>23.0</td>\n",
       "      <td>Salaried</td>\n",
       "      <td>Female</td>\n",
       "      <td>4</td>\n",
       "      <td>4.0</td>\n",
       "      <td>Standard</td>\n",
       "      <td>NaN</td>\n",
       "      <td>Single</td>\n",
       "      <td>4.0</td>\n",
       "      <td>1</td>\n",
       "      <td>5</td>\n",
       "      <td>1</td>\n",
       "      <td>3.0</td>\n",
       "      <td>Senior Manager</td>\n",
       "      <td>38395.0</td>\n",
       "    </tr>\n",
       "  </tbody>\n",
       "</table>\n",
       "</div>"
      ],
      "text/plain": [
       "      CustomerID  ProdTaken   Age    TypeofContact  CityTier  DurationOfPitch  \\\n",
       "38        200038          0  36.0     Self Enquiry         1             11.0   \n",
       "2609      202609          0  51.0     Self Enquiry         1             18.0   \n",
       "2634      202634          0  53.0     Self Enquiry         1              7.0   \n",
       "3012      203012          1  56.0     Self Enquiry         1              9.0   \n",
       "3190      203190          0  42.0  Company Invited         1             14.0   \n",
       "3193      203193          1  53.0     Self Enquiry         3              9.0   \n",
       "3214      203214          0  47.0     Self Enquiry         1              7.0   \n",
       "3295      203295          0  57.0     Self Enquiry         1             11.0   \n",
       "3342      203342          0  44.0     Self Enquiry         1             10.0   \n",
       "3362      203362          0  52.0  Company Invited         3             16.0   \n",
       "3400      203400          0  57.0     Self Enquiry         2             15.0   \n",
       "3453      203453          0  59.0     Self Enquiry         1              7.0   \n",
       "3598      203598          0  48.0     Self Enquiry         2             33.0   \n",
       "3686      203686          0  41.0     Self Enquiry         3             14.0   \n",
       "3775      203775          0  49.0     Self Enquiry         1             17.0   \n",
       "3845      203845          0  56.0     Self Enquiry         2             33.0   \n",
       "4079      204079          0  51.0     Self Enquiry         1             18.0   \n",
       "4104      204104          0  53.0     Self Enquiry         1              7.0   \n",
       "4482      204482          1  56.0     Self Enquiry         1              9.0   \n",
       "4660      204660          0  42.0  Company Invited         1             14.0   \n",
       "4663      204663          1  53.0     Self Enquiry         3              9.0   \n",
       "4684      204684          0  47.0     Self Enquiry         1              7.0   \n",
       "4765      204765          0  57.0     Self Enquiry         1             11.0   \n",
       "4812      204812          0  44.0     Self Enquiry         1             10.0   \n",
       "4832      204832          1  52.0  Company Invited         1             35.0   \n",
       "4870      204870          1  57.0     Self Enquiry         3             23.0   \n",
       "\n",
       "          Occupation  Gender  NumberOfPersonVisiting  NumberOfFollowups  \\\n",
       "38          Salaried  Female                       2                4.0   \n",
       "2609        Salaried  Female                       3                4.0   \n",
       "2634        Salaried    Male                       4                5.0   \n",
       "3012  Small Business    Male                       4                4.0   \n",
       "3190        Salaried  Female                       3                6.0   \n",
       "3193  Small Business  Female                       3                6.0   \n",
       "3214  Small Business    Male                       3                4.0   \n",
       "3295  Large Business  Female                       4                4.0   \n",
       "3342        Salaried    Male                       4                6.0   \n",
       "3362        Salaried    Male                       3                4.0   \n",
       "3400        Salaried    Male                       3                4.0   \n",
       "3453  Small Business  Female                       4                4.0   \n",
       "3598        Salaried  Female                       4                4.0   \n",
       "3686  Small Business    Male                       3                4.0   \n",
       "3775        Salaried    Male                       4                5.0   \n",
       "3845        Salaried    Male                       4                2.0   \n",
       "4079        Salaried  Female                       3                4.0   \n",
       "4104        Salaried    Male                       4                5.0   \n",
       "4482  Small Business    Male                       4                4.0   \n",
       "4660        Salaried  Female                       3                6.0   \n",
       "4663  Small Business  Female                       3                6.0   \n",
       "4684  Small Business    Male                       3                4.0   \n",
       "4765  Large Business  Female                       4                4.0   \n",
       "4812        Salaried    Male                       4                6.0   \n",
       "4832        Salaried    Male                       4                5.0   \n",
       "4870        Salaried  Female                       4                4.0   \n",
       "\n",
       "     ProductPitched  PreferredPropertyStar MaritalStatus  NumberOfTrips  \\\n",
       "38            Basic                    NaN      Divorced            1.0   \n",
       "2609           King                    NaN        Single            5.0   \n",
       "2634           King                    NaN      Divorced            2.0   \n",
       "3012           King                    NaN      Divorced            7.0   \n",
       "3190           King                    NaN       Married            3.0   \n",
       "3193           King                    NaN      Divorced            3.0   \n",
       "3214           King                    NaN       Married            2.0   \n",
       "3295           King                    NaN       Married            6.0   \n",
       "3342           King                    NaN      Divorced            5.0   \n",
       "3362           King                    NaN       Married            6.0   \n",
       "3400           King                    NaN        Single            8.0   \n",
       "3453           King                    NaN      Divorced            5.0   \n",
       "3598           King                    NaN       Married            5.0   \n",
       "3686           King                    NaN        Single            3.0   \n",
       "3775           King                    NaN       Married            6.0   \n",
       "3845           King                    NaN       Married            6.0   \n",
       "4079           King                    NaN        Single            5.0   \n",
       "4104           King                    NaN       Married            2.0   \n",
       "4482           King                    NaN       Married            7.0   \n",
       "4660           King                    NaN       Married            3.0   \n",
       "4663           King                    NaN       Married            3.0   \n",
       "4684           King                    NaN       Married            2.0   \n",
       "4765           King                    NaN       Married            6.0   \n",
       "4812           King                    NaN       Married            5.0   \n",
       "4832         Deluxe                    NaN        Single            5.0   \n",
       "4870       Standard                    NaN        Single            4.0   \n",
       "\n",
       "      Passport  PitchSatisfactionScore  OwnCar  NumberOfChildrenVisiting  \\\n",
       "38           1                       2       1                       0.0   \n",
       "2609         0                       5       1                       1.0   \n",
       "2634         0                       2       1                       2.0   \n",
       "3012         1                       2       1                       3.0   \n",
       "3190         0                       4       1                       1.0   \n",
       "3193         0                       3       1                       1.0   \n",
       "3214         0                       5       1                       2.0   \n",
       "3295         0                       4       0                       3.0   \n",
       "3342         0                       5       1                       3.0   \n",
       "3362         1                       4       1                       2.0   \n",
       "3400         0                       4       1                       1.0   \n",
       "3453         1                       1       1                       3.0   \n",
       "3598         0                       4       1                       2.0   \n",
       "3686         0                       4       1                       2.0   \n",
       "3775         0                       3       1                       2.0   \n",
       "3845         1                       5       1                       3.0   \n",
       "4079         0                       5       0                       2.0   \n",
       "4104         0                       1       1                       3.0   \n",
       "4482         1                       1       1                       1.0   \n",
       "4660         0                       4       1                       2.0   \n",
       "4663         0                       3       1                       2.0   \n",
       "4684         0                       5       1                       1.0   \n",
       "4765         0                       4       1                       2.0   \n",
       "4812         0                       5       1                       1.0   \n",
       "4832         0                       3       0                       1.0   \n",
       "4870         1                       5       1                       3.0   \n",
       "\n",
       "         Designation  MonthlyIncome  \n",
       "38         Executive        95000.0  \n",
       "2609              VP        38604.0  \n",
       "2634              VP        38677.0  \n",
       "3012              VP        38537.0  \n",
       "3190              VP        38651.0  \n",
       "3193              VP        38523.0  \n",
       "3214              VP        38305.0  \n",
       "3295              VP        38621.0  \n",
       "3342              VP        38418.0  \n",
       "3362              VP        38525.0  \n",
       "3400              VP        38395.0  \n",
       "3453              VP        38379.0  \n",
       "3598              VP        38336.0  \n",
       "3686              VP        38511.0  \n",
       "3775              VP        38343.0  \n",
       "3845              VP        38314.0  \n",
       "4079              VP        38604.0  \n",
       "4104              VP        38677.0  \n",
       "4482              VP        38537.0  \n",
       "4660              VP        38651.0  \n",
       "4663              VP        38523.0  \n",
       "4684              VP        38305.0  \n",
       "4765              VP        38621.0  \n",
       "4812              VP        38418.0  \n",
       "4832         Manager        38525.0  \n",
       "4870  Senior Manager        38395.0  "
      ]
     },
     "execution_count": 73,
     "metadata": {},
     "output_type": "execute_result"
    }
   ],
   "source": [
    "PPSNull"
   ]
  },
  {
   "cell_type": "code",
   "execution_count": 74,
   "metadata": {},
   "outputs": [
    {
     "data": {
      "text/plain": [
       "ProductPitched\n",
       "Basic           3.0\n",
       "Deluxe          3.0\n",
       "King            3.0\n",
       "Standard        3.0\n",
       "Super Deluxe    3.0\n",
       "Name: PreferredPropertyStar, dtype: float64"
      ]
     },
     "execution_count": 74,
     "metadata": {},
     "output_type": "execute_result"
    }
   ],
   "source": [
    "#Group Preferred Property Star data by Product pitched\n",
    "data.groupby(['ProductPitched'])['PreferredPropertyStar'].median()"
   ]
  },
  {
   "cell_type": "code",
   "execution_count": 75,
   "metadata": {},
   "outputs": [
    {
     "data": {
      "text/plain": [
       "0"
      ]
     },
     "execution_count": 75,
     "metadata": {},
     "output_type": "execute_result"
    }
   ],
   "source": [
    "#Impute Median (3) for Null values\n",
    "data['PreferredPropertyStar'] = data.groupby(['ProductPitched'], sort=False)['PreferredPropertyStar'].apply(lambda x: x.fillna(x.median()))\n",
    "\n",
    "data['PreferredPropertyStar'].isnull().sum()"
   ]
  },
  {
   "cell_type": "code",
   "execution_count": 76,
   "metadata": {},
   "outputs": [
    {
     "data": {
      "text/plain": [
       "ProductPitched  ProdTaken  PreferredPropertyStar\n",
       "Basic           0          3.0                      837\n",
       "                           4.0                      254\n",
       "                           5.0                      199\n",
       "                1          3.0                      282\n",
       "                           5.0                      156\n",
       "                           4.0                      114\n",
       "Deluxe          0          3.0                      976\n",
       "                           4.0                      276\n",
       "                           5.0                      276\n",
       "                1          3.0                      115\n",
       "                           5.0                       53\n",
       "                           4.0                       36\n",
       "King            0          3.0                      150\n",
       "                           4.0                       33\n",
       "                           5.0                       27\n",
       "                1          3.0                       10\n",
       "                           4.0                        8\n",
       "                           5.0                        2\n",
       "Standard        0          3.0                      368\n",
       "                           5.0                      140\n",
       "                           4.0                      110\n",
       "                1          3.0                       69\n",
       "                           5.0                       35\n",
       "                           4.0                       20\n",
       "Super Deluxe    0          3.0                      200\n",
       "                           5.0                       64\n",
       "                           4.0                       58\n",
       "                1          3.0                       12\n",
       "                           4.0                        4\n",
       "                           5.0                        4\n",
       "Name: PreferredPropertyStar, dtype: int64"
      ]
     },
     "execution_count": 76,
     "metadata": {},
     "output_type": "execute_result"
    }
   ],
   "source": [
    "# Compute the number of products purchased by product pitched\n",
    "data.groupby(['ProductPitched','ProdTaken'])['PreferredPropertyStar'].value_counts()"
   ]
  },
  {
   "cell_type": "code",
   "execution_count": 77,
   "metadata": {},
   "outputs": [
    {
     "data": {
      "text/plain": [
       "ProductPitched  ProdTaken  PreferredPropertyStar\n",
       "Basic           0          3.0                      64.883721\n",
       "                           4.0                      19.689922\n",
       "                           5.0                      15.426357\n",
       "                1          3.0                      51.086957\n",
       "                           5.0                      28.260870\n",
       "                           4.0                      20.652174\n",
       "Deluxe          0          3.0                      63.874346\n",
       "                           4.0                      18.062827\n",
       "                           5.0                      18.062827\n",
       "                1          3.0                      56.372549\n",
       "                           5.0                      25.980392\n",
       "                           4.0                      17.647059\n",
       "King            0          3.0                      71.428571\n",
       "                           4.0                      15.714286\n",
       "                           5.0                      12.857143\n",
       "                1          3.0                      50.000000\n",
       "                           4.0                      40.000000\n",
       "                           5.0                      10.000000\n",
       "Standard        0          3.0                      59.546926\n",
       "                           5.0                      22.653722\n",
       "                           4.0                      17.799353\n",
       "                1          3.0                      55.645161\n",
       "                           5.0                      28.225806\n",
       "                           4.0                      16.129032\n",
       "Super Deluxe    0          3.0                      62.111801\n",
       "                           5.0                      19.875776\n",
       "                           4.0                      18.012422\n",
       "                1          3.0                      60.000000\n",
       "                           4.0                      20.000000\n",
       "                           5.0                      20.000000\n",
       "Name: PreferredPropertyStar, dtype: float64"
      ]
     },
     "execution_count": 77,
     "metadata": {},
     "output_type": "execute_result"
    }
   ],
   "source": [
    "data.groupby(['ProductPitched','ProdTaken'])['PreferredPropertyStar'].value_counts(normalize=True)*100"
   ]
  },
  {
   "cell_type": "code",
   "execution_count": 78,
   "metadata": {},
   "outputs": [
    {
     "data": {
      "text/plain": [
       "ProdTaken  PreferredPropertyStar\n",
       "0          3.0                      63.785282\n",
       "           4.0                      18.422379\n",
       "           5.0                      17.792339\n",
       "1          3.0                      53.043478\n",
       "           5.0                      27.173913\n",
       "           4.0                      19.782609\n",
       "Name: PreferredPropertyStar, dtype: float64"
      ]
     },
     "execution_count": 78,
     "metadata": {},
     "output_type": "execute_result"
    }
   ],
   "source": [
    "data.groupby(['ProdTaken'])['PreferredPropertyStar'].value_counts(normalize=True)*100"
   ]
  },
  {
   "cell_type": "code",
   "execution_count": 79,
   "metadata": {},
   "outputs": [
    {
     "data": {
      "text/plain": [
       "PreferredPropertyStar  ProdTaken\n",
       "3.0                    0            83.835707\n",
       "                       1            16.164293\n",
       "4.0                    0            80.065717\n",
       "                       1            19.934283\n",
       "5.0                    0            73.849372\n",
       "                       1            26.150628\n",
       "Name: ProdTaken, dtype: float64"
      ]
     },
     "execution_count": 79,
     "metadata": {},
     "output_type": "execute_result"
    }
   ],
   "source": [
    "data.groupby(['PreferredPropertyStar'])['ProdTaken'].value_counts(normalize=True)*100"
   ]
  },
  {
   "cell_type": "code",
   "execution_count": 80,
   "metadata": {},
   "outputs": [
    {
     "data": {
      "text/plain": [
       "ProductPitched  ProdTaken  PreferredPropertyStar\n",
       "Basic           0          3.0                      64.883721\n",
       "                           4.0                      19.689922\n",
       "                           5.0                      15.426357\n",
       "                1          3.0                      51.086957\n",
       "                           5.0                      28.260870\n",
       "                           4.0                      20.652174\n",
       "Deluxe          0          3.0                      63.874346\n",
       "                           4.0                      18.062827\n",
       "                           5.0                      18.062827\n",
       "                1          3.0                      56.372549\n",
       "                           5.0                      25.980392\n",
       "                           4.0                      17.647059\n",
       "King            0          3.0                      71.428571\n",
       "                           4.0                      15.714286\n",
       "                           5.0                      12.857143\n",
       "                1          3.0                      50.000000\n",
       "                           4.0                      40.000000\n",
       "                           5.0                      10.000000\n",
       "Standard        0          3.0                      59.546926\n",
       "                           5.0                      22.653722\n",
       "                           4.0                      17.799353\n",
       "                1          3.0                      55.645161\n",
       "                           5.0                      28.225806\n",
       "                           4.0                      16.129032\n",
       "Super Deluxe    0          3.0                      62.111801\n",
       "                           5.0                      19.875776\n",
       "                           4.0                      18.012422\n",
       "                1          3.0                      60.000000\n",
       "                           4.0                      20.000000\n",
       "                           5.0                      20.000000\n",
       "Name: PreferredPropertyStar, dtype: float64"
      ]
     },
     "execution_count": 80,
     "metadata": {},
     "output_type": "execute_result"
    }
   ],
   "source": [
    "data.groupby(['ProductPitched','ProdTaken'])['PreferredPropertyStar'].value_counts(normalize=True)*100"
   ]
  },
  {
   "cell_type": "markdown",
   "metadata": {},
   "source": [
    "#### Insights - 'PreferredPropertyStar'\n",
    "    - 26 missing values replaced with median 3\n",
    "    - The median preferred property star is 3 regardless of product pitched\n",
    "    - Basic and Deluxe products are pitched most frequently regardless of Property star value\n",
    "    - Before null replacement, Customers star proprties as follow: 3:62%;4:19%; 5:20%\n",
    "    - ProdTaken Basic:3:51%; 5:38%; 4:20%; Deluxe:3:56%; 5:26%; 4:18%; King:3:50%;4:40%; 5:10%; Standard:3:56%; 5:28%; 4:16%; Super Deluxe:3:60%; 4:20%; 5:20%\n",
    "    - Preferred Property star and rate of purchase: 3:16%; 4:20%; 5:26% \n",
    "    - Preferred property star appears to influence product purchase\n",
    "    "
   ]
  },
  {
   "cell_type": "markdown",
   "metadata": {},
   "source": [
    "#### Variable 'Marital Status' Analysis"
   ]
  },
  {
   "cell_type": "code",
   "execution_count": 81,
   "metadata": {},
   "outputs": [
    {
     "data": {
      "text/plain": [
       "Married      2340\n",
       "Divorced      950\n",
       "Single        916\n",
       "Unmarried     682\n",
       "Name: MaritalStatus, dtype: int64"
      ]
     },
     "execution_count": 81,
     "metadata": {},
     "output_type": "execute_result"
    }
   ],
   "source": [
    "data['MaritalStatus'].value_counts()"
   ]
  },
  {
   "cell_type": "code",
   "execution_count": 82,
   "metadata": {},
   "outputs": [],
   "source": [
    "#Replace Single with Unmarried\n",
    "data['MaritalStatus'].replace('Single','Unmarried', regex = True, inplace =True)"
   ]
  },
  {
   "cell_type": "code",
   "execution_count": 83,
   "metadata": {},
   "outputs": [
    {
     "data": {
      "text/plain": [
       "Married      2340\n",
       "Unmarried    1598\n",
       "Divorced      950\n",
       "Name: MaritalStatus, dtype: int64"
      ]
     },
     "execution_count": 83,
     "metadata": {},
     "output_type": "execute_result"
    }
   ],
   "source": [
    "data['MaritalStatus'].value_counts()"
   ]
  },
  {
   "cell_type": "code",
   "execution_count": 84,
   "metadata": {},
   "outputs": [
    {
     "data": {
      "text/plain": [
       "MaritalStatus  ProdTaken\n",
       "Divorced       0            86.947368\n",
       "               1            13.052632\n",
       "Married        0            86.068376\n",
       "               1            13.931624\n",
       "Unmarried      0            70.588235\n",
       "               1            29.411765\n",
       "Name: ProdTaken, dtype: float64"
      ]
     },
     "execution_count": 84,
     "metadata": {},
     "output_type": "execute_result"
    }
   ],
   "source": [
    "\n",
    "data.groupby(['MaritalStatus'])['ProdTaken'].value_counts(normalize=True)*100"
   ]
  },
  {
   "cell_type": "code",
   "execution_count": 85,
   "metadata": {},
   "outputs": [
    {
     "data": {
      "text/plain": [
       "Unmarried    52.12766\n",
       "Married      47.87234\n",
       "Name: MaritalStatus, dtype: float64"
      ]
     },
     "execution_count": 85,
     "metadata": {},
     "output_type": "execute_result"
    }
   ],
   "source": [
    "#Divorced and Unmarried have the same rate of purchase and are essentially the same status, therefore combine into one value: Unmarried\n",
    "data['MaritalStatus'].replace('Divorced','Unmarried', regex = True, inplace =True)\n",
    "data['MaritalStatus'].value_counts(normalize=True)*100"
   ]
  },
  {
   "cell_type": "code",
   "execution_count": 86,
   "metadata": {},
   "outputs": [
    {
     "data": {
      "text/plain": [
       "MaritalStatus  ProdTaken\n",
       "Married        0            86.068376\n",
       "               1            13.931624\n",
       "Unmarried      0            76.687598\n",
       "               1            23.312402\n",
       "Name: ProdTaken, dtype: float64"
      ]
     },
     "execution_count": 86,
     "metadata": {},
     "output_type": "execute_result"
    }
   ],
   "source": [
    "data.groupby(['MaritalStatus'])['ProdTaken'].value_counts(normalize=True)*100"
   ]
  },
  {
   "cell_type": "code",
   "execution_count": 87,
   "metadata": {},
   "outputs": [
    {
     "data": {
      "text/plain": [
       "ProductPitched  MaritalStatus  ProdTaken\n",
       "Basic           Married        0            628\n",
       "                               1            188\n",
       "                Unmarried      0            662\n",
       "                               1            364\n",
       "Deluxe          Married        0            784\n",
       "                               1             68\n",
       "                Unmarried      0            744\n",
       "                               1            136\n",
       "King            Married        0            120\n",
       "                               1              6\n",
       "                Unmarried      0             90\n",
       "                               1             14\n",
       "Standard        Married        0            324\n",
       "                               1             56\n",
       "                Unmarried      0            294\n",
       "                               1             68\n",
       "Super Deluxe    Married        0            158\n",
       "                               1              8\n",
       "                Unmarried      0            164\n",
       "                               1             12\n",
       "Name: ProdTaken, dtype: int64"
      ]
     },
     "execution_count": 87,
     "metadata": {},
     "output_type": "execute_result"
    }
   ],
   "source": [
    "# Compute the number of products taken purchased by product pitched\n",
    "data.groupby(['ProductPitched','MaritalStatus'])['ProdTaken'].value_counts()"
   ]
  },
  {
   "cell_type": "code",
   "execution_count": 88,
   "metadata": {},
   "outputs": [
    {
     "data": {
      "text/plain": [
       "ProductPitched  MaritalStatus  ProdTaken\n",
       "Basic           Married        0            76.960784\n",
       "                               1            23.039216\n",
       "                Unmarried      0            64.522417\n",
       "                               1            35.477583\n",
       "Deluxe          Married        0            92.018779\n",
       "                               1             7.981221\n",
       "                Unmarried      0            84.545455\n",
       "                               1            15.454545\n",
       "King            Married        0            95.238095\n",
       "                               1             4.761905\n",
       "                Unmarried      0            86.538462\n",
       "                               1            13.461538\n",
       "Standard        Married        0            85.263158\n",
       "                               1            14.736842\n",
       "                Unmarried      0            81.215470\n",
       "                               1            18.784530\n",
       "Super Deluxe    Married        0            95.180723\n",
       "                               1             4.819277\n",
       "                Unmarried      0            93.181818\n",
       "                               1             6.818182\n",
       "Name: ProdTaken, dtype: float64"
      ]
     },
     "execution_count": 88,
     "metadata": {},
     "output_type": "execute_result"
    }
   ],
   "source": [
    "# Compute the number of products taken purchased by product pitched\n",
    "data.groupby(['ProductPitched','MaritalStatus'])['ProdTaken'].value_counts(normalize=True)*100"
   ]
  },
  {
   "cell_type": "code",
   "execution_count": 89,
   "metadata": {},
   "outputs": [
    {
     "data": {
      "text/plain": [
       "ProductPitched  MaritalStatus\n",
       "Basic           Unmarried        1026\n",
       "                Married           816\n",
       "Deluxe          Unmarried         880\n",
       "                Married           852\n",
       "King            Married           126\n",
       "                Unmarried         104\n",
       "Standard        Married           380\n",
       "                Unmarried         362\n",
       "Super Deluxe    Unmarried         176\n",
       "                Married           166\n",
       "Name: MaritalStatus, dtype: int64"
      ]
     },
     "execution_count": 89,
     "metadata": {},
     "output_type": "execute_result"
    }
   ],
   "source": [
    "#Group Marital Status data by Product pitched\n",
    "data.groupby(['ProductPitched'])['MaritalStatus'].value_counts()"
   ]
  },
  {
   "cell_type": "code",
   "execution_count": 90,
   "metadata": {},
   "outputs": [
    {
     "data": {
      "text/plain": [
       "ProductPitched  MaritalStatus\n",
       "Basic           Unmarried        55.700326\n",
       "                Married          44.299674\n",
       "Deluxe          Unmarried        50.808314\n",
       "                Married          49.191686\n",
       "King            Married          54.782609\n",
       "                Unmarried        45.217391\n",
       "Standard        Married          51.212938\n",
       "                Unmarried        48.787062\n",
       "Super Deluxe    Unmarried        51.461988\n",
       "                Married          48.538012\n",
       "Name: MaritalStatus, dtype: float64"
      ]
     },
     "execution_count": 90,
     "metadata": {},
     "output_type": "execute_result"
    }
   ],
   "source": [
    "#Group Marital Status data by Product pitched\n",
    "data.groupby(['ProductPitched'])['MaritalStatus'].value_counts(normalize=True)*100"
   ]
  },
  {
   "cell_type": "markdown",
   "metadata": {},
   "source": [
    "#### Insights - Marital Status\n",
    "- Combined 3 values, Single, Divorced, Unmarried into one value: Unmarried\n",
    "NOTE: In this line of reasoning, I differ from the FAQ's as I beleive that treating unmarried and single as two separate options introduces ambiguity to the data point: it assumes that the person collecting the data understands the slight difference in meaning; therefore, I combined unmarried and single to one option thereby eliminating this ambiguity.\n",
    "- Unmarried:Married = 52%:48%\n",
    "- Unmarried:Married ProdTaken = 23%:14%\n",
    "- ProdPitched:Marritalstatus:ProdTaken - Basic:Unmarried: 35% ; Married:23%; Deluxe: Unmarried:7%;Married: 15%; King: Unmarried:5%; Married:13%; Standard: Unmarried: 19%; Married: 15%; Super Deluxe: Unmarried: 7%; Married: 5%\n",
    "- Married are more likely to purchase Deluxe.\n"
   ]
  },
  {
   "cell_type": "markdown",
   "metadata": {},
   "source": [
    "#### Variable 'Number of Trips' Analysis"
   ]
  },
  {
   "cell_type": "code",
   "execution_count": 91,
   "metadata": {},
   "outputs": [
    {
     "data": {
      "text/plain": [
       "<AxesSubplot:xlabel='NumberOfTrips'>"
      ]
     },
     "execution_count": 91,
     "metadata": {},
     "output_type": "execute_result"
    },
    {
     "data": {
      "image/png": "[encoded data removed]",
      "text/plain": [
       "<Figure size 432x288 with 1 Axes>"
      ]
     },
     "metadata": {
      "needs_background": "light"
     },
     "output_type": "display_data"
    }
   ],
   "source": [
    "#Check Distribution of data\n",
    "sns.boxplot(data = data, x='NumberOfTrips')"
   ]
  },
  {
   "cell_type": "code",
   "execution_count": 92,
   "metadata": {},
   "outputs": [
    {
     "data": {
      "text/plain": [
       "(140, 20)"
      ]
     },
     "execution_count": 92,
     "metadata": {},
     "output_type": "execute_result"
    }
   ],
   "source": [
    "#View rows will Number of trips  is null\n",
    "NOT_Null = data[data['NumberOfTrips'].isna()]\n",
    "NOT_Null.shape"
   ]
  },
  {
   "cell_type": "code",
   "execution_count": 93,
   "metadata": {},
   "outputs": [
    {
     "data": {
      "text/html": [
       "<div>\n",
       "<style scoped>\n",
       "    .dataframe tbody tr th:only-of-type {\n",
       "        vertical-align: middle;\n",
       "    }\n",
       "\n",
       "    .dataframe tbody tr th {\n",
       "        vertical-align: top;\n",
       "    }\n",
       "\n",
       "    .dataframe thead th {\n",
       "        text-align: right;\n",
       "    }\n",
       "</style>\n",
       "<table border=\"1\" class=\"dataframe\">\n",
       "  <thead>\n",
       "    <tr style=\"text-align: right;\">\n",
       "      <th></th>\n",
       "      <th>CustomerID</th>\n",
       "      <th>ProdTaken</th>\n",
       "      <th>Age</th>\n",
       "      <th>TypeofContact</th>\n",
       "      <th>CityTier</th>\n",
       "      <th>DurationOfPitch</th>\n",
       "      <th>Occupation</th>\n",
       "      <th>Gender</th>\n",
       "      <th>NumberOfPersonVisiting</th>\n",
       "      <th>NumberOfFollowups</th>\n",
       "      <th>ProductPitched</th>\n",
       "      <th>PreferredPropertyStar</th>\n",
       "      <th>MaritalStatus</th>\n",
       "      <th>NumberOfTrips</th>\n",
       "      <th>Passport</th>\n",
       "      <th>PitchSatisfactionScore</th>\n",
       "      <th>OwnCar</th>\n",
       "      <th>NumberOfChildrenVisiting</th>\n",
       "      <th>Designation</th>\n",
       "      <th>MonthlyIncome</th>\n",
       "    </tr>\n",
       "  </thead>\n",
       "  <tbody>\n",
       "    <tr>\n",
       "      <th>2469</th>\n",
       "      <td>202469</td>\n",
       "      <td>0</td>\n",
       "      <td>54.0</td>\n",
       "      <td>Self Enquiry</td>\n",
       "      <td>1</td>\n",
       "      <td>12.0</td>\n",
       "      <td>Salaried</td>\n",
       "      <td>Female</td>\n",
       "      <td>3</td>\n",
       "      <td>4.0</td>\n",
       "      <td>King</td>\n",
       "      <td>3.0</td>\n",
       "      <td>Married</td>\n",
       "      <td>NaN</td>\n",
       "      <td>0</td>\n",
       "      <td>5</td>\n",
       "      <td>0</td>\n",
       "      <td>2.0</td>\n",
       "      <td>VP</td>\n",
       "      <td>37772.0</td>\n",
       "    </tr>\n",
       "    <tr>\n",
       "      <th>2473</th>\n",
       "      <td>202473</td>\n",
       "      <td>0</td>\n",
       "      <td>47.0</td>\n",
       "      <td>Self Enquiry</td>\n",
       "      <td>3</td>\n",
       "      <td>9.0</td>\n",
       "      <td>Small Business</td>\n",
       "      <td>Female</td>\n",
       "      <td>3</td>\n",
       "      <td>4.0</td>\n",
       "      <td>King</td>\n",
       "      <td>5.0</td>\n",
       "      <td>Unmarried</td>\n",
       "      <td>NaN</td>\n",
       "      <td>0</td>\n",
       "      <td>2</td>\n",
       "      <td>0</td>\n",
       "      <td>2.0</td>\n",
       "      <td>VP</td>\n",
       "      <td>37625.0</td>\n",
       "    </tr>\n",
       "    <tr>\n",
       "      <th>2506</th>\n",
       "      <td>202506</td>\n",
       "      <td>0</td>\n",
       "      <td>51.0</td>\n",
       "      <td>Self Enquiry</td>\n",
       "      <td>1</td>\n",
       "      <td>14.0</td>\n",
       "      <td>Small Business</td>\n",
       "      <td>Female</td>\n",
       "      <td>3</td>\n",
       "      <td>5.0</td>\n",
       "      <td>King</td>\n",
       "      <td>3.0</td>\n",
       "      <td>Married</td>\n",
       "      <td>NaN</td>\n",
       "      <td>1</td>\n",
       "      <td>4</td>\n",
       "      <td>1</td>\n",
       "      <td>2.0</td>\n",
       "      <td>VP</td>\n",
       "      <td>37418.0</td>\n",
       "    </tr>\n",
       "    <tr>\n",
       "      <th>2549</th>\n",
       "      <td>202549</td>\n",
       "      <td>0</td>\n",
       "      <td>60.0</td>\n",
       "      <td>Company Invited</td>\n",
       "      <td>2</td>\n",
       "      <td>9.0</td>\n",
       "      <td>Salaried</td>\n",
       "      <td>Female</td>\n",
       "      <td>3</td>\n",
       "      <td>5.0</td>\n",
       "      <td>King</td>\n",
       "      <td>3.0</td>\n",
       "      <td>Unmarried</td>\n",
       "      <td>NaN</td>\n",
       "      <td>0</td>\n",
       "      <td>2</td>\n",
       "      <td>1</td>\n",
       "      <td>2.0</td>\n",
       "      <td>VP</td>\n",
       "      <td>37522.0</td>\n",
       "    </tr>\n",
       "    <tr>\n",
       "      <th>2550</th>\n",
       "      <td>202550</td>\n",
       "      <td>0</td>\n",
       "      <td>51.0</td>\n",
       "      <td>Company Invited</td>\n",
       "      <td>1</td>\n",
       "      <td>7.0</td>\n",
       "      <td>Salaried</td>\n",
       "      <td>Female</td>\n",
       "      <td>4</td>\n",
       "      <td>4.0</td>\n",
       "      <td>King</td>\n",
       "      <td>4.0</td>\n",
       "      <td>Unmarried</td>\n",
       "      <td>NaN</td>\n",
       "      <td>1</td>\n",
       "      <td>2</td>\n",
       "      <td>0</td>\n",
       "      <td>3.0</td>\n",
       "      <td>VP</td>\n",
       "      <td>36850.0</td>\n",
       "    </tr>\n",
       "    <tr>\n",
       "      <th>...</th>\n",
       "      <td>...</td>\n",
       "      <td>...</td>\n",
       "      <td>...</td>\n",
       "      <td>...</td>\n",
       "      <td>...</td>\n",
       "      <td>...</td>\n",
       "      <td>...</td>\n",
       "      <td>...</td>\n",
       "      <td>...</td>\n",
       "      <td>...</td>\n",
       "      <td>...</td>\n",
       "      <td>...</td>\n",
       "      <td>...</td>\n",
       "      <td>...</td>\n",
       "      <td>...</td>\n",
       "      <td>...</td>\n",
       "      <td>...</td>\n",
       "      <td>...</td>\n",
       "      <td>...</td>\n",
       "      <td>...</td>\n",
       "    </tr>\n",
       "    <tr>\n",
       "      <th>4836</th>\n",
       "      <td>204836</td>\n",
       "      <td>1</td>\n",
       "      <td>45.0</td>\n",
       "      <td>Self Enquiry</td>\n",
       "      <td>3</td>\n",
       "      <td>16.0</td>\n",
       "      <td>Salaried</td>\n",
       "      <td>Male</td>\n",
       "      <td>4</td>\n",
       "      <td>5.0</td>\n",
       "      <td>Basic</td>\n",
       "      <td>5.0</td>\n",
       "      <td>Married</td>\n",
       "      <td>NaN</td>\n",
       "      <td>0</td>\n",
       "      <td>1</td>\n",
       "      <td>1</td>\n",
       "      <td>3.0</td>\n",
       "      <td>Executive</td>\n",
       "      <td>37868.0</td>\n",
       "    </tr>\n",
       "    <tr>\n",
       "      <th>4850</th>\n",
       "      <td>204850</td>\n",
       "      <td>1</td>\n",
       "      <td>46.0</td>\n",
       "      <td>Self Enquiry</td>\n",
       "      <td>3</td>\n",
       "      <td>8.0</td>\n",
       "      <td>Salaried</td>\n",
       "      <td>Male</td>\n",
       "      <td>4</td>\n",
       "      <td>5.0</td>\n",
       "      <td>Deluxe</td>\n",
       "      <td>5.0</td>\n",
       "      <td>Married</td>\n",
       "      <td>NaN</td>\n",
       "      <td>0</td>\n",
       "      <td>4</td>\n",
       "      <td>1</td>\n",
       "      <td>3.0</td>\n",
       "      <td>Manager</td>\n",
       "      <td>36739.0</td>\n",
       "    </tr>\n",
       "    <tr>\n",
       "      <th>4851</th>\n",
       "      <td>204851</td>\n",
       "      <td>1</td>\n",
       "      <td>40.0</td>\n",
       "      <td>Self Enquiry</td>\n",
       "      <td>1</td>\n",
       "      <td>9.0</td>\n",
       "      <td>Salaried</td>\n",
       "      <td>Female</td>\n",
       "      <td>4</td>\n",
       "      <td>4.0</td>\n",
       "      <td>Basic</td>\n",
       "      <td>5.0</td>\n",
       "      <td>Married</td>\n",
       "      <td>NaN</td>\n",
       "      <td>1</td>\n",
       "      <td>1</td>\n",
       "      <td>1</td>\n",
       "      <td>1.0</td>\n",
       "      <td>Executive</td>\n",
       "      <td>35801.0</td>\n",
       "    </tr>\n",
       "    <tr>\n",
       "      <th>4868</th>\n",
       "      <td>204868</td>\n",
       "      <td>1</td>\n",
       "      <td>43.0</td>\n",
       "      <td>Company Invited</td>\n",
       "      <td>2</td>\n",
       "      <td>15.0</td>\n",
       "      <td>Salaried</td>\n",
       "      <td>Female</td>\n",
       "      <td>4</td>\n",
       "      <td>5.0</td>\n",
       "      <td>Basic</td>\n",
       "      <td>3.0</td>\n",
       "      <td>Married</td>\n",
       "      <td>NaN</td>\n",
       "      <td>0</td>\n",
       "      <td>5</td>\n",
       "      <td>1</td>\n",
       "      <td>2.0</td>\n",
       "      <td>Executive</td>\n",
       "      <td>36539.0</td>\n",
       "    </tr>\n",
       "    <tr>\n",
       "      <th>4869</th>\n",
       "      <td>204869</td>\n",
       "      <td>1</td>\n",
       "      <td>56.0</td>\n",
       "      <td>Self Enquiry</td>\n",
       "      <td>3</td>\n",
       "      <td>16.0</td>\n",
       "      <td>Small Business</td>\n",
       "      <td>Female</td>\n",
       "      <td>3</td>\n",
       "      <td>6.0</td>\n",
       "      <td>Basic</td>\n",
       "      <td>4.0</td>\n",
       "      <td>Unmarried</td>\n",
       "      <td>NaN</td>\n",
       "      <td>0</td>\n",
       "      <td>1</td>\n",
       "      <td>1</td>\n",
       "      <td>2.0</td>\n",
       "      <td>Executive</td>\n",
       "      <td>37865.0</td>\n",
       "    </tr>\n",
       "  </tbody>\n",
       "</table>\n",
       "<p>140 rows × 20 columns</p>\n",
       "</div>"
      ],
      "text/plain": [
       "      CustomerID  ProdTaken   Age    TypeofContact  CityTier  DurationOfPitch  \\\n",
       "2469      202469          0  54.0     Self Enquiry         1             12.0   \n",
       "2473      202473          0  47.0     Self Enquiry         3              9.0   \n",
       "2506      202506          0  51.0     Self Enquiry         1             14.0   \n",
       "2549      202549          0  60.0  Company Invited         2              9.0   \n",
       "2550      202550          0  51.0  Company Invited         1              7.0   \n",
       "...          ...        ...   ...              ...       ...              ...   \n",
       "4836      204836          1  45.0     Self Enquiry         3             16.0   \n",
       "4850      204850          1  46.0     Self Enquiry         3              8.0   \n",
       "4851      204851          1  40.0     Self Enquiry         1              9.0   \n",
       "4868      204868          1  43.0  Company Invited         2             15.0   \n",
       "4869      204869          1  56.0     Self Enquiry         3             16.0   \n",
       "\n",
       "          Occupation  Gender  NumberOfPersonVisiting  NumberOfFollowups  \\\n",
       "2469        Salaried  Female                       3                4.0   \n",
       "2473  Small Business  Female                       3                4.0   \n",
       "2506  Small Business  Female                       3                5.0   \n",
       "2549        Salaried  Female                       3                5.0   \n",
       "2550        Salaried  Female                       4                4.0   \n",
       "...              ...     ...                     ...                ...   \n",
       "4836        Salaried    Male                       4                5.0   \n",
       "4850        Salaried    Male                       4                5.0   \n",
       "4851        Salaried  Female                       4                4.0   \n",
       "4868        Salaried  Female                       4                5.0   \n",
       "4869  Small Business  Female                       3                6.0   \n",
       "\n",
       "     ProductPitched  PreferredPropertyStar MaritalStatus  NumberOfTrips  \\\n",
       "2469           King                    3.0       Married            NaN   \n",
       "2473           King                    5.0     Unmarried            NaN   \n",
       "2506           King                    3.0       Married            NaN   \n",
       "2549           King                    3.0     Unmarried            NaN   \n",
       "2550           King                    4.0     Unmarried            NaN   \n",
       "...             ...                    ...           ...            ...   \n",
       "4836          Basic                    5.0       Married            NaN   \n",
       "4850         Deluxe                    5.0       Married            NaN   \n",
       "4851          Basic                    5.0       Married            NaN   \n",
       "4868          Basic                    3.0       Married            NaN   \n",
       "4869          Basic                    4.0     Unmarried            NaN   \n",
       "\n",
       "      Passport  PitchSatisfactionScore  OwnCar  NumberOfChildrenVisiting  \\\n",
       "2469         0                       5       0                       2.0   \n",
       "2473         0                       2       0                       2.0   \n",
       "2506         1                       4       1                       2.0   \n",
       "2549         0                       2       1                       2.0   \n",
       "2550         1                       2       0                       3.0   \n",
       "...        ...                     ...     ...                       ...   \n",
       "4836         0                       1       1                       3.0   \n",
       "4850         0                       4       1                       3.0   \n",
       "4851         1                       1       1                       1.0   \n",
       "4868         0                       5       1                       2.0   \n",
       "4869         0                       1       1                       2.0   \n",
       "\n",
       "     Designation  MonthlyIncome  \n",
       "2469          VP        37772.0  \n",
       "2473          VP        37625.0  \n",
       "2506          VP        37418.0  \n",
       "2549          VP        37522.0  \n",
       "2550          VP        36850.0  \n",
       "...          ...            ...  \n",
       "4836   Executive        37868.0  \n",
       "4850     Manager        36739.0  \n",
       "4851   Executive        35801.0  \n",
       "4868   Executive        36539.0  \n",
       "4869   Executive        37865.0  \n",
       "\n",
       "[140 rows x 20 columns]"
      ]
     },
     "execution_count": 93,
     "metadata": {},
     "output_type": "execute_result"
    }
   ],
   "source": [
    "NOT_Null"
   ]
  },
  {
   "cell_type": "code",
   "execution_count": 94,
   "metadata": {},
   "outputs": [
    {
     "data": {
      "text/plain": [
       "ProductPitched\n",
       "Basic           3.0\n",
       "Deluxe          3.0\n",
       "King            3.0\n",
       "Standard        3.0\n",
       "Super Deluxe    3.0\n",
       "Name: NumberOfTrips, dtype: float64"
      ]
     },
     "execution_count": 94,
     "metadata": {},
     "output_type": "execute_result"
    }
   ],
   "source": [
    "#Determine Number of Trips median grouped by Product Pitched  \n",
    "data.groupby(['ProductPitched'])['NumberOfTrips'].median()"
   ]
  },
  {
   "cell_type": "code",
   "execution_count": null,
   "metadata": {},
   "outputs": [],
   "source": []
  },
  {
   "cell_type": "code",
   "execution_count": 95,
   "metadata": {},
   "outputs": [
    {
     "data": {
      "text/plain": [
       "count    4748.000000\n",
       "mean        3.236521\n",
       "std         1.849019\n",
       "min         1.000000\n",
       "25%         2.000000\n",
       "50%         3.000000\n",
       "75%         4.000000\n",
       "max        22.000000\n",
       "Name: NumberOfTrips, dtype: float64"
      ]
     },
     "execution_count": 95,
     "metadata": {},
     "output_type": "execute_result"
    }
   ],
   "source": [
    "data['NumberOfTrips'].describe()\n",
    "#Median and Mean are similar; data appears to be somewhat normally distributed"
   ]
  },
  {
   "cell_type": "code",
   "execution_count": 96,
   "metadata": {},
   "outputs": [
    {
     "data": {
      "text/plain": [
       "0"
      ]
     },
     "execution_count": 96,
     "metadata": {},
     "output_type": "execute_result"
    }
   ],
   "source": [
    "# Impute null values with Product pitched group median\n",
    "data['NumberOfTrips'] = data.groupby(['ProductPitched'], sort=False)['NumberOfTrips'].apply(lambda x: x.fillna(x.median()))\n",
    "\n",
    "data['NumberOfTrips'].isnull().sum()"
   ]
  },
  {
   "cell_type": "code",
   "execution_count": 97,
   "metadata": {},
   "outputs": [
    {
     "data": {
      "text/plain": [
       "count    4888.000000\n",
       "mean        3.229746\n",
       "std         1.822769\n",
       "min         1.000000\n",
       "25%         2.000000\n",
       "50%         3.000000\n",
       "75%         4.000000\n",
       "max        22.000000\n",
       "Name: NumberOfTrips, dtype: float64"
      ]
     },
     "execution_count": 97,
     "metadata": {},
     "output_type": "execute_result"
    }
   ],
   "source": [
    "data['NumberOfTrips'].describe()"
   ]
  },
  {
   "cell_type": "code",
   "execution_count": 98,
   "metadata": {},
   "outputs": [
    {
     "data": {
      "text/plain": [
       "<AxesSubplot:xlabel='NumberOfTrips'>"
      ]
     },
     "execution_count": 98,
     "metadata": {},
     "output_type": "execute_result"
    },
    {
     "data": {
      "image/png": "[encoded data removed]",
      "text/plain": [
       "<Figure size 432x288 with 1 Axes>"
      ]
     },
     "metadata": {
      "needs_background": "light"
     },
     "output_type": "display_data"
    }
   ],
   "source": [
    "#Check Distribution of data\n",
    "sns.boxplot(data = data, x='NumberOfTrips')"
   ]
  },
  {
   "cell_type": "code",
   "execution_count": 99,
   "metadata": {},
   "outputs": [
    {
     "data": {
      "image/png": "[encoded data removed]",
      "text/plain": [
       "<Figure size 864x504 with 2 Axes>"
      ]
     },
     "metadata": {
      "needs_background": "light"
     },
     "output_type": "display_data"
    }
   ],
   "source": [
    "histogram_boxplot(data, \"NumberOfTrips\")"
   ]
  },
  {
   "cell_type": "code",
   "execution_count": 100,
   "metadata": {},
   "outputs": [],
   "source": [
    "# Four outliers in data: 19, 20, 21, 22"
   ]
  },
  {
   "cell_type": "code",
   "execution_count": 101,
   "metadata": {},
   "outputs": [
    {
     "data": {
      "text/plain": [
       "ProductPitched\n",
       "Basic           3.0\n",
       "Deluxe          3.0\n",
       "King            3.0\n",
       "Standard        3.0\n",
       "Super Deluxe    3.0\n",
       "Name: NumberOfTrips, dtype: float64"
      ]
     },
     "execution_count": 101,
     "metadata": {},
     "output_type": "execute_result"
    }
   ],
   "source": [
    "data.groupby(['ProductPitched'])['NumberOfTrips'].median()"
   ]
  },
  {
   "cell_type": "code",
   "execution_count": 102,
   "metadata": {},
   "outputs": [
    {
     "data": {
      "text/plain": [
       "ProductPitched  ProdTaken\n",
       "Basic           0            3.0\n",
       "                1            3.0\n",
       "Deluxe          0            3.0\n",
       "                1            3.0\n",
       "King            0            3.0\n",
       "                1            3.0\n",
       "Standard        0            3.0\n",
       "                1            2.5\n",
       "Super Deluxe    0            3.0\n",
       "                1            2.0\n",
       "Name: NumberOfTrips, dtype: float64"
      ]
     },
     "execution_count": 102,
     "metadata": {},
     "output_type": "execute_result"
    }
   ],
   "source": [
    "data.groupby(['ProductPitched','ProdTaken'])['NumberOfTrips'].median()"
   ]
  },
  {
   "cell_type": "raw",
   "metadata": {},
   "source": []
  },
  {
   "cell_type": "code",
   "execution_count": 103,
   "metadata": {},
   "outputs": [
    {
     "data": {
      "text/plain": [
       "2.0     29.950900\n",
       "3.0     24.938625\n",
       "1.0     12.684124\n",
       "4.0      9.779051\n",
       "5.0      9.369885\n",
       "6.0      6.587561\n",
       "7.0      4.459902\n",
       "8.0      2.148118\n",
       "21.0     0.020458\n",
       "19.0     0.020458\n",
       "22.0     0.020458\n",
       "20.0     0.020458\n",
       "Name: NumberOfTrips, dtype: float64"
      ]
     },
     "execution_count": 103,
     "metadata": {},
     "output_type": "execute_result"
    }
   ],
   "source": [
    "data['NumberOfTrips'].value_counts(normalize=True)*100"
   ]
  },
  {
   "cell_type": "code",
   "execution_count": 104,
   "metadata": {},
   "outputs": [
    {
     "data": {
      "text/plain": [
       "NumberOfTrips  ProdTaken\n",
       "1.0            0             81.935484\n",
       "               1             18.064516\n",
       "2.0            0             79.576503\n",
       "               1             20.423497\n",
       "3.0            0             81.214110\n",
       "               1             18.785890\n",
       "4.0            0             87.238494\n",
       "               1             12.761506\n",
       "5.0            0             86.462882\n",
       "               1             13.537118\n",
       "6.0            0             80.124224\n",
       "               1             19.875776\n",
       "7.0            0             71.559633\n",
       "               1             28.440367\n",
       "8.0            0             72.380952\n",
       "               1             27.619048\n",
       "19.0           1            100.000000\n",
       "20.0           1            100.000000\n",
       "21.0           0            100.000000\n",
       "22.0           0            100.000000\n",
       "Name: ProdTaken, dtype: float64"
      ]
     },
     "execution_count": 104,
     "metadata": {},
     "output_type": "execute_result"
    }
   ],
   "source": [
    "data.groupby(['NumberOfTrips'])['ProdTaken'].value_counts(normalize=True)*100"
   ]
  },
  {
   "cell_type": "markdown",
   "metadata": {},
   "source": [
    "#### Insights - Number of Trips\n",
    "    - 140 Null values replaced with Median\n",
    "    - 4 outliers identified: 19, 20, 21, 22: 2 outliers result in ProdTaken; 2 result Prod not taken\n",
    "    - Median Number of Trips (and median for each ProductPitched subset) is 3 trips\n",
    "    - Data is not normally distributed; it is skewed right\n",
    "    - 30% of data points - 2 days, 24% - 3 days, 13% - 1 day; Number of Trips seems to affect ProdTaken for Number of Trips greater than 3; the more trips taken the higher the percentage of prodTaken with 7 and 8 days approximaltey equal at 18.4% and 27.6%, respectively"
   ]
  },
  {
   "cell_type": "markdown",
   "metadata": {},
   "source": [
    "#### Variable 'Passport' Analysis"
   ]
  },
  {
   "cell_type": "code",
   "execution_count": 105,
   "metadata": {},
   "outputs": [
    {
     "data": {
      "text/plain": [
       "0    70.908347\n",
       "1    29.091653\n",
       "Name: Passport, dtype: float64"
      ]
     },
     "execution_count": 105,
     "metadata": {},
     "output_type": "execute_result"
    }
   ],
   "source": [
    "data['Passport'].value_counts(normalize=True)*100"
   ]
  },
  {
   "cell_type": "code",
   "execution_count": 106,
   "metadata": {},
   "outputs": [
    {
     "data": {
      "text/plain": [
       "ProdTaken  Passport\n",
       "0          0           76.612903\n",
       "           1           23.387097\n",
       "1          1           53.695652\n",
       "           0           46.304348\n",
       "Name: Passport, dtype: float64"
      ]
     },
     "execution_count": 106,
     "metadata": {},
     "output_type": "execute_result"
    }
   ],
   "source": [
    "#Understand how many Passport holders buy the product\n",
    "data.groupby(['ProdTaken'])['Passport'].value_counts(normalize=True)*100"
   ]
  },
  {
   "cell_type": "code",
   "execution_count": 107,
   "metadata": {},
   "outputs": [
    {
     "data": {
      "text/plain": [
       "ProductPitched  Passport\n",
       "Basic           0           69.163952\n",
       "                1           30.836048\n",
       "Deluxe          0           72.286374\n",
       "                1           27.713626\n",
       "King            0           73.913043\n",
       "                1           26.086957\n",
       "Standard        0           71.698113\n",
       "                1           28.301887\n",
       "Super Deluxe    0           69.590643\n",
       "                1           30.409357\n",
       "Name: Passport, dtype: float64"
      ]
     },
     "execution_count": 107,
     "metadata": {},
     "output_type": "execute_result"
    }
   ],
   "source": [
    "data.groupby(['ProductPitched'])['Passport'].value_counts(normalize=True)*100"
   ]
  },
  {
   "cell_type": "code",
   "execution_count": 108,
   "metadata": {},
   "outputs": [
    {
     "data": {
      "text/plain": [
       "ProductPitched  Passport  ProdTaken\n",
       "Basic           0         0            81.946625\n",
       "                          1            18.053375\n",
       "                1         1            56.690141\n",
       "                          0            43.309859\n",
       "Deluxe          0         0            91.693291\n",
       "                          1             8.306709\n",
       "                1         0            79.166667\n",
       "                          1            20.833333\n",
       "King            0         0            95.294118\n",
       "                          1             4.705882\n",
       "                1         0            80.000000\n",
       "                          1            20.000000\n",
       "Standard        0         0            85.714286\n",
       "                          1            14.285714\n",
       "                1         0            77.142857\n",
       "                          1            22.857143\n",
       "Super Deluxe    0         0            96.638655\n",
       "                          1             3.361345\n",
       "                1         0            88.461538\n",
       "                          1            11.538462\n",
       "Name: ProdTaken, dtype: float64"
      ]
     },
     "execution_count": 108,
     "metadata": {},
     "output_type": "execute_result"
    }
   ],
   "source": [
    "# Compute the number of products taken purchased by product pitched \n",
    "data.groupby(['ProductPitched','Passport'])['ProdTaken'].value_counts(normalize=True)*100"
   ]
  },
  {
   "cell_type": "code",
   "execution_count": 109,
   "metadata": {},
   "outputs": [
    {
     "data": {
      "text/plain": [
       "Passport  ProdTaken\n",
       "0         0            87.709175\n",
       "          1            12.290825\n",
       "1         0            65.260197\n",
       "          1            34.739803\n",
       "Name: ProdTaken, dtype: float64"
      ]
     },
     "execution_count": 109,
     "metadata": {},
     "output_type": "execute_result"
    }
   ],
   "source": [
    "# Compute the number of products taken purchased by passport \n",
    "data.groupby(['Passport'])['ProdTaken'].value_counts(normalize=True)*100"
   ]
  },
  {
   "cell_type": "code",
   "execution_count": 110,
   "metadata": {},
   "outputs": [
    {
     "data": {
      "text/plain": [
       "Passport  ProductPitched  ProdTaken\n",
       "0         Basic           0            81.946625\n",
       "                          1            18.053375\n",
       "          Deluxe          0            91.693291\n",
       "                          1             8.306709\n",
       "          King            0            95.294118\n",
       "                          1             4.705882\n",
       "          Standard        0            85.714286\n",
       "                          1            14.285714\n",
       "          Super Deluxe    0            96.638655\n",
       "                          1             3.361345\n",
       "1         Basic           1            56.690141\n",
       "                          0            43.309859\n",
       "          Deluxe          0            79.166667\n",
       "                          1            20.833333\n",
       "          King            0            80.000000\n",
       "                          1            20.000000\n",
       "          Standard        0            77.142857\n",
       "                          1            22.857143\n",
       "          Super Deluxe    0            88.461538\n",
       "                          1            11.538462\n",
       "Name: ProdTaken, dtype: float64"
      ]
     },
     "execution_count": 110,
     "metadata": {},
     "output_type": "execute_result"
    }
   ],
   "source": [
    "# Compute the number of products taken purchased by passport\n",
    "data.groupby(['Passport','ProductPitched'])['ProdTaken'].value_counts(normalize=True)*100"
   ]
  },
  {
   "cell_type": "markdown",
   "metadata": {},
   "source": [
    "#### Insights - Passport\n",
    "   - 29% of customers hold passports\n",
    "   - Passportholding does not appeat to greatly impact the product pitched but does appear to affect ProdTaken sepcifically those cusotmers who take the Basic Product"
   ]
  },
  {
   "cell_type": "markdown",
   "metadata": {},
   "source": [
    "#### Variable 'Owns Car' Analysis"
   ]
  },
  {
   "cell_type": "code",
   "execution_count": 111,
   "metadata": {},
   "outputs": [
    {
     "data": {
      "text/plain": [
       "1    62.02946\n",
       "0    37.97054\n",
       "Name: OwnCar, dtype: float64"
      ]
     },
     "execution_count": 111,
     "metadata": {},
     "output_type": "execute_result"
    }
   ],
   "source": [
    "data['OwnCar'].value_counts(normalize=True)*100"
   ]
  },
  {
   "cell_type": "code",
   "execution_count": 112,
   "metadata": {},
   "outputs": [
    {
     "data": {
      "text/plain": [
       "ProdTaken  OwnCar\n",
       "0          1         62.298387\n",
       "           0         37.701613\n",
       "1          1         60.869565\n",
       "           0         39.130435\n",
       "Name: OwnCar, dtype: float64"
      ]
     },
     "execution_count": 112,
     "metadata": {},
     "output_type": "execute_result"
    }
   ],
   "source": [
    "data.groupby(['ProdTaken'])['OwnCar'].value_counts(normalize=True)*100"
   ]
  },
  {
   "cell_type": "code",
   "execution_count": 113,
   "metadata": {},
   "outputs": [
    {
     "data": {
      "text/plain": [
       "ProductPitched  OwnCar\n",
       "Basic           1         1084\n",
       "                0          758\n",
       "Deluxe          1         1058\n",
       "                0          674\n",
       "King            1          166\n",
       "                0           64\n",
       "Standard        1          484\n",
       "                0          258\n",
       "Super Deluxe    1          240\n",
       "                0          102\n",
       "Name: OwnCar, dtype: int64"
      ]
     },
     "execution_count": 113,
     "metadata": {},
     "output_type": "execute_result"
    }
   ],
   "source": [
    "data.groupby(['ProductPitched'])['OwnCar'].value_counts()"
   ]
  },
  {
   "cell_type": "code",
   "execution_count": 114,
   "metadata": {},
   "outputs": [
    {
     "data": {
      "text/plain": [
       "ProductPitched  OwnCar\n",
       "Basic           1         58.849077\n",
       "                0         41.150923\n",
       "Deluxe          1         61.085450\n",
       "                0         38.914550\n",
       "King            1         72.173913\n",
       "                0         27.826087\n",
       "Standard        1         65.229111\n",
       "                0         34.770889\n",
       "Super Deluxe    1         70.175439\n",
       "                0         29.824561\n",
       "Name: OwnCar, dtype: float64"
      ]
     },
     "execution_count": 114,
     "metadata": {},
     "output_type": "execute_result"
    }
   ],
   "source": [
    "data.groupby(['ProductPitched'])['OwnCar'].value_counts(normalize=True)*100"
   ]
  },
  {
   "cell_type": "code",
   "execution_count": 115,
   "metadata": {},
   "outputs": [
    {
     "data": {
      "text/plain": [
       "ProductPitched  ProdTaken  OwnCar\n",
       "Basic           0          1         768\n",
       "                           0         522\n",
       "                1          1         316\n",
       "                           0         236\n",
       "Deluxe          0          1         934\n",
       "                           0         594\n",
       "                1          1         124\n",
       "                           0          80\n",
       "King            0          1         148\n",
       "                           0          62\n",
       "                1          1          18\n",
       "                           0           2\n",
       "Standard        0          1         402\n",
       "                           0         216\n",
       "                1          1          82\n",
       "                           0          42\n",
       "Super Deluxe    0          1         220\n",
       "                           0         102\n",
       "                1          1          20\n",
       "Name: OwnCar, dtype: int64"
      ]
     },
     "execution_count": 115,
     "metadata": {},
     "output_type": "execute_result"
    }
   ],
   "source": [
    "data.groupby(['ProductPitched','ProdTaken'])['OwnCar'].value_counts()"
   ]
  },
  {
   "cell_type": "code",
   "execution_count": 116,
   "metadata": {},
   "outputs": [
    {
     "data": {
      "text/plain": [
       "ProductPitched  ProdTaken  OwnCar\n",
       "Basic           0          1          59.534884\n",
       "                           0          40.465116\n",
       "                1          1          57.246377\n",
       "                           0          42.753623\n",
       "Deluxe          0          1          61.125654\n",
       "                           0          38.874346\n",
       "                1          1          60.784314\n",
       "                           0          39.215686\n",
       "King            0          1          70.476190\n",
       "                           0          29.523810\n",
       "                1          1          90.000000\n",
       "                           0          10.000000\n",
       "Standard        0          1          65.048544\n",
       "                           0          34.951456\n",
       "                1          1          66.129032\n",
       "                           0          33.870968\n",
       "Super Deluxe    0          1          68.322981\n",
       "                           0          31.677019\n",
       "                1          1         100.000000\n",
       "Name: OwnCar, dtype: float64"
      ]
     },
     "execution_count": 116,
     "metadata": {},
     "output_type": "execute_result"
    }
   ],
   "source": [
    "data.groupby(['ProductPitched','ProdTaken'])['OwnCar'].value_counts(normalize=True)*100"
   ]
  },
  {
   "cell_type": "markdown",
   "metadata": {},
   "source": [
    "#### Insights - Own Car\n",
    "- 62% of customers own a car\n",
    "- ProdTaken does not appear greatly impacted by car ownership, although product pitch does with King, Standard and Super Deluxe products pitched to car owners at a higher rate than Basic and Deluxe\n",
    "- Customers who buy the King and Super Deluxe Products have a higher rate of car ownership (90% and 100%) than those who take the other products (however these groups have a small number of customer each so consider size in evaluation)\n",
    "- For Basic and Deluxe,the rate of car owners is approximately the rate of purchase\n",
    "    "
   ]
  },
  {
   "cell_type": "code",
   "execution_count": null,
   "metadata": {},
   "outputs": [],
   "source": []
  },
  {
   "cell_type": "markdown",
   "metadata": {},
   "source": [
    "#### Variable 'NumberOfChildrenVisiting' Analysis\n"
   ]
  },
  {
   "cell_type": "code",
   "execution_count": 117,
   "metadata": {},
   "outputs": [
    {
     "data": {
      "text/plain": [
       "1.0    43.135628\n",
       "2.0    27.685608\n",
       "0.0    22.438822\n",
       "3.0     6.739942\n",
       "Name: NumberOfChildrenVisiting, dtype: float64"
      ]
     },
     "execution_count": 117,
     "metadata": {},
     "output_type": "execute_result"
    }
   ],
   "source": [
    "data['NumberOfChildrenVisiting'].value_counts(normalize=True)*100"
   ]
  },
  {
   "cell_type": "code",
   "execution_count": 118,
   "metadata": {},
   "outputs": [
    {
     "data": {
      "text/plain": [
       "ProdTaken  NumberOfChildrenVisiting\n",
       "0          1.0                         1688\n",
       "           2.0                         1082\n",
       "           0.0                          880\n",
       "           3.0                          259\n",
       "1          1.0                          392\n",
       "           2.0                          253\n",
       "           0.0                          202\n",
       "           3.0                           66\n",
       "Name: NumberOfChildrenVisiting, dtype: int64"
      ]
     },
     "execution_count": 118,
     "metadata": {},
     "output_type": "execute_result"
    }
   ],
   "source": [
    "data.groupby(['ProdTaken'])['NumberOfChildrenVisiting'].value_counts()"
   ]
  },
  {
   "cell_type": "code",
   "execution_count": 119,
   "metadata": {},
   "outputs": [
    {
     "data": {
      "text/plain": [
       "ProdTaken  NumberOfChildrenVisiting\n",
       "0          1.0                         43.182400\n",
       "           2.0                         27.679713\n",
       "           0.0                         22.512151\n",
       "           3.0                          6.625735\n",
       "1          1.0                         42.935378\n",
       "           2.0                         27.710843\n",
       "           0.0                         22.124863\n",
       "           3.0                          7.228916\n",
       "Name: NumberOfChildrenVisiting, dtype: float64"
      ]
     },
     "execution_count": 119,
     "metadata": {},
     "output_type": "execute_result"
    }
   ],
   "source": [
    "data.groupby(['ProdTaken'])['NumberOfChildrenVisiting'].value_counts(normalize=True)*100"
   ]
  },
  {
   "cell_type": "code",
   "execution_count": 120,
   "metadata": {},
   "outputs": [
    {
     "data": {
      "text/plain": [
       "NumberOfChildrenVisiting  ProdTaken\n",
       "0.0                       0             880\n",
       "                          1             202\n",
       "1.0                       0            1688\n",
       "                          1             392\n",
       "2.0                       0            1082\n",
       "                          1             253\n",
       "3.0                       0             259\n",
       "                          1              66\n",
       "Name: ProdTaken, dtype: int64"
      ]
     },
     "execution_count": 120,
     "metadata": {},
     "output_type": "execute_result"
    }
   ],
   "source": [
    "data.groupby(['NumberOfChildrenVisiting'])['ProdTaken'].value_counts()"
   ]
  },
  {
   "cell_type": "code",
   "execution_count": 121,
   "metadata": {},
   "outputs": [
    {
     "data": {
      "text/plain": [
       "NumberOfChildrenVisiting  ProdTaken\n",
       "0.0                       0            81.330869\n",
       "                          1            18.669131\n",
       "1.0                       0            81.153846\n",
       "                          1            18.846154\n",
       "2.0                       0            81.048689\n",
       "                          1            18.951311\n",
       "3.0                       0            79.692308\n",
       "                          1            20.307692\n",
       "Name: ProdTaken, dtype: float64"
      ]
     },
     "execution_count": 121,
     "metadata": {},
     "output_type": "execute_result"
    }
   ],
   "source": [
    "data.groupby(['NumberOfChildrenVisiting'])['ProdTaken'].value_counts(normalize=True)*100"
   ]
  },
  {
   "cell_type": "code",
   "execution_count": 122,
   "metadata": {},
   "outputs": [
    {
     "data": {
      "text/plain": [
       "NumberOfChildrenVisiting  ProductPitched\n",
       "0.0                       Basic             404\n",
       "                          Deluxe            391\n",
       "                          Standard          172\n",
       "                          Super Deluxe       84\n",
       "                          King               31\n",
       "1.0                       Basic             793\n",
       "                          Deluxe            754\n",
       "                          Standard          318\n",
       "                          Super Deluxe      126\n",
       "                          King               89\n",
       "2.0                       Basic             517\n",
       "                          Deluxe            474\n",
       "                          Standard          198\n",
       "                          Super Deluxe       74\n",
       "                          King               72\n",
       "3.0                       Basic             127\n",
       "                          Deluxe            112\n",
       "                          Standard           53\n",
       "                          King               17\n",
       "                          Super Deluxe       16\n",
       "Name: ProductPitched, dtype: int64"
      ]
     },
     "execution_count": 122,
     "metadata": {},
     "output_type": "execute_result"
    }
   ],
   "source": [
    "data.groupby(['NumberOfChildrenVisiting'])['ProductPitched'].value_counts()"
   ]
  },
  {
   "cell_type": "code",
   "execution_count": 123,
   "metadata": {},
   "outputs": [
    {
     "data": {
      "text/plain": [
       "NumberOfChildrenVisiting  ProductPitched\n",
       "0.0                       Basic             37.338262\n",
       "                          Deluxe            36.136784\n",
       "                          Standard          15.896488\n",
       "                          Super Deluxe       7.763401\n",
       "                          King               2.865065\n",
       "1.0                       Basic             38.125000\n",
       "                          Deluxe            36.250000\n",
       "                          Standard          15.288462\n",
       "                          Super Deluxe       6.057692\n",
       "                          King               4.278846\n",
       "2.0                       Basic             38.726592\n",
       "                          Deluxe            35.505618\n",
       "                          Standard          14.831461\n",
       "                          Super Deluxe       5.543071\n",
       "                          King               5.393258\n",
       "3.0                       Basic             39.076923\n",
       "                          Deluxe            34.461538\n",
       "                          Standard          16.307692\n",
       "                          King               5.230769\n",
       "                          Super Deluxe       4.923077\n",
       "Name: ProductPitched, dtype: float64"
      ]
     },
     "execution_count": 123,
     "metadata": {},
     "output_type": "execute_result"
    }
   ],
   "source": [
    "data.groupby(['NumberOfChildrenVisiting'])['ProductPitched'].value_counts(normalize = True)*100"
   ]
  },
  {
   "cell_type": "markdown",
   "metadata": {},
   "source": [
    "#### Insights - Number of Children Visiting\n",
    "- The number of children under 5 does not appear to affect the overall 4 to 1 ratio of ProdTaken No to Yes\n",
    "- The number of children under 5 does not appear to affect the type of project pitched other than a slightly higher than normal Super Deluxe pitch for those having 0.0 children visiting. The Percentages are as follows: Basic ~ 38%, Deluxe ~35%, Standard ~15%, King ~ 4% and Super Deluxe ~ 6%"
   ]
  },
  {
   "cell_type": "markdown",
   "metadata": {},
   "source": [
    "#### Variable 'Designation' Analysis\n",
    "NOTE: AVP and VP are corporate executive positions therefore I will combine AVP, VP and Executives into one category: Executive"
   ]
  },
  {
   "cell_type": "code",
   "execution_count": 124,
   "metadata": {},
   "outputs": [
    {
     "data": {
      "text/plain": [
       "Executive         1842\n",
       "Manager           1732\n",
       "Senior Manager     742\n",
       "AVP                342\n",
       "VP                 230\n",
       "Name: Designation, dtype: int64"
      ]
     },
     "execution_count": 124,
     "metadata": {},
     "output_type": "execute_result"
    }
   ],
   "source": [
    "data['Designation'].value_counts()"
   ]
  },
  {
   "cell_type": "code",
   "execution_count": 125,
   "metadata": {},
   "outputs": [
    {
     "data": {
      "text/plain": [
       "Executive         37.684124\n",
       "Manager           35.433715\n",
       "Senior Manager    15.180033\n",
       "AVP                6.996727\n",
       "VP                 4.705401\n",
       "Name: Designation, dtype: float64"
      ]
     },
     "execution_count": 125,
     "metadata": {},
     "output_type": "execute_result"
    }
   ],
   "source": [
    "data['Designation'].value_counts(normalize=True)*100"
   ]
  },
  {
   "cell_type": "code",
   "execution_count": 126,
   "metadata": {},
   "outputs": [],
   "source": [
    "#Replace AVP and VP with Executive with 'Female'\n",
    "data['Designation'].replace('AVP','Executive', regex = True, inplace =True)\n",
    "data['Designation'].replace('VP','Executive', regex = True, inplace =True)"
   ]
  },
  {
   "cell_type": "code",
   "execution_count": 127,
   "metadata": {},
   "outputs": [
    {
     "data": {
      "text/plain": [
       "Executive         49.386252\n",
       "Manager           35.433715\n",
       "Senior Manager    15.180033\n",
       "Name: Designation, dtype: float64"
      ]
     },
     "execution_count": 127,
     "metadata": {},
     "output_type": "execute_result"
    }
   ],
   "source": [
    "data['Designation'].value_counts(normalize=True)*100"
   ]
  },
  {
   "cell_type": "code",
   "execution_count": 128,
   "metadata": {},
   "outputs": [
    {
     "data": {
      "text/plain": [
       "ProdTaken  Designation   \n",
       "0          Executive         1822\n",
       "           Manager           1528\n",
       "           Senior Manager     618\n",
       "1          Executive          592\n",
       "           Manager            204\n",
       "           Senior Manager     124\n",
       "Name: Designation, dtype: int64"
      ]
     },
     "execution_count": 128,
     "metadata": {},
     "output_type": "execute_result"
    }
   ],
   "source": [
    "data.groupby(['ProdTaken'])['Designation'].value_counts()"
   ]
  },
  {
   "cell_type": "code",
   "execution_count": 129,
   "metadata": {},
   "outputs": [
    {
     "data": {
      "text/plain": [
       "ProdTaken  Designation   \n",
       "0          Executive         45.917339\n",
       "           Manager           38.508065\n",
       "           Senior Manager    15.574597\n",
       "1          Executive         64.347826\n",
       "           Manager           22.173913\n",
       "           Senior Manager    13.478261\n",
       "Name: Designation, dtype: float64"
      ]
     },
     "execution_count": 129,
     "metadata": {},
     "output_type": "execute_result"
    }
   ],
   "source": [
    "data.groupby(['ProdTaken'])['Designation'].value_counts(normalize = True)*100"
   ]
  },
  {
   "cell_type": "code",
   "execution_count": 130,
   "metadata": {},
   "outputs": [
    {
     "data": {
      "text/plain": [
       "Designation     ProdTaken\n",
       "Executive       0            75.476388\n",
       "                1            24.523612\n",
       "Manager         0            88.221709\n",
       "                1            11.778291\n",
       "Senior Manager  0            83.288410\n",
       "                1            16.711590\n",
       "Name: ProdTaken, dtype: float64"
      ]
     },
     "execution_count": 130,
     "metadata": {},
     "output_type": "execute_result"
    }
   ],
   "source": [
    "data.groupby(['Designation'])['ProdTaken'].value_counts(normalize = True)*100"
   ]
  },
  {
   "cell_type": "code",
   "execution_count": 131,
   "metadata": {},
   "outputs": [
    {
     "data": {
      "text/plain": [
       "ProductPitched  Designation   \n",
       "Basic           Executive         1842\n",
       "Deluxe          Manager           1732\n",
       "King            Executive          230\n",
       "Standard        Senior Manager     742\n",
       "Super Deluxe    Executive          342\n",
       "Name: Designation, dtype: int64"
      ]
     },
     "execution_count": 131,
     "metadata": {},
     "output_type": "execute_result"
    }
   ],
   "source": [
    "data.groupby(['ProductPitched'])['Designation'].value_counts()"
   ]
  },
  {
   "cell_type": "code",
   "execution_count": 132,
   "metadata": {},
   "outputs": [
    {
     "data": {
      "text/plain": [
       "Designation     ProductPitched\n",
       "Executive       Basic             1842\n",
       "                Super Deluxe       342\n",
       "                King               230\n",
       "Manager         Deluxe            1732\n",
       "Senior Manager  Standard           742\n",
       "Name: ProductPitched, dtype: int64"
      ]
     },
     "execution_count": 132,
     "metadata": {},
     "output_type": "execute_result"
    }
   ],
   "source": [
    "data.groupby(['Designation'])['ProductPitched'].value_counts()"
   ]
  },
  {
   "cell_type": "markdown",
   "metadata": {},
   "source": [
    "#### Insights - Designation\n",
    "- VP, AVP and Executive were rolled into one category: Executive\n",
    "- Executives purchsed products at a rate of 25%, Senior Managers at a rate of 17% and Managers at a rate of 12%\n",
    "- This data is suspect as it does not have designations hierarchically lower than manager, and products pitched to Managers were exclusively Deluxe and to Senior Managers exclusively Standard\n",
    "- Consider dropping this variable from the model for not appropriate to context\n"
   ]
  },
  {
   "cell_type": "markdown",
   "metadata": {},
   "source": [
    "#### Variable 'Monthly Income'Analysis\n",
    "    - "
   ]
  },
  {
   "cell_type": "code",
   "execution_count": 133,
   "metadata": {},
   "outputs": [
    {
     "data": {
      "image/png": "[encoded data removed]",
      "text/plain": [
       "<Figure size 864x504 with 2 Axes>"
      ]
     },
     "metadata": {
      "needs_background": "light"
     },
     "output_type": "display_data"
    }
   ],
   "source": [
    "# View Distribution of Numeric variable Monthly Income\n",
    "histogram_boxplot(data, \"MonthlyIncome\")"
   ]
  },
  {
   "cell_type": "code",
   "execution_count": 134,
   "metadata": {},
   "outputs": [
    {
     "data": {
      "text/plain": [
       "233"
      ]
     },
     "execution_count": 134,
     "metadata": {},
     "output_type": "execute_result"
    }
   ],
   "source": [
    "data['MonthlyIncome'].isnull().sum()"
   ]
  },
  {
   "cell_type": "code",
   "execution_count": 135,
   "metadata": {},
   "outputs": [
    {
     "data": {
      "text/plain": [
       "(233, 20)"
      ]
     },
     "execution_count": 135,
     "metadata": {},
     "output_type": "execute_result"
    }
   ],
   "source": [
    "# View rows containing where monthlu Income is Null\n",
    "\n",
    "MI_Null = data[data['MonthlyIncome'].isna()]\n",
    "MI_Null.shape"
   ]
  },
  {
   "cell_type": "code",
   "execution_count": 136,
   "metadata": {},
   "outputs": [
    {
     "data": {
      "text/html": [
       "<div>\n",
       "<style scoped>\n",
       "    .dataframe tbody tr th:only-of-type {\n",
       "        vertical-align: middle;\n",
       "    }\n",
       "\n",
       "    .dataframe tbody tr th {\n",
       "        vertical-align: top;\n",
       "    }\n",
       "\n",
       "    .dataframe thead th {\n",
       "        text-align: right;\n",
       "    }\n",
       "</style>\n",
       "<table border=\"1\" class=\"dataframe\">\n",
       "  <thead>\n",
       "    <tr style=\"text-align: right;\">\n",
       "      <th></th>\n",
       "      <th>CustomerID</th>\n",
       "      <th>ProdTaken</th>\n",
       "      <th>Age</th>\n",
       "      <th>TypeofContact</th>\n",
       "      <th>CityTier</th>\n",
       "      <th>DurationOfPitch</th>\n",
       "      <th>Occupation</th>\n",
       "      <th>Gender</th>\n",
       "      <th>NumberOfPersonVisiting</th>\n",
       "      <th>NumberOfFollowups</th>\n",
       "      <th>ProductPitched</th>\n",
       "      <th>PreferredPropertyStar</th>\n",
       "      <th>MaritalStatus</th>\n",
       "      <th>NumberOfTrips</th>\n",
       "      <th>Passport</th>\n",
       "      <th>PitchSatisfactionScore</th>\n",
       "      <th>OwnCar</th>\n",
       "      <th>NumberOfChildrenVisiting</th>\n",
       "      <th>Designation</th>\n",
       "      <th>MonthlyIncome</th>\n",
       "    </tr>\n",
       "  </thead>\n",
       "  <tbody>\n",
       "    <tr>\n",
       "      <th>11</th>\n",
       "      <td>200011</td>\n",
       "      <td>0</td>\n",
       "      <td>36.0</td>\n",
       "      <td>Self Enquiry</td>\n",
       "      <td>1</td>\n",
       "      <td>21.0</td>\n",
       "      <td>Salaried</td>\n",
       "      <td>Female</td>\n",
       "      <td>2</td>\n",
       "      <td>4.0</td>\n",
       "      <td>Deluxe</td>\n",
       "      <td>3.0</td>\n",
       "      <td>Unmarried</td>\n",
       "      <td>1.0</td>\n",
       "      <td>1</td>\n",
       "      <td>3</td>\n",
       "      <td>0</td>\n",
       "      <td>0.0</td>\n",
       "      <td>Manager</td>\n",
       "      <td>NaN</td>\n",
       "    </tr>\n",
       "    <tr>\n",
       "      <th>19</th>\n",
       "      <td>200019</td>\n",
       "      <td>0</td>\n",
       "      <td>32.0</td>\n",
       "      <td>Self Enquiry</td>\n",
       "      <td>1</td>\n",
       "      <td>8.0</td>\n",
       "      <td>Salaried</td>\n",
       "      <td>Male</td>\n",
       "      <td>2</td>\n",
       "      <td>3.0</td>\n",
       "      <td>Basic</td>\n",
       "      <td>3.0</td>\n",
       "      <td>Unmarried</td>\n",
       "      <td>6.0</td>\n",
       "      <td>1</td>\n",
       "      <td>4</td>\n",
       "      <td>0</td>\n",
       "      <td>1.0</td>\n",
       "      <td>Executive</td>\n",
       "      <td>NaN</td>\n",
       "    </tr>\n",
       "    <tr>\n",
       "      <th>20</th>\n",
       "      <td>200020</td>\n",
       "      <td>0</td>\n",
       "      <td>36.0</td>\n",
       "      <td>Company Invited</td>\n",
       "      <td>1</td>\n",
       "      <td>17.0</td>\n",
       "      <td>Salaried</td>\n",
       "      <td>Female</td>\n",
       "      <td>3</td>\n",
       "      <td>2.0</td>\n",
       "      <td>Deluxe</td>\n",
       "      <td>3.0</td>\n",
       "      <td>Married</td>\n",
       "      <td>1.0</td>\n",
       "      <td>0</td>\n",
       "      <td>3</td>\n",
       "      <td>1</td>\n",
       "      <td>2.0</td>\n",
       "      <td>Manager</td>\n",
       "      <td>NaN</td>\n",
       "    </tr>\n",
       "    <tr>\n",
       "      <th>26</th>\n",
       "      <td>200026</td>\n",
       "      <td>1</td>\n",
       "      <td>32.0</td>\n",
       "      <td>Company Invited</td>\n",
       "      <td>1</td>\n",
       "      <td>22.0</td>\n",
       "      <td>Salaried</td>\n",
       "      <td>Female</td>\n",
       "      <td>3</td>\n",
       "      <td>5.0</td>\n",
       "      <td>Basic</td>\n",
       "      <td>5.0</td>\n",
       "      <td>Unmarried</td>\n",
       "      <td>2.0</td>\n",
       "      <td>1</td>\n",
       "      <td>4</td>\n",
       "      <td>1</td>\n",
       "      <td>2.0</td>\n",
       "      <td>Executive</td>\n",
       "      <td>NaN</td>\n",
       "    </tr>\n",
       "    <tr>\n",
       "      <th>44</th>\n",
       "      <td>200044</td>\n",
       "      <td>0</td>\n",
       "      <td>36.0</td>\n",
       "      <td>Company Invited</td>\n",
       "      <td>1</td>\n",
       "      <td>6.0</td>\n",
       "      <td>Small Business</td>\n",
       "      <td>Female</td>\n",
       "      <td>2</td>\n",
       "      <td>3.0</td>\n",
       "      <td>Deluxe</td>\n",
       "      <td>3.0</td>\n",
       "      <td>Unmarried</td>\n",
       "      <td>2.0</td>\n",
       "      <td>0</td>\n",
       "      <td>3</td>\n",
       "      <td>1</td>\n",
       "      <td>0.0</td>\n",
       "      <td>Manager</td>\n",
       "      <td>NaN</td>\n",
       "    </tr>\n",
       "  </tbody>\n",
       "</table>\n",
       "</div>"
      ],
      "text/plain": [
       "    CustomerID  ProdTaken   Age    TypeofContact  CityTier  DurationOfPitch  \\\n",
       "11      200011          0  36.0     Self Enquiry         1             21.0   \n",
       "19      200019          0  32.0     Self Enquiry         1              8.0   \n",
       "20      200020          0  36.0  Company Invited         1             17.0   \n",
       "26      200026          1  32.0  Company Invited         1             22.0   \n",
       "44      200044          0  36.0  Company Invited         1              6.0   \n",
       "\n",
       "        Occupation  Gender  NumberOfPersonVisiting  NumberOfFollowups  \\\n",
       "11        Salaried  Female                       2                4.0   \n",
       "19        Salaried    Male                       2                3.0   \n",
       "20        Salaried  Female                       3                2.0   \n",
       "26        Salaried  Female                       3                5.0   \n",
       "44  Small Business  Female                       2                3.0   \n",
       "\n",
       "   ProductPitched  PreferredPropertyStar MaritalStatus  NumberOfTrips  \\\n",
       "11         Deluxe                    3.0     Unmarried            1.0   \n",
       "19          Basic                    3.0     Unmarried            6.0   \n",
       "20         Deluxe                    3.0       Married            1.0   \n",
       "26          Basic                    5.0     Unmarried            2.0   \n",
       "44         Deluxe                    3.0     Unmarried            2.0   \n",
       "\n",
       "    Passport  PitchSatisfactionScore  OwnCar  NumberOfChildrenVisiting  \\\n",
       "11         1                       3       0                       0.0   \n",
       "19         1                       4       0                       1.0   \n",
       "20         0                       3       1                       2.0   \n",
       "26         1                       4       1                       2.0   \n",
       "44         0                       3       1                       0.0   \n",
       "\n",
       "   Designation  MonthlyIncome  \n",
       "11     Manager            NaN  \n",
       "19   Executive            NaN  \n",
       "20     Manager            NaN  \n",
       "26   Executive            NaN  \n",
       "44     Manager            NaN  "
      ]
     },
     "execution_count": 136,
     "metadata": {},
     "output_type": "execute_result"
    }
   ],
   "source": [
    "MI_Null.head()"
   ]
  },
  {
   "cell_type": "code",
   "execution_count": 137,
   "metadata": {},
   "outputs": [
    {
     "data": {
      "text/plain": [
       "count     4655.000000\n",
       "mean     23619.853491\n",
       "std       5380.698361\n",
       "min       1000.000000\n",
       "25%      20346.000000\n",
       "50%      22347.000000\n",
       "75%      25571.000000\n",
       "max      98678.000000\n",
       "Name: MonthlyIncome, dtype: float64"
      ]
     },
     "execution_count": 137,
     "metadata": {},
     "output_type": "execute_result"
    }
   ],
   "source": [
    "#Description stats for Monthly Income\n",
    "data['MonthlyIncome'].describe()"
   ]
  },
  {
   "cell_type": "code",
   "execution_count": 138,
   "metadata": {},
   "outputs": [
    {
     "data": {
      "text/plain": [
       "Designation\n",
       "Executive         21151.0\n",
       "Manager           22922.0\n",
       "Senior Manager    26425.0\n",
       "Name: MonthlyIncome, dtype: float64"
      ]
     },
     "execution_count": 138,
     "metadata": {},
     "output_type": "execute_result"
    }
   ],
   "source": [
    "#View Monthly Income Median by Designation\n",
    "data.groupby(['Designation'])['MonthlyIncome'].median()\n"
   ]
  },
  {
   "cell_type": "code",
   "execution_count": 139,
   "metadata": {},
   "outputs": [],
   "source": [
    "# Designation and monthly income medians do not make sense as Senior Manager Income medians are higher that Executives.\n",
    "# "
   ]
  },
  {
   "cell_type": "code",
   "execution_count": 140,
   "metadata": {},
   "outputs": [
    {
     "data": {
      "text/plain": [
       "Occupation\n",
       "Free Lancer       18929.0\n",
       "Large Business    21866.0\n",
       "Salaried          22130.0\n",
       "Small Business    22689.0\n",
       "Name: MonthlyIncome, dtype: float64"
      ]
     },
     "execution_count": 140,
     "metadata": {},
     "output_type": "execute_result"
    }
   ],
   "source": [
    "data.groupby(['Occupation'])['MonthlyIncome'].median()"
   ]
  },
  {
   "cell_type": "code",
   "execution_count": 141,
   "metadata": {},
   "outputs": [
    {
     "data": {
      "text/plain": [
       "ProductPitched\n",
       "Basic           20689.0\n",
       "Deluxe          22922.0\n",
       "King            34999.0\n",
       "Standard        26425.0\n",
       "Super Deluxe    32181.0\n",
       "Name: MonthlyIncome, dtype: float64"
      ]
     },
     "execution_count": 141,
     "metadata": {},
     "output_type": "execute_result"
    }
   ],
   "source": [
    "data.groupby(['ProductPitched'])['MonthlyIncome'].median()"
   ]
  },
  {
   "cell_type": "code",
   "execution_count": 142,
   "metadata": {},
   "outputs": [
    {
     "data": {
      "text/plain": [
       "ProdTaken\n",
       "0    22729.0\n",
       "1    21172.0\n",
       "Name: MonthlyIncome, dtype: float64"
      ]
     },
     "execution_count": 142,
     "metadata": {},
     "output_type": "execute_result"
    }
   ],
   "source": [
    "data.groupby(['ProdTaken'])['MonthlyIncome'].median()"
   ]
  },
  {
   "cell_type": "code",
   "execution_count": 143,
   "metadata": {},
   "outputs": [
    {
     "data": {
      "text/plain": [
       "ProductPitched  ProdTaken\n",
       "Basic           0            20691.5\n",
       "                1            20582.0\n",
       "Deluxe          0            22905.0\n",
       "                1            23186.0\n",
       "King            0            35859.0\n",
       "                1            34859.0\n",
       "Standard        0            26558.0\n",
       "                1            25711.0\n",
       "Super Deluxe    0            32251.5\n",
       "                1            29802.5\n",
       "Name: MonthlyIncome, dtype: float64"
      ]
     },
     "execution_count": 143,
     "metadata": {},
     "output_type": "execute_result"
    }
   ],
   "source": [
    "data.groupby(['ProductPitched','ProdTaken'])['MonthlyIncome'].median()"
   ]
  },
  {
   "cell_type": "markdown",
   "metadata": {},
   "source": [
    "#### Insights - Monthly Income\n",
    "- Monthly Income has 233 null values which will need to be imputed with Median of associated ProductPitched Groups.\n",
    "- Before imputing median, MonthlyIncome outliers need to be treated as some outliers may be having a significant influence on medians monthly incomes of Product Pitched groups. This will be accomplished during feature engineering\n",
    "- Currently, before Null and Outlier issues have been resolved, Monthly Income does appear to influence the purchase of Products: Basic: 20582, Deluxe: 23186, King: 34859, Standard: 25711, and Super Deluxe: 29802"
   ]
  },
  {
   "cell_type": "markdown",
   "metadata": {},
   "source": [
    "#### Variable 'PitchSatisfactionScore' Analysis"
   ]
  },
  {
   "cell_type": "code",
   "execution_count": 144,
   "metadata": {},
   "outputs": [
    {
     "data": {
      "text/plain": [
       "3    1478\n",
       "5     970\n",
       "1     942\n",
       "4     912\n",
       "2     586\n",
       "Name: PitchSatisfactionScore, dtype: int64"
      ]
     },
     "execution_count": 144,
     "metadata": {},
     "output_type": "execute_result"
    }
   ],
   "source": [
    "data['PitchSatisfactionScore'].value_counts()"
   ]
  },
  {
   "cell_type": "code",
   "execution_count": 145,
   "metadata": {},
   "outputs": [
    {
     "data": {
      "text/plain": [
       "3    30.237316\n",
       "5    19.844517\n",
       "1    19.271686\n",
       "4    18.657938\n",
       "2    11.988543\n",
       "Name: PitchSatisfactionScore, dtype: float64"
      ]
     },
     "execution_count": 145,
     "metadata": {},
     "output_type": "execute_result"
    }
   ],
   "source": [
    "data['PitchSatisfactionScore'].value_counts(normalize=True)*100"
   ]
  },
  {
   "cell_type": "code",
   "execution_count": 146,
   "metadata": {},
   "outputs": [
    {
     "data": {
      "image/png": "[encoded data removed]",
      "text/plain": [
       "<Figure size 864x504 with 2 Axes>"
      ]
     },
     "metadata": {
      "needs_background": "light"
     },
     "output_type": "display_data"
    }
   ],
   "source": [
    "# View Distribution of Numeric variable Monthly Income\n",
    "histogram_boxplot(data, \"PitchSatisfactionScore\")"
   ]
  },
  {
   "cell_type": "code",
   "execution_count": 147,
   "metadata": {},
   "outputs": [
    {
     "data": {
      "text/plain": [
       "ProdTaken\n",
       "0    3.044355\n",
       "1    3.223913\n",
       "Name: PitchSatisfactionScore, dtype: float64"
      ]
     },
     "execution_count": 147,
     "metadata": {},
     "output_type": "execute_result"
    }
   ],
   "source": [
    "#Find Mean Pitch score per ProdTaken (Look for values above and below 3)\n",
    "data.groupby(['ProdTaken'])['PitchSatisfactionScore'].mean()"
   ]
  },
  {
   "cell_type": "code",
   "execution_count": 148,
   "metadata": {},
   "outputs": [
    {
     "data": {
      "text/plain": [
       "ProdTaken  PitchSatisfactionScore\n",
       "0          3                         1162\n",
       "           1                          798\n",
       "           5                          760\n",
       "           4                          750\n",
       "           2                          498\n",
       "1          3                          316\n",
       "           5                          210\n",
       "           4                          162\n",
       "           1                          144\n",
       "           2                           88\n",
       "Name: PitchSatisfactionScore, dtype: int64"
      ]
     },
     "execution_count": 148,
     "metadata": {},
     "output_type": "execute_result"
    }
   ],
   "source": [
    "data.groupby(['ProdTaken'])['PitchSatisfactionScore'].value_counts()"
   ]
  },
  {
   "cell_type": "code",
   "execution_count": 149,
   "metadata": {},
   "outputs": [
    {
     "data": {
      "text/plain": [
       "ProdTaken  PitchSatisfactionScore\n",
       "0          3                         29.284274\n",
       "           1                         20.110887\n",
       "           5                         19.153226\n",
       "           4                         18.901210\n",
       "           2                         12.550403\n",
       "1          3                         34.347826\n",
       "           5                         22.826087\n",
       "           4                         17.608696\n",
       "           1                         15.652174\n",
       "           2                          9.565217\n",
       "Name: PitchSatisfactionScore, dtype: float64"
      ]
     },
     "execution_count": 149,
     "metadata": {},
     "output_type": "execute_result"
    }
   ],
   "source": [
    "data.groupby(['ProdTaken'])['PitchSatisfactionScore'].value_counts(normalize = True)*100"
   ]
  },
  {
   "cell_type": "code",
   "execution_count": 150,
   "metadata": {},
   "outputs": [
    {
     "data": {
      "text/plain": [
       "PitchSatisfactionScore  ProdTaken\n",
       "1                       0            84.713376\n",
       "                        1            15.286624\n",
       "2                       0            84.982935\n",
       "                        1            15.017065\n",
       "3                       0            78.619756\n",
       "                        1            21.380244\n",
       "4                       0            82.236842\n",
       "                        1            17.763158\n",
       "5                       0            78.350515\n",
       "                        1            21.649485\n",
       "Name: ProdTaken, dtype: float64"
      ]
     },
     "execution_count": 150,
     "metadata": {},
     "output_type": "execute_result"
    }
   ],
   "source": [
    "data.groupby(['PitchSatisfactionScore'])['ProdTaken'].value_counts(normalize = True)*100"
   ]
  },
  {
   "cell_type": "code",
   "execution_count": 151,
   "metadata": {},
   "outputs": [
    {
     "data": {
      "text/plain": [
       "ProductPitched\n",
       "Basic           3.081433\n",
       "Deluxe          3.006928\n",
       "King            3.226087\n",
       "Standard        3.061995\n",
       "Super Deluxe    3.356725\n",
       "Name: PitchSatisfactionScore, dtype: float64"
      ]
     },
     "execution_count": 151,
     "metadata": {},
     "output_type": "execute_result"
    }
   ],
   "source": [
    "data.groupby(['ProductPitched'])['PitchSatisfactionScore'].mean()"
   ]
  },
  {
   "cell_type": "markdown",
   "metadata": {},
   "source": [
    "#### Insights - Pitch Satisfaction Score\n",
    "- Pitch Satsifaction score percentages: 1:19%, 2:12%; 3:30%; 4:19%, 5:20%\n",
    "- The higher the Pitch Satsifactions score, the more likley the customer was to purchase the product\n",
    "- The pitch satisfaction score may not be influential for a model as the pitch score likely does nto occir before the customer chooses to take or not take the product.\n",
    "- Consider removing this variable from the model to avoid overfitting "
   ]
  },
  {
   "cell_type": "markdown",
   "metadata": {},
   "source": [
    "#### Variable 'ProductPitched' Analysis\n",
    "Note: Product Pitch analysis has been conducted while analysing other variable"
   ]
  },
  {
   "cell_type": "code",
   "execution_count": 152,
   "metadata": {},
   "outputs": [
    {
     "data": {
      "text/plain": [
       "Basic           37.684124\n",
       "Deluxe          35.433715\n",
       "Standard        15.180033\n",
       "Super Deluxe     6.996727\n",
       "King             4.705401\n",
       "Name: ProductPitched, dtype: float64"
      ]
     },
     "execution_count": 152,
     "metadata": {},
     "output_type": "execute_result"
    }
   ],
   "source": [
    "data['ProductPitched'].value_counts(normalize = True)*100"
   ]
  },
  {
   "cell_type": "code",
   "execution_count": 153,
   "metadata": {},
   "outputs": [
    {
     "data": {
      "text/plain": [
       "ProductPitched  ProdTaken\n",
       "Basic           0            1290\n",
       "                1             552\n",
       "Deluxe          0            1528\n",
       "                1             204\n",
       "King            0             210\n",
       "                1              20\n",
       "Standard        0             618\n",
       "                1             124\n",
       "Super Deluxe    0             322\n",
       "                1              20\n",
       "Name: ProdTaken, dtype: int64"
      ]
     },
     "execution_count": 153,
     "metadata": {},
     "output_type": "execute_result"
    }
   ],
   "source": [
    "data.groupby(['ProductPitched'])['ProdTaken'].value_counts()"
   ]
  },
  {
   "cell_type": "code",
   "execution_count": 154,
   "metadata": {},
   "outputs": [
    {
     "data": {
      "text/plain": [
       "ProductPitched  ProdTaken\n",
       "Basic           0            70.032573\n",
       "                1            29.967427\n",
       "Deluxe          0            88.221709\n",
       "                1            11.778291\n",
       "King            0            91.304348\n",
       "                1             8.695652\n",
       "Standard        0            83.288410\n",
       "                1            16.711590\n",
       "Super Deluxe    0            94.152047\n",
       "                1             5.847953\n",
       "Name: ProdTaken, dtype: float64"
      ]
     },
     "execution_count": 154,
     "metadata": {},
     "output_type": "execute_result"
    }
   ],
   "source": [
    "data.groupby(['ProductPitched'])['ProdTaken'].value_counts(normalize = True)*100"
   ]
  },
  {
   "cell_type": "markdown",
   "metadata": {},
   "source": [
    "#### Insights - Product Pitched\n",
    "- Products pitched by percentage: Basic: 38%, Deluxe:35%, Standard: 15%, Super Deluxe: 7%, King: 5%\n",
    "- When ProductPitch:ProdTaken ratio - Basic:30%; Deluxe:12%; King:9%; Standard:17%; Super Deluxe: 6%\n",
    "    \n"
   ]
  },
  {
   "cell_type": "markdown",
   "metadata": {},
   "source": [
    "#### Variable 'NumberOfFollowups' Analysis"
   ]
  },
  {
   "cell_type": "code",
   "execution_count": 155,
   "metadata": {},
   "outputs": [
    {
     "data": {
      "text/plain": [
       "4.0    2068\n",
       "3.0    1466\n",
       "5.0     768\n",
       "2.0     229\n",
       "1.0     176\n",
       "6.0     136\n",
       "Name: NumberOfFollowups, dtype: int64"
      ]
     },
     "execution_count": 155,
     "metadata": {},
     "output_type": "execute_result"
    }
   ],
   "source": [
    "data['NumberOfFollowups'].value_counts()"
   ]
  },
  {
   "cell_type": "code",
   "execution_count": 156,
   "metadata": {},
   "outputs": [
    {
     "data": {
      "text/plain": [
       "4.0    42.700805\n",
       "3.0    30.270493\n",
       "5.0    15.857939\n",
       "2.0     4.728474\n",
       "1.0     3.634111\n",
       "6.0     2.808177\n",
       "Name: NumberOfFollowups, dtype: float64"
      ]
     },
     "execution_count": 156,
     "metadata": {},
     "output_type": "execute_result"
    }
   ],
   "source": [
    "data['NumberOfFollowups'].value_counts(normalize = True)*100"
   ]
  },
  {
   "cell_type": "code",
   "execution_count": 157,
   "metadata": {},
   "outputs": [
    {
     "data": {
      "text/plain": [
       "45"
      ]
     },
     "execution_count": 157,
     "metadata": {},
     "output_type": "execute_result"
    }
   ],
   "source": [
    "data['NumberOfFollowups'].isnull().sum()"
   ]
  },
  {
   "cell_type": "code",
   "execution_count": 158,
   "metadata": {},
   "outputs": [
    {
     "data": {
      "text/plain": [
       "(45, 20)"
      ]
     },
     "execution_count": 158,
     "metadata": {},
     "output_type": "execute_result"
    }
   ],
   "source": [
    "# View rows containing where monthly Income is Null\n",
    "\n",
    "NOF_Null = data[data['NumberOfFollowups'].isna()]\n",
    "NOF_Null.shape"
   ]
  },
  {
   "cell_type": "code",
   "execution_count": 159,
   "metadata": {},
   "outputs": [
    {
     "data": {
      "text/plain": [
       "ProductPitched\n",
       "Basic           3.693822\n",
       "Deluxe          3.701765\n",
       "King            3.804348\n",
       "Standard        3.791105\n",
       "Super Deluxe    3.576023\n",
       "Name: NumberOfFollowups, dtype: float64"
      ]
     },
     "execution_count": 159,
     "metadata": {},
     "output_type": "execute_result"
    }
   ],
   "source": [
    "data.groupby(['ProductPitched'])['NumberOfFollowups'].mean()"
   ]
  },
  {
   "cell_type": "code",
   "execution_count": 160,
   "metadata": {},
   "outputs": [
    {
     "data": {
      "text/plain": [
       "ProductPitched\n",
       "Basic           4.0\n",
       "Deluxe          4.0\n",
       "King            4.0\n",
       "Standard        4.0\n",
       "Super Deluxe    4.0\n",
       "Name: NumberOfFollowups, dtype: float64"
      ]
     },
     "execution_count": 160,
     "metadata": {},
     "output_type": "execute_result"
    }
   ],
   "source": [
    "data.groupby(['ProductPitched'])['NumberOfFollowups'].median()"
   ]
  },
  {
   "cell_type": "code",
   "execution_count": 161,
   "metadata": {},
   "outputs": [
    {
     "data": {
      "text/plain": [
       "0"
      ]
     },
     "execution_count": 161,
     "metadata": {},
     "output_type": "execute_result"
    }
   ],
   "source": [
    "#Impute Median (3) for Null values\n",
    "data['NumberOfFollowups'] = data.groupby(['ProductPitched'], sort=False)['NumberOfFollowups'].apply(lambda x: x.fillna(x.median()))\n",
    "\n",
    "data['NumberOfFollowups'].isnull().sum()"
   ]
  },
  {
   "cell_type": "code",
   "execution_count": 162,
   "metadata": {},
   "outputs": [
    {
     "data": {
      "image/png": "[encoded data removed]",
      "text/plain": [
       "<Figure size 864x504 with 2 Axes>"
      ]
     },
     "metadata": {
      "needs_background": "light"
     },
     "output_type": "display_data"
    }
   ],
   "source": [
    "# View Distribution of Numeric variable Monthly Income\n",
    "histogram_boxplot(data, \"NumberOfFollowups\")"
   ]
  },
  {
   "cell_type": "code",
   "execution_count": 163,
   "metadata": {},
   "outputs": [
    {
     "data": {
      "text/plain": [
       "ProdTaken  NumberOfFollowups\n",
       "0          4.0                  1726\n",
       "           3.0                  1222\n",
       "           5.0                   577\n",
       "           2.0                   205\n",
       "           1.0                   156\n",
       "           6.0                    82\n",
       "1          4.0                   387\n",
       "           3.0                   244\n",
       "           5.0                   191\n",
       "           6.0                    54\n",
       "           2.0                    24\n",
       "           1.0                    20\n",
       "Name: NumberOfFollowups, dtype: int64"
      ]
     },
     "execution_count": 163,
     "metadata": {},
     "output_type": "execute_result"
    }
   ],
   "source": [
    "data.groupby(['ProdTaken'])['NumberOfFollowups'].value_counts()"
   ]
  },
  {
   "cell_type": "code",
   "execution_count": 164,
   "metadata": {},
   "outputs": [
    {
     "data": {
      "text/plain": [
       "ProdTaken  NumberOfFollowups\n",
       "0          4.0                  43.497984\n",
       "           3.0                  30.796371\n",
       "           5.0                  14.541331\n",
       "           2.0                   5.166331\n",
       "           1.0                   3.931452\n",
       "           6.0                   2.066532\n",
       "1          4.0                  42.065217\n",
       "           3.0                  26.521739\n",
       "           5.0                  20.760870\n",
       "           6.0                   5.869565\n",
       "           2.0                   2.608696\n",
       "           1.0                   2.173913\n",
       "Name: NumberOfFollowups, dtype: float64"
      ]
     },
     "execution_count": 164,
     "metadata": {},
     "output_type": "execute_result"
    }
   ],
   "source": [
    "data.groupby(['ProdTaken'])['NumberOfFollowups'].value_counts(normalize = True)*100"
   ]
  },
  {
   "cell_type": "code",
   "execution_count": 165,
   "metadata": {},
   "outputs": [
    {
     "data": {
      "text/plain": [
       "NumberOfFollowups  ProdTaken\n",
       "1.0                0            88.636364\n",
       "                   1            11.363636\n",
       "2.0                0            89.519651\n",
       "                   1            10.480349\n",
       "3.0                0            83.356071\n",
       "                   1            16.643929\n",
       "4.0                0            81.684808\n",
       "                   1            18.315192\n",
       "5.0                0            75.130208\n",
       "                   1            24.869792\n",
       "6.0                0            60.294118\n",
       "                   1            39.705882\n",
       "Name: ProdTaken, dtype: float64"
      ]
     },
     "execution_count": 165,
     "metadata": {},
     "output_type": "execute_result"
    }
   ],
   "source": [
    "data.groupby(['NumberOfFollowups'])['ProdTaken'].value_counts(normalize = True)*100"
   ]
  },
  {
   "cell_type": "code",
   "execution_count": 166,
   "metadata": {},
   "outputs": [
    {
     "data": {
      "text/plain": [
       "ProductPitched  NumberOfFollowups\n",
       "Basic           4.0                  42.345277\n",
       "                3.0                  30.184582\n",
       "                5.0                  15.635179\n",
       "                2.0                   4.994571\n",
       "                1.0                   3.908795\n",
       "                6.0                   2.931596\n",
       "Deluxe          4.0                  43.648961\n",
       "                3.0                  29.387991\n",
       "                5.0                  15.184758\n",
       "                2.0                   4.965358\n",
       "                1.0                   3.752887\n",
       "                6.0                   3.060046\n",
       "King            4.0                  43.478261\n",
       "                3.0                  32.608696\n",
       "                5.0                  15.652174\n",
       "                6.0                   3.913043\n",
       "                2.0                   2.608696\n",
       "                1.0                   1.739130\n",
       "Standard        4.0                  44.878706\n",
       "                3.0                  29.784367\n",
       "                5.0                  17.924528\n",
       "                2.0                   3.099730\n",
       "                1.0                   2.291105\n",
       "                6.0                   2.021563\n",
       "Super Deluxe    4.0                  42.105263\n",
       "                3.0                  30.701754\n",
       "                5.0                  14.035088\n",
       "                2.0                   6.432749\n",
       "                1.0                   5.263158\n",
       "                6.0                   1.461988\n",
       "Name: NumberOfFollowups, dtype: float64"
      ]
     },
     "execution_count": 166,
     "metadata": {},
     "output_type": "execute_result"
    }
   ],
   "source": [
    "data.groupby(['ProductPitched'])['NumberOfFollowups'].value_counts(normalize = True)*100"
   ]
  },
  {
   "cell_type": "code",
   "execution_count": 167,
   "metadata": {},
   "outputs": [
    {
     "data": {
      "text/plain": [
       "NumberOfFollowups  ProductPitched\n",
       "1.0                Basic             40.909091\n",
       "                   Deluxe            36.931818\n",
       "                   Super Deluxe      10.227273\n",
       "                   Standard           9.659091\n",
       "                   King               2.272727\n",
       "2.0                Basic             40.174672\n",
       "                   Deluxe            37.554585\n",
       "                   Standard          10.043668\n",
       "                   Super Deluxe       9.606987\n",
       "                   King               2.620087\n",
       "3.0                Basic             37.926330\n",
       "                   Deluxe            34.720327\n",
       "                   Standard          15.075034\n",
       "                   Super Deluxe       7.162347\n",
       "                   King               5.115962\n",
       "4.0                Basic             36.914340\n",
       "                   Deluxe            35.778514\n",
       "                   Standard          15.759584\n",
       "                   Super Deluxe       6.814955\n",
       "                   King               4.732608\n",
       "5.0                Basic             37.500000\n",
       "                   Deluxe            34.244792\n",
       "                   Standard          17.317708\n",
       "                   Super Deluxe       6.250000\n",
       "                   King               4.687500\n",
       "6.0                Basic             39.705882\n",
       "                   Deluxe            38.970588\n",
       "                   Standard          11.029412\n",
       "                   King               6.617647\n",
       "                   Super Deluxe       3.676471\n",
       "Name: ProductPitched, dtype: float64"
      ]
     },
     "execution_count": 167,
     "metadata": {},
     "output_type": "execute_result"
    }
   ],
   "source": [
    "data.groupby(['NumberOfFollowups'])['ProductPitched'].value_counts(normalize = True)*100"
   ]
  },
  {
   "cell_type": "markdown",
   "metadata": {},
   "source": [
    "#### Insights - Number of Follow-ups\n",
    "- Before Null replacement: Number of followups: Rate - 4.0:43%; 3.0:30%; 5.0:15%; 2.0:5%; 1.0:4%; 6.0: 3%\n",
    "- Follow-up rate does not change significantly when disaggregated by ProductPitched\n",
    "- Percent ProdTaken increase as number of Followups increases and Number of followups >=2\n",
    "- 46 Null values replaced with median(4)\n"
   ]
  },
  {
   "cell_type": "markdown",
   "metadata": {},
   "source": [
    "#### Variable 'Duration of Pitch' Analysis"
   ]
  },
  {
   "cell_type": "code",
   "execution_count": 168,
   "metadata": {},
   "outputs": [
    {
     "data": {
      "text/plain": [
       "count    4637.000000\n",
       "mean       15.490835\n",
       "std         8.519643\n",
       "min         5.000000\n",
       "25%         9.000000\n",
       "50%        13.000000\n",
       "75%        20.000000\n",
       "max       127.000000\n",
       "Name: DurationOfPitch, dtype: float64"
      ]
     },
     "execution_count": 168,
     "metadata": {},
     "output_type": "execute_result"
    }
   ],
   "source": [
    "data['DurationOfPitch'].describe()"
   ]
  },
  {
   "cell_type": "code",
   "execution_count": 169,
   "metadata": {},
   "outputs": [
    {
     "data": {
      "image/png": "[encoded data removed]",
      "text/plain": [
       "<Figure size 864x504 with 2 Axes>"
      ]
     },
     "metadata": {
      "needs_background": "light"
     },
     "output_type": "display_data"
    }
   ],
   "source": [
    "# View Distribution of Numeric variable Monthly Income\n",
    "histogram_boxplot(data, \"DurationOfPitch\")"
   ]
  },
  {
   "cell_type": "code",
   "execution_count": 170,
   "metadata": {},
   "outputs": [
    {
     "data": {
      "text/plain": [
       "(251, 20)"
      ]
     },
     "execution_count": 170,
     "metadata": {},
     "output_type": "execute_result"
    }
   ],
   "source": [
    "DoPNull = data_copy[data_copy['DurationOfPitch'].isna()]\n",
    "DoPNull.shape"
   ]
  },
  {
   "cell_type": "code",
   "execution_count": 171,
   "metadata": {},
   "outputs": [
    {
     "data": {
      "text/html": [
       "<div>\n",
       "<style scoped>\n",
       "    .dataframe tbody tr th:only-of-type {\n",
       "        vertical-align: middle;\n",
       "    }\n",
       "\n",
       "    .dataframe tbody tr th {\n",
       "        vertical-align: top;\n",
       "    }\n",
       "\n",
       "    .dataframe thead th {\n",
       "        text-align: right;\n",
       "    }\n",
       "</style>\n",
       "<table border=\"1\" class=\"dataframe\">\n",
       "  <thead>\n",
       "    <tr style=\"text-align: right;\">\n",
       "      <th></th>\n",
       "      <th>CustomerID</th>\n",
       "      <th>ProdTaken</th>\n",
       "      <th>Age</th>\n",
       "      <th>TypeofContact</th>\n",
       "      <th>CityTier</th>\n",
       "      <th>DurationOfPitch</th>\n",
       "      <th>Occupation</th>\n",
       "      <th>Gender</th>\n",
       "      <th>NumberOfPersonVisiting</th>\n",
       "      <th>NumberOfFollowups</th>\n",
       "      <th>ProductPitched</th>\n",
       "      <th>PreferredPropertyStar</th>\n",
       "      <th>MaritalStatus</th>\n",
       "      <th>NumberOfTrips</th>\n",
       "      <th>Passport</th>\n",
       "      <th>PitchSatisfactionScore</th>\n",
       "      <th>OwnCar</th>\n",
       "      <th>NumberOfChildrenVisiting</th>\n",
       "      <th>Designation</th>\n",
       "      <th>MonthlyIncome</th>\n",
       "    </tr>\n",
       "  </thead>\n",
       "  <tbody>\n",
       "    <tr>\n",
       "      <th>46</th>\n",
       "      <td>200046</td>\n",
       "      <td>0</td>\n",
       "      <td>34.0</td>\n",
       "      <td>Company Invited</td>\n",
       "      <td>3</td>\n",
       "      <td>NaN</td>\n",
       "      <td>Small Business</td>\n",
       "      <td>Male</td>\n",
       "      <td>3</td>\n",
       "      <td>3.0</td>\n",
       "      <td>Deluxe</td>\n",
       "      <td>3.0</td>\n",
       "      <td>Single</td>\n",
       "      <td>1.0</td>\n",
       "      <td>0</td>\n",
       "      <td>5</td>\n",
       "      <td>1</td>\n",
       "      <td>1.0</td>\n",
       "      <td>Manager</td>\n",
       "      <td>19568.0</td>\n",
       "    </tr>\n",
       "    <tr>\n",
       "      <th>75</th>\n",
       "      <td>200075</td>\n",
       "      <td>0</td>\n",
       "      <td>31.0</td>\n",
       "      <td>Self Enquiry</td>\n",
       "      <td>1</td>\n",
       "      <td>NaN</td>\n",
       "      <td>Salaried</td>\n",
       "      <td>Female</td>\n",
       "      <td>3</td>\n",
       "      <td>3.0</td>\n",
       "      <td>Deluxe</td>\n",
       "      <td>3.0</td>\n",
       "      <td>Single</td>\n",
       "      <td>2.0</td>\n",
       "      <td>0</td>\n",
       "      <td>5</td>\n",
       "      <td>0</td>\n",
       "      <td>1.0</td>\n",
       "      <td>Manager</td>\n",
       "      <td>NaN</td>\n",
       "    </tr>\n",
       "    <tr>\n",
       "      <th>76</th>\n",
       "      <td>200076</td>\n",
       "      <td>0</td>\n",
       "      <td>35.0</td>\n",
       "      <td>Self Enquiry</td>\n",
       "      <td>3</td>\n",
       "      <td>NaN</td>\n",
       "      <td>Small Business</td>\n",
       "      <td>Male</td>\n",
       "      <td>2</td>\n",
       "      <td>4.0</td>\n",
       "      <td>Deluxe</td>\n",
       "      <td>5.0</td>\n",
       "      <td>Single</td>\n",
       "      <td>1.0</td>\n",
       "      <td>0</td>\n",
       "      <td>2</td>\n",
       "      <td>0</td>\n",
       "      <td>1.0</td>\n",
       "      <td>Manager</td>\n",
       "      <td>NaN</td>\n",
       "    </tr>\n",
       "    <tr>\n",
       "      <th>84</th>\n",
       "      <td>200084</td>\n",
       "      <td>0</td>\n",
       "      <td>34.0</td>\n",
       "      <td>Self Enquiry</td>\n",
       "      <td>1</td>\n",
       "      <td>NaN</td>\n",
       "      <td>Small Business</td>\n",
       "      <td>Male</td>\n",
       "      <td>3</td>\n",
       "      <td>3.0</td>\n",
       "      <td>Deluxe</td>\n",
       "      <td>4.0</td>\n",
       "      <td>Divorced</td>\n",
       "      <td>2.0</td>\n",
       "      <td>0</td>\n",
       "      <td>5</td>\n",
       "      <td>0</td>\n",
       "      <td>0.0</td>\n",
       "      <td>Manager</td>\n",
       "      <td>NaN</td>\n",
       "    </tr>\n",
       "    <tr>\n",
       "      <th>103</th>\n",
       "      <td>200103</td>\n",
       "      <td>0</td>\n",
       "      <td>34.0</td>\n",
       "      <td>Self Enquiry</td>\n",
       "      <td>1</td>\n",
       "      <td>NaN</td>\n",
       "      <td>Salaried</td>\n",
       "      <td>Female</td>\n",
       "      <td>2</td>\n",
       "      <td>3.0</td>\n",
       "      <td>Deluxe</td>\n",
       "      <td>3.0</td>\n",
       "      <td>Single</td>\n",
       "      <td>2.0</td>\n",
       "      <td>0</td>\n",
       "      <td>3</td>\n",
       "      <td>1</td>\n",
       "      <td>0.0</td>\n",
       "      <td>Manager</td>\n",
       "      <td>19809.0</td>\n",
       "    </tr>\n",
       "    <tr>\n",
       "      <th>114</th>\n",
       "      <td>200114</td>\n",
       "      <td>0</td>\n",
       "      <td>34.0</td>\n",
       "      <td>Self Enquiry</td>\n",
       "      <td>1</td>\n",
       "      <td>NaN</td>\n",
       "      <td>Salaried</td>\n",
       "      <td>Female</td>\n",
       "      <td>2</td>\n",
       "      <td>4.0</td>\n",
       "      <td>Deluxe</td>\n",
       "      <td>4.0</td>\n",
       "      <td>Married</td>\n",
       "      <td>7.0</td>\n",
       "      <td>0</td>\n",
       "      <td>3</td>\n",
       "      <td>0</td>\n",
       "      <td>1.0</td>\n",
       "      <td>Manager</td>\n",
       "      <td>19505.0</td>\n",
       "    </tr>\n",
       "    <tr>\n",
       "      <th>130</th>\n",
       "      <td>200130</td>\n",
       "      <td>0</td>\n",
       "      <td>43.0</td>\n",
       "      <td>Company Invited</td>\n",
       "      <td>1</td>\n",
       "      <td>NaN</td>\n",
       "      <td>Small Business</td>\n",
       "      <td>Female</td>\n",
       "      <td>3</td>\n",
       "      <td>2.0</td>\n",
       "      <td>Basic</td>\n",
       "      <td>3.0</td>\n",
       "      <td>Single</td>\n",
       "      <td>5.0</td>\n",
       "      <td>0</td>\n",
       "      <td>3</td>\n",
       "      <td>0</td>\n",
       "      <td>2.0</td>\n",
       "      <td>Executive</td>\n",
       "      <td>19739.0</td>\n",
       "    </tr>\n",
       "    <tr>\n",
       "      <th>132</th>\n",
       "      <td>200132</td>\n",
       "      <td>1</td>\n",
       "      <td>31.0</td>\n",
       "      <td>Self Enquiry</td>\n",
       "      <td>3</td>\n",
       "      <td>NaN</td>\n",
       "      <td>Salaried</td>\n",
       "      <td>Female</td>\n",
       "      <td>3</td>\n",
       "      <td>5.0</td>\n",
       "      <td>Deluxe</td>\n",
       "      <td>3.0</td>\n",
       "      <td>Divorced</td>\n",
       "      <td>4.0</td>\n",
       "      <td>1</td>\n",
       "      <td>3</td>\n",
       "      <td>1</td>\n",
       "      <td>0.0</td>\n",
       "      <td>Manager</td>\n",
       "      <td>19559.0</td>\n",
       "    </tr>\n",
       "    <tr>\n",
       "      <th>144</th>\n",
       "      <td>200144</td>\n",
       "      <td>0</td>\n",
       "      <td>32.0</td>\n",
       "      <td>Company Invited</td>\n",
       "      <td>3</td>\n",
       "      <td>NaN</td>\n",
       "      <td>Small Business</td>\n",
       "      <td>Male</td>\n",
       "      <td>2</td>\n",
       "      <td>5.0</td>\n",
       "      <td>Deluxe</td>\n",
       "      <td>3.0</td>\n",
       "      <td>Married</td>\n",
       "      <td>1.0</td>\n",
       "      <td>0</td>\n",
       "      <td>2</td>\n",
       "      <td>0</td>\n",
       "      <td>1.0</td>\n",
       "      <td>Manager</td>\n",
       "      <td>19668.0</td>\n",
       "    </tr>\n",
       "    <tr>\n",
       "      <th>155</th>\n",
       "      <td>200155</td>\n",
       "      <td>0</td>\n",
       "      <td>29.0</td>\n",
       "      <td>Company Invited</td>\n",
       "      <td>1</td>\n",
       "      <td>NaN</td>\n",
       "      <td>Large Business</td>\n",
       "      <td>Male</td>\n",
       "      <td>2</td>\n",
       "      <td>3.0</td>\n",
       "      <td>Deluxe</td>\n",
       "      <td>3.0</td>\n",
       "      <td>Divorced</td>\n",
       "      <td>2.0</td>\n",
       "      <td>0</td>\n",
       "      <td>3</td>\n",
       "      <td>0</td>\n",
       "      <td>1.0</td>\n",
       "      <td>Manager</td>\n",
       "      <td>NaN</td>\n",
       "    </tr>\n",
       "    <tr>\n",
       "      <th>175</th>\n",
       "      <td>200175</td>\n",
       "      <td>0</td>\n",
       "      <td>56.0</td>\n",
       "      <td>Self Enquiry</td>\n",
       "      <td>1</td>\n",
       "      <td>NaN</td>\n",
       "      <td>Salaried</td>\n",
       "      <td>Female</td>\n",
       "      <td>3</td>\n",
       "      <td>3.0</td>\n",
       "      <td>Basic</td>\n",
       "      <td>5.0</td>\n",
       "      <td>Married</td>\n",
       "      <td>5.0</td>\n",
       "      <td>1</td>\n",
       "      <td>4</td>\n",
       "      <td>1</td>\n",
       "      <td>1.0</td>\n",
       "      <td>Executive</td>\n",
       "      <td>NaN</td>\n",
       "    </tr>\n",
       "    <tr>\n",
       "      <th>184</th>\n",
       "      <td>200184</td>\n",
       "      <td>0</td>\n",
       "      <td>53.0</td>\n",
       "      <td>Self Enquiry</td>\n",
       "      <td>1</td>\n",
       "      <td>NaN</td>\n",
       "      <td>Small Business</td>\n",
       "      <td>Female</td>\n",
       "      <td>2</td>\n",
       "      <td>2.0</td>\n",
       "      <td>Deluxe</td>\n",
       "      <td>5.0</td>\n",
       "      <td>Married</td>\n",
       "      <td>2.0</td>\n",
       "      <td>0</td>\n",
       "      <td>2</td>\n",
       "      <td>1</td>\n",
       "      <td>1.0</td>\n",
       "      <td>Manager</td>\n",
       "      <td>NaN</td>\n",
       "    </tr>\n",
       "    <tr>\n",
       "      <th>196</th>\n",
       "      <td>200196</td>\n",
       "      <td>0</td>\n",
       "      <td>35.0</td>\n",
       "      <td>Company Invited</td>\n",
       "      <td>1</td>\n",
       "      <td>NaN</td>\n",
       "      <td>Small Business</td>\n",
       "      <td>Female</td>\n",
       "      <td>2</td>\n",
       "      <td>3.0</td>\n",
       "      <td>Deluxe</td>\n",
       "      <td>4.0</td>\n",
       "      <td>Single</td>\n",
       "      <td>6.0</td>\n",
       "      <td>0</td>\n",
       "      <td>2</td>\n",
       "      <td>1</td>\n",
       "      <td>0.0</td>\n",
       "      <td>Manager</td>\n",
       "      <td>NaN</td>\n",
       "    </tr>\n",
       "    <tr>\n",
       "      <th>200</th>\n",
       "      <td>200200</td>\n",
       "      <td>0</td>\n",
       "      <td>27.0</td>\n",
       "      <td>Company Invited</td>\n",
       "      <td>1</td>\n",
       "      <td>NaN</td>\n",
       "      <td>Large Business</td>\n",
       "      <td>Male</td>\n",
       "      <td>2</td>\n",
       "      <td>4.0</td>\n",
       "      <td>Deluxe</td>\n",
       "      <td>5.0</td>\n",
       "      <td>Divorced</td>\n",
       "      <td>6.0</td>\n",
       "      <td>0</td>\n",
       "      <td>3</td>\n",
       "      <td>0</td>\n",
       "      <td>1.0</td>\n",
       "      <td>Manager</td>\n",
       "      <td>NaN</td>\n",
       "    </tr>\n",
       "    <tr>\n",
       "      <th>208</th>\n",
       "      <td>200208</td>\n",
       "      <td>0</td>\n",
       "      <td>40.0</td>\n",
       "      <td>Company Invited</td>\n",
       "      <td>1</td>\n",
       "      <td>NaN</td>\n",
       "      <td>Salaried</td>\n",
       "      <td>Male</td>\n",
       "      <td>3</td>\n",
       "      <td>4.0</td>\n",
       "      <td>Deluxe</td>\n",
       "      <td>3.0</td>\n",
       "      <td>Divorced</td>\n",
       "      <td>1.0</td>\n",
       "      <td>0</td>\n",
       "      <td>5</td>\n",
       "      <td>1</td>\n",
       "      <td>0.0</td>\n",
       "      <td>Manager</td>\n",
       "      <td>19876.0</td>\n",
       "    </tr>\n",
       "    <tr>\n",
       "      <th>224</th>\n",
       "      <td>200224</td>\n",
       "      <td>0</td>\n",
       "      <td>31.0</td>\n",
       "      <td>NaN</td>\n",
       "      <td>1</td>\n",
       "      <td>NaN</td>\n",
       "      <td>Small Business</td>\n",
       "      <td>Male</td>\n",
       "      <td>2</td>\n",
       "      <td>5.0</td>\n",
       "      <td>Deluxe</td>\n",
       "      <td>3.0</td>\n",
       "      <td>Divorced</td>\n",
       "      <td>1.0</td>\n",
       "      <td>0</td>\n",
       "      <td>3</td>\n",
       "      <td>1</td>\n",
       "      <td>0.0</td>\n",
       "      <td>Manager</td>\n",
       "      <td>NaN</td>\n",
       "    </tr>\n",
       "    <tr>\n",
       "      <th>241</th>\n",
       "      <td>200241</td>\n",
       "      <td>0</td>\n",
       "      <td>32.0</td>\n",
       "      <td>Company Invited</td>\n",
       "      <td>3</td>\n",
       "      <td>NaN</td>\n",
       "      <td>Small Business</td>\n",
       "      <td>Male</td>\n",
       "      <td>3</td>\n",
       "      <td>3.0</td>\n",
       "      <td>Deluxe</td>\n",
       "      <td>3.0</td>\n",
       "      <td>Divorced</td>\n",
       "      <td>1.0</td>\n",
       "      <td>0</td>\n",
       "      <td>4</td>\n",
       "      <td>1</td>\n",
       "      <td>2.0</td>\n",
       "      <td>Manager</td>\n",
       "      <td>NaN</td>\n",
       "    </tr>\n",
       "    <tr>\n",
       "      <th>255</th>\n",
       "      <td>200255</td>\n",
       "      <td>0</td>\n",
       "      <td>25.0</td>\n",
       "      <td>Self Enquiry</td>\n",
       "      <td>1</td>\n",
       "      <td>NaN</td>\n",
       "      <td>Salaried</td>\n",
       "      <td>Female</td>\n",
       "      <td>3</td>\n",
       "      <td>3.0</td>\n",
       "      <td>Deluxe</td>\n",
       "      <td>3.0</td>\n",
       "      <td>Divorced</td>\n",
       "      <td>1.0</td>\n",
       "      <td>0</td>\n",
       "      <td>3</td>\n",
       "      <td>1</td>\n",
       "      <td>1.0</td>\n",
       "      <td>Manager</td>\n",
       "      <td>19898.0</td>\n",
       "    </tr>\n",
       "    <tr>\n",
       "      <th>282</th>\n",
       "      <td>200282</td>\n",
       "      <td>0</td>\n",
       "      <td>29.0</td>\n",
       "      <td>Company Invited</td>\n",
       "      <td>3</td>\n",
       "      <td>NaN</td>\n",
       "      <td>Salaried</td>\n",
       "      <td>Male</td>\n",
       "      <td>2</td>\n",
       "      <td>3.0</td>\n",
       "      <td>Deluxe</td>\n",
       "      <td>3.0</td>\n",
       "      <td>Single</td>\n",
       "      <td>2.0</td>\n",
       "      <td>0</td>\n",
       "      <td>2</td>\n",
       "      <td>0</td>\n",
       "      <td>0.0</td>\n",
       "      <td>Manager</td>\n",
       "      <td>19554.0</td>\n",
       "    </tr>\n",
       "    <tr>\n",
       "      <th>284</th>\n",
       "      <td>200284</td>\n",
       "      <td>0</td>\n",
       "      <td>26.0</td>\n",
       "      <td>Company Invited</td>\n",
       "      <td>1</td>\n",
       "      <td>NaN</td>\n",
       "      <td>Small Business</td>\n",
       "      <td>Male</td>\n",
       "      <td>2</td>\n",
       "      <td>3.0</td>\n",
       "      <td>Deluxe</td>\n",
       "      <td>5.0</td>\n",
       "      <td>Divorced</td>\n",
       "      <td>2.0</td>\n",
       "      <td>1</td>\n",
       "      <td>3</td>\n",
       "      <td>1</td>\n",
       "      <td>1.0</td>\n",
       "      <td>Manager</td>\n",
       "      <td>19741.0</td>\n",
       "    </tr>\n",
       "    <tr>\n",
       "      <th>291</th>\n",
       "      <td>200291</td>\n",
       "      <td>0</td>\n",
       "      <td>36.0</td>\n",
       "      <td>Self Enquiry</td>\n",
       "      <td>1</td>\n",
       "      <td>NaN</td>\n",
       "      <td>Large Business</td>\n",
       "      <td>Male</td>\n",
       "      <td>1</td>\n",
       "      <td>3.0</td>\n",
       "      <td>Deluxe</td>\n",
       "      <td>4.0</td>\n",
       "      <td>Single</td>\n",
       "      <td>5.0</td>\n",
       "      <td>0</td>\n",
       "      <td>2</td>\n",
       "      <td>1</td>\n",
       "      <td>0.0</td>\n",
       "      <td>Manager</td>\n",
       "      <td>19485.0</td>\n",
       "    </tr>\n",
       "    <tr>\n",
       "      <th>309</th>\n",
       "      <td>200309</td>\n",
       "      <td>0</td>\n",
       "      <td>31.0</td>\n",
       "      <td>Self Enquiry</td>\n",
       "      <td>1</td>\n",
       "      <td>NaN</td>\n",
       "      <td>Large Business</td>\n",
       "      <td>Male</td>\n",
       "      <td>2</td>\n",
       "      <td>3.0</td>\n",
       "      <td>Basic</td>\n",
       "      <td>3.0</td>\n",
       "      <td>Divorced</td>\n",
       "      <td>1.0</td>\n",
       "      <td>1</td>\n",
       "      <td>4</td>\n",
       "      <td>0</td>\n",
       "      <td>1.0</td>\n",
       "      <td>Executive</td>\n",
       "      <td>19821.0</td>\n",
       "    </tr>\n",
       "    <tr>\n",
       "      <th>320</th>\n",
       "      <td>200320</td>\n",
       "      <td>0</td>\n",
       "      <td>27.0</td>\n",
       "      <td>Self Enquiry</td>\n",
       "      <td>3</td>\n",
       "      <td>NaN</td>\n",
       "      <td>Salaried</td>\n",
       "      <td>Male</td>\n",
       "      <td>3</td>\n",
       "      <td>3.0</td>\n",
       "      <td>Deluxe</td>\n",
       "      <td>3.0</td>\n",
       "      <td>Single</td>\n",
       "      <td>2.0</td>\n",
       "      <td>1</td>\n",
       "      <td>4</td>\n",
       "      <td>1</td>\n",
       "      <td>2.0</td>\n",
       "      <td>Manager</td>\n",
       "      <td>NaN</td>\n",
       "    </tr>\n",
       "    <tr>\n",
       "      <th>328</th>\n",
       "      <td>200328</td>\n",
       "      <td>0</td>\n",
       "      <td>33.0</td>\n",
       "      <td>Company Invited</td>\n",
       "      <td>3</td>\n",
       "      <td>NaN</td>\n",
       "      <td>Small Business</td>\n",
       "      <td>Male</td>\n",
       "      <td>2</td>\n",
       "      <td>4.0</td>\n",
       "      <td>Deluxe</td>\n",
       "      <td>3.0</td>\n",
       "      <td>Single</td>\n",
       "      <td>4.0</td>\n",
       "      <td>0</td>\n",
       "      <td>3</td>\n",
       "      <td>1</td>\n",
       "      <td>1.0</td>\n",
       "      <td>Manager</td>\n",
       "      <td>19682.0</td>\n",
       "    </tr>\n",
       "    <tr>\n",
       "      <th>332</th>\n",
       "      <td>200332</td>\n",
       "      <td>0</td>\n",
       "      <td>54.0</td>\n",
       "      <td>Company Invited</td>\n",
       "      <td>1</td>\n",
       "      <td>NaN</td>\n",
       "      <td>Salaried</td>\n",
       "      <td>Female</td>\n",
       "      <td>2</td>\n",
       "      <td>3.0</td>\n",
       "      <td>Deluxe</td>\n",
       "      <td>3.0</td>\n",
       "      <td>Single</td>\n",
       "      <td>4.0</td>\n",
       "      <td>0</td>\n",
       "      <td>4</td>\n",
       "      <td>1</td>\n",
       "      <td>0.0</td>\n",
       "      <td>Manager</td>\n",
       "      <td>19869.0</td>\n",
       "    </tr>\n",
       "    <tr>\n",
       "      <th>349</th>\n",
       "      <td>200349</td>\n",
       "      <td>0</td>\n",
       "      <td>29.0</td>\n",
       "      <td>Company Invited</td>\n",
       "      <td>3</td>\n",
       "      <td>NaN</td>\n",
       "      <td>Salaried</td>\n",
       "      <td>Male</td>\n",
       "      <td>3</td>\n",
       "      <td>3.0</td>\n",
       "      <td>Deluxe</td>\n",
       "      <td>3.0</td>\n",
       "      <td>Divorced</td>\n",
       "      <td>2.0</td>\n",
       "      <td>0</td>\n",
       "      <td>2</td>\n",
       "      <td>1</td>\n",
       "      <td>1.0</td>\n",
       "      <td>Manager</td>\n",
       "      <td>19649.0</td>\n",
       "    </tr>\n",
       "    <tr>\n",
       "      <th>354</th>\n",
       "      <td>200354</td>\n",
       "      <td>0</td>\n",
       "      <td>30.0</td>\n",
       "      <td>Company Invited</td>\n",
       "      <td>3</td>\n",
       "      <td>NaN</td>\n",
       "      <td>Large Business</td>\n",
       "      <td>Female</td>\n",
       "      <td>2</td>\n",
       "      <td>3.0</td>\n",
       "      <td>Deluxe</td>\n",
       "      <td>3.0</td>\n",
       "      <td>Divorced</td>\n",
       "      <td>1.0</td>\n",
       "      <td>1</td>\n",
       "      <td>3</td>\n",
       "      <td>1</td>\n",
       "      <td>0.0</td>\n",
       "      <td>Manager</td>\n",
       "      <td>19736.0</td>\n",
       "    </tr>\n",
       "    <tr>\n",
       "      <th>380</th>\n",
       "      <td>200380</td>\n",
       "      <td>0</td>\n",
       "      <td>24.0</td>\n",
       "      <td>Self Enquiry</td>\n",
       "      <td>3</td>\n",
       "      <td>NaN</td>\n",
       "      <td>Small Business</td>\n",
       "      <td>Female</td>\n",
       "      <td>3</td>\n",
       "      <td>3.0</td>\n",
       "      <td>Deluxe</td>\n",
       "      <td>3.0</td>\n",
       "      <td>Married</td>\n",
       "      <td>2.0</td>\n",
       "      <td>1</td>\n",
       "      <td>2</td>\n",
       "      <td>0</td>\n",
       "      <td>2.0</td>\n",
       "      <td>Manager</td>\n",
       "      <td>NaN</td>\n",
       "    </tr>\n",
       "    <tr>\n",
       "      <th>394</th>\n",
       "      <td>200394</td>\n",
       "      <td>0</td>\n",
       "      <td>31.0</td>\n",
       "      <td>Self Enquiry</td>\n",
       "      <td>1</td>\n",
       "      <td>NaN</td>\n",
       "      <td>Small Business</td>\n",
       "      <td>Female</td>\n",
       "      <td>2</td>\n",
       "      <td>3.0</td>\n",
       "      <td>Deluxe</td>\n",
       "      <td>5.0</td>\n",
       "      <td>Divorced</td>\n",
       "      <td>2.0</td>\n",
       "      <td>0</td>\n",
       "      <td>2</td>\n",
       "      <td>1</td>\n",
       "      <td>0.0</td>\n",
       "      <td>Manager</td>\n",
       "      <td>NaN</td>\n",
       "    </tr>\n",
       "    <tr>\n",
       "      <th>396</th>\n",
       "      <td>200396</td>\n",
       "      <td>0</td>\n",
       "      <td>43.0</td>\n",
       "      <td>Self Enquiry</td>\n",
       "      <td>1</td>\n",
       "      <td>NaN</td>\n",
       "      <td>Salaried</td>\n",
       "      <td>Female</td>\n",
       "      <td>3</td>\n",
       "      <td>3.0</td>\n",
       "      <td>Deluxe</td>\n",
       "      <td>3.0</td>\n",
       "      <td>Married</td>\n",
       "      <td>5.0</td>\n",
       "      <td>1</td>\n",
       "      <td>2</td>\n",
       "      <td>0</td>\n",
       "      <td>0.0</td>\n",
       "      <td>Manager</td>\n",
       "      <td>19522.0</td>\n",
       "    </tr>\n",
       "    <tr>\n",
       "      <th>397</th>\n",
       "      <td>200397</td>\n",
       "      <td>0</td>\n",
       "      <td>25.0</td>\n",
       "      <td>Self Enquiry</td>\n",
       "      <td>3</td>\n",
       "      <td>NaN</td>\n",
       "      <td>Salaried</td>\n",
       "      <td>Female</td>\n",
       "      <td>2</td>\n",
       "      <td>4.0</td>\n",
       "      <td>Deluxe</td>\n",
       "      <td>3.0</td>\n",
       "      <td>Single</td>\n",
       "      <td>2.0</td>\n",
       "      <td>1</td>\n",
       "      <td>2</td>\n",
       "      <td>0</td>\n",
       "      <td>1.0</td>\n",
       "      <td>Manager</td>\n",
       "      <td>19487.0</td>\n",
       "    </tr>\n",
       "    <tr>\n",
       "      <th>398</th>\n",
       "      <td>200398</td>\n",
       "      <td>0</td>\n",
       "      <td>37.0</td>\n",
       "      <td>Company Invited</td>\n",
       "      <td>1</td>\n",
       "      <td>NaN</td>\n",
       "      <td>Small Business</td>\n",
       "      <td>Female</td>\n",
       "      <td>3</td>\n",
       "      <td>3.0</td>\n",
       "      <td>Deluxe</td>\n",
       "      <td>3.0</td>\n",
       "      <td>Divorced</td>\n",
       "      <td>4.0</td>\n",
       "      <td>1</td>\n",
       "      <td>3</td>\n",
       "      <td>1</td>\n",
       "      <td>1.0</td>\n",
       "      <td>Manager</td>\n",
       "      <td>NaN</td>\n",
       "    </tr>\n",
       "    <tr>\n",
       "      <th>404</th>\n",
       "      <td>200404</td>\n",
       "      <td>0</td>\n",
       "      <td>28.0</td>\n",
       "      <td>Self Enquiry</td>\n",
       "      <td>1</td>\n",
       "      <td>NaN</td>\n",
       "      <td>Small Business</td>\n",
       "      <td>Male</td>\n",
       "      <td>3</td>\n",
       "      <td>3.0</td>\n",
       "      <td>Deluxe</td>\n",
       "      <td>5.0</td>\n",
       "      <td>Married</td>\n",
       "      <td>2.0</td>\n",
       "      <td>0</td>\n",
       "      <td>2</td>\n",
       "      <td>0</td>\n",
       "      <td>0.0</td>\n",
       "      <td>Manager</td>\n",
       "      <td>19558.0</td>\n",
       "    </tr>\n",
       "    <tr>\n",
       "      <th>409</th>\n",
       "      <td>200409</td>\n",
       "      <td>0</td>\n",
       "      <td>42.0</td>\n",
       "      <td>Company Invited</td>\n",
       "      <td>1</td>\n",
       "      <td>NaN</td>\n",
       "      <td>Salaried</td>\n",
       "      <td>Female</td>\n",
       "      <td>3</td>\n",
       "      <td>3.0</td>\n",
       "      <td>Deluxe</td>\n",
       "      <td>3.0</td>\n",
       "      <td>Married</td>\n",
       "      <td>3.0</td>\n",
       "      <td>0</td>\n",
       "      <td>3</td>\n",
       "      <td>1</td>\n",
       "      <td>2.0</td>\n",
       "      <td>Manager</td>\n",
       "      <td>19556.0</td>\n",
       "    </tr>\n",
       "    <tr>\n",
       "      <th>412</th>\n",
       "      <td>200412</td>\n",
       "      <td>0</td>\n",
       "      <td>46.0</td>\n",
       "      <td>Self Enquiry</td>\n",
       "      <td>1</td>\n",
       "      <td>NaN</td>\n",
       "      <td>Small Business</td>\n",
       "      <td>Female</td>\n",
       "      <td>2</td>\n",
       "      <td>3.0</td>\n",
       "      <td>Deluxe</td>\n",
       "      <td>3.0</td>\n",
       "      <td>Married</td>\n",
       "      <td>3.0</td>\n",
       "      <td>0</td>\n",
       "      <td>5</td>\n",
       "      <td>0</td>\n",
       "      <td>0.0</td>\n",
       "      <td>Manager</td>\n",
       "      <td>19810.0</td>\n",
       "    </tr>\n",
       "    <tr>\n",
       "      <th>413</th>\n",
       "      <td>200413</td>\n",
       "      <td>0</td>\n",
       "      <td>42.0</td>\n",
       "      <td>Company Invited</td>\n",
       "      <td>1</td>\n",
       "      <td>NaN</td>\n",
       "      <td>Large Business</td>\n",
       "      <td>Female</td>\n",
       "      <td>2</td>\n",
       "      <td>4.0</td>\n",
       "      <td>Deluxe</td>\n",
       "      <td>3.0</td>\n",
       "      <td>Divorced</td>\n",
       "      <td>1.0</td>\n",
       "      <td>0</td>\n",
       "      <td>3</td>\n",
       "      <td>0</td>\n",
       "      <td>0.0</td>\n",
       "      <td>Manager</td>\n",
       "      <td>19523.0</td>\n",
       "    </tr>\n",
       "    <tr>\n",
       "      <th>447</th>\n",
       "      <td>200447</td>\n",
       "      <td>0</td>\n",
       "      <td>35.0</td>\n",
       "      <td>Self Enquiry</td>\n",
       "      <td>3</td>\n",
       "      <td>NaN</td>\n",
       "      <td>Small Business</td>\n",
       "      <td>Male</td>\n",
       "      <td>2</td>\n",
       "      <td>3.0</td>\n",
       "      <td>Deluxe</td>\n",
       "      <td>3.0</td>\n",
       "      <td>Divorced</td>\n",
       "      <td>1.0</td>\n",
       "      <td>0</td>\n",
       "      <td>3</td>\n",
       "      <td>1</td>\n",
       "      <td>0.0</td>\n",
       "      <td>Manager</td>\n",
       "      <td>19717.0</td>\n",
       "    </tr>\n",
       "    <tr>\n",
       "      <th>452</th>\n",
       "      <td>200452</td>\n",
       "      <td>0</td>\n",
       "      <td>45.0</td>\n",
       "      <td>Self Enquiry</td>\n",
       "      <td>3</td>\n",
       "      <td>NaN</td>\n",
       "      <td>Salaried</td>\n",
       "      <td>Male</td>\n",
       "      <td>3</td>\n",
       "      <td>3.0</td>\n",
       "      <td>Deluxe</td>\n",
       "      <td>4.0</td>\n",
       "      <td>Divorced</td>\n",
       "      <td>1.0</td>\n",
       "      <td>0</td>\n",
       "      <td>5</td>\n",
       "      <td>1</td>\n",
       "      <td>0.0</td>\n",
       "      <td>Manager</td>\n",
       "      <td>19805.0</td>\n",
       "    </tr>\n",
       "    <tr>\n",
       "      <th>454</th>\n",
       "      <td>200454</td>\n",
       "      <td>0</td>\n",
       "      <td>29.0</td>\n",
       "      <td>Self Enquiry</td>\n",
       "      <td>1</td>\n",
       "      <td>NaN</td>\n",
       "      <td>Large Business</td>\n",
       "      <td>Male</td>\n",
       "      <td>2</td>\n",
       "      <td>3.0</td>\n",
       "      <td>Deluxe</td>\n",
       "      <td>3.0</td>\n",
       "      <td>Married</td>\n",
       "      <td>5.0</td>\n",
       "      <td>0</td>\n",
       "      <td>5</td>\n",
       "      <td>0</td>\n",
       "      <td>0.0</td>\n",
       "      <td>Manager</td>\n",
       "      <td>NaN</td>\n",
       "    </tr>\n",
       "    <tr>\n",
       "      <th>460</th>\n",
       "      <td>200460</td>\n",
       "      <td>0</td>\n",
       "      <td>26.0</td>\n",
       "      <td>Self Enquiry</td>\n",
       "      <td>3</td>\n",
       "      <td>NaN</td>\n",
       "      <td>Small Business</td>\n",
       "      <td>Male</td>\n",
       "      <td>2</td>\n",
       "      <td>3.0</td>\n",
       "      <td>Deluxe</td>\n",
       "      <td>3.0</td>\n",
       "      <td>Married</td>\n",
       "      <td>6.0</td>\n",
       "      <td>0</td>\n",
       "      <td>5</td>\n",
       "      <td>1</td>\n",
       "      <td>0.0</td>\n",
       "      <td>Manager</td>\n",
       "      <td>NaN</td>\n",
       "    </tr>\n",
       "    <tr>\n",
       "      <th>461</th>\n",
       "      <td>200461</td>\n",
       "      <td>0</td>\n",
       "      <td>35.0</td>\n",
       "      <td>Self Enquiry</td>\n",
       "      <td>3</td>\n",
       "      <td>NaN</td>\n",
       "      <td>Small Business</td>\n",
       "      <td>Female</td>\n",
       "      <td>3</td>\n",
       "      <td>3.0</td>\n",
       "      <td>Deluxe</td>\n",
       "      <td>3.0</td>\n",
       "      <td>Single</td>\n",
       "      <td>2.0</td>\n",
       "      <td>0</td>\n",
       "      <td>4</td>\n",
       "      <td>0</td>\n",
       "      <td>2.0</td>\n",
       "      <td>Manager</td>\n",
       "      <td>19859.0</td>\n",
       "    </tr>\n",
       "    <tr>\n",
       "      <th>469</th>\n",
       "      <td>200469</td>\n",
       "      <td>1</td>\n",
       "      <td>32.0</td>\n",
       "      <td>Company Invited</td>\n",
       "      <td>3</td>\n",
       "      <td>NaN</td>\n",
       "      <td>Salaried</td>\n",
       "      <td>Male</td>\n",
       "      <td>2</td>\n",
       "      <td>2.0</td>\n",
       "      <td>Deluxe</td>\n",
       "      <td>3.0</td>\n",
       "      <td>Divorced</td>\n",
       "      <td>1.0</td>\n",
       "      <td>0</td>\n",
       "      <td>3</td>\n",
       "      <td>1</td>\n",
       "      <td>1.0</td>\n",
       "      <td>Manager</td>\n",
       "      <td>19707.0</td>\n",
       "    </tr>\n",
       "    <tr>\n",
       "      <th>504</th>\n",
       "      <td>200504</td>\n",
       "      <td>1</td>\n",
       "      <td>45.0</td>\n",
       "      <td>Company Invited</td>\n",
       "      <td>3</td>\n",
       "      <td>NaN</td>\n",
       "      <td>Salaried</td>\n",
       "      <td>Female</td>\n",
       "      <td>3</td>\n",
       "      <td>3.0</td>\n",
       "      <td>Deluxe</td>\n",
       "      <td>5.0</td>\n",
       "      <td>Divorced</td>\n",
       "      <td>3.0</td>\n",
       "      <td>0</td>\n",
       "      <td>2</td>\n",
       "      <td>0</td>\n",
       "      <td>0.0</td>\n",
       "      <td>Manager</td>\n",
       "      <td>NaN</td>\n",
       "    </tr>\n",
       "    <tr>\n",
       "      <th>517</th>\n",
       "      <td>200517</td>\n",
       "      <td>0</td>\n",
       "      <td>25.0</td>\n",
       "      <td>Self Enquiry</td>\n",
       "      <td>3</td>\n",
       "      <td>NaN</td>\n",
       "      <td>Salaried</td>\n",
       "      <td>Male</td>\n",
       "      <td>2</td>\n",
       "      <td>2.0</td>\n",
       "      <td>Deluxe</td>\n",
       "      <td>4.0</td>\n",
       "      <td>Divorced</td>\n",
       "      <td>1.0</td>\n",
       "      <td>0</td>\n",
       "      <td>4</td>\n",
       "      <td>0</td>\n",
       "      <td>0.0</td>\n",
       "      <td>Manager</td>\n",
       "      <td>19851.0</td>\n",
       "    </tr>\n",
       "    <tr>\n",
       "      <th>521</th>\n",
       "      <td>200521</td>\n",
       "      <td>0</td>\n",
       "      <td>27.0</td>\n",
       "      <td>Company Invited</td>\n",
       "      <td>3</td>\n",
       "      <td>NaN</td>\n",
       "      <td>Small Business</td>\n",
       "      <td>Female</td>\n",
       "      <td>3</td>\n",
       "      <td>2.0</td>\n",
       "      <td>Deluxe</td>\n",
       "      <td>3.0</td>\n",
       "      <td>Married</td>\n",
       "      <td>2.0</td>\n",
       "      <td>1</td>\n",
       "      <td>2</td>\n",
       "      <td>1</td>\n",
       "      <td>2.0</td>\n",
       "      <td>Manager</td>\n",
       "      <td>19647.0</td>\n",
       "    </tr>\n",
       "  </tbody>\n",
       "</table>\n",
       "</div>"
      ],
      "text/plain": [
       "     CustomerID  ProdTaken   Age    TypeofContact  CityTier  DurationOfPitch  \\\n",
       "46       200046          0  34.0  Company Invited         3              NaN   \n",
       "75       200075          0  31.0     Self Enquiry         1              NaN   \n",
       "76       200076          0  35.0     Self Enquiry         3              NaN   \n",
       "84       200084          0  34.0     Self Enquiry         1              NaN   \n",
       "103      200103          0  34.0     Self Enquiry         1              NaN   \n",
       "114      200114          0  34.0     Self Enquiry         1              NaN   \n",
       "130      200130          0  43.0  Company Invited         1              NaN   \n",
       "132      200132          1  31.0     Self Enquiry         3              NaN   \n",
       "144      200144          0  32.0  Company Invited         3              NaN   \n",
       "155      200155          0  29.0  Company Invited         1              NaN   \n",
       "175      200175          0  56.0     Self Enquiry         1              NaN   \n",
       "184      200184          0  53.0     Self Enquiry         1              NaN   \n",
       "196      200196          0  35.0  Company Invited         1              NaN   \n",
       "200      200200          0  27.0  Company Invited         1              NaN   \n",
       "208      200208          0  40.0  Company Invited         1              NaN   \n",
       "224      200224          0  31.0              NaN         1              NaN   \n",
       "241      200241          0  32.0  Company Invited         3              NaN   \n",
       "255      200255          0  25.0     Self Enquiry         1              NaN   \n",
       "282      200282          0  29.0  Company Invited         3              NaN   \n",
       "284      200284          0  26.0  Company Invited         1              NaN   \n",
       "291      200291          0  36.0     Self Enquiry         1              NaN   \n",
       "309      200309          0  31.0     Self Enquiry         1              NaN   \n",
       "320      200320          0  27.0     Self Enquiry         3              NaN   \n",
       "328      200328          0  33.0  Company Invited         3              NaN   \n",
       "332      200332          0  54.0  Company Invited         1              NaN   \n",
       "349      200349          0  29.0  Company Invited         3              NaN   \n",
       "354      200354          0  30.0  Company Invited         3              NaN   \n",
       "380      200380          0  24.0     Self Enquiry         3              NaN   \n",
       "394      200394          0  31.0     Self Enquiry         1              NaN   \n",
       "396      200396          0  43.0     Self Enquiry         1              NaN   \n",
       "397      200397          0  25.0     Self Enquiry         3              NaN   \n",
       "398      200398          0  37.0  Company Invited         1              NaN   \n",
       "404      200404          0  28.0     Self Enquiry         1              NaN   \n",
       "409      200409          0  42.0  Company Invited         1              NaN   \n",
       "412      200412          0  46.0     Self Enquiry         1              NaN   \n",
       "413      200413          0  42.0  Company Invited         1              NaN   \n",
       "447      200447          0  35.0     Self Enquiry         3              NaN   \n",
       "452      200452          0  45.0     Self Enquiry         3              NaN   \n",
       "454      200454          0  29.0     Self Enquiry         1              NaN   \n",
       "460      200460          0  26.0     Self Enquiry         3              NaN   \n",
       "461      200461          0  35.0     Self Enquiry         3              NaN   \n",
       "469      200469          1  32.0  Company Invited         3              NaN   \n",
       "504      200504          1  45.0  Company Invited         3              NaN   \n",
       "517      200517          0  25.0     Self Enquiry         3              NaN   \n",
       "521      200521          0  27.0  Company Invited         3              NaN   \n",
       "\n",
       "         Occupation  Gender  NumberOfPersonVisiting  NumberOfFollowups  \\\n",
       "46   Small Business    Male                       3                3.0   \n",
       "75         Salaried  Female                       3                3.0   \n",
       "76   Small Business    Male                       2                4.0   \n",
       "84   Small Business    Male                       3                3.0   \n",
       "103        Salaried  Female                       2                3.0   \n",
       "114        Salaried  Female                       2                4.0   \n",
       "130  Small Business  Female                       3                2.0   \n",
       "132        Salaried  Female                       3                5.0   \n",
       "144  Small Business    Male                       2                5.0   \n",
       "155  Large Business    Male                       2                3.0   \n",
       "175        Salaried  Female                       3                3.0   \n",
       "184  Small Business  Female                       2                2.0   \n",
       "196  Small Business  Female                       2                3.0   \n",
       "200  Large Business    Male                       2                4.0   \n",
       "208        Salaried    Male                       3                4.0   \n",
       "224  Small Business    Male                       2                5.0   \n",
       "241  Small Business    Male                       3                3.0   \n",
       "255        Salaried  Female                       3                3.0   \n",
       "282        Salaried    Male                       2                3.0   \n",
       "284  Small Business    Male                       2                3.0   \n",
       "291  Large Business    Male                       1                3.0   \n",
       "309  Large Business    Male                       2                3.0   \n",
       "320        Salaried    Male                       3                3.0   \n",
       "328  Small Business    Male                       2                4.0   \n",
       "332        Salaried  Female                       2                3.0   \n",
       "349        Salaried    Male                       3                3.0   \n",
       "354  Large Business  Female                       2                3.0   \n",
       "380  Small Business  Female                       3                3.0   \n",
       "394  Small Business  Female                       2                3.0   \n",
       "396        Salaried  Female                       3                3.0   \n",
       "397        Salaried  Female                       2                4.0   \n",
       "398  Small Business  Female                       3                3.0   \n",
       "404  Small Business    Male                       3                3.0   \n",
       "409        Salaried  Female                       3                3.0   \n",
       "412  Small Business  Female                       2                3.0   \n",
       "413  Large Business  Female                       2                4.0   \n",
       "447  Small Business    Male                       2                3.0   \n",
       "452        Salaried    Male                       3                3.0   \n",
       "454  Large Business    Male                       2                3.0   \n",
       "460  Small Business    Male                       2                3.0   \n",
       "461  Small Business  Female                       3                3.0   \n",
       "469        Salaried    Male                       2                2.0   \n",
       "504        Salaried  Female                       3                3.0   \n",
       "517        Salaried    Male                       2                2.0   \n",
       "521  Small Business  Female                       3                2.0   \n",
       "\n",
       "    ProductPitched  PreferredPropertyStar MaritalStatus  NumberOfTrips  \\\n",
       "46          Deluxe                    3.0        Single            1.0   \n",
       "75          Deluxe                    3.0        Single            2.0   \n",
       "76          Deluxe                    5.0        Single            1.0   \n",
       "84          Deluxe                    4.0      Divorced            2.0   \n",
       "103         Deluxe                    3.0        Single            2.0   \n",
       "114         Deluxe                    4.0       Married            7.0   \n",
       "130          Basic                    3.0        Single            5.0   \n",
       "132         Deluxe                    3.0      Divorced            4.0   \n",
       "144         Deluxe                    3.0       Married            1.0   \n",
       "155         Deluxe                    3.0      Divorced            2.0   \n",
       "175          Basic                    5.0       Married            5.0   \n",
       "184         Deluxe                    5.0       Married            2.0   \n",
       "196         Deluxe                    4.0        Single            6.0   \n",
       "200         Deluxe                    5.0      Divorced            6.0   \n",
       "208         Deluxe                    3.0      Divorced            1.0   \n",
       "224         Deluxe                    3.0      Divorced            1.0   \n",
       "241         Deluxe                    3.0      Divorced            1.0   \n",
       "255         Deluxe                    3.0      Divorced            1.0   \n",
       "282         Deluxe                    3.0        Single            2.0   \n",
       "284         Deluxe                    5.0      Divorced            2.0   \n",
       "291         Deluxe                    4.0        Single            5.0   \n",
       "309          Basic                    3.0      Divorced            1.0   \n",
       "320         Deluxe                    3.0        Single            2.0   \n",
       "328         Deluxe                    3.0        Single            4.0   \n",
       "332         Deluxe                    3.0        Single            4.0   \n",
       "349         Deluxe                    3.0      Divorced            2.0   \n",
       "354         Deluxe                    3.0      Divorced            1.0   \n",
       "380         Deluxe                    3.0       Married            2.0   \n",
       "394         Deluxe                    5.0      Divorced            2.0   \n",
       "396         Deluxe                    3.0       Married            5.0   \n",
       "397         Deluxe                    3.0        Single            2.0   \n",
       "398         Deluxe                    3.0      Divorced            4.0   \n",
       "404         Deluxe                    5.0       Married            2.0   \n",
       "409         Deluxe                    3.0       Married            3.0   \n",
       "412         Deluxe                    3.0       Married            3.0   \n",
       "413         Deluxe                    3.0      Divorced            1.0   \n",
       "447         Deluxe                    3.0      Divorced            1.0   \n",
       "452         Deluxe                    4.0      Divorced            1.0   \n",
       "454         Deluxe                    3.0       Married            5.0   \n",
       "460         Deluxe                    3.0       Married            6.0   \n",
       "461         Deluxe                    3.0        Single            2.0   \n",
       "469         Deluxe                    3.0      Divorced            1.0   \n",
       "504         Deluxe                    5.0      Divorced            3.0   \n",
       "517         Deluxe                    4.0      Divorced            1.0   \n",
       "521         Deluxe                    3.0       Married            2.0   \n",
       "\n",
       "     Passport  PitchSatisfactionScore  OwnCar  NumberOfChildrenVisiting  \\\n",
       "46          0                       5       1                       1.0   \n",
       "75          0                       5       0                       1.0   \n",
       "76          0                       2       0                       1.0   \n",
       "84          0                       5       0                       0.0   \n",
       "103         0                       3       1                       0.0   \n",
       "114         0                       3       0                       1.0   \n",
       "130         0                       3       0                       2.0   \n",
       "132         1                       3       1                       0.0   \n",
       "144         0                       2       0                       1.0   \n",
       "155         0                       3       0                       1.0   \n",
       "175         1                       4       1                       1.0   \n",
       "184         0                       2       1                       1.0   \n",
       "196         0                       2       1                       0.0   \n",
       "200         0                       3       0                       1.0   \n",
       "208         0                       5       1                       0.0   \n",
       "224         0                       3       1                       0.0   \n",
       "241         0                       4       1                       2.0   \n",
       "255         0                       3       1                       1.0   \n",
       "282         0                       2       0                       0.0   \n",
       "284         1                       3       1                       1.0   \n",
       "291         0                       2       1                       0.0   \n",
       "309         1                       4       0                       1.0   \n",
       "320         1                       4       1                       2.0   \n",
       "328         0                       3       1                       1.0   \n",
       "332         0                       4       1                       0.0   \n",
       "349         0                       2       1                       1.0   \n",
       "354         1                       3       1                       0.0   \n",
       "380         1                       2       0                       2.0   \n",
       "394         0                       2       1                       0.0   \n",
       "396         1                       2       0                       0.0   \n",
       "397         1                       2       0                       1.0   \n",
       "398         1                       3       1                       1.0   \n",
       "404         0                       2       0                       0.0   \n",
       "409         0                       3       1                       2.0   \n",
       "412         0                       5       0                       0.0   \n",
       "413         0                       3       0                       0.0   \n",
       "447         0                       3       1                       0.0   \n",
       "452         0                       5       1                       0.0   \n",
       "454         0                       5       0                       0.0   \n",
       "460         0                       5       1                       0.0   \n",
       "461         0                       4       0                       2.0   \n",
       "469         0                       3       1                       1.0   \n",
       "504         0                       2       0                       0.0   \n",
       "517         0                       4       0                       0.0   \n",
       "521         1                       2       1                       2.0   \n",
       "\n",
       "    Designation  MonthlyIncome  \n",
       "46      Manager        19568.0  \n",
       "75      Manager            NaN  \n",
       "76      Manager            NaN  \n",
       "84      Manager            NaN  \n",
       "103     Manager        19809.0  \n",
       "114     Manager        19505.0  \n",
       "130   Executive        19739.0  \n",
       "132     Manager        19559.0  \n",
       "144     Manager        19668.0  \n",
       "155     Manager            NaN  \n",
       "175   Executive            NaN  \n",
       "184     Manager            NaN  \n",
       "196     Manager            NaN  \n",
       "200     Manager            NaN  \n",
       "208     Manager        19876.0  \n",
       "224     Manager            NaN  \n",
       "241     Manager            NaN  \n",
       "255     Manager        19898.0  \n",
       "282     Manager        19554.0  \n",
       "284     Manager        19741.0  \n",
       "291     Manager        19485.0  \n",
       "309   Executive        19821.0  \n",
       "320     Manager            NaN  \n",
       "328     Manager        19682.0  \n",
       "332     Manager        19869.0  \n",
       "349     Manager        19649.0  \n",
       "354     Manager        19736.0  \n",
       "380     Manager            NaN  \n",
       "394     Manager            NaN  \n",
       "396     Manager        19522.0  \n",
       "397     Manager        19487.0  \n",
       "398     Manager            NaN  \n",
       "404     Manager        19558.0  \n",
       "409     Manager        19556.0  \n",
       "412     Manager        19810.0  \n",
       "413     Manager        19523.0  \n",
       "447     Manager        19717.0  \n",
       "452     Manager        19805.0  \n",
       "454     Manager            NaN  \n",
       "460     Manager            NaN  \n",
       "461     Manager        19859.0  \n",
       "469     Manager        19707.0  \n",
       "504     Manager            NaN  \n",
       "517     Manager        19851.0  \n",
       "521     Manager        19647.0  "
      ]
     },
     "execution_count": 171,
     "metadata": {},
     "output_type": "execute_result"
    }
   ],
   "source": [
    "#check for multiple nulls in a single row\n",
    "DoPNull.head(45)"
   ]
  },
  {
   "cell_type": "code",
   "execution_count": 172,
   "metadata": {},
   "outputs": [
    {
     "data": {
      "text/plain": [
       "ProdTaken\n",
       "0    15.169325\n",
       "1    16.873143\n",
       "Name: DurationOfPitch, dtype: float64"
      ]
     },
     "execution_count": 172,
     "metadata": {},
     "output_type": "execute_result"
    }
   ],
   "source": [
    "data.groupby(['ProdTaken'])['DurationOfPitch'].mean()"
   ]
  },
  {
   "cell_type": "code",
   "execution_count": 173,
   "metadata": {},
   "outputs": [
    {
     "data": {
      "text/plain": [
       "ProdTaken\n",
       "0    13.0\n",
       "1    15.0\n",
       "Name: DurationOfPitch, dtype: float64"
      ]
     },
     "execution_count": 173,
     "metadata": {},
     "output_type": "execute_result"
    }
   ],
   "source": [
    "data.groupby(['ProdTaken'])['DurationOfPitch'].median()"
   ]
  },
  {
   "cell_type": "code",
   "execution_count": 174,
   "metadata": {},
   "outputs": [],
   "source": [
    "data_copy.ProdTaken=data_copy.ProdTaken.astype('category')"
   ]
  },
  {
   "cell_type": "code",
   "execution_count": 175,
   "metadata": {},
   "outputs": [
    {
     "data": {
      "text/plain": [
       "<AxesSubplot:xlabel='ProdTaken', ylabel='DurationOfPitch'>"
      ]
     },
     "execution_count": 175,
     "metadata": {},
     "output_type": "execute_result"
    },
    {
     "data": {
      "image/png": "[encoded data removed]",
      "text/plain": [
       "<Figure size 432x288 with 1 Axes>"
      ]
     },
     "metadata": {
      "needs_background": "light"
     },
     "output_type": "display_data"
    }
   ],
   "source": [
    "sns.boxplot(data=data_copy, x='ProdTaken', y='DurationOfPitch')"
   ]
  },
  {
   "cell_type": "markdown",
   "metadata": {},
   "source": [
    "#### Insights - Duration of Pitch\n",
    "- Outliers detected. This will be addressed in feature engineering section\n",
    "- Data is skewed right\n",
    "- Where Duration of Pitch is Null, Monthly Income might be null\n",
    "- Duration of Pitch does not appear to impact ProdTaken"
   ]
  },
  {
   "cell_type": "markdown",
   "metadata": {},
   "source": [
    "#### Correlation Analysis"
   ]
  },
  {
   "cell_type": "code",
   "execution_count": 176,
   "metadata": {},
   "outputs": [
    {
     "data": {
      "image/png": "[encoded data removed]",
      "text/plain": [
       "<Figure size 864x504 with 2 Axes>"
      ]
     },
     "metadata": {
      "needs_background": "light"
     },
     "output_type": "display_data"
    }
   ],
   "source": [
    "plt.figure(figsize=(12,7))\n",
    "sns.heatmap(data.corr(),annot=True,vmin=-1,vmax=1)\n",
    "plt.show()"
   ]
  },
  {
   "cell_type": "markdown",
   "metadata": {},
   "source": [
    "#### Insights - Correlation\n",
    "- Moderate correlation between the following\n",
    "    - MOnthly Income and Age (0.47)\n",
    "    - Number of Person Visiting and Number of Children Visiting (0.61)\n",
    "- Low correlation between the following\n",
    "    - Passport and ProdTaken (0.26)\n",
    "    - MonthlyIcome and ProdTaken (-0.13)\n",
    "    - Numer of Trips and Age (0.18)\n",
    "    - Number of Persons visiting and Number of Follow-ups (0.32)\n",
    "    - Number of Persons visting and Number of Trips (0.14)\n",
    "    - Number of Children Visiting and Number of Trips (0.16)\n",
    "    - Number of Trips and Monthly Income (0.11)\n",
    "    "
   ]
  },
  {
   "cell_type": "code",
   "execution_count": null,
   "metadata": {},
   "outputs": [],
   "source": []
  },
  {
   "cell_type": "markdown",
   "metadata": {},
   "source": [
    "## Customer Profile: Assumption: Product pitched is the appropriate product for customer \n",
    "- Basic\n",
    "    - Product Pitched and ProdTaken Median Age: 30 \n",
    "    - Pitched primarily to City Tier 1 and City Tier 2 customers\n",
    "    - Males were pitched Basic more than any other product type\n",
    "- Deluxe\n",
    "    - Product Pitched and ProdTaken Median Age: 36\n",
    "    - Customers in City Tier 3 were pitched this products most often\n",
    "    - Females were pitched Deluxe more often that any other product type however, females do not appear to purchase the deluxe product at a higher rate than males \n",
    "    - Married customers are mmore likley than no married couples to purchse Deluxe \n",
    "- King\n",
    "    - Product Pitched and ProdTaken Median Age: 52\n",
    "    - Married couples are more liley to purchase King Product that unmarried\n",
    "    - Owning a car appears to influence the purchase of the King Product; Of those customers who were pitched a King product, 72% owned a car; Customers who buy the King Products have a higher rate of car ownership (90%) than those who take the other products (however these groups have a small number of customer each so consider size in evaluation)\n",
    "- Standard\n",
    "    - Product Pitched and ProdTaken Median Age: 38\n",
    "    - Median number of trips is slightly lower for customers who purchse Standard \n",
    "    - Product is pitched to all occupation groups\n",
    "- Super Deluxe\n",
    "    - Product Pitched and ProdTaken Median Age: 42\n",
    "    - Out of those who take the Super Deluxe product, 80% are company invited and 20% are self-enquiry\n",
    "    - Purchase of product is influneced by a Preferredproperty star of 3 or greater\n",
    "    - Number of Trips is slightly lower for those customers who purchase Super Deluxe\n"
   ]
  },
  {
   "cell_type": "markdown",
   "metadata": {},
   "source": [
    "## Section 2: EDA Insights"
   ]
  },
  {
   "cell_type": "markdown",
   "metadata": {},
   "source": [
    "#### Customer details\n",
    "- CustomerID: Unique customer I\n",
    "    - Column will be dropped for model build\n",
    "- ProdTaken: Whether the customer has purchased a package or not (0: No, 1: Yes)\n",
    "    - approximately a 4 to 1 ratio of 0(No) to 1(Yes)\n",
    "    - This variable will be the target valriable for the model\n",
    "    - no nulls therefore this variable is ready for model build\n",
    "- Age: Age of customer\n",
    "    - Min:18; Max:61; Mean:37;Median:36; data is likely not skewed right or left\n",
    "    - Data Distribution is ready for model build (appears somewhat normal)\n",
    "    - 226 null values imputed with Median of product Pitched group membership\n",
    "- TypeofContact: How customer was contacted (Company Invited or Self Inquiry)\n",
    "    - 25 null values imputed with mode given Product Pitched\n",
    "    - Customers who self-inquiry (71%) outnumber customers (29%) who are invited by the company\n",
    "    - Both types of customers are initially pitched Basic and Deluxe products (although self-inquiry are pitched slightly more Basic than Deluxe and vice versa for company invited)\n",
    "- CityTier: City tier depends on the development of a city, population, facilities, and living standards. The categories are ordered i.e. Tier 1 > Tier 2 > Tier 3. It's the city the customer lives in.\n",
    "    - CityTier 1 - Product pitched - 46% Basic and 28% Deluxe\n",
    "    - City Tier 2 is similar to City Tier 1 with 55% Basic and 20% Deluxe\n",
    "    - City Tier 3 is different from City Tier 1 and City Tier 2 with 52% Deluxe and 19% Standard; Basic accounts for 18% of products pitched\n",
    "- Occupation: Occupation of customer\n",
    "    - Free Lancer has only 2 values and therefore will add little information to the model\n",
    "    - Large Business are primarily pitched Basic (45%) and Deluxe (29%) products\n",
    "    - Salaried are primarily pitched Basic (39%) and Deluxe (35%) which is similar to Large Business\n",
    "    - Small Business are primarily pitched Deluxe (38%) and Basic (24%)\n",
    "    - Standard product is pitched to three Occupation groups (Large Business, Salaried and Small Business) 19%, 14% and 15%, respectively.\n",
    "- Gender: Gender of customer\n",
    "    - 'Fe Male' values replaced with 'Female to give 2 categories of values\n",
    "    - 2916 Female customers (40%) and 1972 Male customers (60%)\n",
    "    - Females were primarily pitched Deluxe (37%) and Basic (34%)\n",
    "    - Males were primarily pitched Basic (40%) and Deluxe (35%)\n",
    "    - Given that Females are 40% of the customer base, Basic pitched: 38% of customer were Female; Deluxed Pitched: 34% Female; King pitched, 40% female; Standard Pitched: 39% Female; Super deluxed pitched: 20% female (Male percentages are 100% - Female percentages\n",
    "    - Super Deluxe was taken by Females only 20% 9 while pitched to males 6% amd pitched to Females 8%\n",
    "- NumberOfPersonVisiting: Total number of persons planning to take the trip with the customer\n",
    "    - Values 1 and 5 appear to be outliers\n",
    "    - most impactful values for determining product taken is 2 and 3, which account for almost 80% of the values\n",
    "    - For Products taken: Ratios of Number of Persons Visiting: Percentage Product taken - Basic:3:50%, 2:30%, 4:20% (similar to base ratio); Deluxe: 3:50%, 2:27%; 4:23%; King - 3:50%; 2:30%; 4:20 (similar to base ratio); Standard - 3:50%; 2:27%; 4:23% (similar to base ratio); Super Deluxe - 3:50%, 2:40%,4:10% (varies slightly from base ratio but likely not enough for major impact\n",
    "    - This variable does not appear to impact customer taking product pitched; will test feature impact during modeling\n",
    "- PreferredPropertyStar: Preferred hotel property rating by customer\n",
    "    - 26 missing values replaced with median 3\n",
    "    - The median preferred property star is 3 regardless of product pitched\n",
    "    - Basic and Deluxe products are pitched most frequently regardless of Property star value\n",
    "    - Before null replacement, Customers star proprties as follow: 3:62%;4:19%; 5:20%\n",
    "    - ProdTaken Basic:3:51%; 5:38%; 4:20%; Deluxe:3:56%; 5:26%; 4:18%; King:3:50%;4:40%; 5:10%; Standard:3:56%; 5:28%; 4:16%; Super Deluxe:3:60%; 4:20%; 5:20%\n",
    "    - Preferred Property star and rate of purchase: 3:16%; 4:20%; 5:26% \n",
    "    - Preferred property star appears to influence product purchase\n",
    "- MaritalStatus: Marital status of customer\n",
    "    - Combined 3 values, Single, Divorced, Unmarried into one value: Unmarried\n",
    "    - Unmarried:Married = 52%:48%\n",
    "    - Unmarried:Married ProdTaken = 23%:14%\n",
    "    - ProdPitched:Marritalstatus:ProdTaken - Basic:Unmarried: 35% ; Married:23%; Deluxe: Unmarried:7%;Married: 15%; King: Unmarried:5%; Married:13%; Standard: Unmarried: 19%; Married: 15%; Super Deluxe: Unmarried: 7%; Married: 5%\n",
    "    - Married are more likely to purchase Deluxe.\n",
    "- NumberOfTrips: Average number of trips in a year by customer\n",
    "    - 140 Null values replaced with Median\n",
    "    - 4 outliers identified: 19, 20, 21, 22: 2 outliers result in ProdTaken; 2 result Prod not taken\n",
    "    - Median Number of Trips (and median for each ProductPitched subset) is 3 trips\n",
    "    - Data is not normally distributed; it is skewed right\n",
    "    - 30% of data points - 2 days, 24% - 3 days, 13% - 1 day; Number of Trips seems to affect ProdTaken for Number of Trips greater than 3; the more trips taken the higher the percentage of prodTaken with 7 and 8 days approximaltey equal at 18.4% and 27.6%, respectively\n",
    "- Passport: The customer has a passport or not (0: No, 1: Yes)\n",
    "    - 29% of customers hold passports\n",
    "    - Passportholding does not appeat to greatly impact the product pitched but does appear to affect ProdTaken sepcifically those cusotmers who take the Basic Product \n",
    "- OwnCar: Whether the customers own a car or not (0: No, 1: Yes)\n",
    "    - 62% of customers own a car\n",
    "    - ProdTaken does not appear greatly impacted by car ownership, although product pitch does with King, Standard and Super Deluxe products pitched to car owners at a higher rate than Basic and Deluxe\n",
    "    - Customers who buy the King and Super Deluxe Products have a higher rate of car ownership (90% and 100%) than those who take the other products (however these groups have a small number of customer each so consider size in evaluation)\n",
    "    - For Basic and Deluxe,the rate of car owners is approximately the rate of purchase\n",
    "- NumberOfChildrenVisiting: Total number of children with age less than 5 planning to take the trip with the customer\n",
    "    - The number of children under 5 does not appear to affect the overall 4 to 1 ratio of ProdTaken No to Yes\n",
    "    - The number of children under 5 does not appear to affect the type of project pitched other than a slightly higher than normal Super Deluxe pitch for those having 0.0 children visiting. The Percentages are as follows: Basic ~ 38%, Deluxe ~35%, Standard ~15%, King ~ 4% and Super Deluxe ~ 6%\n",
    "- Designation: Designation of the customer in the current organization\n",
    "    - VP, AVP and Executive were rolled into one category: Executive\n",
    "    - Executives purchsed products at a rate of 25%, Senior Managers at a rate of 17% and Managers at a rate of 12%\n",
    "    - This data is suspect as it does not have designations hierarchically lower than manager, and products pitched to Managers were exclusively Deluxe and to Senior Managers exclusively Standard\n",
    "    - Consider dropping this variable from the model for not apprpriate to contextit does not have designations hierarchically lower than manager, and products pitched to Managers were exclusively Deluxe and to Senior Managers exclusively Standard\n",
    "\n",
    "- MonthlyIncome: Gross monthly income of the customer\n",
    "    - Monthly Income has 233 null values which will need to be imputed with Median of associated ProductPitched Groups.\n",
    "    - Before imputing median, MonthlyIncome outliers need to be treated as some outliers may be having a significant influence on medians monthly incomes of Product Pitched groups. This will be accomplished during feature engineering\n",
    "    - Currently, before Null and Outlier issues have been resolved, Monthly Income does appear to influence the purchase of Products: Basic: 20582, Deluxe: 23186, King: 34859, Standard: 25711, and Super Deluxe: 29802\n",
    "    \n",
    "### Customer interaction data: \n",
    "- PitchSatisfactionScore: Sales pitch satisfaction score\n",
    "    - Pitch Satsifaction score percentages: 1:19%, 2:12%; 3:30%; 4:19%, 5:20%\n",
    "    - The higher the Pitch Satsifactions score, the more likley the customer was to purchase the product\n",
    "    - The pitch satisfaction score may not be influential for a model as the pitch score likely does nto occir before the customer chooses to take or not take the product.\n",
    "    - Consider removing this variable from the model to avoid overfitting \n",
    "- ProductPitched: Product pitched by the salesperson\n",
    "    - Products pitched by percentage: Basic: 38%, Deluxe:35%, Standard: 15%, Super Deluxe: 7%, King: 5%\n",
    "    - When ProductPitch:ProdTaken ratio - Basic:30%; Deluxe:12%; King:9%; Standard:17%; Super Deluxe: 6%\n",
    "- NumberOfFollowups: Total number of follow-ups has been done by the salesperson after the sales pitch\n",
    "    - Before Null replacement: Number of followups: Rate - 4.0:43%; 3.0:30%; 5.0:15%; 2.0:5%; 1.0:4%; 6.0: 3%\n",
    "    - Follow-up rate does not change significantly when disaggregated by ProductPitched\n",
    "    - Percent ProdTaken increase as number of Followups increases and Number of followups >=2\n",
    "    - 46 Null values replaced with median(4)\n",
    "\n",
    "- DurationOfPitch: Duration of the pitch by a salesperson to the customer\n",
    "    - Outliers detected. This will be addressed in feature engineering section\n",
    "    - Data is skewed right\n",
    "    - Where Duration of Pitch is Null, Monthly Income might be null\n",
    "    - Duration of Pitch does not appear to impact ProdTaken\n",
    "    \n",
    "Possible Multi- colinearity Issues\n",
    " - MOnthly Income and Age (0.47)\n",
    " - Number of Person Visiting and Number of Children Visiting (0.61)"
   ]
  },
  {
   "cell_type": "markdown",
   "metadata": {},
   "source": [
    "## Section 3: Data Pre-processing\n",
    "- Missing Value treatment\n",
    "- Outlier detection, if needed\n",
    "- Feature Engineering\n",
    "- Data Preparation\n"
   ]
  },
  {
   "cell_type": "code",
   "execution_count": 177,
   "metadata": {},
   "outputs": [
    {
     "name": "stdout",
     "output_type": "stream",
     "text": [
      "<class 'pandas.core.frame.DataFrame'>\n",
      "RangeIndex: 4888 entries, 0 to 4887\n",
      "Data columns (total 20 columns):\n",
      " #   Column                    Non-Null Count  Dtype  \n",
      "---  ------                    --------------  -----  \n",
      " 0   CustomerID                4888 non-null   int64  \n",
      " 1   ProdTaken                 4888 non-null   int64  \n",
      " 2   Age                       4888 non-null   float64\n",
      " 3   TypeofContact             4888 non-null   object \n",
      " 4   CityTier                  4888 non-null   int64  \n",
      " 5   DurationOfPitch           4637 non-null   float64\n",
      " 6   Occupation                4888 non-null   object \n",
      " 7   Gender                    4888 non-null   object \n",
      " 8   NumberOfPersonVisiting    4888 non-null   int64  \n",
      " 9   NumberOfFollowups         4888 non-null   float64\n",
      " 10  ProductPitched            4888 non-null   object \n",
      " 11  PreferredPropertyStar     4888 non-null   float64\n",
      " 12  MaritalStatus             4888 non-null   object \n",
      " 13  NumberOfTrips             4888 non-null   float64\n",
      " 14  Passport                  4888 non-null   int64  \n",
      " 15  PitchSatisfactionScore    4888 non-null   int64  \n",
      " 16  OwnCar                    4888 non-null   int64  \n",
      " 17  NumberOfChildrenVisiting  4822 non-null   float64\n",
      " 18  Designation               4888 non-null   object \n",
      " 19  MonthlyIncome             4655 non-null   float64\n",
      "dtypes: float64(7), int64(7), object(6)\n",
      "memory usage: 763.9+ KB\n"
     ]
    }
   ],
   "source": [
    "#Determine which still have null values (after null value replacement that occurred during EDA)\n",
    "data.info()"
   ]
  },
  {
   "cell_type": "markdown",
   "metadata": {},
   "source": [
    "##### Missing values\n",
    "- Duration of Pitch\n",
    "- Number of children visiting\n",
    "- Monthly Income \n",
    "\n",
    "##### Outliers detected during EDA\n",
    "- Number of Person visiting\n",
    "- Number of Trips\n",
    "- Monthly Income \n",
    "\n",
    "Note: Treat Outliers prior to imputation for Monthly Income variable\n",
    "\n",
    "##### Suspect Variables\n",
    "- CustomerID: this is a seriel value and adds not information\n",
    "- Designation: variable from the model for not apprpriate to contextit does not have designations hierarchically lower than manager, and products pitched to Managers were exclusively Deluxe and to Senior Managers exclusively Standard\n",
    "- Pitch Satisfaction: The pitch satisfaction score may not be influential for a model as the pitch score likely does nto occir before the customer chooses to take or not take the product.\n",
    "- Monthly Income and Age should  be explored further for multicollinearity\n",
    "- Number of Person visiting and Number of children visiting should be explored for multicollinearity\n",
    "\n",
    "##### Explore Skewness and transformation\n",
    "- Monthly Income\n",
    "- Duration of Pitch\n",
    "- Age\n",
    "\n",
    "##### Object variables (review and understand); Use Dummy variable and/or replace structure to convert to ordinal type\n",
    "- Type of contact\n",
    "- Occupation\n",
    "- Gender\n",
    "- Product Pitched\n",
    "- Marital Status \n",
    "- Designation\n",
    "\n"
   ]
  },
  {
   "cell_type": "markdown",
   "metadata": {},
   "source": [
    "#### Monthly Income Outlier Treatment and Replace Null values"
   ]
  },
  {
   "cell_type": "code",
   "execution_count": 178,
   "metadata": {},
   "outputs": [
    {
     "data": {
      "text/html": [
       "<div>\n",
       "<style scoped>\n",
       "    .dataframe tbody tr th:only-of-type {\n",
       "        vertical-align: middle;\n",
       "    }\n",
       "\n",
       "    .dataframe tbody tr th {\n",
       "        vertical-align: top;\n",
       "    }\n",
       "\n",
       "    .dataframe thead th {\n",
       "        text-align: right;\n",
       "    }\n",
       "</style>\n",
       "<table border=\"1\" class=\"dataframe\">\n",
       "  <thead>\n",
       "    <tr style=\"text-align: right;\">\n",
       "      <th></th>\n",
       "      <th>CustomerID</th>\n",
       "      <th>ProdTaken</th>\n",
       "      <th>Age</th>\n",
       "      <th>TypeofContact</th>\n",
       "      <th>CityTier</th>\n",
       "      <th>DurationOfPitch</th>\n",
       "      <th>Occupation</th>\n",
       "      <th>Gender</th>\n",
       "      <th>NumberOfPersonVisiting</th>\n",
       "      <th>NumberOfFollowups</th>\n",
       "      <th>ProductPitched</th>\n",
       "      <th>PreferredPropertyStar</th>\n",
       "      <th>MaritalStatus</th>\n",
       "      <th>NumberOfTrips</th>\n",
       "      <th>Passport</th>\n",
       "      <th>PitchSatisfactionScore</th>\n",
       "      <th>OwnCar</th>\n",
       "      <th>NumberOfChildrenVisiting</th>\n",
       "      <th>Designation</th>\n",
       "      <th>MonthlyIncome</th>\n",
       "    </tr>\n",
       "  </thead>\n",
       "  <tbody>\n",
       "    <tr>\n",
       "      <th>11</th>\n",
       "      <td>200011</td>\n",
       "      <td>0</td>\n",
       "      <td>36.0</td>\n",
       "      <td>Self Enquiry</td>\n",
       "      <td>1</td>\n",
       "      <td>21.0</td>\n",
       "      <td>Salaried</td>\n",
       "      <td>Female</td>\n",
       "      <td>2</td>\n",
       "      <td>4.0</td>\n",
       "      <td>Deluxe</td>\n",
       "      <td>3.0</td>\n",
       "      <td>Unmarried</td>\n",
       "      <td>1.0</td>\n",
       "      <td>1</td>\n",
       "      <td>3</td>\n",
       "      <td>0</td>\n",
       "      <td>0.0</td>\n",
       "      <td>Manager</td>\n",
       "      <td>NaN</td>\n",
       "    </tr>\n",
       "    <tr>\n",
       "      <th>19</th>\n",
       "      <td>200019</td>\n",
       "      <td>0</td>\n",
       "      <td>32.0</td>\n",
       "      <td>Self Enquiry</td>\n",
       "      <td>1</td>\n",
       "      <td>8.0</td>\n",
       "      <td>Salaried</td>\n",
       "      <td>Male</td>\n",
       "      <td>2</td>\n",
       "      <td>3.0</td>\n",
       "      <td>Basic</td>\n",
       "      <td>3.0</td>\n",
       "      <td>Unmarried</td>\n",
       "      <td>6.0</td>\n",
       "      <td>1</td>\n",
       "      <td>4</td>\n",
       "      <td>0</td>\n",
       "      <td>1.0</td>\n",
       "      <td>Executive</td>\n",
       "      <td>NaN</td>\n",
       "    </tr>\n",
       "    <tr>\n",
       "      <th>20</th>\n",
       "      <td>200020</td>\n",
       "      <td>0</td>\n",
       "      <td>36.0</td>\n",
       "      <td>Company Invited</td>\n",
       "      <td>1</td>\n",
       "      <td>17.0</td>\n",
       "      <td>Salaried</td>\n",
       "      <td>Female</td>\n",
       "      <td>3</td>\n",
       "      <td>2.0</td>\n",
       "      <td>Deluxe</td>\n",
       "      <td>3.0</td>\n",
       "      <td>Married</td>\n",
       "      <td>1.0</td>\n",
       "      <td>0</td>\n",
       "      <td>3</td>\n",
       "      <td>1</td>\n",
       "      <td>2.0</td>\n",
       "      <td>Manager</td>\n",
       "      <td>NaN</td>\n",
       "    </tr>\n",
       "    <tr>\n",
       "      <th>26</th>\n",
       "      <td>200026</td>\n",
       "      <td>1</td>\n",
       "      <td>32.0</td>\n",
       "      <td>Company Invited</td>\n",
       "      <td>1</td>\n",
       "      <td>22.0</td>\n",
       "      <td>Salaried</td>\n",
       "      <td>Female</td>\n",
       "      <td>3</td>\n",
       "      <td>5.0</td>\n",
       "      <td>Basic</td>\n",
       "      <td>5.0</td>\n",
       "      <td>Unmarried</td>\n",
       "      <td>2.0</td>\n",
       "      <td>1</td>\n",
       "      <td>4</td>\n",
       "      <td>1</td>\n",
       "      <td>2.0</td>\n",
       "      <td>Executive</td>\n",
       "      <td>NaN</td>\n",
       "    </tr>\n",
       "    <tr>\n",
       "      <th>44</th>\n",
       "      <td>200044</td>\n",
       "      <td>0</td>\n",
       "      <td>36.0</td>\n",
       "      <td>Company Invited</td>\n",
       "      <td>1</td>\n",
       "      <td>6.0</td>\n",
       "      <td>Small Business</td>\n",
       "      <td>Female</td>\n",
       "      <td>2</td>\n",
       "      <td>3.0</td>\n",
       "      <td>Deluxe</td>\n",
       "      <td>3.0</td>\n",
       "      <td>Unmarried</td>\n",
       "      <td>2.0</td>\n",
       "      <td>0</td>\n",
       "      <td>3</td>\n",
       "      <td>1</td>\n",
       "      <td>0.0</td>\n",
       "      <td>Manager</td>\n",
       "      <td>NaN</td>\n",
       "    </tr>\n",
       "    <tr>\n",
       "      <th>...</th>\n",
       "      <td>...</td>\n",
       "      <td>...</td>\n",
       "      <td>...</td>\n",
       "      <td>...</td>\n",
       "      <td>...</td>\n",
       "      <td>...</td>\n",
       "      <td>...</td>\n",
       "      <td>...</td>\n",
       "      <td>...</td>\n",
       "      <td>...</td>\n",
       "      <td>...</td>\n",
       "      <td>...</td>\n",
       "      <td>...</td>\n",
       "      <td>...</td>\n",
       "      <td>...</td>\n",
       "      <td>...</td>\n",
       "      <td>...</td>\n",
       "      <td>...</td>\n",
       "      <td>...</td>\n",
       "      <td>...</td>\n",
       "    </tr>\n",
       "    <tr>\n",
       "      <th>2390</th>\n",
       "      <td>202390</td>\n",
       "      <td>1</td>\n",
       "      <td>34.0</td>\n",
       "      <td>Company Invited</td>\n",
       "      <td>3</td>\n",
       "      <td>NaN</td>\n",
       "      <td>Salaried</td>\n",
       "      <td>Female</td>\n",
       "      <td>2</td>\n",
       "      <td>5.0</td>\n",
       "      <td>Basic</td>\n",
       "      <td>3.0</td>\n",
       "      <td>Unmarried</td>\n",
       "      <td>2.0</td>\n",
       "      <td>0</td>\n",
       "      <td>3</td>\n",
       "      <td>0</td>\n",
       "      <td>1.0</td>\n",
       "      <td>Executive</td>\n",
       "      <td>NaN</td>\n",
       "    </tr>\n",
       "    <tr>\n",
       "      <th>2399</th>\n",
       "      <td>202399</td>\n",
       "      <td>1</td>\n",
       "      <td>36.0</td>\n",
       "      <td>Company Invited</td>\n",
       "      <td>3</td>\n",
       "      <td>19.0</td>\n",
       "      <td>Large Business</td>\n",
       "      <td>Female</td>\n",
       "      <td>2</td>\n",
       "      <td>3.0</td>\n",
       "      <td>Deluxe</td>\n",
       "      <td>4.0</td>\n",
       "      <td>Unmarried</td>\n",
       "      <td>6.0</td>\n",
       "      <td>0</td>\n",
       "      <td>3</td>\n",
       "      <td>1</td>\n",
       "      <td>0.0</td>\n",
       "      <td>Manager</td>\n",
       "      <td>NaN</td>\n",
       "    </tr>\n",
       "    <tr>\n",
       "      <th>2410</th>\n",
       "      <td>202410</td>\n",
       "      <td>1</td>\n",
       "      <td>32.0</td>\n",
       "      <td>Self Enquiry</td>\n",
       "      <td>1</td>\n",
       "      <td>30.0</td>\n",
       "      <td>Small Business</td>\n",
       "      <td>Male</td>\n",
       "      <td>2</td>\n",
       "      <td>3.0</td>\n",
       "      <td>Basic</td>\n",
       "      <td>4.0</td>\n",
       "      <td>Married</td>\n",
       "      <td>2.0</td>\n",
       "      <td>1</td>\n",
       "      <td>1</td>\n",
       "      <td>0</td>\n",
       "      <td>0.0</td>\n",
       "      <td>Executive</td>\n",
       "      <td>NaN</td>\n",
       "    </tr>\n",
       "    <tr>\n",
       "      <th>2430</th>\n",
       "      <td>202430</td>\n",
       "      <td>1</td>\n",
       "      <td>32.0</td>\n",
       "      <td>Self Enquiry</td>\n",
       "      <td>1</td>\n",
       "      <td>14.0</td>\n",
       "      <td>Small Business</td>\n",
       "      <td>Female</td>\n",
       "      <td>3</td>\n",
       "      <td>3.0</td>\n",
       "      <td>Basic</td>\n",
       "      <td>5.0</td>\n",
       "      <td>Married</td>\n",
       "      <td>2.0</td>\n",
       "      <td>1</td>\n",
       "      <td>3</td>\n",
       "      <td>0</td>\n",
       "      <td>2.0</td>\n",
       "      <td>Executive</td>\n",
       "      <td>NaN</td>\n",
       "    </tr>\n",
       "    <tr>\n",
       "      <th>2431</th>\n",
       "      <td>202431</td>\n",
       "      <td>1</td>\n",
       "      <td>35.0</td>\n",
       "      <td>Company Invited</td>\n",
       "      <td>1</td>\n",
       "      <td>NaN</td>\n",
       "      <td>Small Business</td>\n",
       "      <td>Male</td>\n",
       "      <td>3</td>\n",
       "      <td>3.0</td>\n",
       "      <td>Basic</td>\n",
       "      <td>4.0</td>\n",
       "      <td>Married</td>\n",
       "      <td>2.0</td>\n",
       "      <td>1</td>\n",
       "      <td>3</td>\n",
       "      <td>1</td>\n",
       "      <td>0.0</td>\n",
       "      <td>Executive</td>\n",
       "      <td>NaN</td>\n",
       "    </tr>\n",
       "  </tbody>\n",
       "</table>\n",
       "<p>233 rows × 20 columns</p>\n",
       "</div>"
      ],
      "text/plain": [
       "      CustomerID  ProdTaken   Age    TypeofContact  CityTier  DurationOfPitch  \\\n",
       "11        200011          0  36.0     Self Enquiry         1             21.0   \n",
       "19        200019          0  32.0     Self Enquiry         1              8.0   \n",
       "20        200020          0  36.0  Company Invited         1             17.0   \n",
       "26        200026          1  32.0  Company Invited         1             22.0   \n",
       "44        200044          0  36.0  Company Invited         1              6.0   \n",
       "...          ...        ...   ...              ...       ...              ...   \n",
       "2390      202390          1  34.0  Company Invited         3              NaN   \n",
       "2399      202399          1  36.0  Company Invited         3             19.0   \n",
       "2410      202410          1  32.0     Self Enquiry         1             30.0   \n",
       "2430      202430          1  32.0     Self Enquiry         1             14.0   \n",
       "2431      202431          1  35.0  Company Invited         1              NaN   \n",
       "\n",
       "          Occupation  Gender  NumberOfPersonVisiting  NumberOfFollowups  \\\n",
       "11          Salaried  Female                       2                4.0   \n",
       "19          Salaried    Male                       2                3.0   \n",
       "20          Salaried  Female                       3                2.0   \n",
       "26          Salaried  Female                       3                5.0   \n",
       "44    Small Business  Female                       2                3.0   \n",
       "...              ...     ...                     ...                ...   \n",
       "2390        Salaried  Female                       2                5.0   \n",
       "2399  Large Business  Female                       2                3.0   \n",
       "2410  Small Business    Male                       2                3.0   \n",
       "2430  Small Business  Female                       3                3.0   \n",
       "2431  Small Business    Male                       3                3.0   \n",
       "\n",
       "     ProductPitched  PreferredPropertyStar MaritalStatus  NumberOfTrips  \\\n",
       "11           Deluxe                    3.0     Unmarried            1.0   \n",
       "19            Basic                    3.0     Unmarried            6.0   \n",
       "20           Deluxe                    3.0       Married            1.0   \n",
       "26            Basic                    5.0     Unmarried            2.0   \n",
       "44           Deluxe                    3.0     Unmarried            2.0   \n",
       "...             ...                    ...           ...            ...   \n",
       "2390          Basic                    3.0     Unmarried            2.0   \n",
       "2399         Deluxe                    4.0     Unmarried            6.0   \n",
       "2410          Basic                    4.0       Married            2.0   \n",
       "2430          Basic                    5.0       Married            2.0   \n",
       "2431          Basic                    4.0       Married            2.0   \n",
       "\n",
       "      Passport  PitchSatisfactionScore  OwnCar  NumberOfChildrenVisiting  \\\n",
       "11           1                       3       0                       0.0   \n",
       "19           1                       4       0                       1.0   \n",
       "20           0                       3       1                       2.0   \n",
       "26           1                       4       1                       2.0   \n",
       "44           0                       3       1                       0.0   \n",
       "...        ...                     ...     ...                       ...   \n",
       "2390         0                       3       0                       1.0   \n",
       "2399         0                       3       1                       0.0   \n",
       "2410         1                       1       0                       0.0   \n",
       "2430         1                       3       0                       2.0   \n",
       "2431         1                       3       1                       0.0   \n",
       "\n",
       "     Designation  MonthlyIncome  \n",
       "11       Manager            NaN  \n",
       "19     Executive            NaN  \n",
       "20       Manager            NaN  \n",
       "26     Executive            NaN  \n",
       "44       Manager            NaN  \n",
       "...          ...            ...  \n",
       "2390   Executive            NaN  \n",
       "2399     Manager            NaN  \n",
       "2410   Executive            NaN  \n",
       "2430   Executive            NaN  \n",
       "2431   Executive            NaN  \n",
       "\n",
       "[233 rows x 20 columns]"
      ]
     },
     "execution_count": 178,
     "metadata": {},
     "output_type": "execute_result"
    }
   ],
   "source": [
    "#Vire Monthly Income Null columns \n",
    "MI_Null"
   ]
  },
  {
   "cell_type": "code",
   "execution_count": 179,
   "metadata": {},
   "outputs": [],
   "source": [
    "# FMonthly Income Outlier detections (code from Intro to Supervised Learning - Data Preprocessing)\n",
    "#Using the mean to detect outliers\n",
    "def z_transform(x):\n",
    "    return (x - np.mean(x)) / np.std(x)"
   ]
  },
  {
   "cell_type": "code",
   "execution_count": 180,
   "metadata": {},
   "outputs": [
    {
     "data": {
      "image/png": "[encoded data removed]",
      "text/plain": [
       "<Figure size 432x288 with 1 Axes>"
      ]
     },
     "metadata": {
      "needs_background": "light"
     },
     "output_type": "display_data"
    },
    {
     "data": {
      "image/png": "[encoded data removed]",
      "text/plain": [
       "<Figure size 432x288 with 1 Axes>"
      ]
     },
     "metadata": {
      "needs_background": "light"
     },
     "output_type": "display_data"
    }
   ],
   "source": [
    "plt.hist(data['MonthlyIncome'], 20)\n",
    "plt.title('Histogram of Monthly Income')\n",
    "plt.show()\n",
    "\n",
    "sns.boxplot(data['MonthlyIncome'])\n",
    "plt.title('Boxplot of Monthly Income ')\n",
    "plt.show()"
   ]
  },
  {
   "cell_type": "code",
   "execution_count": 181,
   "metadata": {},
   "outputs": [],
   "source": [
    "##### Data is skewed so I will use the median to detect outliers"
   ]
  },
  {
   "cell_type": "code",
   "execution_count": 182,
   "metadata": {},
   "outputs": [
    {
     "name": "stdout",
     "output_type": "stream",
     "text": [
      "Q1 = 20346.0, Q3 = 25571.0, 4*IQR = 20900.0\n"
     ]
    },
    {
     "data": {
      "text/plain": [
       "38      95000.0\n",
       "142      1000.0\n",
       "2482    98678.0\n",
       "Name: MonthlyIncome, dtype: float64"
      ]
     },
     "execution_count": 182,
     "metadata": {},
     "output_type": "execute_result"
    }
   ],
   "source": [
    "# Locate points that are outside of 4 times the IQR\n",
    "quartiles = np.quantile(data['MonthlyIncome'][data['MonthlyIncome'].notnull()], [.25, .75])\n",
    "power_4iqr = 4 * (quartiles[1] - quartiles[0])\n",
    "print(f'Q1 = {quartiles[0]}, Q3 = {quartiles[1]}, 4*IQR = {power_4iqr}')\n",
    "outlier_powers = data.loc[np.abs(data['MonthlyIncome'] - data['MonthlyIncome'].median()) > power_4iqr, 'MonthlyIncome']\n",
    "outlier_powers"
   ]
  },
  {
   "cell_type": "code",
   "execution_count": 183,
   "metadata": {},
   "outputs": [],
   "source": [
    "# Replace the outliers with Q1 for outliers below than the median and Q3 for outliers above the median\n",
    "data['MonthlyIncome'].mask(data['MonthlyIncome'] > 90000,data['MonthlyIncome'].quantile(.75), inplace=True)\n",
    "data['MonthlyIncome'].mask(data['MonthlyIncome'] < 1001,data['MonthlyIncome'].quantile(.25), inplace=True)"
   ]
  },
  {
   "cell_type": "code",
   "execution_count": 184,
   "metadata": {},
   "outputs": [
    {
     "name": "stdout",
     "output_type": "stream",
     "text": [
      "25571.0\n"
     ]
    }
   ],
   "source": [
    "print(data.loc[38]['MonthlyIncome'])"
   ]
  },
  {
   "cell_type": "code",
   "execution_count": 185,
   "metadata": {},
   "outputs": [
    {
     "name": "stdout",
     "output_type": "stream",
     "text": [
      "20346.0\n"
     ]
    }
   ],
   "source": [
    "print(data.loc[142]['MonthlyIncome'])\n"
   ]
  },
  {
   "cell_type": "code",
   "execution_count": 186,
   "metadata": {},
   "outputs": [
    {
     "name": "stdout",
     "output_type": "stream",
     "text": [
      "25571.0\n"
     ]
    }
   ],
   "source": [
    "print(data.loc[2482]['MonthlyIncome'])\n"
   ]
  },
  {
   "cell_type": "code",
   "execution_count": 187,
   "metadata": {},
   "outputs": [
    {
     "data": {
      "text/plain": [
       "count     4655.000000\n",
       "mean     23593.389474\n",
       "std       5151.690725\n",
       "min       4678.000000\n",
       "25%      20346.000000\n",
       "50%      22347.000000\n",
       "75%      25571.000000\n",
       "max      38677.000000\n",
       "Name: MonthlyIncome, dtype: float64"
      ]
     },
     "execution_count": 187,
     "metadata": {},
     "output_type": "execute_result"
    }
   ],
   "source": [
    "data['MonthlyIncome'].describe().T"
   ]
  },
  {
   "cell_type": "code",
   "execution_count": 188,
   "metadata": {},
   "outputs": [],
   "source": [
    "data['MonthlyIncome'].fillna(data['MonthlyIncome'].median(), inplace = True)"
   ]
  },
  {
   "cell_type": "code",
   "execution_count": 189,
   "metadata": {},
   "outputs": [
    {
     "data": {
      "text/plain": [
       "0"
      ]
     },
     "execution_count": 189,
     "metadata": {},
     "output_type": "execute_result"
    }
   ],
   "source": [
    "data['MonthlyIncome'].isnull().sum()"
   ]
  },
  {
   "cell_type": "markdown",
   "metadata": {},
   "source": [
    "##### Number of Person Visiting - Outlier Detection"
   ]
  },
  {
   "cell_type": "code",
   "execution_count": 190,
   "metadata": {},
   "outputs": [
    {
     "data": {
      "text/html": [
       "<div>\n",
       "<style scoped>\n",
       "    .dataframe tbody tr th:only-of-type {\n",
       "        vertical-align: middle;\n",
       "    }\n",
       "\n",
       "    .dataframe tbody tr th {\n",
       "        vertical-align: top;\n",
       "    }\n",
       "\n",
       "    .dataframe thead th {\n",
       "        text-align: right;\n",
       "    }\n",
       "</style>\n",
       "<table border=\"1\" class=\"dataframe\">\n",
       "  <thead>\n",
       "    <tr style=\"text-align: right;\">\n",
       "      <th></th>\n",
       "      <th>CustomerID</th>\n",
       "      <th>ProdTaken</th>\n",
       "      <th>Age</th>\n",
       "      <th>TypeofContact</th>\n",
       "      <th>CityTier</th>\n",
       "      <th>DurationOfPitch</th>\n",
       "      <th>Occupation</th>\n",
       "      <th>Gender</th>\n",
       "      <th>NumberOfPersonVisiting</th>\n",
       "      <th>NumberOfFollowups</th>\n",
       "      <th>ProductPitched</th>\n",
       "      <th>PreferredPropertyStar</th>\n",
       "      <th>MaritalStatus</th>\n",
       "      <th>NumberOfTrips</th>\n",
       "      <th>Passport</th>\n",
       "      <th>PitchSatisfactionScore</th>\n",
       "      <th>OwnCar</th>\n",
       "      <th>NumberOfChildrenVisiting</th>\n",
       "      <th>Designation</th>\n",
       "      <th>MonthlyIncome</th>\n",
       "    </tr>\n",
       "  </thead>\n",
       "  <tbody>\n",
       "    <tr>\n",
       "      <th>385</th>\n",
       "      <td>200385</td>\n",
       "      <td>1</td>\n",
       "      <td>30.0</td>\n",
       "      <td>Company Invited</td>\n",
       "      <td>1</td>\n",
       "      <td>10.0</td>\n",
       "      <td>Large Business</td>\n",
       "      <td>Male</td>\n",
       "      <td>2</td>\n",
       "      <td>3.0</td>\n",
       "      <td>Basic</td>\n",
       "      <td>3.0</td>\n",
       "      <td>Unmarried</td>\n",
       "      <td>19.0</td>\n",
       "      <td>1</td>\n",
       "      <td>4</td>\n",
       "      <td>1</td>\n",
       "      <td>1.0</td>\n",
       "      <td>Executive</td>\n",
       "      <td>17285.0</td>\n",
       "    </tr>\n",
       "    <tr>\n",
       "      <th>816</th>\n",
       "      <td>200816</td>\n",
       "      <td>0</td>\n",
       "      <td>39.0</td>\n",
       "      <td>Company Invited</td>\n",
       "      <td>1</td>\n",
       "      <td>15.0</td>\n",
       "      <td>Salaried</td>\n",
       "      <td>Male</td>\n",
       "      <td>3</td>\n",
       "      <td>3.0</td>\n",
       "      <td>Deluxe</td>\n",
       "      <td>4.0</td>\n",
       "      <td>Unmarried</td>\n",
       "      <td>21.0</td>\n",
       "      <td>0</td>\n",
       "      <td>2</td>\n",
       "      <td>1</td>\n",
       "      <td>0.0</td>\n",
       "      <td>Manager</td>\n",
       "      <td>21782.0</td>\n",
       "    </tr>\n",
       "    <tr>\n",
       "      <th>2829</th>\n",
       "      <td>202829</td>\n",
       "      <td>1</td>\n",
       "      <td>31.0</td>\n",
       "      <td>Company Invited</td>\n",
       "      <td>1</td>\n",
       "      <td>11.0</td>\n",
       "      <td>Large Business</td>\n",
       "      <td>Male</td>\n",
       "      <td>3</td>\n",
       "      <td>4.0</td>\n",
       "      <td>Basic</td>\n",
       "      <td>3.0</td>\n",
       "      <td>Unmarried</td>\n",
       "      <td>20.0</td>\n",
       "      <td>1</td>\n",
       "      <td>4</td>\n",
       "      <td>1</td>\n",
       "      <td>2.0</td>\n",
       "      <td>Executive</td>\n",
       "      <td>20963.0</td>\n",
       "    </tr>\n",
       "    <tr>\n",
       "      <th>3260</th>\n",
       "      <td>203260</td>\n",
       "      <td>0</td>\n",
       "      <td>40.0</td>\n",
       "      <td>Company Invited</td>\n",
       "      <td>1</td>\n",
       "      <td>16.0</td>\n",
       "      <td>Salaried</td>\n",
       "      <td>Male</td>\n",
       "      <td>4</td>\n",
       "      <td>4.0</td>\n",
       "      <td>Deluxe</td>\n",
       "      <td>4.0</td>\n",
       "      <td>Unmarried</td>\n",
       "      <td>22.0</td>\n",
       "      <td>0</td>\n",
       "      <td>2</td>\n",
       "      <td>1</td>\n",
       "      <td>1.0</td>\n",
       "      <td>Manager</td>\n",
       "      <td>25460.0</td>\n",
       "    </tr>\n",
       "  </tbody>\n",
       "</table>\n",
       "</div>"
      ],
      "text/plain": [
       "      CustomerID  ProdTaken   Age    TypeofContact  CityTier  DurationOfPitch  \\\n",
       "385       200385          1  30.0  Company Invited         1             10.0   \n",
       "816       200816          0  39.0  Company Invited         1             15.0   \n",
       "2829      202829          1  31.0  Company Invited         1             11.0   \n",
       "3260      203260          0  40.0  Company Invited         1             16.0   \n",
       "\n",
       "          Occupation Gender  NumberOfPersonVisiting  NumberOfFollowups  \\\n",
       "385   Large Business   Male                       2                3.0   \n",
       "816         Salaried   Male                       3                3.0   \n",
       "2829  Large Business   Male                       3                4.0   \n",
       "3260        Salaried   Male                       4                4.0   \n",
       "\n",
       "     ProductPitched  PreferredPropertyStar MaritalStatus  NumberOfTrips  \\\n",
       "385           Basic                    3.0     Unmarried           19.0   \n",
       "816          Deluxe                    4.0     Unmarried           21.0   \n",
       "2829          Basic                    3.0     Unmarried           20.0   \n",
       "3260         Deluxe                    4.0     Unmarried           22.0   \n",
       "\n",
       "      Passport  PitchSatisfactionScore  OwnCar  NumberOfChildrenVisiting  \\\n",
       "385          1                       4       1                       1.0   \n",
       "816          0                       2       1                       0.0   \n",
       "2829         1                       4       1                       2.0   \n",
       "3260         0                       2       1                       1.0   \n",
       "\n",
       "     Designation  MonthlyIncome  \n",
       "385    Executive        17285.0  \n",
       "816      Manager        21782.0  \n",
       "2829   Executive        20963.0  \n",
       "3260     Manager        25460.0  "
      ]
     },
     "execution_count": 190,
     "metadata": {},
     "output_type": "execute_result"
    }
   ],
   "source": [
    "data.loc[(data['NumberOfTrips']>15)]"
   ]
  },
  {
   "cell_type": "code",
   "execution_count": 191,
   "metadata": {},
   "outputs": [
    {
     "data": {
      "image/png": "[encoded data removed]",
      "text/plain": [
       "<Figure size 432x288 with 1 Axes>"
      ]
     },
     "metadata": {
      "needs_background": "light"
     },
     "output_type": "display_data"
    },
    {
     "data": {
      "image/png": "[encoded data removed]",
      "text/plain": [
       "<Figure size 432x288 with 1 Axes>"
      ]
     },
     "metadata": {
      "needs_background": "light"
     },
     "output_type": "display_data"
    }
   ],
   "source": [
    "plt.hist(data['NumberOfPersonVisiting'], 20)\n",
    "plt.title('Histogram of Number of Persons Visiting')\n",
    "plt.show()\n",
    "\n",
    "sns.boxplot(data['NumberOfPersonVisiting'])\n",
    "plt.title('Boxplot of Number of Persons Visiting ')\n",
    "plt.show()"
   ]
  },
  {
   "cell_type": "code",
   "execution_count": 192,
   "metadata": {},
   "outputs": [
    {
     "data": {
      "text/plain": [
       "3    2402\n",
       "2    1418\n",
       "4    1026\n",
       "1      39\n",
       "5       3\n",
       "Name: NumberOfPersonVisiting, dtype: int64"
      ]
     },
     "execution_count": 192,
     "metadata": {},
     "output_type": "execute_result"
    }
   ],
   "source": [
    "data['NumberOfPersonVisiting'].value_counts()"
   ]
  },
  {
   "cell_type": "markdown",
   "metadata": {},
   "source": [
    "###### Number of Persons visiting equals 5 occurs 3 times in the dataset; this is deemed acceptable for the problem statement and therefore these values will not be treated as outliers\n"
   ]
  },
  {
   "cell_type": "markdown",
   "metadata": {},
   "source": [
    "##### Number of Trips Outlier detection "
   ]
  },
  {
   "cell_type": "code",
   "execution_count": 193,
   "metadata": {},
   "outputs": [
    {
     "data": {
      "image/png": "[encoded data removed]",
      "text/plain": [
       "<Figure size 432x288 with 1 Axes>"
      ]
     },
     "metadata": {
      "needs_background": "light"
     },
     "output_type": "display_data"
    },
    {
     "data": {
      "image/png": "[encoded data removed]",
      "text/plain": [
       "<Figure size 432x288 with 1 Axes>"
      ]
     },
     "metadata": {
      "needs_background": "light"
     },
     "output_type": "display_data"
    }
   ],
   "source": [
    "plt.hist(data['NumberOfTrips'], 20)\n",
    "plt.title('Histogram of Number of Trips')\n",
    "plt.show()\n",
    "\n",
    "sns.boxplot(data['NumberOfTrips'])\n",
    "plt.title('Boxplot of Number of Trips ')\n",
    "plt.show()"
   ]
  },
  {
   "cell_type": "code",
   "execution_count": 194,
   "metadata": {},
   "outputs": [
    {
     "data": {
      "text/plain": [
       "2.0     1464\n",
       "3.0     1219\n",
       "1.0      620\n",
       "4.0      478\n",
       "5.0      458\n",
       "6.0      322\n",
       "7.0      218\n",
       "8.0      105\n",
       "21.0       1\n",
       "19.0       1\n",
       "22.0       1\n",
       "20.0       1\n",
       "Name: NumberOfTrips, dtype: int64"
      ]
     },
     "execution_count": 194,
     "metadata": {},
     "output_type": "execute_result"
    }
   ],
   "source": [
    "data['NumberOfTrips'].value_counts()"
   ]
  },
  {
   "cell_type": "code",
   "execution_count": 195,
   "metadata": {},
   "outputs": [
    {
     "data": {
      "text/plain": [
       "count    4888.000000\n",
       "mean        3.229746\n",
       "std         1.822769\n",
       "min         1.000000\n",
       "25%         2.000000\n",
       "50%         3.000000\n",
       "75%         4.000000\n",
       "max        22.000000\n",
       "Name: NumberOfTrips, dtype: float64"
      ]
     },
     "execution_count": 195,
     "metadata": {},
     "output_type": "execute_result"
    }
   ],
   "source": [
    "data['NumberOfTrips'].describe().T"
   ]
  },
  {
   "cell_type": "code",
   "execution_count": 196,
   "metadata": {},
   "outputs": [
    {
     "name": "stdout",
     "output_type": "stream",
     "text": [
      "Q1 = 2.0, Q3 = 4.0, 4*IQR = 8.0\n"
     ]
    },
    {
     "data": {
      "text/plain": [
       "385     19.0\n",
       "816     21.0\n",
       "2829    20.0\n",
       "3260    22.0\n",
       "Name: NumberOfTrips, dtype: float64"
      ]
     },
     "execution_count": 196,
     "metadata": {},
     "output_type": "execute_result"
    }
   ],
   "source": [
    "# Locate points that are outside of 4 times the IQR\n",
    "quartiles = np.quantile(data['NumberOfTrips'][data['NumberOfTrips'].notnull()], [.25, .75])\n",
    "power_4iqr = 4 * (quartiles[1] - quartiles[0])\n",
    "print(f'Q1 = {quartiles[0]}, Q3 = {quartiles[1]}, 4*IQR = {power_4iqr}')\n",
    "outlier_powers = data.loc[np.abs(data['NumberOfTrips'] - data['NumberOfTrips'].median()) > power_4iqr, 'NumberOfTrips']\n",
    "outlier_powers"
   ]
  },
  {
   "cell_type": "code",
   "execution_count": 197,
   "metadata": {},
   "outputs": [],
   "source": [
    "data['NumberOfTrips'].mask(data['NumberOfTrips'] > 8,data['NumberOfTrips'].quantile(.75), inplace=True)"
   ]
  },
  {
   "cell_type": "code",
   "execution_count": 198,
   "metadata": {},
   "outputs": [
    {
     "name": "stdout",
     "output_type": "stream",
     "text": [
      "Q1 = 2.0, Q3 = 4.0, 4*IQR = 8.0\n"
     ]
    },
    {
     "data": {
      "text/plain": [
       "Series([], Name: NumberOfTrips, dtype: float64)"
      ]
     },
     "execution_count": 198,
     "metadata": {},
     "output_type": "execute_result"
    }
   ],
   "source": [
    "# Recheck presence of Outliers\n",
    "quartiles = np.quantile(data['NumberOfTrips'][data['NumberOfTrips'].notnull()], [.25, .75])\n",
    "power_4iqr = 4 * (quartiles[1] - quartiles[0])\n",
    "print(f'Q1 = {quartiles[0]}, Q3 = {quartiles[1]}, 4*IQR = {power_4iqr}')\n",
    "outlier_powers = data.loc[np.abs(data['NumberOfTrips'] - data['NumberOfTrips'].median()) > power_4iqr, 'NumberOfTrips']\n",
    "outlier_powers"
   ]
  },
  {
   "cell_type": "markdown",
   "metadata": {},
   "source": [
    "#### Explore Multicollinearity  of Variables 'Number of Persons visiting' and 'Number of Children'"
   ]
  },
  {
   "cell_type": "code",
   "execution_count": 199,
   "metadata": {},
   "outputs": [
    {
     "data": {
      "text/plain": [
       "<seaborn.axisgrid.JointGrid at 0x1bd55938790>"
      ]
     },
     "execution_count": 199,
     "metadata": {},
     "output_type": "execute_result"
    },
    {
     "data": {
      "image/png": "[encoded data removed]",
      "text/plain": [
       "<Figure size 432x432 with 3 Axes>"
      ]
     },
     "metadata": {
      "needs_background": "light"
     },
     "output_type": "display_data"
    }
   ],
   "source": [
    "sns.jointplot(data=data, x='NumberOfPersonVisiting', y='NumberOfChildrenVisiting')"
   ]
  },
  {
   "cell_type": "code",
   "execution_count": 200,
   "metadata": {},
   "outputs": [
    {
     "name": "stdout",
     "output_type": "stream",
     "text": [
      "<class 'pandas.core.frame.DataFrame'>\n",
      "RangeIndex: 4888 entries, 0 to 4887\n",
      "Data columns (total 19 columns):\n",
      " #   Column                  Non-Null Count  Dtype  \n",
      "---  ------                  --------------  -----  \n",
      " 0   CustomerID              4888 non-null   int64  \n",
      " 1   ProdTaken               4888 non-null   int64  \n",
      " 2   Age                     4888 non-null   float64\n",
      " 3   TypeofContact           4888 non-null   object \n",
      " 4   CityTier                4888 non-null   int64  \n",
      " 5   DurationOfPitch         4637 non-null   float64\n",
      " 6   Occupation              4888 non-null   object \n",
      " 7   Gender                  4888 non-null   object \n",
      " 8   NumberOfPersonVisiting  4888 non-null   int64  \n",
      " 9   NumberOfFollowups       4888 non-null   float64\n",
      " 10  ProductPitched          4888 non-null   object \n",
      " 11  PreferredPropertyStar   4888 non-null   float64\n",
      " 12  MaritalStatus           4888 non-null   object \n",
      " 13  NumberOfTrips           4888 non-null   float64\n",
      " 14  Passport                4888 non-null   int64  \n",
      " 15  PitchSatisfactionScore  4888 non-null   int64  \n",
      " 16  OwnCar                  4888 non-null   int64  \n",
      " 17  Designation             4888 non-null   object \n",
      " 18  MonthlyIncome           4888 non-null   float64\n",
      "dtypes: float64(6), int64(7), object(6)\n",
      "memory usage: 725.7+ KB\n"
     ]
    }
   ],
   "source": [
    "# 'NumberOfPersonVisitting' is the total number of persons visiting implying that this value includes the \"NumberOfChildrenVisiting\"\n",
    "# The variable 'NumberOfChildrenVisiting' will be removed from the dataset\n",
    "data.drop('NumberOfChildrenVisiting', axis=1, inplace=True)\n",
    "data.info()"
   ]
  },
  {
   "cell_type": "markdown",
   "metadata": {},
   "source": [
    "#### 'Duration of Pitch': Missing Values"
   ]
  },
  {
   "cell_type": "code",
   "execution_count": 201,
   "metadata": {},
   "outputs": [
    {
     "data": {
      "text/plain": [
       "251"
      ]
     },
     "execution_count": 201,
     "metadata": {},
     "output_type": "execute_result"
    }
   ],
   "source": [
    "data['DurationOfPitch'].isnull().sum()"
   ]
  },
  {
   "cell_type": "code",
   "execution_count": 202,
   "metadata": {},
   "outputs": [
    {
     "data": {
      "text/plain": [
       "count    4637.000000\n",
       "mean       15.490835\n",
       "std         8.519643\n",
       "min         5.000000\n",
       "25%         9.000000\n",
       "50%        13.000000\n",
       "75%        20.000000\n",
       "max       127.000000\n",
       "Name: DurationOfPitch, dtype: float64"
      ]
     },
     "execution_count": 202,
     "metadata": {},
     "output_type": "execute_result"
    }
   ],
   "source": [
    "data['DurationOfPitch'].describe().T"
   ]
  },
  {
   "cell_type": "code",
   "execution_count": 203,
   "metadata": {},
   "outputs": [
    {
     "data": {
      "text/plain": [
       "<AxesSubplot:xlabel='DurationOfPitch'>"
      ]
     },
     "execution_count": 203,
     "metadata": {},
     "output_type": "execute_result"
    },
    {
     "data": {
      "image/png": "[encoded data removed]",
      "text/plain": [
       "<Figure size 432x288 with 1 Axes>"
      ]
     },
     "metadata": {
      "needs_background": "light"
     },
     "output_type": "display_data"
    }
   ],
   "source": [
    "sns.boxplot(data = data, x='DurationOfPitch')"
   ]
  },
  {
   "cell_type": "code",
   "execution_count": 204,
   "metadata": {},
   "outputs": [
    {
     "data": {
      "text/plain": [
       "<AxesSubplot:xlabel='DurationOfPitch', ylabel='ProductPitched'>"
      ]
     },
     "execution_count": 204,
     "metadata": {},
     "output_type": "execute_result"
    },
    {
     "data": {
      "image/png": "[encoded data removed]",
      "text/plain": [
       "<Figure size 432x288 with 1 Axes>"
      ]
     },
     "metadata": {
      "needs_background": "light"
     },
     "output_type": "display_data"
    }
   ],
   "source": [
    "sns.boxplot(data = data, x='DurationOfPitch', y='ProductPitched')"
   ]
  },
  {
   "cell_type": "code",
   "execution_count": 205,
   "metadata": {},
   "outputs": [
    {
     "data": {
      "text/plain": [
       "ProductPitched\n",
       "Basic           13.0\n",
       "Deluxe          14.0\n",
       "King            11.0\n",
       "Standard        14.0\n",
       "Super Deluxe    13.0\n",
       "Name: DurationOfPitch, dtype: float64"
      ]
     },
     "execution_count": 205,
     "metadata": {},
     "output_type": "execute_result"
    }
   ],
   "source": [
    "data.groupby(['ProductPitched'])['DurationOfPitch'].median()"
   ]
  },
  {
   "cell_type": "code",
   "execution_count": 206,
   "metadata": {},
   "outputs": [
    {
     "data": {
      "text/plain": [
       "0"
      ]
     },
     "execution_count": 206,
     "metadata": {},
     "output_type": "execute_result"
    }
   ],
   "source": [
    "# Impute null values with Product pitched group median\n",
    "data['DurationOfPitch'] = data.groupby(['ProductPitched'], sort=False)['DurationOfPitch'].apply(lambda x: x.fillna(x.median()))\n",
    "\n",
    "data['DurationOfPitch'].isnull().sum()"
   ]
  },
  {
   "cell_type": "markdown",
   "metadata": {},
   "source": [
    "#### Drop non - informative columns\n",
    "- CustomerID: this is a seriel value and adds not information\n",
    "- Designation: variable from the model for not apprpriate to contextit does not have designations hierarchically lower than manager, and products pitched to Managers were exclusively Deluxe and to Senior Managers exclusively Standard\n",
    "- Pitch Satisfaction: The pitch satisfaction score may not be influential for a model as the pitch score likely does nto occir before the customer chooses to take or not take the product."
   ]
  },
  {
   "cell_type": "code",
   "execution_count": 207,
   "metadata": {},
   "outputs": [],
   "source": [
    "data.drop(['CustomerID','Designation','PitchSatisfactionScore'], axis = 1, inplace =True)"
   ]
  },
  {
   "cell_type": "code",
   "execution_count": 208,
   "metadata": {},
   "outputs": [
    {
     "name": "stdout",
     "output_type": "stream",
     "text": [
      "<class 'pandas.core.frame.DataFrame'>\n",
      "RangeIndex: 4888 entries, 0 to 4887\n",
      "Data columns (total 16 columns):\n",
      " #   Column                  Non-Null Count  Dtype  \n",
      "---  ------                  --------------  -----  \n",
      " 0   ProdTaken               4888 non-null   int64  \n",
      " 1   Age                     4888 non-null   float64\n",
      " 2   TypeofContact           4888 non-null   object \n",
      " 3   CityTier                4888 non-null   int64  \n",
      " 4   DurationOfPitch         4888 non-null   float64\n",
      " 5   Occupation              4888 non-null   object \n",
      " 6   Gender                  4888 non-null   object \n",
      " 7   NumberOfPersonVisiting  4888 non-null   int64  \n",
      " 8   NumberOfFollowups       4888 non-null   float64\n",
      " 9   ProductPitched          4888 non-null   object \n",
      " 10  PreferredPropertyStar   4888 non-null   float64\n",
      " 11  MaritalStatus           4888 non-null   object \n",
      " 12  NumberOfTrips           4888 non-null   float64\n",
      " 13  Passport                4888 non-null   int64  \n",
      " 14  OwnCar                  4888 non-null   int64  \n",
      " 15  MonthlyIncome           4888 non-null   float64\n",
      "dtypes: float64(6), int64(5), object(5)\n",
      "memory usage: 611.1+ KB\n"
     ]
    }
   ],
   "source": [
    "data.info()"
   ]
  },
  {
   "cell_type": "markdown",
   "metadata": {},
   "source": [
    "##### Explore Skewness and transformation\n",
    "- Monthly Income\n",
    "- Duration of Pitch\n",
    "- Age"
   ]
  },
  {
   "cell_type": "code",
   "execution_count": 209,
   "metadata": {},
   "outputs": [
    {
     "data": {
      "image/png": "[encoded data removed]",
      "text/plain": [
       "<Figure size 864x504 with 2 Axes>"
      ]
     },
     "metadata": {
      "needs_background": "light"
     },
     "output_type": "display_data"
    }
   ],
   "source": [
    "#Monthly Inccome\n",
    "# View Distribution of Numeric variable Monthly Income\n",
    "histogram_boxplot(data, \"MonthlyIncome\")"
   ]
  },
  {
   "cell_type": "markdown",
   "metadata": {},
   "source": [
    "##### Monthly Income is not skewed enough to warrant transformation before modeling"
   ]
  },
  {
   "cell_type": "code",
   "execution_count": 210,
   "metadata": {},
   "outputs": [
    {
     "data": {
      "image/png": "[encoded data removed]",
      "text/plain": [
       "<Figure size 864x504 with 2 Axes>"
      ]
     },
     "metadata": {
      "needs_background": "light"
     },
     "output_type": "display_data"
    }
   ],
   "source": [
    "#Age\n",
    "# View Distribution of Numeric variable Monthly Income\n",
    "histogram_boxplot(data, \"Age\")"
   ]
  },
  {
   "cell_type": "markdown",
   "metadata": {},
   "source": [
    "##### Age is lightly skewed and does not warrant transformation before modeling"
   ]
  },
  {
   "cell_type": "code",
   "execution_count": 211,
   "metadata": {},
   "outputs": [
    {
     "data": {
      "image/png": "[encoded data removed]",
      "text/plain": [
       "<Figure size 864x504 with 2 Axes>"
      ]
     },
     "metadata": {
      "needs_background": "light"
     },
     "output_type": "display_data"
    }
   ],
   "source": [
    "##### Duration of Pitch\n",
    "# View Distribution of Numeric variable Monthly Income\n",
    "histogram_boxplot(data, \"DurationOfPitch\")"
   ]
  },
  {
   "cell_type": "markdown",
   "metadata": {},
   "source": [
    "##### Duration of Pitch is not skewed enough to warrant transformation before modeling"
   ]
  },
  {
   "cell_type": "code",
   "execution_count": null,
   "metadata": {},
   "outputs": [],
   "source": []
  },
  {
   "cell_type": "markdown",
   "metadata": {},
   "source": [
    "#### Object data types: Explore and Convert to Ordinal types"
   ]
  },
  {
   "cell_type": "code",
   "execution_count": 212,
   "metadata": {},
   "outputs": [
    {
     "name": "stdout",
     "output_type": "stream",
     "text": [
      "Self Enquiry       3469\n",
      "Company Invited    1419\n",
      "Name: TypeofContact, dtype: int64\n",
      "_________________________________\n",
      "Salaried          2368\n",
      "Small Business    2084\n",
      "Large Business     434\n",
      "Free Lancer          2\n",
      "Name: Occupation, dtype: int64\n",
      "_________________________________\n",
      "Male      2916\n",
      "Female    1972\n",
      "Name: Gender, dtype: int64\n",
      "_________________________________\n",
      "Basic           1842\n",
      "Deluxe          1732\n",
      "Standard         742\n",
      "Super Deluxe     342\n",
      "King             230\n",
      "Name: ProductPitched, dtype: int64\n",
      "_________________________________\n",
      "Unmarried    2548\n",
      "Married      2340\n",
      "Name: MaritalStatus, dtype: int64\n",
      "_________________________________\n"
     ]
    }
   ],
   "source": [
    "\n",
    "#Understand the number of each value for the following columns: \n",
    "obj_cols = ['TypeofContact', 'Occupation','Gender','ProductPitched','MaritalStatus']\n",
    "for col in obj_cols:\n",
    "    print(data[col].value_counts())\n",
    "    print(\"_________________________________\")"
   ]
  },
  {
   "cell_type": "code",
   "execution_count": 214,
   "metadata": {},
   "outputs": [
    {
     "data": {
      "text/html": [
       "<div>\n",
       "<style scoped>\n",
       "    .dataframe tbody tr th:only-of-type {\n",
       "        vertical-align: middle;\n",
       "    }\n",
       "\n",
       "    .dataframe tbody tr th {\n",
       "        vertical-align: top;\n",
       "    }\n",
       "\n",
       "    .dataframe thead th {\n",
       "        text-align: right;\n",
       "    }\n",
       "</style>\n",
       "<table border=\"1\" class=\"dataframe\">\n",
       "  <thead>\n",
       "    <tr style=\"text-align: right;\">\n",
       "      <th></th>\n",
       "      <th>ProdTaken</th>\n",
       "      <th>Age</th>\n",
       "      <th>TypeofContact</th>\n",
       "      <th>CityTier</th>\n",
       "      <th>DurationOfPitch</th>\n",
       "      <th>Occupation</th>\n",
       "      <th>Gender</th>\n",
       "      <th>NumberOfPersonVisiting</th>\n",
       "      <th>NumberOfFollowups</th>\n",
       "      <th>ProductPitched</th>\n",
       "      <th>PreferredPropertyStar</th>\n",
       "      <th>MaritalStatus</th>\n",
       "      <th>NumberOfTrips</th>\n",
       "      <th>Passport</th>\n",
       "      <th>OwnCar</th>\n",
       "      <th>MonthlyIncome</th>\n",
       "    </tr>\n",
       "  </thead>\n",
       "  <tbody>\n",
       "    <tr>\n",
       "      <th>0</th>\n",
       "      <td>1</td>\n",
       "      <td>41.0</td>\n",
       "      <td>Self Enquiry</td>\n",
       "      <td>3</td>\n",
       "      <td>6.0</td>\n",
       "      <td>Salaried</td>\n",
       "      <td>Female</td>\n",
       "      <td>3</td>\n",
       "      <td>3.0</td>\n",
       "      <td>Deluxe</td>\n",
       "      <td>3.0</td>\n",
       "      <td>Unmarried</td>\n",
       "      <td>1.0</td>\n",
       "      <td>1</td>\n",
       "      <td>1</td>\n",
       "      <td>20993.0</td>\n",
       "    </tr>\n",
       "    <tr>\n",
       "      <th>1</th>\n",
       "      <td>0</td>\n",
       "      <td>49.0</td>\n",
       "      <td>Company Invited</td>\n",
       "      <td>1</td>\n",
       "      <td>14.0</td>\n",
       "      <td>Salaried</td>\n",
       "      <td>Male</td>\n",
       "      <td>3</td>\n",
       "      <td>4.0</td>\n",
       "      <td>Deluxe</td>\n",
       "      <td>4.0</td>\n",
       "      <td>Unmarried</td>\n",
       "      <td>2.0</td>\n",
       "      <td>0</td>\n",
       "      <td>1</td>\n",
       "      <td>20130.0</td>\n",
       "    </tr>\n",
       "    <tr>\n",
       "      <th>2</th>\n",
       "      <td>1</td>\n",
       "      <td>37.0</td>\n",
       "      <td>Self Enquiry</td>\n",
       "      <td>1</td>\n",
       "      <td>8.0</td>\n",
       "      <td>Free Lancer</td>\n",
       "      <td>Male</td>\n",
       "      <td>3</td>\n",
       "      <td>4.0</td>\n",
       "      <td>Basic</td>\n",
       "      <td>3.0</td>\n",
       "      <td>Unmarried</td>\n",
       "      <td>7.0</td>\n",
       "      <td>1</td>\n",
       "      <td>0</td>\n",
       "      <td>17090.0</td>\n",
       "    </tr>\n",
       "    <tr>\n",
       "      <th>3</th>\n",
       "      <td>0</td>\n",
       "      <td>33.0</td>\n",
       "      <td>Company Invited</td>\n",
       "      <td>1</td>\n",
       "      <td>9.0</td>\n",
       "      <td>Salaried</td>\n",
       "      <td>Female</td>\n",
       "      <td>2</td>\n",
       "      <td>3.0</td>\n",
       "      <td>Basic</td>\n",
       "      <td>3.0</td>\n",
       "      <td>Unmarried</td>\n",
       "      <td>2.0</td>\n",
       "      <td>1</td>\n",
       "      <td>1</td>\n",
       "      <td>17909.0</td>\n",
       "    </tr>\n",
       "    <tr>\n",
       "      <th>4</th>\n",
       "      <td>0</td>\n",
       "      <td>32.0</td>\n",
       "      <td>Self Enquiry</td>\n",
       "      <td>1</td>\n",
       "      <td>8.0</td>\n",
       "      <td>Small Business</td>\n",
       "      <td>Male</td>\n",
       "      <td>2</td>\n",
       "      <td>3.0</td>\n",
       "      <td>Basic</td>\n",
       "      <td>4.0</td>\n",
       "      <td>Unmarried</td>\n",
       "      <td>1.0</td>\n",
       "      <td>0</td>\n",
       "      <td>1</td>\n",
       "      <td>18468.0</td>\n",
       "    </tr>\n",
       "    <tr>\n",
       "      <th>5</th>\n",
       "      <td>0</td>\n",
       "      <td>32.0</td>\n",
       "      <td>Company Invited</td>\n",
       "      <td>1</td>\n",
       "      <td>8.0</td>\n",
       "      <td>Salaried</td>\n",
       "      <td>Male</td>\n",
       "      <td>3</td>\n",
       "      <td>3.0</td>\n",
       "      <td>Basic</td>\n",
       "      <td>3.0</td>\n",
       "      <td>Unmarried</td>\n",
       "      <td>1.0</td>\n",
       "      <td>0</td>\n",
       "      <td>1</td>\n",
       "      <td>18068.0</td>\n",
       "    </tr>\n",
       "    <tr>\n",
       "      <th>6</th>\n",
       "      <td>0</td>\n",
       "      <td>59.0</td>\n",
       "      <td>Self Enquiry</td>\n",
       "      <td>1</td>\n",
       "      <td>9.0</td>\n",
       "      <td>Small Business</td>\n",
       "      <td>Female</td>\n",
       "      <td>2</td>\n",
       "      <td>2.0</td>\n",
       "      <td>Basic</td>\n",
       "      <td>5.0</td>\n",
       "      <td>Unmarried</td>\n",
       "      <td>5.0</td>\n",
       "      <td>1</td>\n",
       "      <td>1</td>\n",
       "      <td>17670.0</td>\n",
       "    </tr>\n",
       "    <tr>\n",
       "      <th>7</th>\n",
       "      <td>0</td>\n",
       "      <td>30.0</td>\n",
       "      <td>Self Enquiry</td>\n",
       "      <td>1</td>\n",
       "      <td>30.0</td>\n",
       "      <td>Salaried</td>\n",
       "      <td>Male</td>\n",
       "      <td>3</td>\n",
       "      <td>3.0</td>\n",
       "      <td>Basic</td>\n",
       "      <td>3.0</td>\n",
       "      <td>Married</td>\n",
       "      <td>2.0</td>\n",
       "      <td>0</td>\n",
       "      <td>0</td>\n",
       "      <td>17693.0</td>\n",
       "    </tr>\n",
       "    <tr>\n",
       "      <th>8</th>\n",
       "      <td>0</td>\n",
       "      <td>38.0</td>\n",
       "      <td>Company Invited</td>\n",
       "      <td>1</td>\n",
       "      <td>29.0</td>\n",
       "      <td>Salaried</td>\n",
       "      <td>Male</td>\n",
       "      <td>2</td>\n",
       "      <td>4.0</td>\n",
       "      <td>Standard</td>\n",
       "      <td>3.0</td>\n",
       "      <td>Unmarried</td>\n",
       "      <td>1.0</td>\n",
       "      <td>0</td>\n",
       "      <td>0</td>\n",
       "      <td>24526.0</td>\n",
       "    </tr>\n",
       "    <tr>\n",
       "      <th>9</th>\n",
       "      <td>0</td>\n",
       "      <td>36.0</td>\n",
       "      <td>Self Enquiry</td>\n",
       "      <td>1</td>\n",
       "      <td>33.0</td>\n",
       "      <td>Small Business</td>\n",
       "      <td>Male</td>\n",
       "      <td>3</td>\n",
       "      <td>3.0</td>\n",
       "      <td>Deluxe</td>\n",
       "      <td>3.0</td>\n",
       "      <td>Unmarried</td>\n",
       "      <td>7.0</td>\n",
       "      <td>0</td>\n",
       "      <td>1</td>\n",
       "      <td>20237.0</td>\n",
       "    </tr>\n",
       "  </tbody>\n",
       "</table>\n",
       "</div>"
      ],
      "text/plain": [
       "   ProdTaken   Age    TypeofContact  CityTier  DurationOfPitch  \\\n",
       "0          1  41.0     Self Enquiry         3              6.0   \n",
       "1          0  49.0  Company Invited         1             14.0   \n",
       "2          1  37.0     Self Enquiry         1              8.0   \n",
       "3          0  33.0  Company Invited         1              9.0   \n",
       "4          0  32.0     Self Enquiry         1              8.0   \n",
       "5          0  32.0  Company Invited         1              8.0   \n",
       "6          0  59.0     Self Enquiry         1              9.0   \n",
       "7          0  30.0     Self Enquiry         1             30.0   \n",
       "8          0  38.0  Company Invited         1             29.0   \n",
       "9          0  36.0     Self Enquiry         1             33.0   \n",
       "\n",
       "       Occupation  Gender  NumberOfPersonVisiting  NumberOfFollowups  \\\n",
       "0        Salaried  Female                       3                3.0   \n",
       "1        Salaried    Male                       3                4.0   \n",
       "2     Free Lancer    Male                       3                4.0   \n",
       "3        Salaried  Female                       2                3.0   \n",
       "4  Small Business    Male                       2                3.0   \n",
       "5        Salaried    Male                       3                3.0   \n",
       "6  Small Business  Female                       2                2.0   \n",
       "7        Salaried    Male                       3                3.0   \n",
       "8        Salaried    Male                       2                4.0   \n",
       "9  Small Business    Male                       3                3.0   \n",
       "\n",
       "  ProductPitched  PreferredPropertyStar MaritalStatus  NumberOfTrips  \\\n",
       "0         Deluxe                    3.0     Unmarried            1.0   \n",
       "1         Deluxe                    4.0     Unmarried            2.0   \n",
       "2          Basic                    3.0     Unmarried            7.0   \n",
       "3          Basic                    3.0     Unmarried            2.0   \n",
       "4          Basic                    4.0     Unmarried            1.0   \n",
       "5          Basic                    3.0     Unmarried            1.0   \n",
       "6          Basic                    5.0     Unmarried            5.0   \n",
       "7          Basic                    3.0       Married            2.0   \n",
       "8       Standard                    3.0     Unmarried            1.0   \n",
       "9         Deluxe                    3.0     Unmarried            7.0   \n",
       "\n",
       "   Passport  OwnCar  MonthlyIncome  \n",
       "0         1       1        20993.0  \n",
       "1         0       1        20130.0  \n",
       "2         1       0        17090.0  \n",
       "3         1       1        17909.0  \n",
       "4         0       1        18468.0  \n",
       "5         0       1        18068.0  \n",
       "6         1       1        17670.0  \n",
       "7         0       0        17693.0  \n",
       "8         0       0        24526.0  \n",
       "9         0       1        20237.0  "
      ]
     },
     "execution_count": 214,
     "metadata": {},
     "output_type": "execute_result"
    }
   ],
   "source": [
    "#Change object column dtypes to category dtype (Code from Hands on Bagging and Random Forest)\n",
    "\n",
    "for feature in data.columns: # Loop through all columns in the dataframe\n",
    "    if data[feature].dtype == 'object': # Only apply for columns with categorical strings\n",
    "        data[feature] = pd.Categorical(data[feature])# Replace strings with an integer\n",
    "data.head(10)"
   ]
  },
  {
   "cell_type": "code",
   "execution_count": 215,
   "metadata": {},
   "outputs": [
    {
     "name": "stdout",
     "output_type": "stream",
     "text": [
      "<class 'pandas.core.frame.DataFrame'>\n",
      "RangeIndex: 4888 entries, 0 to 4887\n",
      "Data columns (total 16 columns):\n",
      " #   Column                  Non-Null Count  Dtype   \n",
      "---  ------                  --------------  -----   \n",
      " 0   ProdTaken               4888 non-null   int64   \n",
      " 1   Age                     4888 non-null   float64 \n",
      " 2   TypeofContact           4888 non-null   category\n",
      " 3   CityTier                4888 non-null   int64   \n",
      " 4   DurationOfPitch         4888 non-null   float64 \n",
      " 5   Occupation              4888 non-null   category\n",
      " 6   Gender                  4888 non-null   category\n",
      " 7   NumberOfPersonVisiting  4888 non-null   int64   \n",
      " 8   NumberOfFollowups       4888 non-null   float64 \n",
      " 9   ProductPitched          4888 non-null   category\n",
      " 10  PreferredPropertyStar   4888 non-null   float64 \n",
      " 11  MaritalStatus           4888 non-null   category\n",
      " 12  NumberOfTrips           4888 non-null   float64 \n",
      " 13  Passport                4888 non-null   int64   \n",
      " 14  OwnCar                  4888 non-null   int64   \n",
      " 15  MonthlyIncome           4888 non-null   float64 \n",
      "dtypes: category(5), float64(6), int64(5)\n",
      "memory usage: 444.7 KB\n"
     ]
    }
   ],
   "source": [
    "data.info()"
   ]
  },
  {
   "cell_type": "markdown",
   "metadata": {},
   "source": [
    "#### Convert Data types\n",
    "- ONe hot encoding of categorical variables: Occupation, ProductPitched\n",
    "- Convert to int64 via restructuring:\n",
    "    - 'TypeofContact': Self Enguiry (0) and Company Invited (1)\n",
    "    - 'Gender: Male (0) and Female (1)\n",
    "    - 'Marital Status': Unmarried (0) and Married (1)"
   ]
  },
  {
   "cell_type": "code",
   "execution_count": 216,
   "metadata": {},
   "outputs": [],
   "source": [
    "replaceStruct = {\n",
    "                \"TypeofContact\": {\"Self Enquiry\": 0, \"Company Invited\": 1},\n",
    "                \"Gender\": {\"Male\": 0, \"Female\":1},\n",
    "                 \"MaritalStatus\": {\"Unmarried\": 0, \"Married\":1 }\n",
    "                    }\n",
    "oneHotCols=['Occupation','ProductPitched']"
   ]
  },
  {
   "cell_type": "code",
   "execution_count": 217,
   "metadata": {},
   "outputs": [
    {
     "data": {
      "text/html": [
       "<div>\n",
       "<style scoped>\n",
       "    .dataframe tbody tr th:only-of-type {\n",
       "        vertical-align: middle;\n",
       "    }\n",
       "\n",
       "    .dataframe tbody tr th {\n",
       "        vertical-align: top;\n",
       "    }\n",
       "\n",
       "    .dataframe thead th {\n",
       "        text-align: right;\n",
       "    }\n",
       "</style>\n",
       "<table border=\"1\" class=\"dataframe\">\n",
       "  <thead>\n",
       "    <tr style=\"text-align: right;\">\n",
       "      <th></th>\n",
       "      <th>ProdTaken</th>\n",
       "      <th>Age</th>\n",
       "      <th>TypeofContact</th>\n",
       "      <th>CityTier</th>\n",
       "      <th>DurationOfPitch</th>\n",
       "      <th>Gender</th>\n",
       "      <th>NumberOfPersonVisiting</th>\n",
       "      <th>NumberOfFollowups</th>\n",
       "      <th>PreferredPropertyStar</th>\n",
       "      <th>MaritalStatus</th>\n",
       "      <th>...</th>\n",
       "      <th>MonthlyIncome</th>\n",
       "      <th>Occupation_Free Lancer</th>\n",
       "      <th>Occupation_Large Business</th>\n",
       "      <th>Occupation_Salaried</th>\n",
       "      <th>Occupation_Small Business</th>\n",
       "      <th>ProductPitched_Basic</th>\n",
       "      <th>ProductPitched_Deluxe</th>\n",
       "      <th>ProductPitched_King</th>\n",
       "      <th>ProductPitched_Standard</th>\n",
       "      <th>ProductPitched_Super Deluxe</th>\n",
       "    </tr>\n",
       "  </thead>\n",
       "  <tbody>\n",
       "    <tr>\n",
       "      <th>0</th>\n",
       "      <td>1</td>\n",
       "      <td>41.0</td>\n",
       "      <td>0</td>\n",
       "      <td>3</td>\n",
       "      <td>6.0</td>\n",
       "      <td>1</td>\n",
       "      <td>3</td>\n",
       "      <td>3.0</td>\n",
       "      <td>3.0</td>\n",
       "      <td>0</td>\n",
       "      <td>...</td>\n",
       "      <td>20993.0</td>\n",
       "      <td>0</td>\n",
       "      <td>0</td>\n",
       "      <td>1</td>\n",
       "      <td>0</td>\n",
       "      <td>0</td>\n",
       "      <td>1</td>\n",
       "      <td>0</td>\n",
       "      <td>0</td>\n",
       "      <td>0</td>\n",
       "    </tr>\n",
       "    <tr>\n",
       "      <th>1</th>\n",
       "      <td>0</td>\n",
       "      <td>49.0</td>\n",
       "      <td>1</td>\n",
       "      <td>1</td>\n",
       "      <td>14.0</td>\n",
       "      <td>0</td>\n",
       "      <td>3</td>\n",
       "      <td>4.0</td>\n",
       "      <td>4.0</td>\n",
       "      <td>0</td>\n",
       "      <td>...</td>\n",
       "      <td>20130.0</td>\n",
       "      <td>0</td>\n",
       "      <td>0</td>\n",
       "      <td>1</td>\n",
       "      <td>0</td>\n",
       "      <td>0</td>\n",
       "      <td>1</td>\n",
       "      <td>0</td>\n",
       "      <td>0</td>\n",
       "      <td>0</td>\n",
       "    </tr>\n",
       "    <tr>\n",
       "      <th>2</th>\n",
       "      <td>1</td>\n",
       "      <td>37.0</td>\n",
       "      <td>0</td>\n",
       "      <td>1</td>\n",
       "      <td>8.0</td>\n",
       "      <td>0</td>\n",
       "      <td>3</td>\n",
       "      <td>4.0</td>\n",
       "      <td>3.0</td>\n",
       "      <td>0</td>\n",
       "      <td>...</td>\n",
       "      <td>17090.0</td>\n",
       "      <td>1</td>\n",
       "      <td>0</td>\n",
       "      <td>0</td>\n",
       "      <td>0</td>\n",
       "      <td>1</td>\n",
       "      <td>0</td>\n",
       "      <td>0</td>\n",
       "      <td>0</td>\n",
       "      <td>0</td>\n",
       "    </tr>\n",
       "    <tr>\n",
       "      <th>3</th>\n",
       "      <td>0</td>\n",
       "      <td>33.0</td>\n",
       "      <td>1</td>\n",
       "      <td>1</td>\n",
       "      <td>9.0</td>\n",
       "      <td>1</td>\n",
       "      <td>2</td>\n",
       "      <td>3.0</td>\n",
       "      <td>3.0</td>\n",
       "      <td>0</td>\n",
       "      <td>...</td>\n",
       "      <td>17909.0</td>\n",
       "      <td>0</td>\n",
       "      <td>0</td>\n",
       "      <td>1</td>\n",
       "      <td>0</td>\n",
       "      <td>1</td>\n",
       "      <td>0</td>\n",
       "      <td>0</td>\n",
       "      <td>0</td>\n",
       "      <td>0</td>\n",
       "    </tr>\n",
       "    <tr>\n",
       "      <th>4</th>\n",
       "      <td>0</td>\n",
       "      <td>32.0</td>\n",
       "      <td>0</td>\n",
       "      <td>1</td>\n",
       "      <td>8.0</td>\n",
       "      <td>0</td>\n",
       "      <td>2</td>\n",
       "      <td>3.0</td>\n",
       "      <td>4.0</td>\n",
       "      <td>0</td>\n",
       "      <td>...</td>\n",
       "      <td>18468.0</td>\n",
       "      <td>0</td>\n",
       "      <td>0</td>\n",
       "      <td>0</td>\n",
       "      <td>1</td>\n",
       "      <td>1</td>\n",
       "      <td>0</td>\n",
       "      <td>0</td>\n",
       "      <td>0</td>\n",
       "      <td>0</td>\n",
       "    </tr>\n",
       "    <tr>\n",
       "      <th>5</th>\n",
       "      <td>0</td>\n",
       "      <td>32.0</td>\n",
       "      <td>1</td>\n",
       "      <td>1</td>\n",
       "      <td>8.0</td>\n",
       "      <td>0</td>\n",
       "      <td>3</td>\n",
       "      <td>3.0</td>\n",
       "      <td>3.0</td>\n",
       "      <td>0</td>\n",
       "      <td>...</td>\n",
       "      <td>18068.0</td>\n",
       "      <td>0</td>\n",
       "      <td>0</td>\n",
       "      <td>1</td>\n",
       "      <td>0</td>\n",
       "      <td>1</td>\n",
       "      <td>0</td>\n",
       "      <td>0</td>\n",
       "      <td>0</td>\n",
       "      <td>0</td>\n",
       "    </tr>\n",
       "    <tr>\n",
       "      <th>6</th>\n",
       "      <td>0</td>\n",
       "      <td>59.0</td>\n",
       "      <td>0</td>\n",
       "      <td>1</td>\n",
       "      <td>9.0</td>\n",
       "      <td>1</td>\n",
       "      <td>2</td>\n",
       "      <td>2.0</td>\n",
       "      <td>5.0</td>\n",
       "      <td>0</td>\n",
       "      <td>...</td>\n",
       "      <td>17670.0</td>\n",
       "      <td>0</td>\n",
       "      <td>0</td>\n",
       "      <td>0</td>\n",
       "      <td>1</td>\n",
       "      <td>1</td>\n",
       "      <td>0</td>\n",
       "      <td>0</td>\n",
       "      <td>0</td>\n",
       "      <td>0</td>\n",
       "    </tr>\n",
       "    <tr>\n",
       "      <th>7</th>\n",
       "      <td>0</td>\n",
       "      <td>30.0</td>\n",
       "      <td>0</td>\n",
       "      <td>1</td>\n",
       "      <td>30.0</td>\n",
       "      <td>0</td>\n",
       "      <td>3</td>\n",
       "      <td>3.0</td>\n",
       "      <td>3.0</td>\n",
       "      <td>1</td>\n",
       "      <td>...</td>\n",
       "      <td>17693.0</td>\n",
       "      <td>0</td>\n",
       "      <td>0</td>\n",
       "      <td>1</td>\n",
       "      <td>0</td>\n",
       "      <td>1</td>\n",
       "      <td>0</td>\n",
       "      <td>0</td>\n",
       "      <td>0</td>\n",
       "      <td>0</td>\n",
       "    </tr>\n",
       "    <tr>\n",
       "      <th>8</th>\n",
       "      <td>0</td>\n",
       "      <td>38.0</td>\n",
       "      <td>1</td>\n",
       "      <td>1</td>\n",
       "      <td>29.0</td>\n",
       "      <td>0</td>\n",
       "      <td>2</td>\n",
       "      <td>4.0</td>\n",
       "      <td>3.0</td>\n",
       "      <td>0</td>\n",
       "      <td>...</td>\n",
       "      <td>24526.0</td>\n",
       "      <td>0</td>\n",
       "      <td>0</td>\n",
       "      <td>1</td>\n",
       "      <td>0</td>\n",
       "      <td>0</td>\n",
       "      <td>0</td>\n",
       "      <td>0</td>\n",
       "      <td>1</td>\n",
       "      <td>0</td>\n",
       "    </tr>\n",
       "    <tr>\n",
       "      <th>9</th>\n",
       "      <td>0</td>\n",
       "      <td>36.0</td>\n",
       "      <td>0</td>\n",
       "      <td>1</td>\n",
       "      <td>33.0</td>\n",
       "      <td>0</td>\n",
       "      <td>3</td>\n",
       "      <td>3.0</td>\n",
       "      <td>3.0</td>\n",
       "      <td>0</td>\n",
       "      <td>...</td>\n",
       "      <td>20237.0</td>\n",
       "      <td>0</td>\n",
       "      <td>0</td>\n",
       "      <td>0</td>\n",
       "      <td>1</td>\n",
       "      <td>0</td>\n",
       "      <td>1</td>\n",
       "      <td>0</td>\n",
       "      <td>0</td>\n",
       "      <td>0</td>\n",
       "    </tr>\n",
       "  </tbody>\n",
       "</table>\n",
       "<p>10 rows × 23 columns</p>\n",
       "</div>"
      ],
      "text/plain": [
       "   ProdTaken   Age  TypeofContact  CityTier  DurationOfPitch  Gender  \\\n",
       "0          1  41.0              0         3              6.0       1   \n",
       "1          0  49.0              1         1             14.0       0   \n",
       "2          1  37.0              0         1              8.0       0   \n",
       "3          0  33.0              1         1              9.0       1   \n",
       "4          0  32.0              0         1              8.0       0   \n",
       "5          0  32.0              1         1              8.0       0   \n",
       "6          0  59.0              0         1              9.0       1   \n",
       "7          0  30.0              0         1             30.0       0   \n",
       "8          0  38.0              1         1             29.0       0   \n",
       "9          0  36.0              0         1             33.0       0   \n",
       "\n",
       "   NumberOfPersonVisiting  NumberOfFollowups  PreferredPropertyStar  \\\n",
       "0                       3                3.0                    3.0   \n",
       "1                       3                4.0                    4.0   \n",
       "2                       3                4.0                    3.0   \n",
       "3                       2                3.0                    3.0   \n",
       "4                       2                3.0                    4.0   \n",
       "5                       3                3.0                    3.0   \n",
       "6                       2                2.0                    5.0   \n",
       "7                       3                3.0                    3.0   \n",
       "8                       2                4.0                    3.0   \n",
       "9                       3                3.0                    3.0   \n",
       "\n",
       "   MaritalStatus  ...  MonthlyIncome  Occupation_Free Lancer  \\\n",
       "0              0  ...        20993.0                       0   \n",
       "1              0  ...        20130.0                       0   \n",
       "2              0  ...        17090.0                       1   \n",
       "3              0  ...        17909.0                       0   \n",
       "4              0  ...        18468.0                       0   \n",
       "5              0  ...        18068.0                       0   \n",
       "6              0  ...        17670.0                       0   \n",
       "7              1  ...        17693.0                       0   \n",
       "8              0  ...        24526.0                       0   \n",
       "9              0  ...        20237.0                       0   \n",
       "\n",
       "   Occupation_Large Business  Occupation_Salaried  Occupation_Small Business  \\\n",
       "0                          0                    1                          0   \n",
       "1                          0                    1                          0   \n",
       "2                          0                    0                          0   \n",
       "3                          0                    1                          0   \n",
       "4                          0                    0                          1   \n",
       "5                          0                    1                          0   \n",
       "6                          0                    0                          1   \n",
       "7                          0                    1                          0   \n",
       "8                          0                    1                          0   \n",
       "9                          0                    0                          1   \n",
       "\n",
       "   ProductPitched_Basic  ProductPitched_Deluxe  ProductPitched_King  \\\n",
       "0                     0                      1                    0   \n",
       "1                     0                      1                    0   \n",
       "2                     1                      0                    0   \n",
       "3                     1                      0                    0   \n",
       "4                     1                      0                    0   \n",
       "5                     1                      0                    0   \n",
       "6                     1                      0                    0   \n",
       "7                     1                      0                    0   \n",
       "8                     0                      0                    0   \n",
       "9                     0                      1                    0   \n",
       "\n",
       "   ProductPitched_Standard  ProductPitched_Super Deluxe  \n",
       "0                        0                            0  \n",
       "1                        0                            0  \n",
       "2                        0                            0  \n",
       "3                        0                            0  \n",
       "4                        0                            0  \n",
       "5                        0                            0  \n",
       "6                        0                            0  \n",
       "7                        0                            0  \n",
       "8                        1                            0  \n",
       "9                        0                            0  \n",
       "\n",
       "[10 rows x 23 columns]"
      ]
     },
     "execution_count": 217,
     "metadata": {},
     "output_type": "execute_result"
    }
   ],
   "source": [
    "data=data.replace(replaceStruct)\n",
    "data=pd.get_dummies(data, columns=oneHotCols)\n",
    "data.head(10)"
   ]
  },
  {
   "cell_type": "code",
   "execution_count": 218,
   "metadata": {},
   "outputs": [
    {
     "name": "stdout",
     "output_type": "stream",
     "text": [
      "<class 'pandas.core.frame.DataFrame'>\n",
      "RangeIndex: 4888 entries, 0 to 4887\n",
      "Data columns (total 23 columns):\n",
      " #   Column                       Non-Null Count  Dtype  \n",
      "---  ------                       --------------  -----  \n",
      " 0   ProdTaken                    4888 non-null   int64  \n",
      " 1   Age                          4888 non-null   float64\n",
      " 2   TypeofContact                4888 non-null   int64  \n",
      " 3   CityTier                     4888 non-null   int64  \n",
      " 4   DurationOfPitch              4888 non-null   float64\n",
      " 5   Gender                       4888 non-null   int64  \n",
      " 6   NumberOfPersonVisiting       4888 non-null   int64  \n",
      " 7   NumberOfFollowups            4888 non-null   float64\n",
      " 8   PreferredPropertyStar        4888 non-null   float64\n",
      " 9   MaritalStatus                4888 non-null   int64  \n",
      " 10  NumberOfTrips                4888 non-null   float64\n",
      " 11  Passport                     4888 non-null   int64  \n",
      " 12  OwnCar                       4888 non-null   int64  \n",
      " 13  MonthlyIncome                4888 non-null   float64\n",
      " 14  Occupation_Free Lancer       4888 non-null   uint8  \n",
      " 15  Occupation_Large Business    4888 non-null   uint8  \n",
      " 16  Occupation_Salaried          4888 non-null   uint8  \n",
      " 17  Occupation_Small Business    4888 non-null   uint8  \n",
      " 18  ProductPitched_Basic         4888 non-null   uint8  \n",
      " 19  ProductPitched_Deluxe        4888 non-null   uint8  \n",
      " 20  ProductPitched_King          4888 non-null   uint8  \n",
      " 21  ProductPitched_Standard      4888 non-null   uint8  \n",
      " 22  ProductPitched_Super Deluxe  4888 non-null   uint8  \n",
      "dtypes: float64(6), int64(8), uint8(9)\n",
      "memory usage: 577.7 KB\n"
     ]
    }
   ],
   "source": [
    "#Check dtypes for valriables and dummy variables\n",
    "data.info()"
   ]
  },
  {
   "cell_type": "markdown",
   "metadata": {},
   "source": [
    "## Section 4: Model Building - Bagging (using code from the MLS_HR Attrition examples in Great Learning course content)\n",
    "- Build Bagging classifier\n",
    "- Random Forest\n",
    "- Decision Tree\n",
    "- Model Performance"
   ]
  },
  {
   "cell_type": "code",
   "execution_count": 219,
   "metadata": {},
   "outputs": [],
   "source": [
    "#ProdTaken is the targe variable\n",
    "X = data.drop(\"ProdTaken\" , axis=1)\n",
    "y = data.pop(\"ProdTaken\")"
   ]
  },
  {
   "cell_type": "code",
   "execution_count": 220,
   "metadata": {},
   "outputs": [],
   "source": [
    "#  Test/Train Split\n",
    "X_train, X_test, y_train, y_test = train_test_split(X, y, test_size=.30, random_state=1,stratify=y)"
   ]
  },
  {
   "cell_type": "markdown",
   "metadata": {},
   "source": [
    "##### Functions to calulate Confusion Matrix, Accuracy, Recall and Precision and F1\n"
   ]
  },
  {
   "cell_type": "code",
   "execution_count": 231,
   "metadata": {},
   "outputs": [],
   "source": [
    "## Function to create confusion matrix\n",
    "def confusion_matrix_sklearn(model, predictors, target):\n",
    "    \"\"\"\n",
    "    To plot the confusion_matrix with percentages\n",
    "\n",
    "    model: classifier\n",
    "    predictors: independent variables\n",
    "    target: dependent variable\n",
    "    \"\"\"\n",
    "    y_pred = model.predict(predictors)\n",
    "    cm = confusion_matrix(target, y_pred)\n",
    "    labels = np.asarray(\n",
    "        [\n",
    "            [\"{0:0.0f}\".format(item) + \"\\n{0:.2%}\".format(item / cm.flatten().sum())]\n",
    "            for item in cm.flatten()\n",
    "        ]\n",
    "    ).reshape(2, 2)\n",
    "\n",
    "    plt.figure(figsize=(6, 4))\n",
    "    sns.heatmap(cm, annot=labels, fmt=\"\")\n",
    "    plt.ylabel(\"True label\")\n",
    "    plt.xlabel(\"Predicted label\")"
   ]
  },
  {
   "cell_type": "code",
   "execution_count": 230,
   "metadata": {},
   "outputs": [],
   "source": [
    "##  Function to calculate different metric scores of the model - Accuracy, Recall and Precision\n",
    "# defining a function to compute different metrics to check performance of a classification model built using sklearn\n",
    "def model_performance_classification_sklearn(model, predictors, target):\n",
    "    \"\"\"\n",
    "    Function to compute different metrics to check classification model performance\n",
    "\n",
    "    model: classifier\n",
    "    predictors: independent variables\n",
    "    target: dependent variable\n",
    "    \"\"\"\n",
    "\n",
    "    # predicting using the independent variables\n",
    "    pred = model.predict(predictors)\n",
    "\n",
    "    acc = accuracy_score(target, pred)  # to compute Accuracy\n",
    "    recall = recall_score(target, pred)  # to compute Recall\n",
    "    precision = precision_score(target, pred)  # to compute Precision\n",
    "    f1 = f1_score(target, pred)  # to compute F1-score\n",
    "\n",
    "    # creating a dataframe of metrics\n",
    "    df_perf = pd.DataFrame(\n",
    "        {\n",
    "            \"Accuracy\": acc,\n",
    "            \"Recall\": recall,\n",
    "            \"Precision\": precision,\n",
    "            \"F1\": f1,\n",
    "        },\n",
    "        index=[0],\n",
    "    )\n",
    "\n",
    "    return df_perf"
   ]
  },
  {
   "cell_type": "markdown",
   "metadata": {},
   "source": [
    "#### Decision Tree Model"
   ]
  },
  {
   "cell_type": "code",
   "execution_count": 233,
   "metadata": {},
   "outputs": [
    {
     "data": {
      "text/plain": [
       "0    0.811784\n",
       "1    0.188216\n",
       "Name: ProdTaken, dtype: float64"
      ]
     },
     "execution_count": 233,
     "metadata": {},
     "output_type": "execute_result"
    }
   ],
   "source": [
    "#Determine class weights for Decision Tree\n",
    "y.value_counts(normalize=True)"
   ]
  },
  {
   "cell_type": "markdown",
   "metadata": {},
   "source": [
    "##### Choose class_weights={0:0.19,1:0.81} because that is the original imbalance in our data."
   ]
  },
  {
   "cell_type": "code",
   "execution_count": 234,
   "metadata": {},
   "outputs": [],
   "source": [
    "dtree = DecisionTreeClassifier(criterion='gini',class_weight={0:0.19,1:0.81},random_state=1)"
   ]
  },
  {
   "cell_type": "code",
   "execution_count": 235,
   "metadata": {},
   "outputs": [
    {
     "data": {
      "text/plain": [
       "DecisionTreeClassifier(class_weight={0: 0.19, 1: 0.81}, random_state=1)"
      ]
     },
     "execution_count": 235,
     "metadata": {},
     "output_type": "execute_result"
    }
   ],
   "source": [
    "dtree.fit(X_train, y_train)"
   ]
  },
  {
   "cell_type": "code",
   "execution_count": 236,
   "metadata": {},
   "outputs": [
    {
     "data": {
      "image/png": "[encoded data removed]",
      "text/plain": [
       "<Figure size 432x288 with 2 Axes>"
      ]
     },
     "metadata": {
      "needs_background": "light"
     },
     "output_type": "display_data"
    }
   ],
   "source": [
    "confusion_matrix_sklearn(dtree, X_test, y_test)"
   ]
  },
  {
   "cell_type": "code",
   "execution_count": 237,
   "metadata": {},
   "outputs": [
    {
     "name": "stdout",
     "output_type": "stream",
     "text": [
      "Training performance \n",
      "    Accuracy  Recall  Precision   F1\n",
      "0       1.0     1.0        1.0  1.0\n"
     ]
    }
   ],
   "source": [
    "dtree_model_train_perf=model_performance_classification_sklearn(dtree, X_train, y_train)\n",
    "print(\"Training performance \\n\",dtree_model_train_perf)"
   ]
  },
  {
   "cell_type": "code",
   "execution_count": 238,
   "metadata": {},
   "outputs": [
    {
     "name": "stdout",
     "output_type": "stream",
     "text": [
      "Testing performance \n",
      "    Accuracy    Recall  Precision        F1\n",
      "0  0.865712  0.644928   0.642599  0.643761\n"
     ]
    }
   ],
   "source": [
    "dtree_model_test_perf=model_performance_classification_sklearn(dtree, X_test, y_test)\n",
    "print(\"Testing performance \\n\",dtree_model_test_perf)"
   ]
  },
  {
   "cell_type": "markdown",
   "metadata": {},
   "source": [
    "##### Decision tree is working well on the training data but is not able to generalize well on the test data concerning the F1 score, which is the preferred metric for this Use Case\n",
    "\n",
    "F1 score is the dedired metric:  \n",
    "For this model, a false positive is identifying the purchase of a product when their was not purchse. A False negative is identifying no purchase when there was actuall a purchase.  Neither False Positive nor false negatives have higher costs associated to them from a business standpoint. Since the mode is predicting the purchase of a product, recall is important but is not the only metric by which to measure model success.therefore Precision is also a desired metric (we need to know the cost of false negatives and false positives). Therefore, the primary measure of model success will be the F1 score (a function of both precision and recall)"
   ]
  },
  {
   "cell_type": "markdown",
   "metadata": {},
   "source": [
    "#### Bagging Classifier"
   ]
  },
  {
   "cell_type": "code",
   "execution_count": 239,
   "metadata": {},
   "outputs": [
    {
     "data": {
      "text/plain": [
       "BaggingClassifier(random_state=1)"
      ]
     },
     "execution_count": 239,
     "metadata": {},
     "output_type": "execute_result"
    }
   ],
   "source": [
    "bagging = BaggingClassifier(random_state=1)\n",
    "bagging.fit(X_train,y_train)"
   ]
  },
  {
   "cell_type": "code",
   "execution_count": 240,
   "metadata": {},
   "outputs": [
    {
     "data": {
      "image/png": "[encoded data removed]",
      "text/plain": [
       "<Figure size 432x288 with 2 Axes>"
      ]
     },
     "metadata": {
      "needs_background": "light"
     },
     "output_type": "display_data"
    }
   ],
   "source": [
    "confusion_matrix_sklearn(bagging, X_test, y_test)"
   ]
  },
  {
   "cell_type": "code",
   "execution_count": 241,
   "metadata": {},
   "outputs": [
    {
     "name": "stdout",
     "output_type": "stream",
     "text": [
      "Training performance \n",
      "    Accuracy    Recall  Precision        F1\n",
      "0  0.995031  0.975155    0.99841  0.986646\n"
     ]
    }
   ],
   "source": [
    "bagging_model_train_perf=model_performance_classification_sklearn(bagging, X_train, y_train)\n",
    "print(\"Training performance \\n\",bagging_model_train_perf)"
   ]
  },
  {
   "cell_type": "code",
   "execution_count": 242,
   "metadata": {},
   "outputs": [
    {
     "name": "stdout",
     "output_type": "stream",
     "text": [
      "Testing performance \n",
      "    Accuracy    Recall  Precision        F1\n",
      "0  0.912065  0.634058   0.862069  0.730689\n"
     ]
    }
   ],
   "source": [
    "bagging_model_test_perf=model_performance_classification_sklearn(bagging, X_test, y_test)\n",
    "print(\"Testing performance \\n\",bagging_model_test_perf)"
   ]
  },
  {
   "cell_type": "code",
   "execution_count": 226,
   "metadata": {},
   "outputs": [
    {
     "data": {
      "image/png": "[encoded data removed]",
      "text/plain": [
       "<Figure size 720x504 with 2 Axes>"
      ]
     },
     "metadata": {
      "needs_background": "light"
     },
     "output_type": "display_data"
    }
   ],
   "source": [
    "make_confusion_matrix(bagging_estimator,y_test)"
   ]
  },
  {
   "cell_type": "markdown",
   "metadata": {},
   "source": [
    "##### Bagging classifier is overfitting on the training set and is performing poorly on the test set in terms of F1 score."
   ]
  },
  {
   "cell_type": "code",
   "execution_count": null,
   "metadata": {},
   "outputs": [],
   "source": []
  },
  {
   "cell_type": "code",
   "execution_count": 243,
   "metadata": {},
   "outputs": [
    {
     "data": {
      "text/plain": [
       "BaggingClassifier(base_estimator=DecisionTreeClassifier(class_weight={0: 0.18,\n",
       "                                                                      1: 0.91},\n",
       "                                                        random_state=1),\n",
       "                  random_state=1)"
      ]
     },
     "execution_count": 243,
     "metadata": {},
     "output_type": "execute_result"
    }
   ],
   "source": [
    "# Apply class weights to Bagging \n",
    "bagging_wt = BaggingClassifier(base_estimator=DecisionTreeClassifier(criterion='gini',class_weight={0:0.18,1:0.91},random_state=1),random_state=1)\n",
    "bagging_wt.fit(X_train,y_train)"
   ]
  },
  {
   "cell_type": "code",
   "execution_count": 244,
   "metadata": {},
   "outputs": [
    {
     "data": {
      "image/png": "[encoded data removed]",
      "text/plain": [
       "<Figure size 432x288 with 2 Axes>"
      ]
     },
     "metadata": {
      "needs_background": "light"
     },
     "output_type": "display_data"
    }
   ],
   "source": [
    "confusion_matrix_sklearn(bagging_wt,X_test,y_test)"
   ]
  },
  {
   "cell_type": "code",
   "execution_count": 245,
   "metadata": {},
   "outputs": [
    {
     "name": "stdout",
     "output_type": "stream",
     "text": [
      "Training performance \n",
      "    Accuracy    Recall  Precision        F1\n",
      "0  0.992692  0.964286    0.99679  0.980268\n"
     ]
    }
   ],
   "source": [
    "bagging_wt_model_train_perf=model_performance_classification_sklearn(bagging_wt,X_train,y_train)\n",
    "print(\"Training performance \\n\",bagging_wt_model_train_perf)"
   ]
  },
  {
   "cell_type": "code",
   "execution_count": 246,
   "metadata": {},
   "outputs": [
    {
     "name": "stdout",
     "output_type": "stream",
     "text": [
      "Testing performance \n",
      "    Accuracy    Recall  Precision        F1\n",
      "0  0.901159  0.572464   0.854054  0.685466\n"
     ]
    }
   ],
   "source": [
    "bagging_wt_model_test_perf=model_performance_classification_sklearn(bagging_wt, X_test, y_test)\n",
    "print(\"Testing performance \\n\",bagging_wt_model_test_perf)"
   ]
  },
  {
   "cell_type": "markdown",
   "metadata": {},
   "source": [
    "##### Applying class weights descreased F1 score performance. model is not generalizing well on test data."
   ]
  },
  {
   "cell_type": "markdown",
   "metadata": {},
   "source": [
    "#### Random Forest Model"
   ]
  },
  {
   "cell_type": "code",
   "execution_count": 248,
   "metadata": {},
   "outputs": [
    {
     "data": {
      "text/plain": [
       "RandomForestClassifier(random_state=1)"
      ]
     },
     "execution_count": 248,
     "metadata": {},
     "output_type": "execute_result"
    }
   ],
   "source": [
    "rf = RandomForestClassifier(random_state=1)\n",
    "rf.fit(X_train,y_train)"
   ]
  },
  {
   "cell_type": "code",
   "execution_count": 249,
   "metadata": {},
   "outputs": [
    {
     "data": {
      "image/png": "[encoded data removed]",
      "text/plain": [
       "<Figure size 432x288 with 2 Axes>"
      ]
     },
     "metadata": {
      "needs_background": "light"
     },
     "output_type": "display_data"
    }
   ],
   "source": [
    "confusion_matrix_sklearn(rf,X_test,y_test)"
   ]
  },
  {
   "cell_type": "code",
   "execution_count": 250,
   "metadata": {},
   "outputs": [
    {
     "name": "stdout",
     "output_type": "stream",
     "text": [
      "Training performance \n",
      "    Accuracy  Recall  Precision   F1\n",
      "0       1.0     1.0        1.0  1.0\n"
     ]
    }
   ],
   "source": [
    "rf_model_train_perf=model_performance_classification_sklearn(rf,X_train,y_train)\n",
    "print(\"Training performance \\n\",rf_model_train_perf)"
   ]
  },
  {
   "cell_type": "code",
   "execution_count": 251,
   "metadata": {},
   "outputs": [
    {
     "name": "stdout",
     "output_type": "stream",
     "text": [
      "Testing performance \n",
      "    Accuracy    Recall  Precision        F1\n",
      "0  0.910702  0.565217   0.934132  0.704289\n"
     ]
    }
   ],
   "source": [
    "rf_model_test_perf=model_performance_classification_sklearn(rf,X_test,y_test)\n",
    "print(\"Testing performance \\n\",rf_model_test_perf)"
   ]
  },
  {
   "cell_type": "markdown",
   "metadata": {},
   "source": [
    "##### Precision increased significantly over Decicion Tree and Bagging models which improved correspondng F1 score; however, the model is not generalizing the test data to the desired level (measured by the F1 score)."
   ]
  },
  {
   "cell_type": "markdown",
   "metadata": {},
   "source": [
    "## Section 5: Model Performance Improvement - Bagging\n",
    "- Model performance metric\n",
    "- Model performance after tuning the Decision Tree, Bagging and Randon Forest classifier"
   ]
  },
  {
   "cell_type": "markdown",
   "metadata": {},
   "source": [
    "## Section 6: Model building - Boosting\n",
    "- Adaboost, GradientBoost, XGBoost and Stacking classifiers\n",
    "- Model Performance"
   ]
  },
  {
   "cell_type": "markdown",
   "metadata": {},
   "source": [
    "## Section 7: Model Performance Improvement - Boosting\n",
    "- Model performance metric\n",
    "- Model performance after tuning the AdaBoost and Gradient Boosting classifier\n",
    "\n",
    "NOTE: XGBoost will increase runtime"
   ]
  },
  {
   "cell_type": "markdown",
   "metadata": {},
   "source": [
    "## Section 8: Actionable Insights and Recommendation\n",
    "- Model performance on various insights comparison\n",
    "- Key Takeaways\n",
    "- Advice for establishing a viable business model to expand the customer base"
   ]
  },
  {
   "cell_type": "code",
   "execution_count": null,
   "metadata": {},
   "outputs": [],
   "source": []
  },
  {
   "cell_type": "code",
   "execution_count": null,
   "metadata": {},
   "outputs": [],
   "source": []
  }
 ],
 "metadata": {
  "kernelspec": {
   "display_name": "Python 3",
   "language": "python",
   "name": "python3"
  },
  "language_info": {
   "codemirror_mode": {
    "name": "ipython",
    "version": 3
   },
   "file_extension": ".py",
   "mimetype": "text/x-python",
   "name": "python",
   "nbconvert_exporter": "python",
   "pygments_lexer": "ipython3",
   "version": "3.8.5"
  }
 },
 "nbformat": 4,
 "nbformat_minor": 4
}
