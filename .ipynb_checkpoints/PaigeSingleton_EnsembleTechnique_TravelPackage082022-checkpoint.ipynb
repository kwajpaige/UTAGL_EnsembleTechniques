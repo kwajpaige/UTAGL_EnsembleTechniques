{
 "cells": [
  {
   "cell_type": "markdown",
   "metadata": {},
   "source": [
    "# Ensemble Technique: Bagging and Boosting Project 4 - Travel Package Purhase\n",
    "## Paige Singleton\n",
    "## August 2022\n",
    "\n",
    "## Problem Statement\n",
    "### A company \"Visit with us\" wants to \"enable and establish a viable business model to expand the customer base.\n",
    "\n",
    "- Given customer data, \"analyze the customers' data and information to provide recommendations to the Policy Maker and build a model to predict the potential customer who is going to purchase the newly introduced travel package. The model will be built to make predictions before a customer is contacted.\"\n",
    "\n",
    "## Data Dictionary\n",
    "\n",
    "### Customer details:\n",
    "- CustomerID: Unique customer ID\n",
    "- ProdTaken: Whether the customer has purchased a package or not (0: No, 1: Yes)\n",
    "- Age: Age of customer\n",
    "- TypeofContact: How customer was contacted (Company Invited or Self Inquiry)\n",
    "- CityTier: City tier depends on the development of a city, population, facilities, and living standards. The categories are ordered i.e. Tier 1 > Tier 2 > Tier 3. It's the city the customer lives in.\n",
    "- Occupation: Occupation of customer\n",
    "- Gender: Gender of customer\n",
    "- NumberOfPersonVisiting: Total number of persons planning to take the trip with the customer\n",
    "- PreferredPropertyStar: Preferred hotel property rating by customer\n",
    "- MaritalStatus: Marital status of customer\n",
    "- NumberOfTrips: Average number of trips in a year by customer\n",
    "- Passport: The customer has a passport or not (0: No, 1: Yes)\n",
    "- OwnCar: Whether the customers own a car or not (0: No, 1: Yes)\n",
    "- NumberOfChildrenVisiting: Total number of children with age less than 5 planning to take the trip with the customer\n",
    "- Designation: Designation of the customer in the current organization\n",
    "- MonthlyIncome: Gross monthly income of the customer\n",
    "\n",
    "### Customer interaction data: \n",
    "- PitchSatisfactionScore: Sales pitch satisfaction score\n",
    "- ProductPitched: Product pitched by the salesperson\n",
    "- NumberOfFollowups: Total number of follow-ups has been done by the salesperson after the sales pitch\n",
    "- DurationOfPitch: Duration of the pitch by a salesperson to the customer\n",
    "\n",
    "\n",
    "## Section 1: Perform an Exploratory Data Analysis on the data\n",
    "- Univariate Analysis\n",
    "- Bivariate Analysis\n",
    "- Customer Profile (with at least 3 points to distinguish features for each package)\n",
    "    - Basic\n",
    "    - Standard\n",
    "    - Deluxe\n",
    "    - Super Deluxe\n",
    "    - King\n",
    "- Exploratory Deep Dive"
   ]
  },
  {
   "cell_type": "code",
   "execution_count": 1,
   "metadata": {},
   "outputs": [],
   "source": [
    "import numpy as np\n",
    "import pandas as pd\n",
    "import matplotlib.pyplot as plt\n",
    "import seaborn as sns\n",
    "from sklearn.tree import DecisionTreeClassifier\n",
    "from sklearn.model_selection import train_test_split\n",
    "from sklearn.metrics import confusion_matrix, classification_report\n",
    "from sklearn.metrics import accuracy_score,precision_score,recall_score,f1_score\n",
    "import scipy.stats as stats\n",
    "from sklearn import metrics\n",
    "from sklearn import tree\n",
    "from sklearn.model_selection import GridSearchCV\n",
    "from sklearn.ensemble import BaggingClassifier\n",
    "from sklearn.ensemble import RandomForestClassifier\n",
    "from sklearn.metrics import roc_auc_score\n",
    "import warnings\n",
    "warnings.filterwarnings('ignore')\n",
    "\n",
    "%matplotlib inline"
   ]
  },
  {
   "cell_type": "code",
   "execution_count": 2,
   "metadata": {},
   "outputs": [
    {
     "data": {
      "text/html": [
       "<div>\n",
       "<style scoped>\n",
       "    .dataframe tbody tr th:only-of-type {\n",
       "        vertical-align: middle;\n",
       "    }\n",
       "\n",
       "    .dataframe tbody tr th {\n",
       "        vertical-align: top;\n",
       "    }\n",
       "\n",
       "    .dataframe thead th {\n",
       "        text-align: right;\n",
       "    }\n",
       "</style>\n",
       "<table border=\"1\" class=\"dataframe\">\n",
       "  <thead>\n",
       "    <tr style=\"text-align: right;\">\n",
       "      <th></th>\n",
       "      <th>CustomerID</th>\n",
       "      <th>ProdTaken</th>\n",
       "      <th>Age</th>\n",
       "      <th>TypeofContact</th>\n",
       "      <th>CityTier</th>\n",
       "      <th>DurationOfPitch</th>\n",
       "      <th>Occupation</th>\n",
       "      <th>Gender</th>\n",
       "      <th>NumberOfPersonVisiting</th>\n",
       "      <th>NumberOfFollowups</th>\n",
       "      <th>ProductPitched</th>\n",
       "      <th>PreferredPropertyStar</th>\n",
       "      <th>MaritalStatus</th>\n",
       "      <th>NumberOfTrips</th>\n",
       "      <th>Passport</th>\n",
       "      <th>PitchSatisfactionScore</th>\n",
       "      <th>OwnCar</th>\n",
       "      <th>NumberOfChildrenVisiting</th>\n",
       "      <th>Designation</th>\n",
       "      <th>MonthlyIncome</th>\n",
       "    </tr>\n",
       "  </thead>\n",
       "  <tbody>\n",
       "    <tr>\n",
       "      <th>0</th>\n",
       "      <td>200000</td>\n",
       "      <td>1</td>\n",
       "      <td>41.0</td>\n",
       "      <td>Self Enquiry</td>\n",
       "      <td>3</td>\n",
       "      <td>6.0</td>\n",
       "      <td>Salaried</td>\n",
       "      <td>Female</td>\n",
       "      <td>3</td>\n",
       "      <td>3.0</td>\n",
       "      <td>Deluxe</td>\n",
       "      <td>3.0</td>\n",
       "      <td>Single</td>\n",
       "      <td>1.0</td>\n",
       "      <td>1</td>\n",
       "      <td>2</td>\n",
       "      <td>1</td>\n",
       "      <td>0.0</td>\n",
       "      <td>Manager</td>\n",
       "      <td>20993.0</td>\n",
       "    </tr>\n",
       "    <tr>\n",
       "      <th>1</th>\n",
       "      <td>200001</td>\n",
       "      <td>0</td>\n",
       "      <td>49.0</td>\n",
       "      <td>Company Invited</td>\n",
       "      <td>1</td>\n",
       "      <td>14.0</td>\n",
       "      <td>Salaried</td>\n",
       "      <td>Male</td>\n",
       "      <td>3</td>\n",
       "      <td>4.0</td>\n",
       "      <td>Deluxe</td>\n",
       "      <td>4.0</td>\n",
       "      <td>Divorced</td>\n",
       "      <td>2.0</td>\n",
       "      <td>0</td>\n",
       "      <td>3</td>\n",
       "      <td>1</td>\n",
       "      <td>2.0</td>\n",
       "      <td>Manager</td>\n",
       "      <td>20130.0</td>\n",
       "    </tr>\n",
       "    <tr>\n",
       "      <th>2</th>\n",
       "      <td>200002</td>\n",
       "      <td>1</td>\n",
       "      <td>37.0</td>\n",
       "      <td>Self Enquiry</td>\n",
       "      <td>1</td>\n",
       "      <td>8.0</td>\n",
       "      <td>Free Lancer</td>\n",
       "      <td>Male</td>\n",
       "      <td>3</td>\n",
       "      <td>4.0</td>\n",
       "      <td>Basic</td>\n",
       "      <td>3.0</td>\n",
       "      <td>Single</td>\n",
       "      <td>7.0</td>\n",
       "      <td>1</td>\n",
       "      <td>3</td>\n",
       "      <td>0</td>\n",
       "      <td>0.0</td>\n",
       "      <td>Executive</td>\n",
       "      <td>17090.0</td>\n",
       "    </tr>\n",
       "    <tr>\n",
       "      <th>3</th>\n",
       "      <td>200003</td>\n",
       "      <td>0</td>\n",
       "      <td>33.0</td>\n",
       "      <td>Company Invited</td>\n",
       "      <td>1</td>\n",
       "      <td>9.0</td>\n",
       "      <td>Salaried</td>\n",
       "      <td>Female</td>\n",
       "      <td>2</td>\n",
       "      <td>3.0</td>\n",
       "      <td>Basic</td>\n",
       "      <td>3.0</td>\n",
       "      <td>Divorced</td>\n",
       "      <td>2.0</td>\n",
       "      <td>1</td>\n",
       "      <td>5</td>\n",
       "      <td>1</td>\n",
       "      <td>1.0</td>\n",
       "      <td>Executive</td>\n",
       "      <td>17909.0</td>\n",
       "    </tr>\n",
       "    <tr>\n",
       "      <th>4</th>\n",
       "      <td>200004</td>\n",
       "      <td>0</td>\n",
       "      <td>NaN</td>\n",
       "      <td>Self Enquiry</td>\n",
       "      <td>1</td>\n",
       "      <td>8.0</td>\n",
       "      <td>Small Business</td>\n",
       "      <td>Male</td>\n",
       "      <td>2</td>\n",
       "      <td>3.0</td>\n",
       "      <td>Basic</td>\n",
       "      <td>4.0</td>\n",
       "      <td>Divorced</td>\n",
       "      <td>1.0</td>\n",
       "      <td>0</td>\n",
       "      <td>5</td>\n",
       "      <td>1</td>\n",
       "      <td>0.0</td>\n",
       "      <td>Executive</td>\n",
       "      <td>18468.0</td>\n",
       "    </tr>\n",
       "  </tbody>\n",
       "</table>\n",
       "</div>"
      ],
      "text/plain": [
       "   CustomerID  ProdTaken   Age    TypeofContact  CityTier  DurationOfPitch  \\\n",
       "0      200000          1  41.0     Self Enquiry         3              6.0   \n",
       "1      200001          0  49.0  Company Invited         1             14.0   \n",
       "2      200002          1  37.0     Self Enquiry         1              8.0   \n",
       "3      200003          0  33.0  Company Invited         1              9.0   \n",
       "4      200004          0   NaN     Self Enquiry         1              8.0   \n",
       "\n",
       "       Occupation  Gender  NumberOfPersonVisiting  NumberOfFollowups  \\\n",
       "0        Salaried  Female                       3                3.0   \n",
       "1        Salaried    Male                       3                4.0   \n",
       "2     Free Lancer    Male                       3                4.0   \n",
       "3        Salaried  Female                       2                3.0   \n",
       "4  Small Business    Male                       2                3.0   \n",
       "\n",
       "  ProductPitched  PreferredPropertyStar MaritalStatus  NumberOfTrips  \\\n",
       "0         Deluxe                    3.0        Single            1.0   \n",
       "1         Deluxe                    4.0      Divorced            2.0   \n",
       "2          Basic                    3.0        Single            7.0   \n",
       "3          Basic                    3.0      Divorced            2.0   \n",
       "4          Basic                    4.0      Divorced            1.0   \n",
       "\n",
       "   Passport  PitchSatisfactionScore  OwnCar  NumberOfChildrenVisiting  \\\n",
       "0         1                       2       1                       0.0   \n",
       "1         0                       3       1                       2.0   \n",
       "2         1                       3       0                       0.0   \n",
       "3         1                       5       1                       1.0   \n",
       "4         0                       5       1                       0.0   \n",
       "\n",
       "  Designation  MonthlyIncome  \n",
       "0     Manager        20993.0  \n",
       "1     Manager        20130.0  \n",
       "2   Executive        17090.0  \n",
       "3   Executive        17909.0  \n",
       "4   Executive        18468.0  "
      ]
     },
     "execution_count": 2,
     "metadata": {},
     "output_type": "execute_result"
    }
   ],
   "source": [
    "data = pd.read_csv(\"Tourism.csv\")\n",
    "data.head()"
   ]
  },
  {
   "cell_type": "code",
   "execution_count": 3,
   "metadata": {},
   "outputs": [
    {
     "data": {
      "text/html": [
       "<div>\n",
       "<style scoped>\n",
       "    .dataframe tbody tr th:only-of-type {\n",
       "        vertical-align: middle;\n",
       "    }\n",
       "\n",
       "    .dataframe tbody tr th {\n",
       "        vertical-align: top;\n",
       "    }\n",
       "\n",
       "    .dataframe thead th {\n",
       "        text-align: right;\n",
       "    }\n",
       "</style>\n",
       "<table border=\"1\" class=\"dataframe\">\n",
       "  <thead>\n",
       "    <tr style=\"text-align: right;\">\n",
       "      <th></th>\n",
       "      <th>CustomerID</th>\n",
       "      <th>ProdTaken</th>\n",
       "      <th>Age</th>\n",
       "      <th>TypeofContact</th>\n",
       "      <th>CityTier</th>\n",
       "      <th>DurationOfPitch</th>\n",
       "      <th>Occupation</th>\n",
       "      <th>Gender</th>\n",
       "      <th>NumberOfPersonVisiting</th>\n",
       "      <th>NumberOfFollowups</th>\n",
       "      <th>ProductPitched</th>\n",
       "      <th>PreferredPropertyStar</th>\n",
       "      <th>MaritalStatus</th>\n",
       "      <th>NumberOfTrips</th>\n",
       "      <th>Passport</th>\n",
       "      <th>PitchSatisfactionScore</th>\n",
       "      <th>OwnCar</th>\n",
       "      <th>NumberOfChildrenVisiting</th>\n",
       "      <th>Designation</th>\n",
       "      <th>MonthlyIncome</th>\n",
       "    </tr>\n",
       "  </thead>\n",
       "  <tbody>\n",
       "    <tr>\n",
       "      <th>3015</th>\n",
       "      <td>203015</td>\n",
       "      <td>0</td>\n",
       "      <td>27.0</td>\n",
       "      <td>Company Invited</td>\n",
       "      <td>1</td>\n",
       "      <td>7.0</td>\n",
       "      <td>Salaried</td>\n",
       "      <td>Female</td>\n",
       "      <td>4</td>\n",
       "      <td>6.0</td>\n",
       "      <td>Basic</td>\n",
       "      <td>3.0</td>\n",
       "      <td>Married</td>\n",
       "      <td>5.0</td>\n",
       "      <td>0</td>\n",
       "      <td>4</td>\n",
       "      <td>1</td>\n",
       "      <td>3.0</td>\n",
       "      <td>Executive</td>\n",
       "      <td>23042.0</td>\n",
       "    </tr>\n",
       "    <tr>\n",
       "      <th>1242</th>\n",
       "      <td>201242</td>\n",
       "      <td>0</td>\n",
       "      <td>40.0</td>\n",
       "      <td>Self Enquiry</td>\n",
       "      <td>3</td>\n",
       "      <td>13.0</td>\n",
       "      <td>Small Business</td>\n",
       "      <td>Male</td>\n",
       "      <td>2</td>\n",
       "      <td>3.0</td>\n",
       "      <td>King</td>\n",
       "      <td>4.0</td>\n",
       "      <td>Single</td>\n",
       "      <td>2.0</td>\n",
       "      <td>0</td>\n",
       "      <td>4</td>\n",
       "      <td>1</td>\n",
       "      <td>NaN</td>\n",
       "      <td>VP</td>\n",
       "      <td>34833.0</td>\n",
       "    </tr>\n",
       "    <tr>\n",
       "      <th>3073</th>\n",
       "      <td>203073</td>\n",
       "      <td>0</td>\n",
       "      <td>29.0</td>\n",
       "      <td>Self Enquiry</td>\n",
       "      <td>2</td>\n",
       "      <td>15.0</td>\n",
       "      <td>Small Business</td>\n",
       "      <td>Male</td>\n",
       "      <td>4</td>\n",
       "      <td>5.0</td>\n",
       "      <td>Basic</td>\n",
       "      <td>3.0</td>\n",
       "      <td>Married</td>\n",
       "      <td>3.0</td>\n",
       "      <td>0</td>\n",
       "      <td>2</td>\n",
       "      <td>0</td>\n",
       "      <td>2.0</td>\n",
       "      <td>Executive</td>\n",
       "      <td>23614.0</td>\n",
       "    </tr>\n",
       "    <tr>\n",
       "      <th>804</th>\n",
       "      <td>200804</td>\n",
       "      <td>0</td>\n",
       "      <td>48.0</td>\n",
       "      <td>Company Invited</td>\n",
       "      <td>1</td>\n",
       "      <td>6.0</td>\n",
       "      <td>Small Business</td>\n",
       "      <td>Male</td>\n",
       "      <td>2</td>\n",
       "      <td>1.0</td>\n",
       "      <td>Super Deluxe</td>\n",
       "      <td>3.0</td>\n",
       "      <td>Single</td>\n",
       "      <td>3.0</td>\n",
       "      <td>0</td>\n",
       "      <td>2</td>\n",
       "      <td>0</td>\n",
       "      <td>0.0</td>\n",
       "      <td>AVP</td>\n",
       "      <td>31885.0</td>\n",
       "    </tr>\n",
       "    <tr>\n",
       "      <th>3339</th>\n",
       "      <td>203339</td>\n",
       "      <td>0</td>\n",
       "      <td>32.0</td>\n",
       "      <td>Self Enquiry</td>\n",
       "      <td>1</td>\n",
       "      <td>18.0</td>\n",
       "      <td>Small Business</td>\n",
       "      <td>Male</td>\n",
       "      <td>4</td>\n",
       "      <td>4.0</td>\n",
       "      <td>Deluxe</td>\n",
       "      <td>5.0</td>\n",
       "      <td>Divorced</td>\n",
       "      <td>3.0</td>\n",
       "      <td>1</td>\n",
       "      <td>2</td>\n",
       "      <td>0</td>\n",
       "      <td>3.0</td>\n",
       "      <td>Manager</td>\n",
       "      <td>25511.0</td>\n",
       "    </tr>\n",
       "    <tr>\n",
       "      <th>3080</th>\n",
       "      <td>203080</td>\n",
       "      <td>1</td>\n",
       "      <td>36.0</td>\n",
       "      <td>Company Invited</td>\n",
       "      <td>1</td>\n",
       "      <td>32.0</td>\n",
       "      <td>Salaried</td>\n",
       "      <td>Female</td>\n",
       "      <td>4</td>\n",
       "      <td>4.0</td>\n",
       "      <td>Basic</td>\n",
       "      <td>4.0</td>\n",
       "      <td>Married</td>\n",
       "      <td>3.0</td>\n",
       "      <td>1</td>\n",
       "      <td>3</td>\n",
       "      <td>0</td>\n",
       "      <td>1.0</td>\n",
       "      <td>Executive</td>\n",
       "      <td>20700.0</td>\n",
       "    </tr>\n",
       "    <tr>\n",
       "      <th>2851</th>\n",
       "      <td>202851</td>\n",
       "      <td>0</td>\n",
       "      <td>46.0</td>\n",
       "      <td>Self Enquiry</td>\n",
       "      <td>1</td>\n",
       "      <td>17.0</td>\n",
       "      <td>Salaried</td>\n",
       "      <td>Male</td>\n",
       "      <td>4</td>\n",
       "      <td>4.0</td>\n",
       "      <td>Basic</td>\n",
       "      <td>3.0</td>\n",
       "      <td>Divorced</td>\n",
       "      <td>5.0</td>\n",
       "      <td>0</td>\n",
       "      <td>5</td>\n",
       "      <td>1</td>\n",
       "      <td>1.0</td>\n",
       "      <td>Executive</td>\n",
       "      <td>21332.0</td>\n",
       "    </tr>\n",
       "    <tr>\n",
       "      <th>2883</th>\n",
       "      <td>202883</td>\n",
       "      <td>1</td>\n",
       "      <td>32.0</td>\n",
       "      <td>Company Invited</td>\n",
       "      <td>1</td>\n",
       "      <td>27.0</td>\n",
       "      <td>Salaried</td>\n",
       "      <td>Male</td>\n",
       "      <td>4</td>\n",
       "      <td>4.0</td>\n",
       "      <td>Standard</td>\n",
       "      <td>3.0</td>\n",
       "      <td>Divorced</td>\n",
       "      <td>5.0</td>\n",
       "      <td>0</td>\n",
       "      <td>3</td>\n",
       "      <td>1</td>\n",
       "      <td>1.0</td>\n",
       "      <td>Senior Manager</td>\n",
       "      <td>28502.0</td>\n",
       "    </tr>\n",
       "    <tr>\n",
       "      <th>1676</th>\n",
       "      <td>201676</td>\n",
       "      <td>0</td>\n",
       "      <td>22.0</td>\n",
       "      <td>Self Enquiry</td>\n",
       "      <td>1</td>\n",
       "      <td>11.0</td>\n",
       "      <td>Salaried</td>\n",
       "      <td>Male</td>\n",
       "      <td>2</td>\n",
       "      <td>1.0</td>\n",
       "      <td>Basic</td>\n",
       "      <td>4.0</td>\n",
       "      <td>Married</td>\n",
       "      <td>2.0</td>\n",
       "      <td>1</td>\n",
       "      <td>4</td>\n",
       "      <td>1</td>\n",
       "      <td>0.0</td>\n",
       "      <td>Executive</td>\n",
       "      <td>17328.0</td>\n",
       "    </tr>\n",
       "    <tr>\n",
       "      <th>1140</th>\n",
       "      <td>201140</td>\n",
       "      <td>0</td>\n",
       "      <td>44.0</td>\n",
       "      <td>Self Enquiry</td>\n",
       "      <td>1</td>\n",
       "      <td>13.0</td>\n",
       "      <td>Small Business</td>\n",
       "      <td>Female</td>\n",
       "      <td>2</td>\n",
       "      <td>3.0</td>\n",
       "      <td>King</td>\n",
       "      <td>3.0</td>\n",
       "      <td>Married</td>\n",
       "      <td>1.0</td>\n",
       "      <td>1</td>\n",
       "      <td>4</td>\n",
       "      <td>1</td>\n",
       "      <td>1.0</td>\n",
       "      <td>VP</td>\n",
       "      <td>34049.0</td>\n",
       "    </tr>\n",
       "  </tbody>\n",
       "</table>\n",
       "</div>"
      ],
      "text/plain": [
       "      CustomerID  ProdTaken   Age    TypeofContact  CityTier  DurationOfPitch  \\\n",
       "3015      203015          0  27.0  Company Invited         1              7.0   \n",
       "1242      201242          0  40.0     Self Enquiry         3             13.0   \n",
       "3073      203073          0  29.0     Self Enquiry         2             15.0   \n",
       "804       200804          0  48.0  Company Invited         1              6.0   \n",
       "3339      203339          0  32.0     Self Enquiry         1             18.0   \n",
       "3080      203080          1  36.0  Company Invited         1             32.0   \n",
       "2851      202851          0  46.0     Self Enquiry         1             17.0   \n",
       "2883      202883          1  32.0  Company Invited         1             27.0   \n",
       "1676      201676          0  22.0     Self Enquiry         1             11.0   \n",
       "1140      201140          0  44.0     Self Enquiry         1             13.0   \n",
       "\n",
       "          Occupation  Gender  NumberOfPersonVisiting  NumberOfFollowups  \\\n",
       "3015        Salaried  Female                       4                6.0   \n",
       "1242  Small Business    Male                       2                3.0   \n",
       "3073  Small Business    Male                       4                5.0   \n",
       "804   Small Business    Male                       2                1.0   \n",
       "3339  Small Business    Male                       4                4.0   \n",
       "3080        Salaried  Female                       4                4.0   \n",
       "2851        Salaried    Male                       4                4.0   \n",
       "2883        Salaried    Male                       4                4.0   \n",
       "1676        Salaried    Male                       2                1.0   \n",
       "1140  Small Business  Female                       2                3.0   \n",
       "\n",
       "     ProductPitched  PreferredPropertyStar MaritalStatus  NumberOfTrips  \\\n",
       "3015          Basic                    3.0       Married            5.0   \n",
       "1242           King                    4.0        Single            2.0   \n",
       "3073          Basic                    3.0       Married            3.0   \n",
       "804    Super Deluxe                    3.0        Single            3.0   \n",
       "3339         Deluxe                    5.0      Divorced            3.0   \n",
       "3080          Basic                    4.0       Married            3.0   \n",
       "2851          Basic                    3.0      Divorced            5.0   \n",
       "2883       Standard                    3.0      Divorced            5.0   \n",
       "1676          Basic                    4.0       Married            2.0   \n",
       "1140           King                    3.0       Married            1.0   \n",
       "\n",
       "      Passport  PitchSatisfactionScore  OwnCar  NumberOfChildrenVisiting  \\\n",
       "3015         0                       4       1                       3.0   \n",
       "1242         0                       4       1                       NaN   \n",
       "3073         0                       2       0                       2.0   \n",
       "804          0                       2       0                       0.0   \n",
       "3339         1                       2       0                       3.0   \n",
       "3080         1                       3       0                       1.0   \n",
       "2851         0                       5       1                       1.0   \n",
       "2883         0                       3       1                       1.0   \n",
       "1676         1                       4       1                       0.0   \n",
       "1140         1                       4       1                       1.0   \n",
       "\n",
       "         Designation  MonthlyIncome  \n",
       "3015       Executive        23042.0  \n",
       "1242              VP        34833.0  \n",
       "3073       Executive        23614.0  \n",
       "804              AVP        31885.0  \n",
       "3339         Manager        25511.0  \n",
       "3080       Executive        20700.0  \n",
       "2851       Executive        21332.0  \n",
       "2883  Senior Manager        28502.0  \n",
       "1676       Executive        17328.0  \n",
       "1140              VP        34049.0  "
      ]
     },
     "execution_count": 3,
     "metadata": {},
     "output_type": "execute_result"
    }
   ],
   "source": [
    "# Display 10 random rows\n",
    "np.random.seed(1)\n",
    "data.sample(n=10)"
   ]
  },
  {
   "cell_type": "code",
   "execution_count": 4,
   "metadata": {},
   "outputs": [
    {
     "name": "stdout",
     "output_type": "stream",
     "text": [
      "<class 'pandas.core.frame.DataFrame'>\n",
      "RangeIndex: 4888 entries, 0 to 4887\n",
      "Data columns (total 20 columns):\n",
      " #   Column                    Non-Null Count  Dtype  \n",
      "---  ------                    --------------  -----  \n",
      " 0   CustomerID                4888 non-null   int64  \n",
      " 1   ProdTaken                 4888 non-null   int64  \n",
      " 2   Age                       4662 non-null   float64\n",
      " 3   TypeofContact             4863 non-null   object \n",
      " 4   CityTier                  4888 non-null   int64  \n",
      " 5   DurationOfPitch           4637 non-null   float64\n",
      " 6   Occupation                4888 non-null   object \n",
      " 7   Gender                    4888 non-null   object \n",
      " 8   NumberOfPersonVisiting    4888 non-null   int64  \n",
      " 9   NumberOfFollowups         4843 non-null   float64\n",
      " 10  ProductPitched            4888 non-null   object \n",
      " 11  PreferredPropertyStar     4862 non-null   float64\n",
      " 12  MaritalStatus             4888 non-null   object \n",
      " 13  NumberOfTrips             4748 non-null   float64\n",
      " 14  Passport                  4888 non-null   int64  \n",
      " 15  PitchSatisfactionScore    4888 non-null   int64  \n",
      " 16  OwnCar                    4888 non-null   int64  \n",
      " 17  NumberOfChildrenVisiting  4822 non-null   float64\n",
      " 18  Designation               4888 non-null   object \n",
      " 19  MonthlyIncome             4655 non-null   float64\n",
      "dtypes: float64(7), int64(7), object(6)\n",
      "memory usage: 763.9+ KB\n"
     ]
    }
   ],
   "source": [
    "#Understand tha overall dataset structure and data types\n",
    "data.info()"
   ]
  },
  {
   "cell_type": "code",
   "execution_count": 5,
   "metadata": {},
   "outputs": [],
   "source": [
    "#Designate initial categorical columns and numerical columns,\n",
    "cat_cols = ['TypeofContact','Occupation','Gender','ProductPitched','MaritalStatus','Designation']\n",
    "num_cols = ['CustomerID','ProdTaken','Age','CityTier','DurationOfPitch','NumberOfPersonVisiting','NumberOfFollowups','PreferredPropertyStar','NumberOfTrips','Passport','PitchSatisfactionScore','OwnCar','NumberOfChildrenVisiting','MonthlyIncome']"
   ]
  },
  {
   "cell_type": "code",
   "execution_count": 6,
   "metadata": {},
   "outputs": [
    {
     "name": "stdout",
     "output_type": "stream",
     "text": [
      "There are 4888 rows and 20 columns.\n"
     ]
    }
   ],
   "source": [
    "# of rows and columns\n",
    "print(f'There are {data.shape[0]} rows and {data.shape[1]} columns.') "
   ]
  },
  {
   "cell_type": "code",
   "execution_count": 7,
   "metadata": {},
   "outputs": [
    {
     "data": {
      "text/plain": [
       "CustomerID                    0\n",
       "ProdTaken                     0\n",
       "Age                         226\n",
       "TypeofContact                25\n",
       "CityTier                      0\n",
       "DurationOfPitch             251\n",
       "Occupation                    0\n",
       "Gender                        0\n",
       "NumberOfPersonVisiting        0\n",
       "NumberOfFollowups            45\n",
       "ProductPitched                0\n",
       "PreferredPropertyStar        26\n",
       "MaritalStatus                 0\n",
       "NumberOfTrips               140\n",
       "Passport                      0\n",
       "PitchSatisfactionScore        0\n",
       "OwnCar                        0\n",
       "NumberOfChildrenVisiting     66\n",
       "Designation                   0\n",
       "MonthlyIncome               233\n",
       "dtype: int64"
      ]
     },
     "execution_count": 7,
     "metadata": {},
     "output_type": "execute_result"
    }
   ],
   "source": [
    "# Check for null values in dataset\n",
    "data.isnull().sum()\n"
   ]
  },
  {
   "cell_type": "code",
   "execution_count": 8,
   "metadata": {},
   "outputs": [
    {
     "data": {
      "text/html": [
       "<div>\n",
       "<style scoped>\n",
       "    .dataframe tbody tr th:only-of-type {\n",
       "        vertical-align: middle;\n",
       "    }\n",
       "\n",
       "    .dataframe tbody tr th {\n",
       "        vertical-align: top;\n",
       "    }\n",
       "\n",
       "    .dataframe thead th {\n",
       "        text-align: right;\n",
       "    }\n",
       "</style>\n",
       "<table border=\"1\" class=\"dataframe\">\n",
       "  <thead>\n",
       "    <tr style=\"text-align: right;\">\n",
       "      <th></th>\n",
       "      <th>count</th>\n",
       "      <th>mean</th>\n",
       "      <th>std</th>\n",
       "      <th>min</th>\n",
       "      <th>25%</th>\n",
       "      <th>50%</th>\n",
       "      <th>75%</th>\n",
       "      <th>max</th>\n",
       "    </tr>\n",
       "  </thead>\n",
       "  <tbody>\n",
       "    <tr>\n",
       "      <th>CustomerID</th>\n",
       "      <td>4888.0</td>\n",
       "      <td>202443.500000</td>\n",
       "      <td>1411.188388</td>\n",
       "      <td>200000.0</td>\n",
       "      <td>201221.75</td>\n",
       "      <td>202443.5</td>\n",
       "      <td>203665.25</td>\n",
       "      <td>204887.0</td>\n",
       "    </tr>\n",
       "    <tr>\n",
       "      <th>ProdTaken</th>\n",
       "      <td>4888.0</td>\n",
       "      <td>0.188216</td>\n",
       "      <td>0.390925</td>\n",
       "      <td>0.0</td>\n",
       "      <td>0.00</td>\n",
       "      <td>0.0</td>\n",
       "      <td>0.00</td>\n",
       "      <td>1.0</td>\n",
       "    </tr>\n",
       "    <tr>\n",
       "      <th>Age</th>\n",
       "      <td>4662.0</td>\n",
       "      <td>37.622265</td>\n",
       "      <td>9.316387</td>\n",
       "      <td>18.0</td>\n",
       "      <td>31.00</td>\n",
       "      <td>36.0</td>\n",
       "      <td>44.00</td>\n",
       "      <td>61.0</td>\n",
       "    </tr>\n",
       "    <tr>\n",
       "      <th>CityTier</th>\n",
       "      <td>4888.0</td>\n",
       "      <td>1.654255</td>\n",
       "      <td>0.916583</td>\n",
       "      <td>1.0</td>\n",
       "      <td>1.00</td>\n",
       "      <td>1.0</td>\n",
       "      <td>3.00</td>\n",
       "      <td>3.0</td>\n",
       "    </tr>\n",
       "    <tr>\n",
       "      <th>DurationOfPitch</th>\n",
       "      <td>4637.0</td>\n",
       "      <td>15.490835</td>\n",
       "      <td>8.519643</td>\n",
       "      <td>5.0</td>\n",
       "      <td>9.00</td>\n",
       "      <td>13.0</td>\n",
       "      <td>20.00</td>\n",
       "      <td>127.0</td>\n",
       "    </tr>\n",
       "    <tr>\n",
       "      <th>NumberOfPersonVisiting</th>\n",
       "      <td>4888.0</td>\n",
       "      <td>2.905074</td>\n",
       "      <td>0.724891</td>\n",
       "      <td>1.0</td>\n",
       "      <td>2.00</td>\n",
       "      <td>3.0</td>\n",
       "      <td>3.00</td>\n",
       "      <td>5.0</td>\n",
       "    </tr>\n",
       "    <tr>\n",
       "      <th>NumberOfFollowups</th>\n",
       "      <td>4843.0</td>\n",
       "      <td>3.708445</td>\n",
       "      <td>1.002509</td>\n",
       "      <td>1.0</td>\n",
       "      <td>3.00</td>\n",
       "      <td>4.0</td>\n",
       "      <td>4.00</td>\n",
       "      <td>6.0</td>\n",
       "    </tr>\n",
       "    <tr>\n",
       "      <th>PreferredPropertyStar</th>\n",
       "      <td>4862.0</td>\n",
       "      <td>3.581037</td>\n",
       "      <td>0.798009</td>\n",
       "      <td>3.0</td>\n",
       "      <td>3.00</td>\n",
       "      <td>3.0</td>\n",
       "      <td>4.00</td>\n",
       "      <td>5.0</td>\n",
       "    </tr>\n",
       "    <tr>\n",
       "      <th>NumberOfTrips</th>\n",
       "      <td>4748.0</td>\n",
       "      <td>3.236521</td>\n",
       "      <td>1.849019</td>\n",
       "      <td>1.0</td>\n",
       "      <td>2.00</td>\n",
       "      <td>3.0</td>\n",
       "      <td>4.00</td>\n",
       "      <td>22.0</td>\n",
       "    </tr>\n",
       "    <tr>\n",
       "      <th>Passport</th>\n",
       "      <td>4888.0</td>\n",
       "      <td>0.290917</td>\n",
       "      <td>0.454232</td>\n",
       "      <td>0.0</td>\n",
       "      <td>0.00</td>\n",
       "      <td>0.0</td>\n",
       "      <td>1.00</td>\n",
       "      <td>1.0</td>\n",
       "    </tr>\n",
       "    <tr>\n",
       "      <th>PitchSatisfactionScore</th>\n",
       "      <td>4888.0</td>\n",
       "      <td>3.078151</td>\n",
       "      <td>1.365792</td>\n",
       "      <td>1.0</td>\n",
       "      <td>2.00</td>\n",
       "      <td>3.0</td>\n",
       "      <td>4.00</td>\n",
       "      <td>5.0</td>\n",
       "    </tr>\n",
       "    <tr>\n",
       "      <th>OwnCar</th>\n",
       "      <td>4888.0</td>\n",
       "      <td>0.620295</td>\n",
       "      <td>0.485363</td>\n",
       "      <td>0.0</td>\n",
       "      <td>0.00</td>\n",
       "      <td>1.0</td>\n",
       "      <td>1.00</td>\n",
       "      <td>1.0</td>\n",
       "    </tr>\n",
       "    <tr>\n",
       "      <th>NumberOfChildrenVisiting</th>\n",
       "      <td>4822.0</td>\n",
       "      <td>1.187267</td>\n",
       "      <td>0.857861</td>\n",
       "      <td>0.0</td>\n",
       "      <td>1.00</td>\n",
       "      <td>1.0</td>\n",
       "      <td>2.00</td>\n",
       "      <td>3.0</td>\n",
       "    </tr>\n",
       "    <tr>\n",
       "      <th>MonthlyIncome</th>\n",
       "      <td>4655.0</td>\n",
       "      <td>23619.853491</td>\n",
       "      <td>5380.698361</td>\n",
       "      <td>1000.0</td>\n",
       "      <td>20346.00</td>\n",
       "      <td>22347.0</td>\n",
       "      <td>25571.00</td>\n",
       "      <td>98678.0</td>\n",
       "    </tr>\n",
       "  </tbody>\n",
       "</table>\n",
       "</div>"
      ],
      "text/plain": [
       "                           count           mean          std       min  \\\n",
       "CustomerID                4888.0  202443.500000  1411.188388  200000.0   \n",
       "ProdTaken                 4888.0       0.188216     0.390925       0.0   \n",
       "Age                       4662.0      37.622265     9.316387      18.0   \n",
       "CityTier                  4888.0       1.654255     0.916583       1.0   \n",
       "DurationOfPitch           4637.0      15.490835     8.519643       5.0   \n",
       "NumberOfPersonVisiting    4888.0       2.905074     0.724891       1.0   \n",
       "NumberOfFollowups         4843.0       3.708445     1.002509       1.0   \n",
       "PreferredPropertyStar     4862.0       3.581037     0.798009       3.0   \n",
       "NumberOfTrips             4748.0       3.236521     1.849019       1.0   \n",
       "Passport                  4888.0       0.290917     0.454232       0.0   \n",
       "PitchSatisfactionScore    4888.0       3.078151     1.365792       1.0   \n",
       "OwnCar                    4888.0       0.620295     0.485363       0.0   \n",
       "NumberOfChildrenVisiting  4822.0       1.187267     0.857861       0.0   \n",
       "MonthlyIncome             4655.0   23619.853491  5380.698361    1000.0   \n",
       "\n",
       "                                25%       50%        75%       max  \n",
       "CustomerID                201221.75  202443.5  203665.25  204887.0  \n",
       "ProdTaken                      0.00       0.0       0.00       1.0  \n",
       "Age                           31.00      36.0      44.00      61.0  \n",
       "CityTier                       1.00       1.0       3.00       3.0  \n",
       "DurationOfPitch                9.00      13.0      20.00     127.0  \n",
       "NumberOfPersonVisiting         2.00       3.0       3.00       5.0  \n",
       "NumberOfFollowups              3.00       4.0       4.00       6.0  \n",
       "PreferredPropertyStar          3.00       3.0       4.00       5.0  \n",
       "NumberOfTrips                  2.00       3.0       4.00      22.0  \n",
       "Passport                       0.00       0.0       1.00       1.0  \n",
       "PitchSatisfactionScore         2.00       3.0       4.00       5.0  \n",
       "OwnCar                         0.00       1.0       1.00       1.0  \n",
       "NumberOfChildrenVisiting       1.00       1.0       2.00       3.0  \n",
       "MonthlyIncome              20346.00   22347.0   25571.00   98678.0  "
      ]
     },
     "execution_count": 8,
     "metadata": {},
     "output_type": "execute_result"
    }
   ],
   "source": [
    "#Calculate descrition statistics for numerical columns\n",
    "data.describe().T"
   ]
  },
  {
   "cell_type": "code",
   "execution_count": 9,
   "metadata": {},
   "outputs": [
    {
     "data": {
      "text/plain": [
       "CustomerID                  4888\n",
       "ProdTaken                      2\n",
       "Age                           44\n",
       "TypeofContact                  2\n",
       "CityTier                       3\n",
       "DurationOfPitch               34\n",
       "Occupation                     4\n",
       "Gender                         3\n",
       "NumberOfPersonVisiting         5\n",
       "NumberOfFollowups              6\n",
       "ProductPitched                 5\n",
       "PreferredPropertyStar          3\n",
       "MaritalStatus                  4\n",
       "NumberOfTrips                 12\n",
       "Passport                       2\n",
       "PitchSatisfactionScore         5\n",
       "OwnCar                         2\n",
       "NumberOfChildrenVisiting       4\n",
       "Designation                    5\n",
       "MonthlyIncome               2475\n",
       "dtype: int64"
      ]
     },
     "execution_count": 9,
     "metadata": {},
     "output_type": "execute_result"
    }
   ],
   "source": [
    "# Understand the number of unique values in each column\n",
    "data.nunique()"
   ]
  },
  {
   "cell_type": "code",
   "execution_count": 10,
   "metadata": {},
   "outputs": [
    {
     "data": {
      "text/plain": [
       "CustomerID                  0\n",
       "ProdTaken                   0\n",
       "Age                         0\n",
       "TypeofContact               0\n",
       "CityTier                    0\n",
       "DurationOfPitch             0\n",
       "Occupation                  0\n",
       "Gender                      0\n",
       "NumberOfPersonVisiting      0\n",
       "NumberOfFollowups           0\n",
       "ProductPitched              0\n",
       "PreferredPropertyStar       0\n",
       "MaritalStatus               0\n",
       "NumberOfTrips               0\n",
       "Passport                    0\n",
       "PitchSatisfactionScore      0\n",
       "OwnCar                      0\n",
       "NumberOfChildrenVisiting    0\n",
       "Designation                 0\n",
       "MonthlyIncome               0\n",
       "dtype: int64"
      ]
     },
     "execution_count": 10,
     "metadata": {},
     "output_type": "execute_result"
    }
   ],
   "source": [
    "#Check for duplicates\n",
    "data[data.duplicated()].count()"
   ]
  },
  {
   "cell_type": "code",
   "execution_count": 11,
   "metadata": {},
   "outputs": [
    {
     "name": "stdout",
     "output_type": "stream",
     "text": [
      "Self Enquiry       3444\n",
      "Company Invited    1419\n",
      "Name: TypeofContact, dtype: int64\n",
      "_________________________________\n",
      "Salaried          2368\n",
      "Small Business    2084\n",
      "Large Business     434\n",
      "Free Lancer          2\n",
      "Name: Occupation, dtype: int64\n",
      "_________________________________\n",
      "Male       2916\n",
      "Female     1817\n",
      "Fe Male     155\n",
      "Name: Gender, dtype: int64\n",
      "_________________________________\n",
      "Basic           1842\n",
      "Deluxe          1732\n",
      "Standard         742\n",
      "Super Deluxe     342\n",
      "King             230\n",
      "Name: ProductPitched, dtype: int64\n",
      "_________________________________\n",
      "Married      2340\n",
      "Divorced      950\n",
      "Single        916\n",
      "Unmarried     682\n",
      "Name: MaritalStatus, dtype: int64\n",
      "_________________________________\n",
      "Executive         1842\n",
      "Manager           1732\n",
      "Senior Manager     742\n",
      "AVP                342\n",
      "VP                 230\n",
      "Name: Designation, dtype: int64\n",
      "_________________________________\n"
     ]
    }
   ],
   "source": [
    "#Understand the number of each type for the following columns: \n",
    "for col in cat_cols:\n",
    "    print(data[col].value_counts())\n",
    "    print(\"_________________________________\")"
   ]
  },
  {
   "cell_type": "markdown",
   "metadata": {},
   "source": [
    "### Initial Observations "
   ]
  },
  {
   "cell_type": "markdown",
   "metadata": {},
   "source": [
    "### Customer details:\n",
    "- CustomerID: Unique customer I\n",
    "    - this variable will not inform the model and should be dropped from clean dataset\n",
    "- ProdTaken: Whether the customer has purchased a package or not (0: No, 1: Yes)\n",
    "    - This variable is currently an integer dtype;\n",
    "    - 2 unique values\n",
    "    - no nulls\n",
    "- Age: Age of customer\n",
    "    - Min:18; Max:61; Mean:37;Median:36; data is likely not skewed right or left\n",
    "    - 226 null values therefore explore imputation\n",
    "    - 44 unique values\n",
    "    - dtppe is float\n",
    "- TypeofContact: How customer was contacted (Company Invited or Self Inquiry)\n",
    "    - Object dtype; change to category\n",
    "    - 2 unique counts \n",
    "    - 25 nulls therefore explore null imputation\n",
    "- CityTier: City tier depends on the development of a city, population, facilities, and living standards. The categories are ordered i.e. Tier 1 > Tier 2 > Tier 3. It's the city the customer lives in.\n",
    "    - 3 unique values;\n",
    "    - dtype is integer;\n",
    "- Occupation: Occupation of customer\n",
    "    - 4 unique values; object dtype\n",
    "    - change dtype to category and get dummy variables \n",
    "    - no nulls\n",
    "- Gender: Gender of customer\n",
    "    - Gender has 3 unique values (Male, Female and Fe Male);\n",
    "    - All 'Fe Male' values (155 values) needs to be changed to 'Female'\n",
    "    - Object dtype needs to change to category and get dummy variables\n",
    "- NumberOfPersonVisiting: Total number of persons planning to take the trip with the customer\n",
    "    - no nulls\n",
    "    - unique count = 5\n",
    "    - dtype is integer;\n",
    "- PreferredPropertyStar: Preferred hotel property rating by customer\n",
    "    - 26 nulls\n",
    "    - 3 unique values\n",
    "    - float64 dtype (could change to integer)\n",
    "    - min:3.0; max:5.0; median: 3.0; mean: 3.78; data is skewed right \n",
    "- MaritalStatus: Marital status of customer\n",
    "    - no nulls\n",
    "    - object dtype with 4 unique values(married, divorced, single, unmarried)\n",
    "    - Single and Unmarried represent same idea therefore combine these into one unique value 'single'\n",
    "- NumberOfTrips: Average number of trips in a year by customer\n",
    "    - missing 140 values\n",
    "    - number of unique values: 12\n",
    "    - min:1.0; max:22; median:3.0; mean:3.23\n",
    "    - probable outliers\n",
    "- Passport: The customer has a passport or not (0: No, 1: Yes)\n",
    "    - int64 dtype\n",
    "    - number of unique values:2\n",
    "    - no nulls \n",
    "- OwnCar: Whether the customers own a car or not (0: No, 1: Yes)\n",
    "    - int64 dtype\n",
    "    - no nulls\n",
    "    - 2 unique values\n",
    "- NumberOfChildrenVisiting: Total number of children with age less than 5 planning to take the trip with the customer\n",
    "    - float64 dtype\n",
    "    - 66 nulls\n",
    "    - 4 unique values\n",
    "- Designation: Designation of the customer in the current organization\n",
    "    - object dtype (change to category)\n",
    "    - no nulls\n",
    "    - 5 unique values\n",
    "- MonthlyIncome: Gross monthly income of the customer\n",
    "    - dtype float64\n",
    "    - min:1000; max:98678; median:22347; mean:23620\n",
    "    - 233 nulls\n",
    "\n",
    "### Customer interaction data: \n",
    "- PitchSatisfactionScore: Sales pitch satisfaction score\n",
    "    - no nulls\n",
    "    - dtype int64\n",
    "    - min:1.0; max:5.0; median:3.0; mean:3.08\n",
    "    - 5 unique values\n",
    "- ProductPitched: Product pitched by the salesperson\n",
    "    - object dtype (change to category) and get dummy variables\n",
    "    - 5 unique variables\n",
    "    - no nulls\n",
    "- NumberOfFollowups: Total number of follow-ups has been done by the salesperson after the sales pitch\n",
    "    - float64 dtype\n",
    "    - 45 nulls\n",
    "    - min:1.0; max:6.0; median:4.0; mean:3.71; \n",
    "    - 6 unique values\n",
    "- DurationOfPitch: Duration of the pitch by a salesperson to the customer\n",
    "    - float64 dtype\n",
    "    - 45 nulls\n",
    "    - min:5.0; max:127.0; median:13.0; mean; 15.49\n",
    "    - 34 unique values\n",
    "    - possible outliers"
   ]
  },
  {
   "cell_type": "markdown",
   "metadata": {},
   "source": [
    "### Univariate Analysis\n"
   ]
  },
  {
   "cell_type": "code",
   "execution_count": 12,
   "metadata": {},
   "outputs": [],
   "source": [
    "# From Anime Rating Prediction case study, function to plot a boxplot and a histogram along the same scale.\n",
    "\n",
    "\n",
    "def histogram_boxplot(data, feature, figsize=(12, 7), kde=False, bins=None):\n",
    "    \"\"\"\n",
    "    Boxplot and histogram combined\n",
    "\n",
    "    data: dataframe\n",
    "    feature: dataframe column\n",
    "    figsize: size of figure (default (12,7))\n",
    "    kde: whether to the show density curve (default False)\n",
    "    bins: number of bins for histogram (default None)\n",
    "    \"\"\"\n",
    "    f2, (ax_box2, ax_hist2) = plt.subplots(\n",
    "        nrows=2,  # Number of rows of the subplot grid= 2\n",
    "        sharex=True,  # x-axis will be shared among all subplots\n",
    "        gridspec_kw={\"height_ratios\": (0.25, 0.75)},\n",
    "        figsize=figsize,\n",
    "    )  # creating the 2 subplots\n",
    "    sns.boxplot(\n",
    "        data=data, x=feature, ax=ax_box2, showmeans=True, color=\"violet\"\n",
    "    )  # boxplot will be created and a star will indicate the mean value of the column\n",
    "    sns.histplot(\n",
    "        data=data, x=feature, kde=kde, ax=ax_hist2, bins=bins, palette=\"winter\"\n",
    "    ) if bins else sns.histplot(\n",
    "        data=data, x=feature, kde=kde, ax=ax_hist2\n",
    "    )  # For histogram\n",
    "    ax_hist2.axvline(\n",
    "        data[feature].mean(), color=\"green\", linestyle=\"--\"\n",
    "    )  # Add mean to the histogram\n",
    "    ax_hist2.axvline(\n",
    "        data[feature].median(), color=\"black\", linestyle=\"-\"\n",
    "    )  # Add median to the histogram"
   ]
  },
  {
   "cell_type": "markdown",
   "metadata": {},
   "source": [
    "#### Variable - 'ProdTaken' Analysis "
   ]
  },
  {
   "cell_type": "code",
   "execution_count": 13,
   "metadata": {},
   "outputs": [
    {
     "data": {
      "image/png": "[encoded data removed]",
      "text/plain": [
       "<Figure size 864x504 with 2 Axes>"
      ]
     },
     "metadata": {
      "needs_background": "light"
     },
     "output_type": "display_data"
    }
   ],
   "source": [
    "\n",
    "histogram_boxplot(data, \"ProdTaken\")\n"
   ]
  },
  {
   "cell_type": "code",
   "execution_count": null,
   "metadata": {},
   "outputs": [],
   "source": []
  },
  {
   "cell_type": "code",
   "execution_count": 14,
   "metadata": {},
   "outputs": [
    {
     "data": {
      "text/plain": [
       "ProductPitched  ProdTaken\n",
       "Basic           0            1290\n",
       "                1             552\n",
       "Deluxe          0            1528\n",
       "                1             204\n",
       "King            0             210\n",
       "                1              20\n",
       "Standard        0             618\n",
       "                1             124\n",
       "Super Deluxe    0             322\n",
       "                1              20\n",
       "Name: ProdTaken, dtype: int64"
      ]
     },
     "execution_count": 14,
     "metadata": {},
     "output_type": "execute_result"
    }
   ],
   "source": [
    "# Compute the number of products purchased by product pitched\n",
    "data.groupby(['ProductPitched'])['ProdTaken'].value_counts()"
   ]
  },
  {
   "cell_type": "code",
   "execution_count": 15,
   "metadata": {},
   "outputs": [
    {
     "data": {
      "text/plain": [
       "ProductPitched  ProdTaken\n",
       "Basic           0            70.032573\n",
       "                1            29.967427\n",
       "Deluxe          0            88.221709\n",
       "                1            11.778291\n",
       "King            0            91.304348\n",
       "                1             8.695652\n",
       "Standard        0            83.288410\n",
       "                1            16.711590\n",
       "Super Deluxe    0            94.152047\n",
       "                1             5.847953\n",
       "Name: ProdTaken, dtype: float64"
      ]
     },
     "execution_count": 15,
     "metadata": {},
     "output_type": "execute_result"
    }
   ],
   "source": [
    "# Compute the percentage of products purchased by Product \n",
    "data.groupby(['ProductPitched'])['ProdTaken'].value_counts(normalize=True)*100"
   ]
  },
  {
   "cell_type": "code",
   "execution_count": 16,
   "metadata": {
    "collapsed": true,
    "jupyter": {
     "outputs_hidden": true
    }
   },
   "outputs": [
    {
     "data": {
      "text/html": [
       "<div>\n",
       "<style scoped>\n",
       "    .dataframe tbody tr th:only-of-type {\n",
       "        vertical-align: middle;\n",
       "    }\n",
       "\n",
       "    .dataframe tbody tr th {\n",
       "        vertical-align: top;\n",
       "    }\n",
       "\n",
       "    .dataframe thead th {\n",
       "        text-align: right;\n",
       "    }\n",
       "</style>\n",
       "<table border=\"1\" class=\"dataframe\">\n",
       "  <thead>\n",
       "    <tr style=\"text-align: right;\">\n",
       "      <th></th>\n",
       "      <th>ProductPitched</th>\n",
       "    </tr>\n",
       "  </thead>\n",
       "  <tbody>\n",
       "    <tr>\n",
       "      <th>0</th>\n",
       "      <td>Deluxe</td>\n",
       "    </tr>\n",
       "    <tr>\n",
       "      <th>1</th>\n",
       "      <td>Deluxe</td>\n",
       "    </tr>\n",
       "    <tr>\n",
       "      <th>2</th>\n",
       "      <td>Basic</td>\n",
       "    </tr>\n",
       "    <tr>\n",
       "      <th>3</th>\n",
       "      <td>Basic</td>\n",
       "    </tr>\n",
       "    <tr>\n",
       "      <th>4</th>\n",
       "      <td>Basic</td>\n",
       "    </tr>\n",
       "    <tr>\n",
       "      <th>...</th>\n",
       "      <td>...</td>\n",
       "    </tr>\n",
       "    <tr>\n",
       "      <th>4883</th>\n",
       "      <td>Deluxe</td>\n",
       "    </tr>\n",
       "    <tr>\n",
       "      <th>4884</th>\n",
       "      <td>Basic</td>\n",
       "    </tr>\n",
       "    <tr>\n",
       "      <th>4885</th>\n",
       "      <td>Standard</td>\n",
       "    </tr>\n",
       "    <tr>\n",
       "      <th>4886</th>\n",
       "      <td>Basic</td>\n",
       "    </tr>\n",
       "    <tr>\n",
       "      <th>4887</th>\n",
       "      <td>Basic</td>\n",
       "    </tr>\n",
       "  </tbody>\n",
       "</table>\n",
       "<p>4888 rows × 1 columns</p>\n",
       "</div>"
      ],
      "text/plain": [
       "     ProductPitched\n",
       "0            Deluxe\n",
       "1            Deluxe\n",
       "2             Basic\n",
       "3             Basic\n",
       "4             Basic\n",
       "...             ...\n",
       "4883         Deluxe\n",
       "4884          Basic\n",
       "4885       Standard\n",
       "4886          Basic\n",
       "4887          Basic\n",
       "\n",
       "[4888 rows x 1 columns]"
      ]
     },
     "execution_count": 16,
     "metadata": {},
     "output_type": "execute_result"
    }
   ],
   "source": [
    "data[['ProductPitched']].apply(lambda x: x.astype('category'))\n"
   ]
  },
  {
   "cell_type": "code",
   "execution_count": 47,
   "metadata": {},
   "outputs": [
    {
     "data": {
      "text/plain": [
       "<seaborn.axisgrid.FacetGrid at 0x1b51765f7f0>"
      ]
     },
     "execution_count": 47,
     "metadata": {},
     "output_type": "execute_result"
    },
    {
     "data": {
      "image/png": "[encoded data removed]",
      "text/plain": [
       "<Figure size 418.5x360 with 1 Axes>"
      ]
     },
     "metadata": {
      "needs_background": "light"
     },
     "output_type": "display_data"
    }
   ],
   "source": [
    "sns.catplot(data=data, kind='count',x='ProductPitched', hue='ProdTaken')"
   ]
  },
  {
   "cell_type": "code",
   "execution_count": 48,
   "metadata": {},
   "outputs": [
    {
     "data": {
      "text/plain": [
       "Basic           1842\n",
       "Deluxe          1732\n",
       "Standard         742\n",
       "Super Deluxe     342\n",
       "King             230\n",
       "Name: ProductPitched, dtype: int64"
      ]
     },
     "execution_count": 48,
     "metadata": {},
     "output_type": "execute_result"
    }
   ],
   "source": [
    "data['ProductPitched'].value_counts()"
   ]
  },
  {
   "cell_type": "markdown",
   "metadata": {},
   "source": [
    "#### Insights - ProdTaken: Whether the customer has purchased a package or not (0: No, 1: Yes)\n",
    "    - approximately a 4 to 1 ratio of 0(No) to 1(Yes)\n",
    "    - This variable will be the target valriable for the model\n",
    "    - no nulls therefore this variable is ready for model build\n",
    "    - When Pitched, Basic Products are purchased 30% of the time, Deluxe Products are purchased 11% of the time, King Products are purchased 9% of the time, Standard Products are purchased 17% of the time and Super Deluxed are purchased 6% of the time"
   ]
  },
  {
   "cell_type": "markdown",
   "metadata": {},
   "source": [
    "#### Variable - 'Age' Analysis "
   ]
  },
  {
   "cell_type": "code",
   "execution_count": 17,
   "metadata": {},
   "outputs": [
    {
     "data": {
      "image/png": "[encoded data removed]",
      "text/plain": [
       "<Figure size 864x504 with 2 Axes>"
      ]
     },
     "metadata": {
      "needs_background": "light"
     },
     "output_type": "display_data"
    }
   ],
   "source": [
    "histogram_boxplot(data, \"Age\")"
   ]
  },
  {
   "cell_type": "code",
   "execution_count": 18,
   "metadata": {},
   "outputs": [
    {
     "data": {
      "text/plain": [
       "ProductPitched\n",
       "Basic           32.0\n",
       "Deluxe          36.0\n",
       "King            49.0\n",
       "Standard        38.0\n",
       "Super Deluxe    49.0\n",
       "Name: Age, dtype: float64"
      ]
     },
     "execution_count": 18,
     "metadata": {},
     "output_type": "execute_result"
    }
   ],
   "source": [
    "ProdByAge = data.groupby(['ProductPitched'])['Age'].median()\n",
    "ProdByAge"
   ]
  },
  {
   "cell_type": "code",
   "execution_count": 19,
   "metadata": {},
   "outputs": [
    {
     "data": {
      "text/plain": [
       "<AxesSubplot:xlabel='Age', ylabel='ProductPitched'>"
      ]
     },
     "execution_count": 19,
     "metadata": {},
     "output_type": "execute_result"
    },
    {
     "data": {
      "image/png": "[encoded data removed]",
      "text/plain": [
       "<Figure size 432x288 with 1 Axes>"
      ]
     },
     "metadata": {
      "needs_background": "light"
     },
     "output_type": "display_data"
    }
   ],
   "source": [
    "sns.boxplot(data = data, x='Age',y='ProductPitched')"
   ]
  },
  {
   "cell_type": "code",
   "execution_count": 20,
   "metadata": {},
   "outputs": [
    {
     "data": {
      "text/plain": [
       "ProductPitched\n",
       "Basic           1698\n",
       "Deluxe          1651\n",
       "King             230\n",
       "Standard         741\n",
       "Super Deluxe     342\n",
       "Name: Age, dtype: int64"
      ]
     },
     "execution_count": 20,
     "metadata": {},
     "output_type": "execute_result"
    }
   ],
   "source": [
    "data.groupby(['ProductPitched'])['Age'].count()"
   ]
  },
  {
   "cell_type": "code",
   "execution_count": 21,
   "metadata": {},
   "outputs": [
    {
     "data": {
      "text/plain": [
       "0"
      ]
     },
     "execution_count": 21,
     "metadata": {},
     "output_type": "execute_result"
    }
   ],
   "source": [
    "#Impute 'Age' null values with median of Product Pitched group membership - (https://medium.com/analytics-vidhya/best-way-to-impute-categorical-data-using-groupby-mean-mode-2dc5f5d4e12d)\n",
    "data['Age'] = data.groupby(['ProductPitched'], sort=False)['Age'].apply(lambda x: x.fillna(x.median()))\n",
    "\n",
    "data['Age'].isnull().sum()"
   ]
  },
  {
   "cell_type": "code",
   "execution_count": 22,
   "metadata": {},
   "outputs": [
    {
     "data": {
      "image/png": "[encoded data removed]",
      "text/plain": [
       "<Figure size 864x504 with 2 Axes>"
      ]
     },
     "metadata": {
      "needs_background": "light"
     },
     "output_type": "display_data"
    }
   ],
   "source": [
    "#Review boxplot and histogram to check new distribution\n",
    "histogram_boxplot(data, \"Age\")"
   ]
  },
  {
   "cell_type": "code",
   "execution_count": 23,
   "metadata": {},
   "outputs": [
    {
     "data": {
      "text/plain": [
       "<AxesSubplot:xlabel='Age', ylabel='ProductPitched'>"
      ]
     },
     "execution_count": 23,
     "metadata": {},
     "output_type": "execute_result"
    },
    {
     "data": {
      "image/png": "[encoded data removed]",
      "text/plain": [
       "<Figure size 432x288 with 1 Axes>"
      ]
     },
     "metadata": {
      "needs_background": "light"
     },
     "output_type": "display_data"
    }
   ],
   "source": [
    "sns.boxplot(data = data, x='Age',y='ProductPitched', hue='ProdTaken')"
   ]
  },
  {
   "cell_type": "code",
   "execution_count": 24,
   "metadata": {},
   "outputs": [
    {
     "data": {
      "text/plain": [
       "ProductPitched  ProdTaken\n",
       "Basic           0            32.0\n",
       "                1            30.0\n",
       "Deluxe          0            36.0\n",
       "                1            36.0\n",
       "King            0            48.0\n",
       "                1            52.5\n",
       "Standard        0            39.0\n",
       "                1            38.0\n",
       "Super Deluxe    0            49.0\n",
       "                1            42.0\n",
       "Name: Age, dtype: float64"
      ]
     },
     "execution_count": 24,
     "metadata": {},
     "output_type": "execute_result"
    }
   ],
   "source": [
    "# Compute the number of products purchased by product pitched and median age\n",
    "data.groupby(['ProductPitched','ProdTaken'])['Age'].median()"
   ]
  },
  {
   "cell_type": "markdown",
   "metadata": {},
   "source": [
    "#### Insights - 'Age'\n",
    "    - Min:18; Max:61; Mean:37;Median:36; data is likely not skewed right or left\n",
    "    - Data Distribution is ready for model build (appears somewhat normal)\n",
    "    - 226 null values imputed with Median of product Pitched group membership\n",
    "    - As age increases, customers appear to be pitched products in this order: Basic, Deluxe, standard, King\n",
    "    - Super Deluxe, when pitched, is taken only 5% of the time with a median age of 53. Only older individuals appear to be interested in Super Deluxe"
   ]
  },
  {
   "cell_type": "markdown",
   "metadata": {},
   "source": [
    "#### Variable 'Type of Contact' Analysis"
   ]
  },
  {
   "cell_type": "code",
   "execution_count": 25,
   "metadata": {},
   "outputs": [
    {
     "data": {
      "text/plain": [
       "TypeofContact\n",
       "Company Invited    29.030278\n",
       "Self Enquiry       70.458265\n",
       "Name: CustomerID, dtype: float64"
      ]
     },
     "execution_count": 25,
     "metadata": {},
     "output_type": "execute_result"
    }
   ],
   "source": [
    "# Compute the percent of Type of contact values in each Type of contact group\n",
    "data.groupby(['TypeofContact'])['CustomerID'].count()/len(data)*100\n"
   ]
  },
  {
   "cell_type": "code",
   "execution_count": 26,
   "metadata": {},
   "outputs": [
    {
     "data": {
      "text/plain": [
       "TypeofContact\n",
       "Company Invited    1419\n",
       "Self Enquiry       3444\n",
       "Name: CustomerID, dtype: int64"
      ]
     },
     "execution_count": 26,
     "metadata": {},
     "output_type": "execute_result"
    }
   ],
   "source": [
    "# Compute the number of data points in each Type of contact group\n",
    "data.groupby(['TypeofContact'])['CustomerID'].count()"
   ]
  },
  {
   "cell_type": "code",
   "execution_count": 27,
   "metadata": {},
   "outputs": [
    {
     "data": {
      "text/plain": [
       "TypeofContact    ProductPitched\n",
       "Company Invited  Deluxe             541\n",
       "                 Basic              516\n",
       "                 Standard           218\n",
       "                 Super Deluxe        96\n",
       "                 King                48\n",
       "Self Enquiry     Basic             1316\n",
       "                 Deluxe            1176\n",
       "                 Standard           524\n",
       "                 Super Deluxe       246\n",
       "                 King               182\n",
       "Name: ProductPitched, dtype: int64"
      ]
     },
     "execution_count": 27,
     "metadata": {},
     "output_type": "execute_result"
    }
   ],
   "source": [
    "#Group Type of contact data by Product pitched\n",
    "data.groupby(['TypeofContact'])['ProductPitched'].value_counts()"
   ]
  },
  {
   "cell_type": "code",
   "execution_count": 28,
   "metadata": {},
   "outputs": [
    {
     "data": {
      "text/plain": [
       "25"
      ]
     },
     "execution_count": 28,
     "metadata": {},
     "output_type": "execute_result"
    }
   ],
   "source": [
    "\n",
    "data['TypeofContact'].isnull().sum()"
   ]
  },
  {
   "cell_type": "code",
   "execution_count": 29,
   "metadata": {},
   "outputs": [],
   "source": [
    "# Impute null values with Product pitched group modes\n",
    "data['TypeofContact']=data.groupby(['ProductPitched'], sort=False)['TypeofContact'].apply(lambda x: x.fillna(x.mode().iloc[0]))"
   ]
  },
  {
   "cell_type": "code",
   "execution_count": 30,
   "metadata": {},
   "outputs": [
    {
     "data": {
      "text/plain": [
       "0"
      ]
     },
     "execution_count": 30,
     "metadata": {},
     "output_type": "execute_result"
    }
   ],
   "source": [
    "data['TypeofContact'].isnull().sum()"
   ]
  },
  {
   "cell_type": "code",
   "execution_count": 31,
   "metadata": {},
   "outputs": [
    {
     "data": {
      "text/plain": [
       "TypeofContact    ProductPitched\n",
       "Company Invited  Deluxe             541\n",
       "                 Basic              516\n",
       "                 Standard           218\n",
       "                 Super Deluxe        96\n",
       "                 King                48\n",
       "Self Enquiry     Basic             1326\n",
       "                 Deluxe            1191\n",
       "                 Standard           524\n",
       "                 Super Deluxe       246\n",
       "                 King               182\n",
       "Name: ProductPitched, dtype: int64"
      ]
     },
     "execution_count": 31,
     "metadata": {},
     "output_type": "execute_result"
    }
   ],
   "source": [
    "data.groupby(['TypeofContact'])['ProductPitched'].value_counts()"
   ]
  },
  {
   "cell_type": "code",
   "execution_count": 32,
   "metadata": {},
   "outputs": [
    {
     "data": {
      "text/plain": [
       "TypeofContact    ProductPitched\n",
       "Company Invited  Deluxe            38.125440\n",
       "                 Basic             36.363636\n",
       "                 Standard          15.362932\n",
       "                 Super Deluxe       6.765328\n",
       "                 King               3.382664\n",
       "Self Enquiry     Basic             38.224272\n",
       "                 Deluxe            34.332661\n",
       "                 Standard          15.105218\n",
       "                 Super Deluxe       7.091381\n",
       "                 King               5.246469\n",
       "Name: ProductPitched, dtype: float64"
      ]
     },
     "execution_count": 32,
     "metadata": {},
     "output_type": "execute_result"
    }
   ],
   "source": [
    "data.groupby(['TypeofContact'])['ProductPitched'].value_counts(normalize = True)*100"
   ]
  },
  {
   "cell_type": "code",
   "execution_count": 33,
   "metadata": {},
   "outputs": [
    {
     "data": {
      "text/plain": [
       "ProductPitched  ProdTaken  TypeofContact  \n",
       "Basic           0          Self Enquiry        968\n",
       "                           Company Invited     322\n",
       "                1          Self Enquiry        358\n",
       "                           Company Invited     194\n",
       "Deluxe          0          Self Enquiry       1055\n",
       "                           Company Invited     473\n",
       "                1          Self Enquiry        136\n",
       "                           Company Invited      68\n",
       "King            0          Self Enquiry        162\n",
       "                           Company Invited      48\n",
       "                1          Self Enquiry         20\n",
       "Standard        0          Self Enquiry        432\n",
       "                           Company Invited     186\n",
       "                1          Self Enquiry         92\n",
       "                           Company Invited      32\n",
       "Super Deluxe    0          Self Enquiry        242\n",
       "                           Company Invited      80\n",
       "                1          Company Invited      16\n",
       "                           Self Enquiry          4\n",
       "Name: TypeofContact, dtype: int64"
      ]
     },
     "execution_count": 33,
     "metadata": {},
     "output_type": "execute_result"
    }
   ],
   "source": [
    "# Compute the number of products purchased by product pitched\n",
    "data.groupby(['ProductPitched','ProdTaken'])['TypeofContact'].value_counts()"
   ]
  },
  {
   "cell_type": "code",
   "execution_count": null,
   "metadata": {},
   "outputs": [],
   "source": []
  },
  {
   "cell_type": "code",
   "execution_count": 34,
   "metadata": {},
   "outputs": [
    {
     "data": {
      "text/plain": [
       "ProductPitched  ProdTaken  TypeofContact  \n",
       "Basic           0          Self Enquiry        75.038760\n",
       "                           Company Invited     24.961240\n",
       "                1          Self Enquiry        64.855072\n",
       "                           Company Invited     35.144928\n",
       "Deluxe          0          Self Enquiry        69.044503\n",
       "                           Company Invited     30.955497\n",
       "                1          Self Enquiry        66.666667\n",
       "                           Company Invited     33.333333\n",
       "King            0          Self Enquiry        77.142857\n",
       "                           Company Invited     22.857143\n",
       "                1          Self Enquiry       100.000000\n",
       "Standard        0          Self Enquiry        69.902913\n",
       "                           Company Invited     30.097087\n",
       "                1          Self Enquiry        74.193548\n",
       "                           Company Invited     25.806452\n",
       "Super Deluxe    0          Self Enquiry        75.155280\n",
       "                           Company Invited     24.844720\n",
       "                1          Company Invited     80.000000\n",
       "                           Self Enquiry        20.000000\n",
       "Name: TypeofContact, dtype: float64"
      ]
     },
     "execution_count": 34,
     "metadata": {},
     "output_type": "execute_result"
    }
   ],
   "source": [
    "# Compute the number of products purchased by product pitched\n",
    "data.groupby(['ProductPitched','ProdTaken'])['TypeofContact'].value_counts(normalize=True)*100"
   ]
  },
  {
   "cell_type": "markdown",
   "metadata": {},
   "source": [
    "#### Insights - 'TypeofContact'\n",
    "- 25 null values imputed with mode given Product Pitched\n",
    "- Customers who self-inquiry (71%) outnumber customers (29%) who are invited by the company\n",
    "- Both types of customers are initially pitched Basic and Deluxe products (although self-inquiry are pitched slightly more Basic than Deluxe and vice versa for company invited)\n",
    "- Product pitch percentages are not greatly impacted by type of contact; percentages are similar with exception of Basic and Deluxe varying slightly; Self-enquiry favors Basic whereas Company invited favors Deluxe\n",
    "- Out of those who take the Basic product, 65% are self-enquiry and 35% are company invited\n",
    "- Out of those who take the Deluxe product,67% are self-enquiry and 33% are company invited\n",
    "- Out of those who take the King product, 100 are self-inquiry\n",
    "- Out of those who take the standard product, 74% are self enquiry and 26% are Company invited\n",
    "- Out of those who take the Super Deluxe product, 80% are company invited and 20% are self-enquiry\n",
    "- King, standard and Super Deluxe sales numbers for sales enquiry outpace the number of self enquiry. (These are likely up sales)"
   ]
  },
  {
   "cell_type": "markdown",
   "metadata": {},
   "source": [
    "#### Variable 'CityTier' Analysis"
   ]
  },
  {
   "cell_type": "code",
   "execution_count": 35,
   "metadata": {},
   "outputs": [
    {
     "data": {
      "text/plain": [
       "CityTier\n",
       "1    3190\n",
       "2     198\n",
       "3    1500\n",
       "Name: CustomerID, dtype: int64"
      ]
     },
     "execution_count": 35,
     "metadata": {},
     "output_type": "execute_result"
    }
   ],
   "source": [
    "# Compute the number of data points in each CityTier group\n",
    "data.groupby(['CityTier'])['CustomerID'].count()"
   ]
  },
  {
   "cell_type": "code",
   "execution_count": 36,
   "metadata": {},
   "outputs": [
    {
     "data": {
      "text/plain": [
       "CityTier\n",
       "1    65.261866\n",
       "2     4.050736\n",
       "3    30.687398\n",
       "Name: CustomerID, dtype: float64"
      ]
     },
     "execution_count": 36,
     "metadata": {},
     "output_type": "execute_result"
    }
   ],
   "source": [
    "# Compute the percent of Type of contact values in each CityTier group\n",
    "data.groupby(['CityTier'])['CustomerID'].count()/len(data)*100"
   ]
  },
  {
   "cell_type": "code",
   "execution_count": 37,
   "metadata": {},
   "outputs": [
    {
     "data": {
      "text/plain": [
       "CityTier  ProductPitched\n",
       "1         Basic             1466\n",
       "          Deluxe             908\n",
       "          Standard           436\n",
       "          Super Deluxe       212\n",
       "          King               168\n",
       "2         Basic              108\n",
       "          Deluxe              40\n",
       "          King                22\n",
       "          Standard            18\n",
       "          Super Deluxe        10\n",
       "3         Deluxe             784\n",
       "          Standard           288\n",
       "          Basic              268\n",
       "          Super Deluxe       120\n",
       "          King                40\n",
       "Name: ProductPitched, dtype: int64"
      ]
     },
     "execution_count": 37,
     "metadata": {},
     "output_type": "execute_result"
    }
   ],
   "source": [
    "#Group CityTier data by Product pitched\n",
    "data.groupby(['CityTier'])['ProductPitched'].value_counts()"
   ]
  },
  {
   "cell_type": "code",
   "execution_count": 38,
   "metadata": {},
   "outputs": [
    {
     "data": {
      "text/plain": [
       "CityTier  ProductPitched\n",
       "1         Basic             45.956113\n",
       "          Deluxe            28.463950\n",
       "          Standard          13.667712\n",
       "          Super Deluxe       6.645768\n",
       "          King               5.266458\n",
       "2         Basic             54.545455\n",
       "          Deluxe            20.202020\n",
       "          King              11.111111\n",
       "          Standard           9.090909\n",
       "          Super Deluxe       5.050505\n",
       "3         Deluxe            52.266667\n",
       "          Standard          19.200000\n",
       "          Basic             17.866667\n",
       "          Super Deluxe       8.000000\n",
       "          King               2.666667\n",
       "Name: ProductPitched, dtype: float64"
      ]
     },
     "execution_count": 38,
     "metadata": {},
     "output_type": "execute_result"
    }
   ],
   "source": [
    "data.groupby(['CityTier'])['ProductPitched'].value_counts(normalize=True)*100"
   ]
  },
  {
   "cell_type": "code",
   "execution_count": 39,
   "metadata": {},
   "outputs": [
    {
     "data": {
      "text/plain": [
       "ProductPitched  ProdTaken  CityTier\n",
       "Basic           0          1           1074\n",
       "                           3            146\n",
       "                           2             70\n",
       "                1          1            392\n",
       "                           3            122\n",
       "                           2             38\n",
       "Deluxe          0          1            848\n",
       "                           3            640\n",
       "                           2             40\n",
       "                1          3            144\n",
       "                           1             60\n",
       "King            0          1            156\n",
       "                           3             32\n",
       "                           2             22\n",
       "                1          1             12\n",
       "                           3              8\n",
       "Standard        0          1            384\n",
       "                           3            224\n",
       "                           2             10\n",
       "                1          3             64\n",
       "                           1             52\n",
       "                           2              8\n",
       "Super Deluxe    0          1            208\n",
       "                           3            104\n",
       "                           2             10\n",
       "                1          3             16\n",
       "                           1              4\n",
       "Name: CityTier, dtype: int64"
      ]
     },
     "execution_count": 39,
     "metadata": {},
     "output_type": "execute_result"
    }
   ],
   "source": [
    "# Compute the number of products purchased by product pitched\n",
    "data.groupby(['ProductPitched','ProdTaken'])['CityTier'].value_counts()"
   ]
  },
  {
   "cell_type": "code",
   "execution_count": 40,
   "metadata": {},
   "outputs": [
    {
     "data": {
      "text/plain": [
       "ProductPitched  ProdTaken  CityTier\n",
       "Basic           0          1           83.255814\n",
       "                           3           11.317829\n",
       "                           2            5.426357\n",
       "                1          1           71.014493\n",
       "                           3           22.101449\n",
       "                           2            6.884058\n",
       "Deluxe          0          1           55.497382\n",
       "                           3           41.884817\n",
       "                           2            2.617801\n",
       "                1          3           70.588235\n",
       "                           1           29.411765\n",
       "King            0          1           74.285714\n",
       "                           3           15.238095\n",
       "                           2           10.476190\n",
       "                1          1           60.000000\n",
       "                           3           40.000000\n",
       "Standard        0          1           62.135922\n",
       "                           3           36.245955\n",
       "                           2            1.618123\n",
       "                1          3           51.612903\n",
       "                           1           41.935484\n",
       "                           2            6.451613\n",
       "Super Deluxe    0          1           64.596273\n",
       "                           3           32.298137\n",
       "                           2            3.105590\n",
       "                1          3           80.000000\n",
       "                           1           20.000000\n",
       "Name: CityTier, dtype: float64"
      ]
     },
     "execution_count": 40,
     "metadata": {},
     "output_type": "execute_result"
    }
   ],
   "source": [
    "# Compute the percentages of products purchased by product pitched\n",
    "data.groupby(['ProductPitched','ProdTaken'])['CityTier'].value_counts(normalize=True)*100"
   ]
  },
  {
   "cell_type": "code",
   "execution_count": null,
   "metadata": {},
   "outputs": [],
   "source": []
  },
  {
   "cell_type": "markdown",
   "metadata": {},
   "source": [
    "#### Insights - City Tier\n",
    "- CityTier 1 - Product pitched - 46% Basic and 28% Deluxe\n",
    "- City Tier 2 is similar to City Tier 1 with 55% Basic and 20% Deluxe\n",
    "- City Tier 3 is different from City Tier 1 and City Tier 2 with 52% Deluxe and 19% Standard; Basic accounts for 18% of products pitched"
   ]
  },
  {
   "cell_type": "markdown",
   "metadata": {},
   "source": [
    "#### Variable 'Occupation' Analysis\n"
   ]
  },
  {
   "cell_type": "code",
   "execution_count": 41,
   "metadata": {},
   "outputs": [
    {
     "data": {
      "text/plain": [
       "Occupation\n",
       "Free Lancer          2\n",
       "Large Business     434\n",
       "Salaried          2368\n",
       "Small Business    2084\n",
       "Name: CustomerID, dtype: int64"
      ]
     },
     "execution_count": 41,
     "metadata": {},
     "output_type": "execute_result"
    }
   ],
   "source": [
    "# Compute the number of data points in each Occupation group\n",
    "data.groupby(['Occupation'])['CustomerID'].count()"
   ]
  },
  {
   "cell_type": "code",
   "execution_count": 42,
   "metadata": {},
   "outputs": [
    {
     "data": {
      "text/plain": [
       "Occupation\n",
       "Free Lancer        0.040917\n",
       "Large Business     8.878887\n",
       "Salaried          48.445172\n",
       "Small Business    42.635025\n",
       "Name: CustomerID, dtype: float64"
      ]
     },
     "execution_count": 42,
     "metadata": {},
     "output_type": "execute_result"
    }
   ],
   "source": [
    "# Compute the percent of Occupation values in each group\n",
    "data.groupby(['Occupation'])['CustomerID'].count()/len(data)*100"
   ]
  },
  {
   "cell_type": "code",
   "execution_count": 43,
   "metadata": {},
   "outputs": [
    {
     "data": {
      "text/plain": [
       "Occupation      ProductPitched\n",
       "Free Lancer     Basic               2\n",
       "Large Business  Basic             196\n",
       "                Deluxe            124\n",
       "                Standard           84\n",
       "                Super Deluxe       18\n",
       "                King               12\n",
       "Salaried        Basic             924\n",
       "                Deluxe            818\n",
       "                Standard          338\n",
       "                Super Deluxe      174\n",
       "                King              114\n",
       "Small Business  Deluxe            790\n",
       "                Basic             720\n",
       "                Standard          320\n",
       "                Super Deluxe      150\n",
       "                King              104\n",
       "Name: ProductPitched, dtype: int64"
      ]
     },
     "execution_count": 43,
     "metadata": {},
     "output_type": "execute_result"
    }
   ],
   "source": [
    "#Group Occupation data by Product pitched\n",
    "data.groupby(['Occupation'])['ProductPitched'].value_counts()"
   ]
  },
  {
   "cell_type": "code",
   "execution_count": 44,
   "metadata": {},
   "outputs": [
    {
     "data": {
      "text/plain": [
       "Occupation      ProductPitched\n",
       "Free Lancer     Basic             100.000000\n",
       "Large Business  Basic              45.161290\n",
       "                Deluxe             28.571429\n",
       "                Standard           19.354839\n",
       "                Super Deluxe        4.147465\n",
       "                King                2.764977\n",
       "Salaried        Basic              39.020270\n",
       "                Deluxe             34.543919\n",
       "                Standard           14.273649\n",
       "                Super Deluxe        7.347973\n",
       "                King                4.814189\n",
       "Small Business  Deluxe             37.907869\n",
       "                Basic              34.548944\n",
       "                Standard           15.355086\n",
       "                Super Deluxe        7.197697\n",
       "                King                4.990403\n",
       "Name: ProductPitched, dtype: float64"
      ]
     },
     "execution_count": 44,
     "metadata": {},
     "output_type": "execute_result"
    }
   ],
   "source": [
    "data.groupby(['Occupation'])['ProductPitched'].value_counts(normalize=True)*100"
   ]
  },
  {
   "cell_type": "markdown",
   "metadata": {},
   "source": [
    "#### Insights - Occupation\n",
    "- Free Lancer has only 2 values and therefore will add little information to the model\n",
    "- Large Business are primarily pitched Basic (45%) and Deluxe (29%) products\n",
    "- Salaried are primarily pitched Basic (39%) and Deluxe (35%) which is similar to Large Business\n",
    "- Small Business are primarily pitched Deluxe (38%) and Basic (24%)\n",
    "- Standard product is ppitched to three Occupation groups (Large Business, Salaried and Small Business) 19%, 14% and 15%, respectively."
   ]
  },
  {
   "cell_type": "markdown",
   "metadata": {},
   "source": [
    "## Section 2: EDA Insights"
   ]
  },
  {
   "cell_type": "code",
   "execution_count": null,
   "metadata": {},
   "outputs": [],
   "source": []
  },
  {
   "cell_type": "markdown",
   "metadata": {},
   "source": [
    "#### Customer details\n",
    "- CustomerID: Unique customer I\n",
    "    - Column will be dropped for model build\n",
    "- ProdTaken: Whether the customer has purchased a package or not (0: No, 1: Yes)\n",
    "    - approximately a 4 to 1 ratio of 0(No) to 1(Yes)\n",
    "    - This variable will be the target valriable for the model\n",
    "    - no nulls therefore this variable is ready for model build\n",
    "- Age: Age of customer\n",
    "    - Min:18; Max:61; Mean:37;Median:36; data is likely not skewed right or left\n",
    "    - Data Distribution is ready for model build (appears somewhat normal)\n",
    "    - 226 null values imputed with Median of product Pitched group membership\n",
    "- TypeofContact: How customer was contacted (Company Invited or Self Inquiry)\n",
    "    - 25 null values imputed with mode given Product Pitched\n",
    "    - Customers who self-inquiry (71%) outnumber customers (29%) who are invited by the company\n",
    "    - Both types of customers are initially pitched Basic and Deluxe products (although self-inquiry are pitched slightly more Basic than Deluxe and vice versa for company invited)\n",
    "- CityTier: City tier depends on the development of a city, population, facilities, and living standards. The categories are ordered i.e. Tier 1 > Tier 2 > Tier 3. It's the city the customer lives in.\n",
    "    - 3 unique values;\n",
    "    - no nulls\n",
    "    - dtype is integer;\n",
    "- Occupation: Occupation of customer\n",
    "    - 4 unique values; object dtype\n",
    "    - change dtype to category and get dummy variables \n",
    "    - no nulls\n",
    "- Gender: Gender of customer\n",
    "    - Gender has 3 unique values (Male, Female and Fe Male);\n",
    "    - All 'Fe Male' values (155 values) needs to be changed to 'Female'\n",
    "    - Object dtype needs to change to category and get dummy variables\n",
    "- NumberOfPersonVisiting: Total number of persons planning to take the trip with the customer\n",
    "    - no nulls\n",
    "    - unique count = 5\n",
    "    - dtype is integer;\n",
    "- PreferredPropertyStar: Preferred hotel property rating by customer\n",
    "    - 26 nulls\n",
    "    - 3 unique values\n",
    "    - float64 dtype (could change to integer)\n",
    "    - min:3.0; max:5.0; median: 3.0; mean: 3.78; data is skewed right \n",
    "- MaritalStatus: Marital status of customer\n",
    "    - no nulls\n",
    "    - object dtype with 4 unique values(married, divorced, single, unmarried)\n",
    "    - Single and Unmarried represent same idea therefore combine these into one unique value 'single'\n",
    "- NumberOfTrips: Average number of trips in a year by customer\n",
    "    - missing 140 values\n",
    "    - number of unique values: 12\n",
    "    - min:1.0; max:22; median:3.0; mean:3.23\n",
    "    - probable outliers\n",
    "- Passport: The customer has a passport or not (0: No, 1: Yes)\n",
    "    - int64 dtype\n",
    "    - number of unique values:2\n",
    "    - no nulls \n",
    "- OwnCar: Whether the customers own a car or not (0: No, 1: Yes)\n",
    "    - int64 dtype\n",
    "    - no nulls\n",
    "    - 2 unique values\n",
    "- NumberOfChildrenVisiting: Total number of children with age less than 5 planning to take the trip with the customer\n",
    "    - float64 dtype\n",
    "    - 66 nulls\n",
    "    - 4 unique values\n",
    "- Designation: Designation of the customer in the current organization\n",
    "    - object dtype (change to category)\n",
    "    - no nulls\n",
    "    - 5 unique values\n",
    "- MonthlyIncome: Gross monthly income of the customer\n",
    "    - dtype float64\n",
    "    - min:1000; max:98678; median:22347; mean:23620\n",
    "    - 233 nulls\n",
    "\n",
    "### Customer interaction data: \n",
    "- PitchSatisfactionScore: Sales pitch satisfaction score\n",
    "    - no nulls\n",
    "    - dtype int64\n",
    "    - min:1.0; max:5.0; median:3.0; mean:3.08\n",
    "    - 5 unique values\n",
    "- ProductPitched: Product pitched by the salesperson\n",
    "    - object dtype (change to category) and get dummy variables\n",
    "    - 5 unique variables\n",
    "    - no nulls\n",
    "- NumberOfFollowups: Total number of follow-ups has been done by the salesperson after the sales pitch\n",
    "    - float64 dtype\n",
    "    - 45 nulls\n",
    "    - min:1.0; max:6.0; median:4.0; mean:3.71; \n",
    "    - 6 unique values\n",
    "- DurationOfPitch: Duration of the pitch by a salesperson to the customer\n",
    "    - float64 dtype\n",
    "    - 45 nulls\n",
    "    - min:5.0; max:127.0; median:13.0; mean; 15.49\n",
    "    - 34 unique values\n",
    "    - possible outliers"
   ]
  },
  {
   "cell_type": "markdown",
   "metadata": {},
   "source": [
    "## Section 3: Data Pre-processing\n",
    "- Missing Value treatment\n",
    "- Outlier detection, if needed\n",
    "- Feature Engineering\n",
    "- Data Preparation\n"
   ]
  },
  {
   "cell_type": "markdown",
   "metadata": {},
   "source": []
  },
  {
   "cell_type": "markdown",
   "metadata": {},
   "source": [
    "## Section 4: Model Building - Bagging\n",
    "- Build Bagging classifier\n",
    "- Random Forest\n",
    "- Decision Tree\n",
    "- Model Performance"
   ]
  },
  {
   "cell_type": "markdown",
   "metadata": {},
   "source": [
    "## Section 5: Model Performance Improvement - Bagging\n",
    "- Model performance metric\n",
    "- Model performance after tuning the Decision Tree, Bagging and Randon Forest classifier"
   ]
  },
  {
   "cell_type": "markdown",
   "metadata": {},
   "source": [
    "## Section 6: Model building - Boosting\n",
    "- Adaboost, GradientBoost, XGBoost and Stacking classifiers\n",
    "- Model Performance"
   ]
  },
  {
   "cell_type": "markdown",
   "metadata": {},
   "source": [
    "## Section 7: Model Performance Improvement - Boosting\n",
    "- Model performance metric\n",
    "- Model performance after tuning the AdaBoost and Gradient Boosting classifier\n",
    "\n",
    "NOTE: XGBoost will increase runtime"
   ]
  },
  {
   "cell_type": "markdown",
   "metadata": {},
   "source": [
    "## Section 8: Actionable Insights and Recommendation\n",
    "- Model performance on various insights comparison\n",
    "- Key Takeaways\n",
    "- Advice for establishing a viable business model to expand the customer base"
   ]
  },
  {
   "cell_type": "code",
   "execution_count": null,
   "metadata": {},
   "outputs": [],
   "source": []
  },
  {
   "cell_type": "code",
   "execution_count": null,
   "metadata": {},
   "outputs": [],
   "source": []
  }
 ],
 "metadata": {
  "kernelspec": {
   "display_name": "Python 3",
   "language": "python",
   "name": "python3"
  },
  "language_info": {
   "codemirror_mode": {
    "name": "ipython",
    "version": 3
   },
   "file_extension": ".py",
   "mimetype": "text/x-python",
   "name": "python",
   "nbconvert_exporter": "python",
   "pygments_lexer": "ipython3",
   "version": "3.8.5"
  }
 },
 "nbformat": 4,
 "nbformat_minor": 4
}
